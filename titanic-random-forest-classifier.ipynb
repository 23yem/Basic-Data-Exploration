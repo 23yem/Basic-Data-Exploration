{
 "cells": [
  {
   "cell_type": "code",
   "execution_count": 1,
   "id": "eee7a02d",
   "metadata": {
    "_cell_guid": "b1076dfc-b9ad-4769-8c92-a6c4dae69d19",
    "_uuid": "8f2839f25d086af736a60e9eeb907d3b93b6e0e5",
    "execution": {
     "iopub.execute_input": "2023-11-20T22:09:48.912571Z",
     "iopub.status.busy": "2023-11-20T22:09:48.911968Z",
     "iopub.status.idle": "2023-11-20T22:09:49.353255Z",
     "shell.execute_reply": "2023-11-20T22:09:49.351862Z"
    },
    "papermill": {
     "duration": 0.475033,
     "end_time": "2023-11-20T22:09:49.355742",
     "exception": false,
     "start_time": "2023-11-20T22:09:48.880709",
     "status": "completed"
    },
    "tags": []
   },
   "outputs": [
    {
     "name": "stdout",
     "output_type": "stream",
     "text": [
      "/kaggle/input/titanic/train.csv\n",
      "/kaggle/input/titanic/test.csv\n",
      "/kaggle/input/titanic/gender_submission.csv\n"
     ]
    }
   ],
   "source": [
    "# This Python 3 environment comes with many helpful analytics libraries installed\n",
    "# It is defined by the kaggle/python Docker image: https://github.com/kaggle/docker-python\n",
    "# For example, here's several helpful packages to load\n",
    "\n",
    "import numpy as np # linear algebra\n",
    "import pandas as pd # data processing, CSV file I/O (e.g. pd.read_csv)\n",
    "\n",
    "# Input data files are available in the read-only \"../input/\" directory\n",
    "# For example, running this (by clicking run or pressing Shift+Enter) will list all files under the input directory\n",
    "\n",
    "import os\n",
    "for dirname, _, filenames in os.walk('/kaggle/input'):\n",
    "    for filename in filenames:\n",
    "        print(os.path.join(dirname, filename))\n",
    "\n",
    "# You can write up to 20GB to the current directory (/kaggle/working/) that gets preserved as output when you create a version using \"Save & Run All\" \n",
    "# You can also write temporary files to /kaggle/temp/, but they won't be saved outside of the current session"
   ]
  },
  {
   "cell_type": "markdown",
   "id": "0658db11",
   "metadata": {
    "papermill": {
     "duration": 0.028796,
     "end_time": "2023-11-20T22:09:49.413905",
     "exception": false,
     "start_time": "2023-11-20T22:09:49.385109",
     "status": "completed"
    },
    "tags": []
   },
   "source": [
    "# **Load the Data from the Database**"
   ]
  },
  {
   "cell_type": "code",
   "execution_count": 2,
   "id": "8497f26d",
   "metadata": {
    "execution": {
     "iopub.execute_input": "2023-11-20T22:09:49.475460Z",
     "iopub.status.busy": "2023-11-20T22:09:49.474889Z",
     "iopub.status.idle": "2023-11-20T22:09:49.525963Z",
     "shell.execute_reply": "2023-11-20T22:09:49.525112Z"
    },
    "papermill": {
     "duration": 0.083767,
     "end_time": "2023-11-20T22:09:49.528172",
     "exception": false,
     "start_time": "2023-11-20T22:09:49.444405",
     "status": "completed"
    },
    "tags": []
   },
   "outputs": [
    {
     "data": {
      "text/html": [
       "<div>\n",
       "<style scoped>\n",
       "    .dataframe tbody tr th:only-of-type {\n",
       "        vertical-align: middle;\n",
       "    }\n",
       "\n",
       "    .dataframe tbody tr th {\n",
       "        vertical-align: top;\n",
       "    }\n",
       "\n",
       "    .dataframe thead th {\n",
       "        text-align: right;\n",
       "    }\n",
       "</style>\n",
       "<table border=\"1\" class=\"dataframe\">\n",
       "  <thead>\n",
       "    <tr style=\"text-align: right;\">\n",
       "      <th></th>\n",
       "      <th>PassengerId</th>\n",
       "      <th>Survived</th>\n",
       "      <th>Pclass</th>\n",
       "      <th>Name</th>\n",
       "      <th>Sex</th>\n",
       "      <th>Age</th>\n",
       "      <th>SibSp</th>\n",
       "      <th>Parch</th>\n",
       "      <th>Ticket</th>\n",
       "      <th>Fare</th>\n",
       "      <th>Cabin</th>\n",
       "      <th>Embarked</th>\n",
       "    </tr>\n",
       "  </thead>\n",
       "  <tbody>\n",
       "    <tr>\n",
       "      <th>0</th>\n",
       "      <td>1</td>\n",
       "      <td>0</td>\n",
       "      <td>3</td>\n",
       "      <td>Braund, Mr. Owen Harris</td>\n",
       "      <td>male</td>\n",
       "      <td>22.0</td>\n",
       "      <td>1</td>\n",
       "      <td>0</td>\n",
       "      <td>A/5 21171</td>\n",
       "      <td>7.2500</td>\n",
       "      <td>NaN</td>\n",
       "      <td>S</td>\n",
       "    </tr>\n",
       "    <tr>\n",
       "      <th>1</th>\n",
       "      <td>2</td>\n",
       "      <td>1</td>\n",
       "      <td>1</td>\n",
       "      <td>Cumings, Mrs. John Bradley (Florence Briggs Th...</td>\n",
       "      <td>female</td>\n",
       "      <td>38.0</td>\n",
       "      <td>1</td>\n",
       "      <td>0</td>\n",
       "      <td>PC 17599</td>\n",
       "      <td>71.2833</td>\n",
       "      <td>C85</td>\n",
       "      <td>C</td>\n",
       "    </tr>\n",
       "    <tr>\n",
       "      <th>2</th>\n",
       "      <td>3</td>\n",
       "      <td>1</td>\n",
       "      <td>3</td>\n",
       "      <td>Heikkinen, Miss. Laina</td>\n",
       "      <td>female</td>\n",
       "      <td>26.0</td>\n",
       "      <td>0</td>\n",
       "      <td>0</td>\n",
       "      <td>STON/O2. 3101282</td>\n",
       "      <td>7.9250</td>\n",
       "      <td>NaN</td>\n",
       "      <td>S</td>\n",
       "    </tr>\n",
       "    <tr>\n",
       "      <th>3</th>\n",
       "      <td>4</td>\n",
       "      <td>1</td>\n",
       "      <td>1</td>\n",
       "      <td>Futrelle, Mrs. Jacques Heath (Lily May Peel)</td>\n",
       "      <td>female</td>\n",
       "      <td>35.0</td>\n",
       "      <td>1</td>\n",
       "      <td>0</td>\n",
       "      <td>113803</td>\n",
       "      <td>53.1000</td>\n",
       "      <td>C123</td>\n",
       "      <td>S</td>\n",
       "    </tr>\n",
       "    <tr>\n",
       "      <th>4</th>\n",
       "      <td>5</td>\n",
       "      <td>0</td>\n",
       "      <td>3</td>\n",
       "      <td>Allen, Mr. William Henry</td>\n",
       "      <td>male</td>\n",
       "      <td>35.0</td>\n",
       "      <td>0</td>\n",
       "      <td>0</td>\n",
       "      <td>373450</td>\n",
       "      <td>8.0500</td>\n",
       "      <td>NaN</td>\n",
       "      <td>S</td>\n",
       "    </tr>\n",
       "  </tbody>\n",
       "</table>\n",
       "</div>"
      ],
      "text/plain": [
       "   PassengerId  Survived  Pclass  \\\n",
       "0            1         0       3   \n",
       "1            2         1       1   \n",
       "2            3         1       3   \n",
       "3            4         1       1   \n",
       "4            5         0       3   \n",
       "\n",
       "                                                Name     Sex   Age  SibSp  \\\n",
       "0                            Braund, Mr. Owen Harris    male  22.0      1   \n",
       "1  Cumings, Mrs. John Bradley (Florence Briggs Th...  female  38.0      1   \n",
       "2                             Heikkinen, Miss. Laina  female  26.0      0   \n",
       "3       Futrelle, Mrs. Jacques Heath (Lily May Peel)  female  35.0      1   \n",
       "4                           Allen, Mr. William Henry    male  35.0      0   \n",
       "\n",
       "   Parch            Ticket     Fare Cabin Embarked  \n",
       "0      0         A/5 21171   7.2500   NaN        S  \n",
       "1      0          PC 17599  71.2833   C85        C  \n",
       "2      0  STON/O2. 3101282   7.9250   NaN        S  \n",
       "3      0            113803  53.1000  C123        S  \n",
       "4      0            373450   8.0500   NaN        S  "
      ]
     },
     "execution_count": 2,
     "metadata": {},
     "output_type": "execute_result"
    }
   ],
   "source": [
    "#Remember to eventually clean up the wrong or missing values\n",
    "train_data = pd.read_csv(\"/kaggle/input/titanic/train.csv\")\n",
    "\n",
    "train_data.head()"
   ]
  },
  {
   "cell_type": "code",
   "execution_count": 3,
   "id": "fa5d0f93",
   "metadata": {
    "execution": {
     "iopub.execute_input": "2023-11-20T22:09:49.589165Z",
     "iopub.status.busy": "2023-11-20T22:09:49.588424Z",
     "iopub.status.idle": "2023-11-20T22:09:49.613378Z",
     "shell.execute_reply": "2023-11-20T22:09:49.612534Z"
    },
    "papermill": {
     "duration": 0.057916,
     "end_time": "2023-11-20T22:09:49.615489",
     "exception": false,
     "start_time": "2023-11-20T22:09:49.557573",
     "status": "completed"
    },
    "tags": []
   },
   "outputs": [
    {
     "data": {
      "text/html": [
       "<div>\n",
       "<style scoped>\n",
       "    .dataframe tbody tr th:only-of-type {\n",
       "        vertical-align: middle;\n",
       "    }\n",
       "\n",
       "    .dataframe tbody tr th {\n",
       "        vertical-align: top;\n",
       "    }\n",
       "\n",
       "    .dataframe thead th {\n",
       "        text-align: right;\n",
       "    }\n",
       "</style>\n",
       "<table border=\"1\" class=\"dataframe\">\n",
       "  <thead>\n",
       "    <tr style=\"text-align: right;\">\n",
       "      <th></th>\n",
       "      <th>PassengerId</th>\n",
       "      <th>Pclass</th>\n",
       "      <th>Name</th>\n",
       "      <th>Sex</th>\n",
       "      <th>Age</th>\n",
       "      <th>SibSp</th>\n",
       "      <th>Parch</th>\n",
       "      <th>Ticket</th>\n",
       "      <th>Fare</th>\n",
       "      <th>Cabin</th>\n",
       "      <th>Embarked</th>\n",
       "    </tr>\n",
       "  </thead>\n",
       "  <tbody>\n",
       "    <tr>\n",
       "      <th>0</th>\n",
       "      <td>892</td>\n",
       "      <td>3</td>\n",
       "      <td>Kelly, Mr. James</td>\n",
       "      <td>male</td>\n",
       "      <td>34.5</td>\n",
       "      <td>0</td>\n",
       "      <td>0</td>\n",
       "      <td>330911</td>\n",
       "      <td>7.8292</td>\n",
       "      <td>NaN</td>\n",
       "      <td>Q</td>\n",
       "    </tr>\n",
       "    <tr>\n",
       "      <th>1</th>\n",
       "      <td>893</td>\n",
       "      <td>3</td>\n",
       "      <td>Wilkes, Mrs. James (Ellen Needs)</td>\n",
       "      <td>female</td>\n",
       "      <td>47.0</td>\n",
       "      <td>1</td>\n",
       "      <td>0</td>\n",
       "      <td>363272</td>\n",
       "      <td>7.0000</td>\n",
       "      <td>NaN</td>\n",
       "      <td>S</td>\n",
       "    </tr>\n",
       "    <tr>\n",
       "      <th>2</th>\n",
       "      <td>894</td>\n",
       "      <td>2</td>\n",
       "      <td>Myles, Mr. Thomas Francis</td>\n",
       "      <td>male</td>\n",
       "      <td>62.0</td>\n",
       "      <td>0</td>\n",
       "      <td>0</td>\n",
       "      <td>240276</td>\n",
       "      <td>9.6875</td>\n",
       "      <td>NaN</td>\n",
       "      <td>Q</td>\n",
       "    </tr>\n",
       "    <tr>\n",
       "      <th>3</th>\n",
       "      <td>895</td>\n",
       "      <td>3</td>\n",
       "      <td>Wirz, Mr. Albert</td>\n",
       "      <td>male</td>\n",
       "      <td>27.0</td>\n",
       "      <td>0</td>\n",
       "      <td>0</td>\n",
       "      <td>315154</td>\n",
       "      <td>8.6625</td>\n",
       "      <td>NaN</td>\n",
       "      <td>S</td>\n",
       "    </tr>\n",
       "    <tr>\n",
       "      <th>4</th>\n",
       "      <td>896</td>\n",
       "      <td>3</td>\n",
       "      <td>Hirvonen, Mrs. Alexander (Helga E Lindqvist)</td>\n",
       "      <td>female</td>\n",
       "      <td>22.0</td>\n",
       "      <td>1</td>\n",
       "      <td>1</td>\n",
       "      <td>3101298</td>\n",
       "      <td>12.2875</td>\n",
       "      <td>NaN</td>\n",
       "      <td>S</td>\n",
       "    </tr>\n",
       "  </tbody>\n",
       "</table>\n",
       "</div>"
      ],
      "text/plain": [
       "   PassengerId  Pclass                                          Name     Sex  \\\n",
       "0          892       3                              Kelly, Mr. James    male   \n",
       "1          893       3              Wilkes, Mrs. James (Ellen Needs)  female   \n",
       "2          894       2                     Myles, Mr. Thomas Francis    male   \n",
       "3          895       3                              Wirz, Mr. Albert    male   \n",
       "4          896       3  Hirvonen, Mrs. Alexander (Helga E Lindqvist)  female   \n",
       "\n",
       "    Age  SibSp  Parch   Ticket     Fare Cabin Embarked  \n",
       "0  34.5      0      0   330911   7.8292   NaN        Q  \n",
       "1  47.0      1      0   363272   7.0000   NaN        S  \n",
       "2  62.0      0      0   240276   9.6875   NaN        Q  \n",
       "3  27.0      0      0   315154   8.6625   NaN        S  \n",
       "4  22.0      1      1  3101298  12.2875   NaN        S  "
      ]
     },
     "execution_count": 3,
     "metadata": {},
     "output_type": "execute_result"
    }
   ],
   "source": [
    "#Remember to eventually clean up the wrong or missing values\n",
    "test_data = pd.read_csv(\"/kaggle/input/titanic/test.csv\")\n",
    "\n",
    "test_data.head()"
   ]
  },
  {
   "cell_type": "code",
   "execution_count": 4,
   "id": "7846cbff",
   "metadata": {
    "execution": {
     "iopub.execute_input": "2023-11-20T22:09:49.677047Z",
     "iopub.status.busy": "2023-11-20T22:09:49.676324Z",
     "iopub.status.idle": "2023-11-20T22:09:49.682741Z",
     "shell.execute_reply": "2023-11-20T22:09:49.681260Z"
    },
    "papermill": {
     "duration": 0.039713,
     "end_time": "2023-11-20T22:09:49.685092",
     "exception": false,
     "start_time": "2023-11-20T22:09:49.645379",
     "status": "completed"
    },
    "tags": []
   },
   "outputs": [
    {
     "name": "stdout",
     "output_type": "stream",
     "text": [
      "Index(['PassengerId', 'Survived', 'Pclass', 'Name', 'Sex', 'Age', 'SibSp',\n",
      "       'Parch', 'Ticket', 'Fare', 'Cabin', 'Embarked'],\n",
      "      dtype='object')\n",
      "(891, 12)\n"
     ]
    }
   ],
   "source": [
    "print(train_data.columns)\n",
    "print(train_data.shape)"
   ]
  },
  {
   "cell_type": "markdown",
   "id": "cda99ab9",
   "metadata": {
    "papermill": {
     "duration": 0.029859,
     "end_time": "2023-11-20T22:09:49.809445",
     "exception": false,
     "start_time": "2023-11-20T22:09:49.779586",
     "status": "completed"
    },
    "tags": []
   },
   "source": [
    "# Choosing features #\n"
   ]
  },
  {
   "cell_type": "code",
   "execution_count": 5,
   "id": "9ed19e6c",
   "metadata": {
    "execution": {
     "iopub.execute_input": "2023-11-20T22:09:49.871623Z",
     "iopub.status.busy": "2023-11-20T22:09:49.870909Z",
     "iopub.status.idle": "2023-11-20T22:09:49.899414Z",
     "shell.execute_reply": "2023-11-20T22:09:49.898283Z"
    },
    "papermill": {
     "duration": 0.062659,
     "end_time": "2023-11-20T22:09:49.902020",
     "exception": false,
     "start_time": "2023-11-20T22:09:49.839361",
     "status": "completed"
    },
    "tags": []
   },
   "outputs": [
    {
     "data": {
      "text/html": [
       "<div>\n",
       "<style scoped>\n",
       "    .dataframe tbody tr th:only-of-type {\n",
       "        vertical-align: middle;\n",
       "    }\n",
       "\n",
       "    .dataframe tbody tr th {\n",
       "        vertical-align: top;\n",
       "    }\n",
       "\n",
       "    .dataframe thead th {\n",
       "        text-align: right;\n",
       "    }\n",
       "</style>\n",
       "<table border=\"1\" class=\"dataframe\">\n",
       "  <thead>\n",
       "    <tr style=\"text-align: right;\">\n",
       "      <th></th>\n",
       "      <th>Pclass</th>\n",
       "      <th>Fare</th>\n",
       "      <th>Sex_female</th>\n",
       "      <th>Sex_male</th>\n",
       "    </tr>\n",
       "  </thead>\n",
       "  <tbody>\n",
       "    <tr>\n",
       "      <th>0</th>\n",
       "      <td>3</td>\n",
       "      <td>7.2500</td>\n",
       "      <td>False</td>\n",
       "      <td>True</td>\n",
       "    </tr>\n",
       "    <tr>\n",
       "      <th>1</th>\n",
       "      <td>1</td>\n",
       "      <td>71.2833</td>\n",
       "      <td>True</td>\n",
       "      <td>False</td>\n",
       "    </tr>\n",
       "    <tr>\n",
       "      <th>2</th>\n",
       "      <td>3</td>\n",
       "      <td>7.9250</td>\n",
       "      <td>True</td>\n",
       "      <td>False</td>\n",
       "    </tr>\n",
       "    <tr>\n",
       "      <th>3</th>\n",
       "      <td>1</td>\n",
       "      <td>53.1000</td>\n",
       "      <td>True</td>\n",
       "      <td>False</td>\n",
       "    </tr>\n",
       "    <tr>\n",
       "      <th>4</th>\n",
       "      <td>3</td>\n",
       "      <td>8.0500</td>\n",
       "      <td>False</td>\n",
       "      <td>True</td>\n",
       "    </tr>\n",
       "  </tbody>\n",
       "</table>\n",
       "</div>"
      ],
      "text/plain": [
       "   Pclass     Fare  Sex_female  Sex_male\n",
       "0       3   7.2500       False      True\n",
       "1       1  71.2833        True     False\n",
       "2       3   7.9250        True     False\n",
       "3       1  53.1000        True     False\n",
       "4       3   8.0500       False      True"
      ]
     },
     "execution_count": 5,
     "metadata": {},
     "output_type": "execute_result"
    }
   ],
   "source": [
    "features = [\"Pclass\", \"Sex\", \"Fare\"]\n",
    "\n",
    "X_train = pd.get_dummies(train_data[features])\n",
    "\n",
    "X_train.head()\n",
    "#print(X_train.shape)"
   ]
  },
  {
   "cell_type": "markdown",
   "id": "54e9d8fa",
   "metadata": {
    "papermill": {
     "duration": 0.030282,
     "end_time": "2023-11-20T22:09:49.962456",
     "exception": false,
     "start_time": "2023-11-20T22:09:49.932174",
     "status": "completed"
    },
    "tags": []
   },
   "source": []
  },
  {
   "cell_type": "markdown",
   "id": "0af72937",
   "metadata": {
    "papermill": {
     "duration": 0.030112,
     "end_time": "2023-11-20T22:09:50.022654",
     "exception": false,
     "start_time": "2023-11-20T22:09:49.992542",
     "status": "completed"
    },
    "tags": []
   },
   "source": [
    "# Set the target/label (y) values\n"
   ]
  },
  {
   "cell_type": "code",
   "execution_count": 6,
   "id": "e54fd7e5",
   "metadata": {
    "execution": {
     "iopub.execute_input": "2023-11-20T22:09:50.085374Z",
     "iopub.status.busy": "2023-11-20T22:09:50.084640Z",
     "iopub.status.idle": "2023-11-20T22:09:50.092081Z",
     "shell.execute_reply": "2023-11-20T22:09:50.091114Z"
    },
    "papermill": {
     "duration": 0.041313,
     "end_time": "2023-11-20T22:09:50.094216",
     "exception": false,
     "start_time": "2023-11-20T22:09:50.052903",
     "status": "completed"
    },
    "tags": []
   },
   "outputs": [
    {
     "data": {
      "text/plain": [
       "0    0\n",
       "1    1\n",
       "2    1\n",
       "3    1\n",
       "4    0\n",
       "Name: Survived, dtype: int64"
      ]
     },
     "execution_count": 6,
     "metadata": {},
     "output_type": "execute_result"
    }
   ],
   "source": [
    "#Y_train = pd.get_dummies(train_data[\"Survived\"])\n",
    "Y_train = train_data[\"Survived\"]\n",
    "\n",
    "Y_train.head()\n"
   ]
  },
  {
   "cell_type": "markdown",
   "id": "5394d143",
   "metadata": {
    "papermill": {
     "duration": 0.030015,
     "end_time": "2023-11-20T22:09:50.155052",
     "exception": false,
     "start_time": "2023-11-20T22:09:50.125037",
     "status": "completed"
    },
    "tags": []
   },
   "source": []
  },
  {
   "cell_type": "markdown",
   "id": "7a9e9095",
   "metadata": {
    "papermill": {
     "duration": 0.030302,
     "end_time": "2023-11-20T22:09:50.216086",
     "exception": false,
     "start_time": "2023-11-20T22:09:50.185784",
     "status": "completed"
    },
    "tags": []
   },
   "source": [
    "# Split up train data into Train-test using scikit-learn"
   ]
  },
  {
   "cell_type": "code",
   "execution_count": 7,
   "id": "6d7accf3",
   "metadata": {
    "execution": {
     "iopub.execute_input": "2023-11-20T22:09:50.280679Z",
     "iopub.status.busy": "2023-11-20T22:09:50.279908Z",
     "iopub.status.idle": "2023-11-20T22:09:51.673399Z",
     "shell.execute_reply": "2023-11-20T22:09:51.672259Z"
    },
    "papermill": {
     "duration": 1.428204,
     "end_time": "2023-11-20T22:09:51.676019",
     "exception": false,
     "start_time": "2023-11-20T22:09:50.247815",
     "status": "completed"
    },
    "tags": []
   },
   "outputs": [
    {
     "name": "stdout",
     "output_type": "stream",
     "text": [
      "445    1\n",
      "650    0\n",
      "172    1\n",
      "450    0\n",
      "314    0\n",
      "Name: Survived, dtype: int64\n",
      "709    1\n",
      "439    0\n",
      "840    0\n",
      "720    1\n",
      "39     1\n",
      "Name: Survived, dtype: int64\n"
     ]
    }
   ],
   "source": [
    "from sklearn.model_selection import train_test_split\n",
    "\n",
    "#Split data into a train/validation and test set\n",
    "X_train, X_test, Y_train, Y_test = train_test_split(X_train, Y_train, test_size = 0.3, random_state = 42)\n",
    "\n",
    "#print(X_train.head())\n",
    "#print(Y_train.head())\n",
    "print(Y_train.head())\n",
    "\n",
    "print(Y_test.head())\n"
   ]
  },
  {
   "cell_type": "markdown",
   "id": "aa32dd98",
   "metadata": {
    "papermill": {
     "duration": 0.030328,
     "end_time": "2023-11-20T22:09:51.736861",
     "exception": false,
     "start_time": "2023-11-20T22:09:51.706533",
     "status": "completed"
    },
    "tags": []
   },
   "source": [
    "spliting the data into a train-test split will allow us to test our model and so it will allow us to tune our model before submitting on Kaggle. We can also use the train-validation-test split here"
   ]
  },
  {
   "cell_type": "markdown",
   "id": "daa8a590",
   "metadata": {
    "papermill": {
     "duration": 0.030202,
     "end_time": "2023-11-20T22:09:51.797577",
     "exception": false,
     "start_time": "2023-11-20T22:09:51.767375",
     "status": "completed"
    },
    "tags": []
   },
   "source": [
    "# Making the Neural Network Model using Scikit Learn\n"
   ]
  },
  {
   "cell_type": "code",
   "execution_count": 8,
   "id": "85203658",
   "metadata": {
    "execution": {
     "iopub.execute_input": "2023-11-20T22:09:51.860363Z",
     "iopub.status.busy": "2023-11-20T22:09:51.859914Z",
     "iopub.status.idle": "2023-11-20T22:09:51.873159Z",
     "shell.execute_reply": "2023-11-20T22:09:51.872263Z"
    },
    "papermill": {
     "duration": 0.047412,
     "end_time": "2023-11-20T22:09:51.875722",
     "exception": false,
     "start_time": "2023-11-20T22:09:51.828310",
     "status": "completed"
    },
    "tags": []
   },
   "outputs": [],
   "source": [
    "from sklearn.neural_network import MLPClassifier\n",
    "from sklearn.model_selection import train_test_split\n",
    "from sklearn.preprocessing import StandardScaler\n",
    "from sklearn.metrics import accuracy_score\n",
    "\n",
    "# Commented out the code so that the model won't run everytime\n",
    "\n",
    "# model = MLPClassifier(hidden_layer_sizes=(5, 5), activation='relu', solver='adam', max_iter=1000, random_state=42)\n",
    "\n",
    "# model.fit(X_train, Y_train)\n",
    "\n",
    "# y_pred = model.predict(X_test)\n",
    "\n",
    "# print(f\"Accuracy: {accuracy_score(Y_test, y_pred):.2f}\")\n"
   ]
  },
  {
   "cell_type": "markdown",
   "id": "be3fed7e",
   "metadata": {
    "papermill": {
     "duration": 0.030175,
     "end_time": "2023-11-20T22:09:51.936339",
     "exception": false,
     "start_time": "2023-11-20T22:09:51.906164",
     "status": "completed"
    },
    "tags": []
   },
   "source": [
    "**Here I am using the MLPClassifier since this is a classification problem. The output of the model will be \"Survive\" or \"not survive.\" If my model was supposed to predict a numerical value, I would be using something like MLPRegressor instead**"
   ]
  },
  {
   "cell_type": "markdown",
   "id": "2630cc20",
   "metadata": {
    "papermill": {
     "duration": 0.030653,
     "end_time": "2023-11-20T22:09:51.997566",
     "exception": false,
     "start_time": "2023-11-20T22:09:51.966913",
     "status": "completed"
    },
    "tags": []
   },
   "source": [
    "# Tried making a neural network using Tensor Flow but decided to just use Scikit learn"
   ]
  },
  {
   "cell_type": "code",
   "execution_count": 9,
   "id": "bd3d9571",
   "metadata": {
    "execution": {
     "iopub.execute_input": "2023-11-20T22:09:52.061617Z",
     "iopub.status.busy": "2023-11-20T22:09:52.060495Z",
     "iopub.status.idle": "2023-11-20T22:09:52.065920Z",
     "shell.execute_reply": "2023-11-20T22:09:52.065038Z"
    },
    "papermill": {
     "duration": 0.040362,
     "end_time": "2023-11-20T22:09:52.068514",
     "exception": false,
     "start_time": "2023-11-20T22:09:52.028152",
     "status": "completed"
    },
    "tags": []
   },
   "outputs": [],
   "source": [
    "# import tensorflow as tf\n",
    "\n",
    "\n",
    "# #Compile the model\n",
    "# model = tf.keras.models.Sequential([\n",
    "#     tf.keras.layers.Dense(64, activation = \"relu\", input_shape = (687,)),\n",
    "#     tf.keras.layers.Dense(32, activation = \"relu\"),\n",
    "#     tf.keras.layers.Dense(16, activation = \"relu\"),\n",
    "#     tf.keras.layers.Dense(1, activation = \"sigmoid\")\n",
    "# ])\n",
    "# model.compile(optimizer = \"adam\", loss = \"binary_crossentropy\", metrics = [\"accuracy\"])\n",
    "\n",
    "\n",
    "# #Train the model\n",
    "\n",
    "# #X_train = tf.convert_to_tensor(X_train)\n",
    "# #Y_train = tf.convert_to_tensor(Y_train)\n",
    "# model.fit(X_train, Y_train, epochs = 10)\n",
    "\n",
    "# #Evaluate the model \n",
    "\n",
    "# #X_test = tf.convert_to_tensor(X_test)\n",
    "# #Y_test = tf.convert_to_tensor(Y_test)\n",
    "# loss, accuracy = model.evaluate(X_test, Y_test)\n",
    "# print(\"Accuracy: \", accuracy)"
   ]
  },
  {
   "cell_type": "markdown",
   "id": "4e349a90",
   "metadata": {
    "papermill": {
     "duration": 0.0303,
     "end_time": "2023-11-20T22:09:52.129401",
     "exception": false,
     "start_time": "2023-11-20T22:09:52.099101",
     "status": "completed"
    },
    "tags": []
   },
   "source": [
    "# Testing model on real test set and Submitting Model (Accuracy: 0.755)\n"
   ]
  },
  {
   "cell_type": "code",
   "execution_count": 10,
   "id": "1ff50f32",
   "metadata": {
    "execution": {
     "iopub.execute_input": "2023-11-20T22:09:52.194084Z",
     "iopub.status.busy": "2023-11-20T22:09:52.193332Z",
     "iopub.status.idle": "2023-11-20T22:09:52.226314Z",
     "shell.execute_reply": "2023-11-20T22:09:52.225475Z"
    },
    "papermill": {
     "duration": 0.06847,
     "end_time": "2023-11-20T22:09:52.229011",
     "exception": false,
     "start_time": "2023-11-20T22:09:52.160541",
     "status": "completed"
    },
    "tags": []
   },
   "outputs": [
    {
     "name": "stdout",
     "output_type": "stream",
     "text": [
      "Index(['Pclass', 'Fare', 'Sex_female', 'Sex_male', 'PassengerId'], dtype='object')\n"
     ]
    }
   ],
   "source": [
    "test_data = pd.read_csv(\"/kaggle/input/titanic/test.csv\")\n",
    "features = [\"Pclass\", \"Sex\", \"Fare\"]\n",
    "test_X = pd.get_dummies(test_data[features])\n",
    "#test_X = test_X.dropna()\n",
    "#print(test_X[\"Sex_female\"])\n",
    "test_X['Fare'].fillna(test_X['Fare'].median(), inplace=True)\n",
    "\n",
    "# Impute categorical columns with the mode\n",
    "for column in ['Pclass']:\n",
    "    test_X[column].fillna(test_X[column].mode()[0], inplace=True)\n",
    "\n",
    "for column in [\"Sex_female\"]:\n",
    "    test_X[column].fillna(False, inplace=True)\n",
    "    \n",
    "for column in ['Sex_male']:\n",
    "    test_X[column].fillna(True, inplace=True)\n",
    "  \n",
    "  \n",
    "# print(X_test)\n",
    "\n",
    "#model.fit(X_train, Y_train)\n",
    "\n",
    "# predictions = model.predict(test_X)\n",
    "\n",
    "pass_id = test_data['PassengerId']\n",
    "\n",
    "test_data = test_data.drop('PassengerId', axis=1)\n",
    "test_data = pd.get_dummies(test_data[features])\n",
    "\n",
    "test_data[\"PassengerId\"] = pass_id\n",
    "\n",
    "test_data['Fare'].fillna(test_data['Fare'].median(), inplace=True)\n",
    "\n",
    "print(test_data.columns)\n",
    "\n",
    "# Impute categorical columns with the mode\n",
    "for column in ['Pclass']:\n",
    "    test_data[column].fillna(test_data[column].mode()[0], inplace=True)\n",
    "\n",
    "for column in ['Sex_female']:\n",
    "    test_data[column].fillna(False, inplace=True)\n",
    "    \n",
    "for column in ['Sex_male']:\n",
    "    test_data[column].fillna(True, inplace=True)\n",
    "    \n",
    "# Commented out the code so that the model won't run everytime\n",
    "\n",
    "# print(test_X.shape)\n",
    "# print(predictions.shape)\n",
    "# print(test_data.shape)\n",
    "\n",
    "\n",
    "# output = pd.DataFrame({'PassengerId': test_data.PassengerId, 'Survived': predictions})\n",
    "# output.to_csv('submission.csv', index=False)\n",
    "# print(\"Your submission was successfully saved!\")"
   ]
  },
  {
   "cell_type": "markdown",
   "id": "5eebf73a",
   "metadata": {
    "papermill": {
     "duration": 0.030462,
     "end_time": "2023-11-20T22:09:52.290180",
     "exception": false,
     "start_time": "2023-11-20T22:09:52.259718",
     "status": "completed"
    },
    "tags": []
   },
   "source": [
    "**The accuracy of the model was 0.755**"
   ]
  },
  {
   "cell_type": "markdown",
   "id": "a5e4e6b2",
   "metadata": {
    "papermill": {
     "duration": 0.030423,
     "end_time": "2023-11-20T22:09:52.351738",
     "exception": false,
     "start_time": "2023-11-20T22:09:52.321315",
     "status": "completed"
    },
    "tags": []
   },
   "source": [
    "# After first submission, I will now try and edit the neural network to improve the accurary\n"
   ]
  },
  {
   "cell_type": "code",
   "execution_count": 11,
   "id": "a3d311e6",
   "metadata": {
    "execution": {
     "iopub.execute_input": "2023-11-20T22:09:52.415637Z",
     "iopub.status.busy": "2023-11-20T22:09:52.414621Z",
     "iopub.status.idle": "2023-11-20T22:09:52.419236Z",
     "shell.execute_reply": "2023-11-20T22:09:52.418387Z"
    },
    "papermill": {
     "duration": 0.038676,
     "end_time": "2023-11-20T22:09:52.421362",
     "exception": false,
     "start_time": "2023-11-20T22:09:52.382686",
     "status": "completed"
    },
    "tags": []
   },
   "outputs": [],
   "source": [
    "# Commented out the code so that the model won't run everytime\n",
    "\n",
    "# model = MLPClassifier(hidden_layer_sizes=(14, 4), activation='relu', solver='lbfgs', max_iter=1000, random_state=42)\n",
    "\n",
    "# model.fit(X_train, Y_train)\n",
    "\n",
    "# y_pred = model.predict(X_test)\n",
    "\n",
    "# print(f\"Accuracy: {accuracy_score(Y_test, y_pred):.2f}\")\n",
    "\n"
   ]
  },
  {
   "cell_type": "markdown",
   "id": "004cb55a",
   "metadata": {
    "papermill": {
     "duration": 0.03027,
     "end_time": "2023-11-20T22:09:52.482552",
     "exception": false,
     "start_time": "2023-11-20T22:09:52.452282",
     "status": "completed"
    },
    "tags": []
   },
   "source": [
    "**I edited  the hidden layer sizes**\n"
   ]
  },
  {
   "cell_type": "markdown",
   "id": "0963f8b6",
   "metadata": {
    "papermill": {
     "duration": 0.030341,
     "end_time": "2023-11-20T22:09:52.543678",
     "exception": false,
     "start_time": "2023-11-20T22:09:52.513337",
     "status": "completed"
    },
    "tags": []
   },
   "source": [
    "# Second submission (accuracy: 0.76)\n"
   ]
  },
  {
   "cell_type": "code",
   "execution_count": 12,
   "id": "5b2db1f4",
   "metadata": {
    "execution": {
     "iopub.execute_input": "2023-11-20T22:09:52.607615Z",
     "iopub.status.busy": "2023-11-20T22:09:52.606840Z",
     "iopub.status.idle": "2023-11-20T22:09:52.626166Z",
     "shell.execute_reply": "2023-11-20T22:09:52.624953Z"
    },
    "papermill": {
     "duration": 0.054072,
     "end_time": "2023-11-20T22:09:52.628778",
     "exception": false,
     "start_time": "2023-11-20T22:09:52.574706",
     "status": "completed"
    },
    "tags": []
   },
   "outputs": [
    {
     "name": "stdout",
     "output_type": "stream",
     "text": [
      "done\n"
     ]
    }
   ],
   "source": [
    "test_data = pd.read_csv(\"/kaggle/input/titanic/test.csv\")\n",
    "features = [\"Pclass\", \"Sex\", \"Fare\"]\n",
    "test_X = pd.get_dummies(test_data[features])\n",
    "\n",
    "test_X['Fare'].fillna(test_X['Fare'].median(), inplace=True)\n",
    "\n",
    "# Impute categorical columns with the mode\n",
    "for column in ['Pclass']:\n",
    "    test_X[column].fillna(test_X[column].mode()[0], inplace=True)\n",
    "\n",
    "for column in [\"Sex_female\"]:\n",
    "    test_X[column].fillna(False, inplace=True)\n",
    "    \n",
    "for column in ['Sex_male']:\n",
    "    test_X[column].fillna(True, inplace=True)\n",
    "\n",
    "print(\"done\")\n",
    "\n",
    "\n",
    "# Commented out the code so that the model won't run everytime\n",
    "\n",
    "# predictions2 = model.predict(test_X)\n",
    "\n",
    "# pass_id = test_data['PassengerId']\n",
    "\n",
    "# test_data = test_data.drop('PassengerId', axis=1)\n",
    "# test_data = pd.get_dummies(test_data[features])\n",
    "\n",
    "# test_data[\"PassengerId\"] = pass_id\n",
    "\n",
    "# print(test_data.columns)\n",
    "\n",
    "# print(test_X.shape)\n",
    "# print(predictions2.shape)\n",
    "# print(test_data.shape)\n",
    "\n",
    "# output = pd.DataFrame({'PassengerId': test_data.PassengerId, 'Survived': predictions2})\n",
    "# output.to_csv('submission.csv', index=False)\n",
    "# print(\"Your submission was successfully saved!\")"
   ]
  },
  {
   "cell_type": "markdown",
   "id": "cf216fa6",
   "metadata": {
    "papermill": {
     "duration": 0.03054,
     "end_time": "2023-11-20T22:09:52.690663",
     "exception": false,
     "start_time": "2023-11-20T22:09:52.660123",
     "status": "completed"
    },
    "tags": []
   },
   "source": [
    "**Here, from the code above, I went from a 0.755 to a 0.76 by editing the hidden layer sizes. However, this wasn't much of a big change and the accuracy of the model is still worse than the 0.775 which I achieved through a simple Random Decision Forest Model.**\n"
   ]
  },
  {
   "cell_type": "markdown",
   "id": "7ad50fe3",
   "metadata": {
    "papermill": {
     "duration": 0.032752,
     "end_time": "2023-11-20T22:09:52.754377",
     "exception": false,
     "start_time": "2023-11-20T22:09:52.721625",
     "status": "completed"
    },
    "tags": []
   },
   "source": [
    "**From this code, I realized that I should be imputing and cleaning the data BEFORE I use pd.get_dummies(). This is because pd.get_dummies() adds a lot more columns to the data because it turns all categorial columns to multiple binary columns which puts a 0 or 1 in each row. So, I should be cleaming up the data BEFORE I use pd.get_dummies() since pd.get_dummies adds so many more columns to the data and makes the data so much harder to clean. \n",
    "For example, it's hard to impute values in the \"age\" column after you do pd.get_Dummies() since imputing age relies on finding the average age of each person and it's a lot easier to find the average age is the all the ages were in a single column but if we do pd.get_Dummies, we are going to split up the age column into many more age columns which correspond to each unique age value in the data set**"
   ]
  },
  {
   "cell_type": "markdown",
   "id": "cbd30ecf",
   "metadata": {
    "papermill": {
     "duration": 0.030058,
     "end_time": "2023-11-20T22:09:52.815072",
     "exception": false,
     "start_time": "2023-11-20T22:09:52.785014",
     "status": "completed"
    },
    "tags": []
   },
   "source": []
  },
  {
   "cell_type": "markdown",
   "id": "724047cf",
   "metadata": {
    "papermill": {
     "duration": 0.031263,
     "end_time": "2023-11-20T22:09:52.877298",
     "exception": false,
     "start_time": "2023-11-20T22:09:52.846035",
     "status": "completed"
    },
    "tags": []
   },
   "source": [
    "# Now I will re-initialize my data set and clean up my data before using pd.get_dummies()"
   ]
  },
  {
   "cell_type": "markdown",
   "id": "65b165c6",
   "metadata": {
    "papermill": {
     "duration": 0.030615,
     "end_time": "2023-11-20T22:09:52.938864",
     "exception": false,
     "start_time": "2023-11-20T22:09:52.908249",
     "status": "completed"
    },
    "tags": []
   },
   "source": [
    "**I set up X_train and Y_train, but this time, instead of doing pd.get_Dummies() on X_train, I'm not going to use pd.get_Dummies() until after I clean up the data**"
   ]
  },
  {
   "cell_type": "code",
   "execution_count": 13,
   "id": "b5273d59",
   "metadata": {
    "execution": {
     "iopub.execute_input": "2023-11-20T22:09:53.004190Z",
     "iopub.status.busy": "2023-11-20T22:09:53.003743Z",
     "iopub.status.idle": "2023-11-20T22:09:53.022921Z",
     "shell.execute_reply": "2023-11-20T22:09:53.021736Z"
    },
    "papermill": {
     "duration": 0.053961,
     "end_time": "2023-11-20T22:09:53.025547",
     "exception": false,
     "start_time": "2023-11-20T22:09:52.971586",
     "status": "completed"
    },
    "tags": []
   },
   "outputs": [
    {
     "name": "stdout",
     "output_type": "stream",
     "text": [
      "   PassengerId  Survived  Pclass  \\\n",
      "0            1         0       3   \n",
      "1            2         1       1   \n",
      "2            3         1       3   \n",
      "3            4         1       1   \n",
      "4            5         0       3   \n",
      "\n",
      "                                                Name     Sex   Age  SibSp  \\\n",
      "0                            Braund, Mr. Owen Harris    male  22.0      1   \n",
      "1  Cumings, Mrs. John Bradley (Florence Briggs Th...  female  38.0      1   \n",
      "2                             Heikkinen, Miss. Laina  female  26.0      0   \n",
      "3       Futrelle, Mrs. Jacques Heath (Lily May Peel)  female  35.0      1   \n",
      "4                           Allen, Mr. William Henry    male  35.0      0   \n",
      "\n",
      "   Parch            Ticket     Fare Cabin Embarked  \n",
      "0      0         A/5 21171   7.2500   NaN        S  \n",
      "1      0          PC 17599  71.2833   C85        C  \n",
      "2      0  STON/O2. 3101282   7.9250   NaN        S  \n",
      "3      0            113803  53.1000  C123        S  \n",
      "4      0            373450   8.0500   NaN        S  \n"
     ]
    }
   ],
   "source": [
    "train_data = pd.read_csv(\"/kaggle/input/titanic/train.csv\")\n",
    "\n",
    "features = [\"Pclass\", \"Sex\", \"Fare\",\"Age\", \"SibSp\", \"Parch\"] # Here, I also added more features which I think might be useful\n",
    "\n",
    "X_train = train_data # I won't actually limit the X_train to just the columns of the features I want just yet. This is because I will use the other columns in the data set to help impute missing values\n",
    "\n",
    "Y_train = train_data[\"Survived\"]\n",
    "\n",
    "print(X_train.head())\n"
   ]
  },
  {
   "cell_type": "markdown",
   "id": "134d49b2",
   "metadata": {
    "papermill": {
     "duration": 0.030783,
     "end_time": "2023-11-20T22:09:53.087659",
     "exception": false,
     "start_time": "2023-11-20T22:09:53.056876",
     "status": "completed"
    },
    "tags": []
   },
   "source": [
    "# Start cleaning up the data"
   ]
  },
  {
   "cell_type": "code",
   "execution_count": 14,
   "id": "5ae2f55d",
   "metadata": {
    "execution": {
     "iopub.execute_input": "2023-11-20T22:09:53.152561Z",
     "iopub.status.busy": "2023-11-20T22:09:53.151844Z",
     "iopub.status.idle": "2023-11-20T22:09:53.164031Z",
     "shell.execute_reply": "2023-11-20T22:09:53.162859Z"
    },
    "papermill": {
     "duration": 0.0477,
     "end_time": "2023-11-20T22:09:53.166394",
     "exception": false,
     "start_time": "2023-11-20T22:09:53.118694",
     "status": "completed"
    },
    "tags": []
   },
   "outputs": [
    {
     "name": "stdout",
     "output_type": "stream",
     "text": [
      "0\n",
      "0\n",
      "0\n",
      "0\n",
      "0\n",
      "177\n"
     ]
    }
   ],
   "source": [
    "# Impute missing values for Pclass\n",
    "\n",
    "average_Pclass = X_train[\"Pclass\"].median()\n",
    "\n",
    "X_train[\"Pclass\"].fillna(average_Pclass, inplace = True)\n",
    "\n",
    "print(X_train[\"Pclass\"].isnull().sum()) # print the number of rows in the \"Pclass\" columns that now have no value\n",
    "\n",
    "print(X_train[\"Sex\"].isnull().sum()) # Since this prints out 0, this means that there is no missing value in the \"Sex\" column so we don't need to impute anything\n",
    "\n",
    "print(X_train[\"Fare\"].isnull().sum()) # Since this prints out 0, this means that there is no missing value in the \"Fare\" column so we don't need to impute anything\n",
    "\n",
    "print(X_train[\"SibSp\"].isnull().sum()) # Since this prints out 0, this means that there is no missing value in the \"SibSp\" column so we don't need to impute anything\n",
    "\n",
    "print(X_train[\"Parch\"].isnull().sum()) # Since this prints out 0, this means that there is no missing value in the \"Parch\" column so we don't need to impute anything\n",
    "\n",
    "print(X_train[\"Age\"].isnull().sum()) # This prints out 177 so there are 177 rows with missing values in the \"Age\" column! This means we have to do a lot of imputing\n",
    "\n"
   ]
  },
  {
   "cell_type": "markdown",
   "id": "67343d21",
   "metadata": {
    "papermill": {
     "duration": 0.031827,
     "end_time": "2023-11-20T22:09:53.230106",
     "exception": false,
     "start_time": "2023-11-20T22:09:53.198279",
     "status": "completed"
    },
    "tags": []
   },
   "source": [
    "**From this, we learned that age is the main column with missing values (of the columns that we are working with) so we need to methodically impute those missing values**"
   ]
  },
  {
   "cell_type": "markdown",
   "id": "41e85b7a",
   "metadata": {
    "papermill": {
     "duration": 0.030856,
     "end_time": "2023-11-20T22:09:53.292174",
     "exception": false,
     "start_time": "2023-11-20T22:09:53.261318",
     "status": "completed"
    },
    "tags": []
   },
   "source": [
    "# Cleaning up (imputing) the Age column using a Random Forest Regressor model (a type of Machine Learning model) that accurately predicts the age of a person given their "
   ]
  },
  {
   "cell_type": "code",
   "execution_count": 15,
   "id": "4de99483",
   "metadata": {
    "execution": {
     "iopub.execute_input": "2023-11-20T22:09:53.357016Z",
     "iopub.status.busy": "2023-11-20T22:09:53.356316Z",
     "iopub.status.idle": "2023-11-20T22:10:18.079413Z",
     "shell.execute_reply": "2023-11-20T22:10:18.078023Z"
    },
    "papermill": {
     "duration": 24.759519,
     "end_time": "2023-11-20T22:10:18.082662",
     "exception": false,
     "start_time": "2023-11-20T22:09:53.323143",
     "status": "completed"
    },
    "tags": []
   },
   "outputs": [
    {
     "name": "stdout",
     "output_type": "stream",
     "text": [
      "0\n"
     ]
    },
    {
     "name": "stderr",
     "output_type": "stream",
     "text": [
      "/opt/conda/lib/python3.10/site-packages/sklearn/impute/_iterative.py:785: ConvergenceWarning: [IterativeImputer] Early stopping criterion not reached.\n",
      "  warnings.warn(\n"
     ]
    }
   ],
   "source": [
    "from sklearn.experimental import enable_iterative_imputer\n",
    "from sklearn.impute import IterativeImputer\n",
    "from sklearn.ensemble import RandomForestRegressor\n",
    "from sklearn.preprocessing import LabelEncoder\n",
    "\n",
    "\n",
    "#We use \"LabelEncoder\" to turn all the categorial values (values which don't use numbers) into values which the Random Forest Regressor can understand more easily. This is very similar to doing something like pd.get_dummies()\n",
    "\n",
    "label_encoders = {}\n",
    "for column in ['Sex', 'Embarked']:\n",
    "    label_encoders[column] = LabelEncoder()\n",
    "    # We use 'astype(str)' to convert any NaN values to a string representation\n",
    "    X_train[column] = label_encoders[column].fit_transform(X_train[column].astype(str))\n",
    "\n",
    "features = ['Survived', 'Pclass', 'Sex', 'Age', 'SibSp', 'Parch', 'Fare', 'Embarked']\n",
    "# One very important thing that I will end up doing is using the \"Survived\" column of the dataset to predict the age. This is because there is a strong correleation between the survival and age. \n",
    "\n",
    "\n",
    "#This is an imputer. It is a function that can efficiently impute values in the way you want. For this scenario, I am using IterativeImputer() and the RandomForestRegressor(() to )\n",
    "imputer = IterativeImputer(RandomForestRegressor(n_estimators=10), max_iter=100, random_state=0)\n",
    "\n",
    "\n",
    "# Fit the imputer on the DataFrame with the features\n",
    "imputer.fit(X_train[features]) #When IterativeImputer is used alongside an ML model like RandomForestRegressor, calling .fit() on the IterativeImputer() object will also fit (train) the ML model\n",
    "\n",
    "\n",
    "# Perform the imputation on the Training Data. THIS WILL ACTUAL IMPUTE ANY MISSING VALUES IN EACH ROW, not only the missing values in Age.\n",
    "X_train_imputed = imputer.transform(X_train[features])\n",
    "\n",
    "\n",
    "# Convert the output back to a DataFrame\n",
    "X_train_imputed = pd.DataFrame(X_train_imputed, columns=features)\n",
    "\n",
    "# Update the original DataFrame with the imputed values. This means that the columns of the original X_train dataframe that weren't part of the features (like \"Name\" isn't apart of the features list)\n",
    "X_train[features] = X_train_imputed\n",
    "\n",
    "#print(X_train.head())\n",
    "\n",
    "print(X_train[\"Age\"].isnull().sum()) # Since this prints 0, we now know that there are 0 missing values in the age column and so the imputation was successful "
   ]
  },
  {
   "cell_type": "markdown",
   "id": "0f68048d",
   "metadata": {
    "papermill": {
     "duration": 0.031185,
     "end_time": "2023-11-20T22:10:18.146395",
     "exception": false,
     "start_time": "2023-11-20T22:10:18.115210",
     "status": "completed"
    },
    "tags": []
   },
   "source": [
    "**Using IterativeRegressor() and RandomForestRegressor(), I essentially used an ML model to impute any missing values in the dataset. I wanted to clean up the age column using the most effective method and I didn't want to just find the average age and impute all those values to the missing values. I wanted to be smart since age is an incredibly important feature.**"
   ]
  },
  {
   "cell_type": "markdown",
   "id": "f99ba384",
   "metadata": {
    "papermill": {
     "duration": 0.031517,
     "end_time": "2023-11-20T22:10:18.209510",
     "exception": false,
     "start_time": "2023-11-20T22:10:18.177993",
     "status": "completed"
    },
    "tags": []
   },
   "source": [
    "**Using the ImperativeImputer(), this will actually impute all the missing values in each row. It won't only impute the missing values in the \"age\" column. BUT, since we already cleaned the data and know there are 0 missing values for all the other columns that we care about (the ones with the features we are using), the imputer will be imputing values only to the missing values of age and other columns that we don't care about, but out of all the columns we care about, it will only be affecting the age column since all the other columns we care about have 0 missing values as we checked in the code previously.**"
   ]
  },
  {
   "cell_type": "code",
   "execution_count": 16,
   "id": "2772a307",
   "metadata": {
    "execution": {
     "iopub.execute_input": "2023-11-20T22:10:18.274534Z",
     "iopub.status.busy": "2023-11-20T22:10:18.274103Z",
     "iopub.status.idle": "2023-11-20T22:10:18.297013Z",
     "shell.execute_reply": "2023-11-20T22:10:18.295860Z"
    },
    "papermill": {
     "duration": 0.059175,
     "end_time": "2023-11-20T22:10:18.300241",
     "exception": false,
     "start_time": "2023-11-20T22:10:18.241066",
     "status": "completed"
    },
    "tags": []
   },
   "outputs": [
    {
     "name": "stdout",
     "output_type": "stream",
     "text": [
      "   Pclass  Sex     Fare   Age  SibSp  Parch\n",
      "0     3.0  1.0   7.2500  22.0    1.0    0.0\n",
      "1     1.0  0.0  71.2833  38.0    1.0    0.0\n",
      "2     3.0  0.0   7.9250  26.0    0.0    0.0\n",
      "3     1.0  0.0  53.1000  35.0    1.0    0.0\n",
      "4     3.0  1.0   8.0500  35.0    0.0    0.0\n",
      "314\n",
      "577\n",
      "   Pclass     Sex     Fare   Age  SibSp  Parch\n",
      "0     3.0    male   7.2500  22.0    1.0    0.0\n",
      "1     1.0  female  71.2833  38.0    1.0    0.0\n",
      "2     3.0  female   7.9250  26.0    0.0    0.0\n",
      "3     1.0  female  53.1000  35.0    1.0    0.0\n",
      "4     3.0    male   8.0500  35.0    0.0    0.0\n",
      "577\n"
     ]
    },
    {
     "name": "stderr",
     "output_type": "stream",
     "text": [
      "/tmp/ipykernel_20/1272774441.py:12: SettingWithCopyWarning: \n",
      "A value is trying to be set on a copy of a slice from a DataFrame.\n",
      "Try using .loc[row_indexer,col_indexer] = value instead\n",
      "\n",
      "See the caveats in the documentation: https://pandas.pydata.org/pandas-docs/stable/user_guide/indexing.html#returning-a-view-versus-a-copy\n",
      "  X_train['Sex'] = X_train['Sex'].map({0: 'female', 1: 'male'})\n"
     ]
    }
   ],
   "source": [
    "features = [\"Pclass\", \"Sex\", \"Fare\",\"Age\", \"SibSp\", \"Parch\"]\n",
    "\n",
    "X_train = X_train[features]\n",
    "\n",
    "print(X_train.head(5))\n",
    "\n",
    "print((X_train[\"Sex\"] == 0).sum())\n",
    "print((X_train[\"Sex\"] == 1).sum())\n",
    "\n",
    "# Since the dataset is 65% male, we can see from printing out the number of people with \"sex equal to 0\" and \"sex equal to 1\" that the LabelEncoder made Male into \"1\" and Female into \"0\". Now, let's change it back to \"Male\" and \"Female\".\n",
    "\n",
    "X_train['Sex'] = X_train['Sex'].map({0: 'female', 1: 'male'})\n",
    "\n",
    "print(X_train.head(5))\n",
    "\n",
    "print((X_train[\"Sex\"] == \"male\").sum())"
   ]
  },
  {
   "cell_type": "markdown",
   "id": "d6746a69",
   "metadata": {
    "papermill": {
     "duration": 0.032055,
     "end_time": "2023-11-20T22:10:18.364069",
     "exception": false,
     "start_time": "2023-11-20T22:10:18.332014",
     "status": "completed"
    },
    "tags": []
   },
   "source": [
    "**Here, in the code above, I changed X_train back to focus only on the features we care about. I also changed the \"Sex\" column from 0 and 1 back to Male and Female.**"
   ]
  },
  {
   "cell_type": "markdown",
   "id": "5e4e694c",
   "metadata": {
    "papermill": {
     "duration": 0.031392,
     "end_time": "2023-11-20T22:10:18.427562",
     "exception": false,
     "start_time": "2023-11-20T22:10:18.396170",
     "status": "completed"
    },
    "tags": []
   },
   "source": [
    "# After the careful inspection of the test.csv, I see that there are also missing values in the test.csv. As a result, we have to clean up the data for test.csv as we did for train.csv"
   ]
  },
  {
   "cell_type": "markdown",
   "id": "7ee7df5d",
   "metadata": {
    "papermill": {
     "duration": 0.031891,
     "end_time": "2023-11-20T22:10:18.491231",
     "exception": false,
     "start_time": "2023-11-20T22:10:18.459340",
     "status": "completed"
    },
    "tags": []
   },
   "source": [
    "**Seeing which columns have missing values:**"
   ]
  },
  {
   "cell_type": "code",
   "execution_count": 17,
   "id": "bec8352a",
   "metadata": {
    "execution": {
     "iopub.execute_input": "2023-11-20T22:10:18.558576Z",
     "iopub.status.busy": "2023-11-20T22:10:18.557852Z",
     "iopub.status.idle": "2023-11-20T22:10:18.574765Z",
     "shell.execute_reply": "2023-11-20T22:10:18.573583Z"
    },
    "papermill": {
     "duration": 0.054001,
     "end_time": "2023-11-20T22:10:18.577516",
     "exception": false,
     "start_time": "2023-11-20T22:10:18.523515",
     "status": "completed"
    },
    "tags": []
   },
   "outputs": [
    {
     "name": "stdout",
     "output_type": "stream",
     "text": [
      "0\n",
      "0\n",
      "0\n",
      "0\n",
      "1\n",
      "86\n"
     ]
    }
   ],
   "source": [
    "test_data = pd.read_csv(\"/kaggle/input/titanic/test.csv\")\n",
    "\n",
    "features = [\"Pclass\", \"Sex\", \"Fare\",\"Age\", \"SibSp\", \"Parch\"]\n",
    "\n",
    "print(test_data[\"Pclass\"].isnull().sum()) # Since this is 0, that means there is no missing values\n",
    "\n",
    "print(test_data[\"Sex\"].isnull().sum()) # Since this is 0, that means there is no missing values\n",
    "\n",
    "print(test_data[\"SibSp\"].isnull().sum()) # Since this is 0, that means there is no missing values\n",
    "\n",
    "print(test_data[\"Parch\"].isnull().sum()) # Since this is 0, that means there is no missing values\n",
    "\n",
    "print(test_data[\"Fare\"].isnull().sum()) # Since this is 1, that means there is one missing value\n",
    "\n",
    "print(test_data[\"Age\"].isnull().sum()) # Since this is 86, that means there are 86 missing values\n"
   ]
  },
  {
   "cell_type": "markdown",
   "id": "df72daa5",
   "metadata": {
    "papermill": {
     "duration": 0.031338,
     "end_time": "2023-11-20T22:10:18.641455",
     "exception": false,
     "start_time": "2023-11-20T22:10:18.610117",
     "status": "completed"
    },
    "tags": []
   },
   "source": [
    "**From this, we can see that only \"Fare\" annd \"Age\" have missing values. Since \"Fare\" only has one missing value, it's not worth it to go to through all the work to do some advanced imputation technique to fill in missing values. So, I will just fill that in with the average fare value.**\n",
    "\n",
    "**For the \"Age\" feature, I will repeat the process of using an IterativeImputer and a RandomForestRegressor to imputate missing values**"
   ]
  },
  {
   "cell_type": "code",
   "execution_count": 18,
   "id": "a78c3165",
   "metadata": {
    "execution": {
     "iopub.execute_input": "2023-11-20T22:10:18.707143Z",
     "iopub.status.busy": "2023-11-20T22:10:18.706507Z",
     "iopub.status.idle": "2023-11-20T22:10:18.714131Z",
     "shell.execute_reply": "2023-11-20T22:10:18.712863Z"
    },
    "papermill": {
     "duration": 0.043075,
     "end_time": "2023-11-20T22:10:18.716448",
     "exception": false,
     "start_time": "2023-11-20T22:10:18.673373",
     "status": "completed"
    },
    "tags": []
   },
   "outputs": [
    {
     "name": "stdout",
     "output_type": "stream",
     "text": [
      "0\n"
     ]
    }
   ],
   "source": [
    "average_fare = test_data[\"Fare\"].mean()\n",
    "\n",
    "test_data[\"Fare\"].fillna(average_fare, inplace = True) # This replaces the single missing value in \"Fare\" with the average value Fare Value of the test data\n",
    "\n",
    "print(test_data[\"Fare\"].isnull().sum())"
   ]
  },
  {
   "cell_type": "code",
   "execution_count": 19,
   "id": "092b8ec6",
   "metadata": {
    "execution": {
     "iopub.execute_input": "2023-11-20T22:10:18.782751Z",
     "iopub.status.busy": "2023-11-20T22:10:18.782017Z",
     "iopub.status.idle": "2023-11-20T22:10:35.916911Z",
     "shell.execute_reply": "2023-11-20T22:10:35.915332Z"
    },
    "papermill": {
     "duration": 17.171062,
     "end_time": "2023-11-20T22:10:35.919621",
     "exception": false,
     "start_time": "2023-11-20T22:10:18.748559",
     "status": "completed"
    },
    "tags": []
   },
   "outputs": [
    {
     "name": "stdout",
     "output_type": "stream",
     "text": [
      "0\n",
      "   PassengerId  Pclass                                          Name  Sex  \\\n",
      "0          892     3.0                              Kelly, Mr. James  1.0   \n",
      "1          893     3.0              Wilkes, Mrs. James (Ellen Needs)  0.0   \n",
      "2          894     2.0                     Myles, Mr. Thomas Francis  1.0   \n",
      "3          895     3.0                              Wirz, Mr. Albert  1.0   \n",
      "4          896     3.0  Hirvonen, Mrs. Alexander (Helga E Lindqvist)  0.0   \n",
      "\n",
      "    Age  SibSp  Parch   Ticket     Fare Cabin  Embarked  \n",
      "0  34.5    0.0    0.0   330911   7.8292   NaN       1.0  \n",
      "1  47.0    1.0    0.0   363272   7.0000   NaN       2.0  \n",
      "2  62.0    0.0    0.0   240276   9.6875   NaN       1.0  \n",
      "3  27.0    0.0    0.0   315154   8.6625   NaN       2.0  \n",
      "4  22.0    1.0    1.0  3101298  12.2875   NaN       2.0  \n"
     ]
    },
    {
     "name": "stderr",
     "output_type": "stream",
     "text": [
      "/opt/conda/lib/python3.10/site-packages/sklearn/impute/_iterative.py:785: ConvergenceWarning: [IterativeImputer] Early stopping criterion not reached.\n",
      "  warnings.warn(\n"
     ]
    }
   ],
   "source": [
    "from sklearn.experimental import enable_iterative_imputer\n",
    "from sklearn.impute import IterativeImputer\n",
    "from sklearn.ensemble import RandomForestRegressor\n",
    "from sklearn.preprocessing import LabelEncoder\n",
    "\n",
    "\n",
    "#We use \"LabelEncoder\" to turn all the categorial values (values which don't use numbers) into values which the Random Forest Regressor can understand more easily. This is very similar to doing something like pd.get_dummies()\n",
    "\n",
    "label_encoders = {}\n",
    "for column in ['Sex', 'Embarked']:\n",
    "    label_encoders[column] = LabelEncoder()\n",
    "    # We use 'astype(str)' to convert any NaN values to a string representation\n",
    "    test_data[column] = label_encoders[column].fit_transform(test_data[column].astype(str))\n",
    "\n",
    "features = ['Pclass', 'Sex', 'Age', 'SibSp', 'Parch', 'Fare', 'Embarked']\n",
    "\n",
    "\n",
    "#This is an imputer. It is a function that can efficiently impute values in the way you want. For this scenario, I am using IterativeImputer() and the RandomForestRegressor(() to )\n",
    "imputer = IterativeImputer(RandomForestRegressor(n_estimators=10), max_iter=100, random_state=0)\n",
    "\n",
    "\n",
    "# Fit the imputer on the DataFrame with the features\n",
    "imputer.fit(test_data[features]) #When IterativeImputer is used alongside an ML model like RandomForestRegressor, calling .fit() on the IterativeImputer() object will also fit (train) the ML model\n",
    "\n",
    "\n",
    "# Perform the imputation on the Test Data. THIS WILL ACTUAL IMPUTE ANY MISSING VALUES IN EACH ROW, not only the missing values in Age.\n",
    "test_data_imputed = imputer.transform(test_data[features])\n",
    "\n",
    "\n",
    "# Convert the output back to a DataFrame\n",
    "test_data_imputed = pd.DataFrame(test_data_imputed, columns=features)\n",
    "\n",
    "# Update the original DataFrame with the imputed values. This means that the columns of the original test_data dataframe that weren't part of the features (like \"Name\" isn't apart of the features list)\n",
    "test_data[features] = test_data_imputed\n",
    "\n",
    "print(test_data[\"Age\"].isnull().sum()) # Since this prints 0, we now know that there are 0 missing values in the age column and so the imputation was successful \n",
    "\n",
    "print(test_data.head())"
   ]
  },
  {
   "cell_type": "markdown",
   "id": "4842170b",
   "metadata": {
    "papermill": {
     "duration": 0.031728,
     "end_time": "2023-11-20T22:10:35.985288",
     "exception": false,
     "start_time": "2023-11-20T22:10:35.953560",
     "status": "completed"
    },
    "tags": []
   },
   "source": [
    "**The code above will imputate all the missing values in the test_data**"
   ]
  },
  {
   "cell_type": "markdown",
   "id": "e115bdb3",
   "metadata": {
    "papermill": {
     "duration": 0.031624,
     "end_time": "2023-11-20T22:10:36.048766",
     "exception": false,
     "start_time": "2023-11-20T22:10:36.017142",
     "status": "completed"
    },
    "tags": []
   },
   "source": [
    "# Finalize the cleaning of the data and make it so test_data only has the features we want"
   ]
  },
  {
   "cell_type": "code",
   "execution_count": 20,
   "id": "f2d554e1",
   "metadata": {
    "execution": {
     "iopub.execute_input": "2023-11-20T22:10:36.114377Z",
     "iopub.status.busy": "2023-11-20T22:10:36.113924Z",
     "iopub.status.idle": "2023-11-20T22:10:36.130973Z",
     "shell.execute_reply": "2023-11-20T22:10:36.129764Z"
    },
    "papermill": {
     "duration": 0.052582,
     "end_time": "2023-11-20T22:10:36.133312",
     "exception": false,
     "start_time": "2023-11-20T22:10:36.080730",
     "status": "completed"
    },
    "tags": []
   },
   "outputs": [
    {
     "name": "stdout",
     "output_type": "stream",
     "text": [
      "152\n",
      "266\n",
      "   Pclass     Sex     Fare   Age  SibSp  Parch\n",
      "0     3.0    male   7.8292  34.5    0.0    0.0\n",
      "1     3.0  female   7.0000  47.0    1.0    0.0\n",
      "2     2.0    male   9.6875  62.0    0.0    0.0\n",
      "3     3.0    male   8.6625  27.0    0.0    0.0\n",
      "4     3.0  female  12.2875  22.0    1.0    1.0\n",
      "266\n"
     ]
    }
   ],
   "source": [
    "features = [\"Pclass\", \"Sex\", \"Fare\",\"Age\", \"SibSp\", \"Parch\"]\n",
    "\n",
    "test_data = test_data[features]\n",
    "\n",
    "print((test_data[\"Sex\"] == 0).sum())\n",
    "print((test_data[\"Sex\"] == 1).sum())\n",
    "\n",
    "# Since the dataset is 65% male, we can see from printing out the number of people with \"sex equal to 0\" and \"sex equal to 1\" that the LabelEncoder made Male into \"1\" and Female into \"0\". Now, let's change it back to \"male\" and \"female\".\n",
    "\n",
    "test_data['Sex'] = test_data['Sex'].map({0: 'female', 1: 'male'})\n",
    "\n",
    "print(test_data.head(5))\n",
    "\n",
    "print((test_data[\"Sex\"] == \"male\").sum())"
   ]
  },
  {
   "cell_type": "markdown",
   "id": "60c43147",
   "metadata": {
    "papermill": {
     "duration": 0.031554,
     "end_time": "2023-11-20T22:10:36.197330",
     "exception": false,
     "start_time": "2023-11-20T22:10:36.165776",
     "status": "completed"
    },
    "tags": []
   },
   "source": [
    "# Now, after cleaning up the data, I can split up the data into train_validation_test "
   ]
  },
  {
   "cell_type": "code",
   "execution_count": 21,
   "id": "3b753b13",
   "metadata": {
    "execution": {
     "iopub.execute_input": "2023-11-20T22:10:36.263749Z",
     "iopub.status.busy": "2023-11-20T22:10:36.263302Z",
     "iopub.status.idle": "2023-11-20T22:10:36.275139Z",
     "shell.execute_reply": "2023-11-20T22:10:36.274064Z"
    },
    "papermill": {
     "duration": 0.047406,
     "end_time": "2023-11-20T22:10:36.277544",
     "exception": false,
     "start_time": "2023-11-20T22:10:36.230138",
     "status": "completed"
    },
    "tags": []
   },
   "outputs": [],
   "source": [
    "from sklearn.model_selection import train_test_split\n",
    "\n",
    "Y_train = train_data[\"Survived\"]\n",
    "\n",
    "# First, split into training (60%) and a test set (40%)\n",
    "train_X, test_X, train_Y, test_Y = train_test_split(X_train, Y_train, test_size=0.4, random_state = 42)\n",
    "\n",
    "#Second, split test set into a validation (20%) and test set (20%)\n",
    "valid_X, test_X, valid_Y, test_Y= train_test_split(test_X, test_Y, test_size = 0.5, random_state = 42)"
   ]
  },
  {
   "cell_type": "markdown",
   "id": "9693f8c3",
   "metadata": {
    "papermill": {
     "duration": 0.032226,
     "end_time": "2023-11-20T22:10:36.342001",
     "exception": false,
     "start_time": "2023-11-20T22:10:36.309775",
     "status": "completed"
    },
    "tags": []
   },
   "source": [
    "# Using pd.get_dummies() on all the data"
   ]
  },
  {
   "cell_type": "markdown",
   "id": "4709e988",
   "metadata": {
    "papermill": {
     "duration": 0.031694,
     "end_time": "2023-11-20T22:10:36.405990",
     "exception": false,
     "start_time": "2023-11-20T22:10:36.374296",
     "status": "completed"
    },
    "tags": []
   },
   "source": [
    "**Setting up the Test data (from Test.csv) (This is NOT the test data from the Train_validation_test split):**"
   ]
  },
  {
   "cell_type": "code",
   "execution_count": 22,
   "id": "d4213228",
   "metadata": {
    "execution": {
     "iopub.execute_input": "2023-11-20T22:10:36.473415Z",
     "iopub.status.busy": "2023-11-20T22:10:36.472966Z",
     "iopub.status.idle": "2023-11-20T22:10:36.488688Z",
     "shell.execute_reply": "2023-11-20T22:10:36.487571Z"
    },
    "papermill": {
     "duration": 0.05279,
     "end_time": "2023-11-20T22:10:36.491264",
     "exception": false,
     "start_time": "2023-11-20T22:10:36.438474",
     "status": "completed"
    },
    "tags": []
   },
   "outputs": [
    {
     "name": "stdout",
     "output_type": "stream",
     "text": [
      "   Pclass     Fare   Age  SibSp  Parch  Sex_female  Sex_male\n",
      "0     3.0   7.8292  34.5    0.0    0.0       False      True\n",
      "1     3.0   7.0000  47.0    1.0    0.0        True     False\n",
      "2     2.0   9.6875  62.0    0.0    0.0       False      True\n",
      "3     3.0   8.6625  27.0    0.0    0.0       False      True\n",
      "4     3.0  12.2875  22.0    1.0    1.0        True     False\n"
     ]
    }
   ],
   "source": [
    "test_data = test_data #the \"test_data\" variable here is after we cleaned up the test_data \n",
    "\n",
    "features = [\"Pclass\", \"Sex\", \"Fare\",\"Age\", \"SibSp\", \"Parch\"]\n",
    "\n",
    "test_data = test_data[features]\n",
    "\n",
    "test_data = pd.get_dummies(test_data)\n",
    "print(test_data.head())"
   ]
  },
  {
   "cell_type": "markdown",
   "id": "0aa27225",
   "metadata": {
    "papermill": {
     "duration": 0.031777,
     "end_time": "2023-11-20T22:10:36.556015",
     "exception": false,
     "start_time": "2023-11-20T22:10:36.524238",
     "status": "completed"
    },
    "tags": []
   },
   "source": [
    "**Setting up the Train data and Validation data and the Test data from the train_validation_test split:**"
   ]
  },
  {
   "cell_type": "code",
   "execution_count": 23,
   "id": "864023d9",
   "metadata": {
    "execution": {
     "iopub.execute_input": "2023-11-20T22:10:36.622743Z",
     "iopub.status.busy": "2023-11-20T22:10:36.622356Z",
     "iopub.status.idle": "2023-11-20T22:10:36.650371Z",
     "shell.execute_reply": "2023-11-20T22:10:36.649193Z"
    },
    "papermill": {
     "duration": 0.06454,
     "end_time": "2023-11-20T22:10:36.653019",
     "exception": false,
     "start_time": "2023-11-20T22:10:36.588479",
     "status": "completed"
    },
    "tags": []
   },
   "outputs": [
    {
     "name": "stdout",
     "output_type": "stream",
     "text": [
      "     Pclass     Fare   Age  SibSp  Parch  Sex_female  Sex_male\n",
      "570     2.0  10.5000  62.0    0.0    0.0       False      True\n",
      "787     3.0  29.1250   8.0    4.0    1.0       False      True\n",
      "74      3.0  56.4958  32.0    0.0    0.0       False      True\n",
      "113     3.0   9.8250  20.0    1.0    0.0        True     False\n",
      "635     2.0  13.0000  28.0    0.0    0.0        True     False\n",
      "     Pclass     Fare        Age  SibSp  Parch  Sex_female  Sex_male\n",
      "849     1.0  89.1042  46.200000    1.0    0.0        True     False\n",
      "331     1.0  28.5000  45.500000    0.0    0.0       False      True\n",
      "260     3.0   7.7500  49.322348    0.0    0.0       False      True\n",
      "316     2.0  26.0000  24.000000    1.0    0.0        True     False\n",
      "292     2.0  12.8750  36.000000    0.0    0.0       False      True\n",
      "     Pclass     Fare       Age  SibSp  Parch  Sex_female  Sex_male\n",
      "424     3.0  20.2125  18.00000    1.0    1.0       False      True\n",
      "837     3.0   8.0500  31.72252    0.0    0.0       False      True\n",
      "525     3.0   7.7500  40.50000    0.0    0.0       False      True\n",
      "328     3.0  20.5250  31.00000    1.0    1.0        True     False\n",
      "70      2.0  10.5000  32.00000    0.0    0.0       False      True\n"
     ]
    }
   ],
   "source": [
    "train_X = pd.get_dummies(train_X)\n",
    "print(train_X.head())\n",
    "\n",
    "valid_X = pd.get_dummies(valid_X)\n",
    "print(valid_X.head())\n",
    "\n",
    "test_X = pd.get_dummies(test_X)\n",
    "print(test_X.head())"
   ]
  },
  {
   "cell_type": "markdown",
   "id": "dd663070",
   "metadata": {
    "papermill": {
     "duration": 0.033016,
     "end_time": "2023-11-20T22:10:36.718524",
     "exception": false,
     "start_time": "2023-11-20T22:10:36.685508",
     "status": "completed"
    },
    "tags": []
   },
   "source": [
    "# Making the model, training it using train_X and changing the model based on valid_X"
   ]
  },
  {
   "cell_type": "code",
   "execution_count": 24,
   "id": "d519885a",
   "metadata": {
    "execution": {
     "iopub.execute_input": "2023-11-20T22:10:36.786335Z",
     "iopub.status.busy": "2023-11-20T22:10:36.785190Z",
     "iopub.status.idle": "2023-11-20T22:10:36.791389Z",
     "shell.execute_reply": "2023-11-20T22:10:36.790187Z"
    },
    "papermill": {
     "duration": 0.043292,
     "end_time": "2023-11-20T22:10:36.794070",
     "exception": false,
     "start_time": "2023-11-20T22:10:36.750778",
     "status": "completed"
    },
    "tags": []
   },
   "outputs": [],
   "source": [
    "from sklearn.neural_network import MLPClassifier\n",
    "from sklearn.metrics import accuracy_score\n",
    "\n",
    "# Commented out the code so that the model won't run everytime\n",
    "\n",
    "# model = MLPClassifier(hidden_layer_sizes = (20, 11), activation = \"relu\", solver = \"lbfgs\", max_iter = 1000, random_state = 42)\n",
    "\n",
    "# model.fit(train_X, train_Y)\n",
    "\n",
    "# y_pred = model.predict(valid_X)\n",
    "\n",
    "# print(f\"Accuracy: {accuracy_score(valid_Y, y_pred)}\")"
   ]
  },
  {
   "cell_type": "markdown",
   "id": "61f35452",
   "metadata": {
    "papermill": {
     "duration": 0.032525,
     "end_time": "2023-11-20T22:10:36.859180",
     "exception": false,
     "start_time": "2023-11-20T22:10:36.826655",
     "status": "completed"
    },
    "tags": []
   },
   "source": [
    "**From the code above, you can see that I am using the validation set to test out the code**"
   ]
  },
  {
   "cell_type": "code",
   "execution_count": 25,
   "id": "12905aef",
   "metadata": {
    "execution": {
     "iopub.execute_input": "2023-11-20T22:10:36.927052Z",
     "iopub.status.busy": "2023-11-20T22:10:36.926371Z",
     "iopub.status.idle": "2023-11-20T22:10:36.931257Z",
     "shell.execute_reply": "2023-11-20T22:10:36.930138Z"
    },
    "papermill": {
     "duration": 0.042602,
     "end_time": "2023-11-20T22:10:36.934076",
     "exception": false,
     "start_time": "2023-11-20T22:10:36.891474",
     "status": "completed"
    },
    "tags": []
   },
   "outputs": [],
   "source": [
    "# Commented out the code so that the model won't run everytime\n",
    "\n",
    "# y_pred = model.predict(test_X)\n",
    "\n",
    "# print(f\"Accuracy: {accuracy_score(test_Y, y_pred)}\")"
   ]
  },
  {
   "cell_type": "markdown",
   "id": "cdabfda5",
   "metadata": {
    "papermill": {
     "duration": 0.032279,
     "end_time": "2023-11-20T22:10:36.998691",
     "exception": false,
     "start_time": "2023-11-20T22:10:36.966412",
     "status": "completed"
    },
    "tags": []
   },
   "source": [
    "# Using GridSearchCV to find the best parameters for my MLPClassifier Model"
   ]
  },
  {
   "cell_type": "markdown",
   "id": "609c06e6",
   "metadata": {
    "papermill": {
     "duration": 0.032331,
     "end_time": "2023-11-20T22:10:37.063113",
     "exception": false,
     "start_time": "2023-11-20T22:10:37.030782",
     "status": "completed"
    },
    "tags": []
   },
   "source": [
    "**The \"parameter space\" are all the different components and possible values which I want to try for my model**"
   ]
  },
  {
   "cell_type": "code",
   "execution_count": 26,
   "id": "d206f42c",
   "metadata": {
    "execution": {
     "iopub.execute_input": "2023-11-20T22:10:37.129671Z",
     "iopub.status.busy": "2023-11-20T22:10:37.128958Z",
     "iopub.status.idle": "2023-11-20T22:10:37.138695Z",
     "shell.execute_reply": "2023-11-20T22:10:37.137430Z"
    },
    "papermill": {
     "duration": 0.046245,
     "end_time": "2023-11-20T22:10:37.141319",
     "exception": false,
     "start_time": "2023-11-20T22:10:37.095074",
     "status": "completed"
    },
    "tags": []
   },
   "outputs": [],
   "source": [
    "# %%capture --no-stderr\n",
    "\n",
    "# # Code that causes warnings\n",
    "# import warnings\n",
    "# from sklearn.exceptions import ConvergenceWarning\n",
    "\n",
    "# # Suppress ConvergenceWarning\n",
    "# warnings.filterwarnings(\"ignore\", category=ConvergenceWarning)\n",
    "# warnings.filterwarnings('ignore')\n",
    "\n",
    "from sklearn.model_selection import GridSearchCV\n",
    "from sklearn.neural_network import MLPClassifier\n",
    "\n",
    "training_X = pd.concat([train_X, valid_X, test_X], ignore_index=True)\n",
    "training_Y = pd.concat([train_Y, valid_Y, test_Y], ignore_index=True)\n",
    "\n",
    "possible_hidden_layers = []\n",
    "\n",
    "for i in range(8,16):\n",
    "    for j in range(8,16):\n",
    "        possible_hidden_layers.append((i, j))\n",
    "\n",
    "parameter_space = {\n",
    "    'hidden_layer_sizes': possible_hidden_layers,\n",
    "    'activation': ['tanh', 'relu'],\n",
    "    'solver': ['sgd', 'adam', \"lbfgs\"],\n",
    "    'alpha': [0.0001, 0.05],\n",
    "    'learning_rate': ['constant','adaptive'],\n",
    "}\n",
    "\n",
    "# mlp = MLPClassifier(max_iter=1000, random_state = 42)\n",
    "\n",
    "# clf = GridSearchCV(mlp, parameter_space, n_jobs=-1, cv=3)\n",
    "\n",
    "# clf.fit(training_X, training_Y)\n",
    "\n",
    "# print('Best parameters found:\\n', clf.best_params_)\n",
    "\n",
    "# print('Best score (CV mean):', clf.best_score_)\n",
    "\n",
    "# print(\"Done\")\n",
    "\n"
   ]
  },
  {
   "cell_type": "markdown",
   "id": "97a505e0",
   "metadata": {
    "papermill": {
     "duration": 0.031872,
     "end_time": "2023-11-20T22:10:37.205683",
     "exception": false,
     "start_time": "2023-11-20T22:10:37.173811",
     "status": "completed"
    },
    "tags": []
   },
   "source": [
    "# Now that I found the best hyperparameters, I can finalize my model"
   ]
  },
  {
   "cell_type": "markdown",
   "id": "d78213ad",
   "metadata": {
    "papermill": {
     "duration": 0.031697,
     "end_time": "2023-11-20T22:10:37.270142",
     "exception": false,
     "start_time": "2023-11-20T22:10:37.238445",
     "status": "completed"
    },
    "tags": []
   },
   "source": [
    "**Test using validation set:**"
   ]
  },
  {
   "cell_type": "code",
   "execution_count": 27,
   "id": "b1ba3770",
   "metadata": {
    "execution": {
     "iopub.execute_input": "2023-11-20T22:10:37.337572Z",
     "iopub.status.busy": "2023-11-20T22:10:37.336841Z",
     "iopub.status.idle": "2023-11-20T22:10:37.342502Z",
     "shell.execute_reply": "2023-11-20T22:10:37.341643Z"
    },
    "papermill": {
     "duration": 0.042031,
     "end_time": "2023-11-20T22:10:37.344819",
     "exception": false,
     "start_time": "2023-11-20T22:10:37.302788",
     "status": "completed"
    },
    "tags": []
   },
   "outputs": [],
   "source": [
    "# Best parameters: {'activation': 'tanh', 'alpha': 0.05, 'hidden_layer_sizes': (13, 15), 'learning_rate': 'constant', 'solver': 'lbfgs'}\n",
    "# Best score (CV mean): 0.8282828282828283\n",
    "\n",
    "\n",
    "from sklearn.neural_network import MLPClassifier\n",
    "from sklearn.metrics import accuracy_score\n",
    "\n",
    "# Commented out the code so that the model won't run everytime\n",
    "\n",
    "# model = MLPClassifier(activation = \"tanh\", alpha = 0.05, hidden_layer_sizes = (13, 15), learning_rate = \"constant\", solver = \"lbfgs\", max_iter=5000, random_state = 42)\n",
    "\n",
    "# #model = MLPClassifier(activation = \"relu\", hidden_layer_sizes = (20, 11), solver = \"lbfgs\",  max_iter=2000, random_state = 42)\n",
    "\n",
    "# model.fit(train_X, train_Y)\n",
    "\n",
    "# y_pred = model.predict(valid_X)\n",
    "\n",
    "# print(f\"Accuracy: {accuracy_score(valid_Y, y_pred)}\")"
   ]
  },
  {
   "cell_type": "markdown",
   "id": "86440aac",
   "metadata": {
    "papermill": {
     "duration": 0.031762,
     "end_time": "2023-11-20T22:10:37.409252",
     "exception": false,
     "start_time": "2023-11-20T22:10:37.377490",
     "status": "completed"
    },
    "tags": []
   },
   "source": [
    "**Test using test set (from Train-validation-test split)**"
   ]
  },
  {
   "cell_type": "code",
   "execution_count": 28,
   "id": "91f07b64",
   "metadata": {
    "execution": {
     "iopub.execute_input": "2023-11-20T22:10:37.475180Z",
     "iopub.status.busy": "2023-11-20T22:10:37.474689Z",
     "iopub.status.idle": "2023-11-20T22:10:37.479486Z",
     "shell.execute_reply": "2023-11-20T22:10:37.478428Z"
    },
    "papermill": {
     "duration": 0.040276,
     "end_time": "2023-11-20T22:10:37.481722",
     "exception": false,
     "start_time": "2023-11-20T22:10:37.441446",
     "status": "completed"
    },
    "tags": []
   },
   "outputs": [],
   "source": [
    "# Commented out the code so that the model won't run everytime\n",
    "\n",
    "# y_pred = model.predict(test_X)\n",
    "\n",
    "# print(f\"Accuracy: {accuracy_score(test_Y, y_pred)}\")"
   ]
  },
  {
   "cell_type": "markdown",
   "id": "49f61502",
   "metadata": {
    "papermill": {
     "duration": 0.031921,
     "end_time": "2023-11-20T22:10:37.546166",
     "exception": false,
     "start_time": "2023-11-20T22:10:37.514245",
     "status": "completed"
    },
    "tags": []
   },
   "source": [
    "# Submitting Model 3"
   ]
  },
  {
   "cell_type": "code",
   "execution_count": 29,
   "id": "64265f09",
   "metadata": {
    "execution": {
     "iopub.execute_input": "2023-11-20T22:10:37.612338Z",
     "iopub.status.busy": "2023-11-20T22:10:37.611905Z",
     "iopub.status.idle": "2023-11-20T22:10:37.616662Z",
     "shell.execute_reply": "2023-11-20T22:10:37.615593Z"
    },
    "papermill": {
     "duration": 0.040808,
     "end_time": "2023-11-20T22:10:37.619212",
     "exception": false,
     "start_time": "2023-11-20T22:10:37.578404",
     "status": "completed"
    },
    "tags": []
   },
   "outputs": [],
   "source": [
    "# Commented out the code so that the model won't run everytime\n",
    "\n",
    "# full_X = pd.get_dummies(X_train)\n",
    "\n",
    "# full_Y = Y_train\n",
    "\n",
    "# #We end up using the WHOLE training dataset (all of train.csv) to fit (train) our model right before submission since this gives our model the most amount of data to train on\n",
    "# model.fit(full_X, full_Y)\n",
    "\n",
    "\n",
    "# predictions3 = model.predict(test_data)"
   ]
  },
  {
   "cell_type": "code",
   "execution_count": 30,
   "id": "af534567",
   "metadata": {
    "execution": {
     "iopub.execute_input": "2023-11-20T22:10:37.686723Z",
     "iopub.status.busy": "2023-11-20T22:10:37.685902Z",
     "iopub.status.idle": "2023-11-20T22:10:37.698414Z",
     "shell.execute_reply": "2023-11-20T22:10:37.697275Z"
    },
    "papermill": {
     "duration": 0.049371,
     "end_time": "2023-11-20T22:10:37.701004",
     "exception": false,
     "start_time": "2023-11-20T22:10:37.651633",
     "status": "completed"
    },
    "tags": []
   },
   "outputs": [],
   "source": [
    "original_test = pd.read_csv(\"/kaggle/input/titanic/test.csv\")\n",
    "\n",
    "pass_id = original_test['PassengerId']\n",
    "\n",
    "# original_test = original_test.drop('PassengerId', axis=1)\n",
    "# original_test = pd.get_dummies(original_test[features])\n",
    "\n",
    "test_data[\"PassengerId\"] = pass_id\n",
    "\n",
    "# Commented out the code so that the model won't run everytime\n",
    "\n",
    "# predictions3 = predictions3.astype(int)\n",
    "\n",
    "#print(predictions3)\n",
    "\n",
    "# output = pd.DataFrame({'PassengerId': test_data.PassengerId, 'Survived': predictions3})\n",
    "# output.to_csv('submission.csv', index=False)\n",
    "# print(\"Your submission was successfully saved!\")\n",
    "\n",
    "# test_data = test_data.drop(\"PassengerId\", axis = 1) # WE make sure to drop the PassengerId column since we are continuing to use the test_data variable in future tests and we don't want PassengerId to be apart of it until we submit the model again"
   ]
  },
  {
   "cell_type": "markdown",
   "id": "1ad5b50f",
   "metadata": {
    "papermill": {
     "duration": 0.032372,
     "end_time": "2023-11-20T22:10:37.765713",
     "exception": false,
     "start_time": "2023-11-20T22:10:37.733341",
     "status": "completed"
    },
    "tags": []
   },
   "source": [
    "# Changing the model solver from \"lbfgs\" to \"adam\""
   ]
  },
  {
   "cell_type": "code",
   "execution_count": 31,
   "id": "435bf604",
   "metadata": {
    "execution": {
     "iopub.execute_input": "2023-11-20T22:10:37.832892Z",
     "iopub.status.busy": "2023-11-20T22:10:37.832039Z",
     "iopub.status.idle": "2023-11-20T22:10:37.838266Z",
     "shell.execute_reply": "2023-11-20T22:10:37.836893Z"
    },
    "papermill": {
     "duration": 0.042086,
     "end_time": "2023-11-20T22:10:37.840580",
     "exception": false,
     "start_time": "2023-11-20T22:10:37.798494",
     "status": "completed"
    },
    "tags": []
   },
   "outputs": [],
   "source": [
    "model = MLPClassifier(activation = \"tanh\", alpha = 0.05, hidden_layer_sizes = (13, 15), learning_rate = \"constant\", solver = \"adam\", max_iter=5000, random_state = 42)\n",
    "# Try changing it back to lbfgs after normalization since maybe it converges faster now after normalization\n",
    "#Also, with normalization, you can increase the learning_rate with less risk of divergence which is good\n"
   ]
  },
  {
   "cell_type": "markdown",
   "id": "fa6ca25a",
   "metadata": {
    "papermill": {
     "duration": 0.032166,
     "end_time": "2023-11-20T22:10:37.905161",
     "exception": false,
     "start_time": "2023-11-20T22:10:37.872995",
     "status": "completed"
    },
    "tags": []
   },
   "source": [
    "**I made this change because it said that lbfgs was not converging so I tried changing to a differnet solver and adam seemed to converge. But also, I am going to normalize my data which should make the training of my data converge faster. So, I might also go back to lbfgs to see if it converges now**"
   ]
  },
  {
   "cell_type": "markdown",
   "id": "33bedd6b",
   "metadata": {
    "papermill": {
     "duration": 0.031781,
     "end_time": "2023-11-20T22:10:37.971921",
     "exception": false,
     "start_time": "2023-11-20T22:10:37.940140",
     "status": "completed"
    },
    "tags": []
   },
   "source": [
    "# Feature Engineering: Putting more weight onto specific features (like Gender and Age)"
   ]
  },
  {
   "cell_type": "markdown",
   "id": "c7c5336a",
   "metadata": {
    "papermill": {
     "duration": 0.031778,
     "end_time": "2023-11-20T22:10:38.036025",
     "exception": false,
     "start_time": "2023-11-20T22:10:38.004247",
     "status": "completed"
    },
    "tags": []
   },
   "source": [
    "**We know from history that Women and Children were more likely to survive so it makes more sense to put more weight into those features. In other words, we should penalize a person more if they are not a Women or Child and therefore make it less likely for them to survive**"
   ]
  },
  {
   "cell_type": "code",
   "execution_count": 32,
   "id": "b2c75e80",
   "metadata": {
    "execution": {
     "iopub.execute_input": "2023-11-20T22:10:38.102677Z",
     "iopub.status.busy": "2023-11-20T22:10:38.102287Z",
     "iopub.status.idle": "2023-11-20T22:10:38.152188Z",
     "shell.execute_reply": "2023-11-20T22:10:38.150460Z"
    },
    "papermill": {
     "duration": 0.086435,
     "end_time": "2023-11-20T22:10:38.155021",
     "exception": false,
     "start_time": "2023-11-20T22:10:38.068586",
     "status": "completed"
    },
    "tags": []
   },
   "outputs": [
    {
     "name": "stdout",
     "output_type": "stream",
     "text": [
      "     Pclass      Fare     Age  SibSp  Parch  Sex_female  Sex_male\n",
      "570     2.0   10.5000  62.000    0.0    0.0       False      True\n",
      "787     3.0   29.1250   8.000    4.0    1.0       False      True\n",
      "74      3.0   56.4958  32.000    0.0    0.0       False      True\n",
      "113     3.0    9.8250  20.000    1.0    0.0        True     False\n",
      "635     2.0   13.0000  28.000    0.0    0.0        True     False\n",
      "..      ...       ...     ...    ...    ...         ...       ...\n",
      "106     3.0    7.6500  21.000    0.0    0.0        True     False\n",
      "270     1.0   31.0000  53.825    0.0    0.0       False      True\n",
      "860     3.0   14.1083  41.000    2.0    0.0       False      True\n",
      "435     1.0  120.0000  14.000    1.0    2.0        True     False\n",
      "102     1.0   77.2875  21.000    0.0    1.0       False      True\n",
      "\n",
      "[534 rows x 7 columns]\n",
      "     Pclass      Fare     Age  SibSp  Parch  Sex_female  Sex_male  \\\n",
      "570     2.0   10.5000  62.000    0.0    0.0       False      True   \n",
      "787     3.0   29.1250   8.000    4.0    1.0       False      True   \n",
      "74      3.0   56.4958  32.000    0.0    0.0       False      True   \n",
      "113     3.0    9.8250  20.000    1.0    0.0        True     False   \n",
      "635     2.0   13.0000  28.000    0.0    0.0        True     False   \n",
      "..      ...       ...     ...    ...    ...         ...       ...   \n",
      "106     3.0    7.6500  21.000    0.0    0.0        True     False   \n",
      "270     1.0   31.0000  53.825    0.0    0.0       False      True   \n",
      "860     3.0   14.1083  41.000    2.0    0.0       False      True   \n",
      "435     1.0  120.0000  14.000    1.0    2.0        True     False   \n",
      "102     1.0   77.2875  21.000    0.0    1.0       False      True   \n",
      "\n",
      "     FemaleFirstClass  ChildFirstClass  IsChild  FamilySize  IsAlone  \n",
      "570                 0                0        0         1.0        1  \n",
      "787                 0                0        1         6.0        0  \n",
      "74                  0                0        0         1.0        1  \n",
      "113                 0                0        0         2.0        0  \n",
      "635                 0                0        0         1.0        1  \n",
      "..                ...              ...      ...         ...      ...  \n",
      "106                 0                0        0         1.0        1  \n",
      "270                 0                0        0         1.0        1  \n",
      "860                 0                0        0         3.0        0  \n",
      "435                 1                1        1         4.0        0  \n",
      "102                 0                0        0         2.0        0  \n",
      "\n",
      "[534 rows x 12 columns]\n"
     ]
    }
   ],
   "source": [
    "print(train_X)\n",
    "\n",
    "train_X['FemaleFirstClass'] = ((train_X['Sex_female'] == True) & (train_X['Pclass'] == 1)).astype(int)\n",
    "train_X['ChildFirstClass'] = ((train_X['Age'] < 18) & (train_X['Pclass'] == 1)).astype(int) \n",
    "\n",
    "\n",
    "valid_X['FemaleFirstClass'] = ((valid_X['Sex_female'] == True) & (valid_X['Pclass'] == 1)).astype(int)\n",
    "valid_X['ChildFirstClass'] = ((valid_X['Age'] < 18) & (valid_X['Pclass'] == 1)).astype(int) \n",
    "\n",
    "\n",
    "test_X['FemaleFirstClass'] = ((test_X['Sex_female'] == True) & (test_X['Pclass'] == 1)).astype(int)\n",
    "test_X['ChildFirstClass'] = ((test_X['Age'] < 18) & (test_X['Pclass'] == 1)).astype(int) \n",
    "\n",
    "\n",
    "test_data['FemaleFirstClass'] = ((test_data['Sex_female'] == True) & (test_data['Pclass'] == 1)).astype(int)\n",
    "test_data['ChildFirstClass'] = ((test_data['Age'] < 18) & (test_data['Pclass'] == 1)).astype(int) \n",
    "\n",
    "\n",
    "# Bin 'Age' into categories\n",
    "train_X['IsChild'] = (train_X['Age'] < 18).astype(int)\n",
    "valid_X['IsChild'] = (valid_X['Age'] < 18).astype(int)\n",
    "test_X['IsChild'] = (test_X['Age'] < 18).astype(int)\n",
    "test_data['IsChild'] = (test_data['Age'] < 18).astype(int)\n",
    "\n",
    "\n",
    "# Create FamilySize and IsAlone\n",
    "train_X['FamilySize'] = train_X['SibSp'] + train_X['Parch'] + 1\n",
    "valid_X['FamilySize'] = valid_X['SibSp'] + valid_X['Parch'] + 1\n",
    "test_X['FamilySize'] = test_X['SibSp'] + test_X['Parch'] + 1\n",
    "test_data['FamilySize'] = test_data['SibSp'] + test_data['Parch'] + 1\n",
    "\n",
    "\n",
    "train_X['IsAlone'] = (train_X['FamilySize'] == 1).astype(int)\n",
    "valid_X['IsAlone'] = (valid_X['FamilySize'] == 1).astype(int)\n",
    "test_X['IsAlone'] = (test_X['FamilySize'] == 1).astype(int)\n",
    "test_data['IsAlone'] = (test_data['FamilySize'] == 1).astype(int)\n",
    "\n",
    "\n",
    "print(train_X)"
   ]
  },
  {
   "cell_type": "markdown",
   "id": "195cfc7c",
   "metadata": {
    "papermill": {
     "duration": 0.032062,
     "end_time": "2023-11-20T22:10:38.220563",
     "exception": false,
     "start_time": "2023-11-20T22:10:38.188501",
     "status": "completed"
    },
    "tags": []
   },
   "source": [
    "# Normalizing all the data"
   ]
  },
  {
   "cell_type": "markdown",
   "id": "c6c6fa0b",
   "metadata": {
    "papermill": {
     "duration": 0.03207,
     "end_time": "2023-11-20T22:10:38.285180",
     "exception": false,
     "start_time": "2023-11-20T22:10:38.253110",
     "status": "completed"
    },
    "tags": []
   },
   "source": [
    "**Creating the Normalizing Scaler**"
   ]
  },
  {
   "cell_type": "code",
   "execution_count": 33,
   "id": "30ae4edb",
   "metadata": {
    "execution": {
     "iopub.execute_input": "2023-11-20T22:10:38.352018Z",
     "iopub.status.busy": "2023-11-20T22:10:38.351444Z",
     "iopub.status.idle": "2023-11-20T22:10:38.372125Z",
     "shell.execute_reply": "2023-11-20T22:10:38.370694Z"
    },
    "papermill": {
     "duration": 0.057097,
     "end_time": "2023-11-20T22:10:38.374723",
     "exception": false,
     "start_time": "2023-11-20T22:10:38.317626",
     "status": "completed"
    },
    "tags": []
   },
   "outputs": [
    {
     "name": "stdout",
     "output_type": "stream",
     "text": [
      "     Pclass      Fare     Age  SibSp  Parch  Sex_female  Sex_male  \\\n",
      "570     2.0   10.5000  62.000    0.0    0.0       False      True   \n",
      "787     3.0   29.1250   8.000    4.0    1.0       False      True   \n",
      "74      3.0   56.4958  32.000    0.0    0.0       False      True   \n",
      "113     3.0    9.8250  20.000    1.0    0.0        True     False   \n",
      "635     2.0   13.0000  28.000    0.0    0.0        True     False   \n",
      "..      ...       ...     ...    ...    ...         ...       ...   \n",
      "106     3.0    7.6500  21.000    0.0    0.0        True     False   \n",
      "270     1.0   31.0000  53.825    0.0    0.0       False      True   \n",
      "860     3.0   14.1083  41.000    2.0    0.0       False      True   \n",
      "435     1.0  120.0000  14.000    1.0    2.0        True     False   \n",
      "102     1.0   77.2875  21.000    0.0    1.0       False      True   \n",
      "\n",
      "     FemaleFirstClass  ChildFirstClass  IsChild  FamilySize  IsAlone  \n",
      "570                 0                0        0         1.0        1  \n",
      "787                 0                0        1         6.0        0  \n",
      "74                  0                0        0         1.0        1  \n",
      "113                 0                0        0         2.0        0  \n",
      "635                 0                0        0         1.0        1  \n",
      "..                ...              ...      ...         ...      ...  \n",
      "106                 0                0        0         1.0        1  \n",
      "270                 0                0        0         1.0        1  \n",
      "860                 0                0        0         3.0        0  \n",
      "435                 1                1        1         4.0        0  \n",
      "102                 0                0        0         2.0        0  \n",
      "\n",
      "[534 rows x 12 columns]\n"
     ]
    }
   ],
   "source": [
    "from sklearn.preprocessing import MinMaxScaler\n",
    "\n",
    "# Initialize the MinMaxScaler\n",
    "scaler = MinMaxScaler()\n",
    "\n",
    "# Select columns you want to normalize\n",
    "columns_to_normalize = [\"Pclass\", \"Fare\",\"Age\", \"SibSp\"]\n",
    "\n",
    "scaler.fit(train_X[columns_to_normalize]) #it is important to fit the scaler on the training data (from the train-validation-test split) only\n",
    "\n",
    "print(train_X)"
   ]
  },
  {
   "cell_type": "markdown",
   "id": "c7d7b4c5",
   "metadata": {
    "papermill": {
     "duration": 0.032442,
     "end_time": "2023-11-20T22:10:38.439814",
     "exception": false,
     "start_time": "2023-11-20T22:10:38.407372",
     "status": "completed"
    },
    "tags": []
   },
   "source": [
    "**It is very important to only fit the scaler on the training data from the train-validation-test split and not the training data from the whole train.csv since the whole training data includes data from the validation and test split and fitting on that will cause the testing (using validation and test) of the model to be overly optimistic. This is called data leakage.**\n",
    "\n",
    "**Also, it's important that we do not fit the scaler multiple times since that would cause inconsistant fitting throughout the data. It should only be fitted once and then applied to all the different datasets.**\n",
    "\n",
    "**However,before I submit Model 4, I should re-fit the normalization scaler on the entire training data since I will be running my model on the entire training data**"
   ]
  },
  {
   "cell_type": "markdown",
   "id": "4c0120eb",
   "metadata": {
    "papermill": {
     "duration": 0.032239,
     "end_time": "2023-11-20T22:10:38.505075",
     "exception": false,
     "start_time": "2023-11-20T22:10:38.472836",
     "status": "completed"
    },
    "tags": []
   },
   "source": [
    "**Normalizing the test data (the one from test.csv)**"
   ]
  },
  {
   "cell_type": "code",
   "execution_count": 34,
   "id": "c508defb",
   "metadata": {
    "execution": {
     "iopub.execute_input": "2023-11-20T22:10:38.572410Z",
     "iopub.status.busy": "2023-11-20T22:10:38.572013Z",
     "iopub.status.idle": "2023-11-20T22:10:38.581389Z",
     "shell.execute_reply": "2023-11-20T22:10:38.580143Z"
    },
    "papermill": {
     "duration": 0.046142,
     "end_time": "2023-11-20T22:10:38.583816",
     "exception": false,
     "start_time": "2023-11-20T22:10:38.537674",
     "status": "completed"
    },
    "tags": []
   },
   "outputs": [],
   "source": [
    "test_data = test_data #the \"test_data\" variable here is after we cleaned up the test_data \n",
    "\n",
    "#print(test_data)\n",
    "\n",
    "# Fit the scaler on the data and then transform it\n",
    "test_data[columns_to_normalize] = scaler.transform(test_data[columns_to_normalize])\n",
    "\n",
    "#print(test_data)"
   ]
  },
  {
   "cell_type": "markdown",
   "id": "475bbce4",
   "metadata": {
    "papermill": {
     "duration": 0.032288,
     "end_time": "2023-11-20T22:10:38.648743",
     "exception": false,
     "start_time": "2023-11-20T22:10:38.616455",
     "status": "completed"
    },
    "tags": []
   },
   "source": [
    "**Normalizing the train, validation, and test data**"
   ]
  },
  {
   "cell_type": "code",
   "execution_count": 35,
   "id": "83e15372",
   "metadata": {
    "execution": {
     "iopub.execute_input": "2023-11-20T22:10:38.716269Z",
     "iopub.status.busy": "2023-11-20T22:10:38.715069Z",
     "iopub.status.idle": "2023-11-20T22:10:38.750997Z",
     "shell.execute_reply": "2023-11-20T22:10:38.749831Z"
    },
    "papermill": {
     "duration": 0.072308,
     "end_time": "2023-11-20T22:10:38.753656",
     "exception": false,
     "start_time": "2023-11-20T22:10:38.681348",
     "status": "completed"
    },
    "tags": []
   },
   "outputs": [
    {
     "name": "stdout",
     "output_type": "stream",
     "text": [
      "     Pclass      Fare       Age  SibSp  Parch  Sex_female  Sex_male  \\\n",
      "570     0.5  0.020495  0.773813  0.000    0.0       False      True   \n",
      "787     1.0  0.056848  0.095250  0.500    1.0       False      True   \n",
      "74      1.0  0.110272  0.396833  0.000    0.0       False      True   \n",
      "113     1.0  0.019177  0.246042  0.125    0.0        True     False   \n",
      "635     0.5  0.025374  0.346569  0.000    0.0        True     False   \n",
      "\n",
      "     FemaleFirstClass  ChildFirstClass  IsChild  FamilySize  IsAlone  \n",
      "570                 0                0        0         1.0        1  \n",
      "787                 0                0        1         6.0        0  \n",
      "74                  0                0        0         1.0        1  \n",
      "113                 0                0        0         2.0        0  \n",
      "635                 0                0        0         1.0        1  \n",
      "     Pclass      Fare       Age  SibSp  Parch  Sex_female  Sex_male  \\\n",
      "849     0.0  0.173920  0.575270  0.125    0.0        True     False   \n",
      "331     0.0  0.055628  0.566474  0.000    0.0       False      True   \n",
      "260     1.0  0.015127  0.614506  0.000    0.0       False      True   \n",
      "316     0.5  0.050749  0.296306  0.125    0.0        True     False   \n",
      "292     0.5  0.025130  0.447097  0.000    0.0       False      True   \n",
      "\n",
      "     FemaleFirstClass  ChildFirstClass  IsChild  FamilySize  IsAlone  \n",
      "849                 1                0        0         2.0        0  \n",
      "331                 0                0        0         1.0        1  \n",
      "260                 0                0        0         1.0        1  \n",
      "316                 0                0        0         2.0        0  \n",
      "292                 0                0        0         1.0        1  \n",
      "     Pclass      Fare       Age  SibSp  Parch  Sex_female  Sex_male  \\\n",
      "424     1.0  0.039452  0.220910  0.125    1.0       False      True   \n",
      "837     1.0  0.015713  0.393347  0.000    0.0       False      True   \n",
      "525     1.0  0.015127  0.503644  0.000    0.0       False      True   \n",
      "328     1.0  0.040062  0.384267  0.125    1.0        True     False   \n",
      "70      0.5  0.020495  0.396833  0.000    0.0       False      True   \n",
      "\n",
      "     FemaleFirstClass  ChildFirstClass  IsChild  FamilySize  IsAlone  \n",
      "424                 0                0        0         3.0        0  \n",
      "837                 0                0        0         1.0        1  \n",
      "525                 0                0        0         1.0        1  \n",
      "328                 0                0        0         3.0        0  \n",
      "70                  0                0        0         1.0        1  \n"
     ]
    }
   ],
   "source": [
    "train_X[columns_to_normalize] = scaler.transform(train_X[columns_to_normalize])\n",
    "print(train_X.head())\n",
    "\n",
    "valid_X[columns_to_normalize] = scaler.transform(valid_X[columns_to_normalize])\n",
    "print(valid_X.head())\n",
    "\n",
    "test_X[columns_to_normalize] = scaler.transform(test_X[columns_to_normalize])\n",
    "print(test_X.head())"
   ]
  },
  {
   "cell_type": "markdown",
   "id": "6105c5d7",
   "metadata": {
    "papermill": {
     "duration": 0.032654,
     "end_time": "2023-11-20T22:10:38.819671",
     "exception": false,
     "start_time": "2023-11-20T22:10:38.787017",
     "status": "completed"
    },
    "tags": []
   },
   "source": [
    "# Testing out my model (4th) after Feature Enginering and Normalization"
   ]
  },
  {
   "cell_type": "code",
   "execution_count": 36,
   "id": "d410714f",
   "metadata": {
    "execution": {
     "iopub.execute_input": "2023-11-20T22:10:38.887862Z",
     "iopub.status.busy": "2023-11-20T22:10:38.887462Z",
     "iopub.status.idle": "2023-11-20T22:10:41.064047Z",
     "shell.execute_reply": "2023-11-20T22:10:41.062683Z"
    },
    "papermill": {
     "duration": 2.214065,
     "end_time": "2023-11-20T22:10:41.067215",
     "exception": false,
     "start_time": "2023-11-20T22:10:38.853150",
     "status": "completed"
    },
    "tags": []
   },
   "outputs": [
    {
     "name": "stdout",
     "output_type": "stream",
     "text": [
      "Validation Accuracy: 0.8146067415730337\n"
     ]
    }
   ],
   "source": [
    "model = MLPClassifier(activation = \"tanh\", alpha = 0, hidden_layer_sizes = (13, 15), learning_rate = \"constant\", solver = \"adam\", max_iter=5000, random_state = 42)\n",
    "\n",
    "model.fit(train_X, train_Y)\n",
    "\n",
    "y_pred = model.predict(valid_X)\n",
    "\n",
    "print(f\"Validation Accuracy: {accuracy_score(valid_Y, y_pred)}\")"
   ]
  },
  {
   "cell_type": "markdown",
   "id": "ff269d45",
   "metadata": {
    "papermill": {
     "duration": 0.032968,
     "end_time": "2023-11-20T22:10:41.133643",
     "exception": false,
     "start_time": "2023-11-20T22:10:41.100675",
     "status": "completed"
    },
    "tags": []
   },
   "source": [
    "# Using GridSearchCV to find new best amount of neurons per hidden layer and also to find best alpha and activation\n"
   ]
  },
  {
   "cell_type": "code",
   "execution_count": 37,
   "id": "e1113f4f",
   "metadata": {
    "execution": {
     "iopub.execute_input": "2023-11-20T22:10:41.200829Z",
     "iopub.status.busy": "2023-11-20T22:10:41.200439Z",
     "iopub.status.idle": "2023-11-20T22:10:41.210374Z",
     "shell.execute_reply": "2023-11-20T22:10:41.209475Z"
    },
    "papermill": {
     "duration": 0.046209,
     "end_time": "2023-11-20T22:10:41.212616",
     "exception": false,
     "start_time": "2023-11-20T22:10:41.166407",
     "status": "completed"
    },
    "tags": []
   },
   "outputs": [],
   "source": [
    "from sklearn.neural_network import MLPClassifier\n",
    "\n",
    "training_X = pd.concat([train_X, valid_X, test_X], ignore_index=True)\n",
    "training_Y = pd.concat([train_Y, valid_Y, test_Y], ignore_index=True)\n",
    "\n",
    "possible_hidden_layers = []\n",
    "\n",
    "for i in range(8,20):\n",
    "    for j in range(8,20):\n",
    "        possible_hidden_layers.append((i, j))\n",
    "\n",
    "parameter_space = {\n",
    "    'hidden_layer_sizes': possible_hidden_layers,\n",
    "    'activation': ['tanh', 'relu'],\n",
    "    'alpha': [0.0001, 0.05],\n",
    "    \"max_iter\": [4000, 5000, 6000, 7000]\n",
    "}\n",
    "\n",
    "# mlp = MLPClassifier(solver = \"adam\", random_state = 42)\n",
    "\n",
    "# clf = GridSearchCV(mlp, parameter_space, n_jobs=-1, cv=3)\n",
    "\n",
    "# clf.fit(training_X, training_Y)\n",
    "\n",
    "# print('Best parameters found:\\n', clf.best_params_)\n",
    "\n",
    "# print('Best score (CV mean):', clf.best_score_)\n",
    "\n",
    "# print(\"Done\")"
   ]
  },
  {
   "cell_type": "markdown",
   "id": "6fe098ac",
   "metadata": {
    "papermill": {
     "duration": 0.032317,
     "end_time": "2023-11-20T22:10:41.277594",
     "exception": false,
     "start_time": "2023-11-20T22:10:41.245277",
     "status": "completed"
    },
    "tags": []
   },
   "source": [
    "# Before I submit Model 4, I should re-fit the normalization scaler on the entire training data since I will be running my model on the entire training data\n"
   ]
  },
  {
   "cell_type": "code",
   "execution_count": 38,
   "id": "322ace14",
   "metadata": {
    "execution": {
     "iopub.execute_input": "2023-11-20T22:10:41.344949Z",
     "iopub.status.busy": "2023-11-20T22:10:41.344493Z",
     "iopub.status.idle": "2023-11-20T22:10:41.380954Z",
     "shell.execute_reply": "2023-11-20T22:10:41.379772Z"
    },
    "papermill": {
     "duration": 0.072982,
     "end_time": "2023-11-20T22:10:41.383479",
     "exception": false,
     "start_time": "2023-11-20T22:10:41.310497",
     "status": "completed"
    },
    "tags": []
   },
   "outputs": [
    {
     "name": "stdout",
     "output_type": "stream",
     "text": [
      "     Pclass      Fare       Age  SibSp  Parch  Sex_female  Sex_male  \\\n",
      "0       0.5  0.020495  0.773813  0.000    0.0       False      True   \n",
      "1       1.0  0.056848  0.095250  0.500    1.0       False      True   \n",
      "2       1.0  0.110272  0.396833  0.000    0.0       False      True   \n",
      "3       1.0  0.019177  0.246042  0.125    0.0        True     False   \n",
      "4       0.5  0.025374  0.346569  0.000    0.0        True     False   \n",
      "..      ...       ...       ...    ...    ...         ...       ...   \n",
      "886     1.0  0.015713  0.258608  0.000    0.0       False      True   \n",
      "887     0.0  0.060508  0.371701  0.000    0.0        True     False   \n",
      "888     1.0  0.015713  0.547625  0.000    0.0       False      True   \n",
      "889     0.0  0.512122  0.258608  0.250    2.0        True     False   \n",
      "890     0.0  0.444099  0.472229  0.000    0.0        True     False   \n",
      "\n",
      "     FemaleFirstClass  ChildFirstClass  IsChild  FamilySize  IsAlone  \n",
      "0                   0                0        0         1.0        1  \n",
      "1                   0                0        1         6.0        0  \n",
      "2                   0                0        0         1.0        1  \n",
      "3                   0                0        0         2.0        0  \n",
      "4                   0                0        0         1.0        1  \n",
      "..                ...              ...      ...         ...      ...  \n",
      "886                 0                0        0         1.0        1  \n",
      "887                 1                0        0         1.0        1  \n",
      "888                 0                0        0         1.0        1  \n",
      "889                 1                0        0         5.0        0  \n",
      "890                 1                0        0         1.0        1  \n",
      "\n",
      "[891 rows x 12 columns]\n",
      "     Pclass      Fare       Age  SibSp  Parch  Sex_female  Sex_male  \\\n",
      "0       0.5  0.020495  0.773813  0.000    0.0       False      True   \n",
      "1       1.0  0.056848  0.095250  0.500    1.0       False      True   \n",
      "2       1.0  0.110272  0.396833  0.000    0.0       False      True   \n",
      "3       1.0  0.019177  0.246042  0.125    0.0        True     False   \n",
      "4       0.5  0.025374  0.346569  0.000    0.0        True     False   \n",
      "..      ...       ...       ...    ...    ...         ...       ...   \n",
      "886     1.0  0.015713  0.258608  0.000    0.0       False      True   \n",
      "887     0.0  0.060508  0.371701  0.000    0.0        True     False   \n",
      "888     1.0  0.015713  0.547625  0.000    0.0       False      True   \n",
      "889     0.0  0.512122  0.258608  0.250    2.0        True     False   \n",
      "890     0.0  0.444099  0.472229  0.000    0.0        True     False   \n",
      "\n",
      "     FemaleFirstClass  ChildFirstClass  IsChild  FamilySize  IsAlone  \n",
      "0                   0                0        0         1.0        1  \n",
      "1                   0                0        1         6.0        0  \n",
      "2                   0                0        0         1.0        1  \n",
      "3                   0                0        0         2.0        0  \n",
      "4                   0                0        0         1.0        1  \n",
      "..                ...              ...      ...         ...      ...  \n",
      "886                 0                0        0         1.0        1  \n",
      "887                 1                0        0         1.0        1  \n",
      "888                 0                0        0         1.0        1  \n",
      "889                 1                0        0         5.0        0  \n",
      "890                 1                0        0         1.0        1  \n",
      "\n",
      "[891 rows x 12 columns]\n"
     ]
    }
   ],
   "source": [
    "from sklearn.preprocessing import MinMaxScaler\n",
    "\n",
    "training_X = pd.concat([train_X, valid_X, test_X], ignore_index=True) # training_X is the entire training data from train.csv but after all the cleaning, normalization, and feature engineering\n",
    "training_Y = pd.concat([train_Y, valid_Y, test_Y], ignore_index=True) \n",
    "\n",
    "\n",
    "# Initialize the MinMaxScaler\n",
    "scaler = MinMaxScaler()\n",
    "\n",
    "columns_to_normalize = [\"Pclass\", \"Fare\", \"Age\", \"SibSp\"]\n",
    "\n",
    "scaler.fit(training_X[columns_to_normalize])\n",
    "\n",
    "print(training_X)\n",
    "\n",
    "training_X[columns_to_normalize] = scaler.transform(training_X[columns_to_normalize])\n",
    "\n",
    "print(training_X)"
   ]
  },
  {
   "cell_type": "markdown",
   "id": "f4a258bf",
   "metadata": {
    "papermill": {
     "duration": 0.032626,
     "end_time": "2023-11-20T22:10:41.449506",
     "exception": false,
     "start_time": "2023-11-20T22:10:41.416880",
     "status": "completed"
    },
    "tags": []
   },
   "source": [
    "# Now that the test data is Normalized and has feature engineering (from previous code), I can use model.predict() on it"
   ]
  },
  {
   "cell_type": "code",
   "execution_count": 39,
   "id": "e747c500",
   "metadata": {
    "execution": {
     "iopub.execute_input": "2023-11-20T22:10:41.517158Z",
     "iopub.status.busy": "2023-11-20T22:10:41.516709Z",
     "iopub.status.idle": "2023-11-20T22:10:41.522226Z",
     "shell.execute_reply": "2023-11-20T22:10:41.521140Z"
    },
    "papermill": {
     "duration": 0.042099,
     "end_time": "2023-11-20T22:10:41.524655",
     "exception": false,
     "start_time": "2023-11-20T22:10:41.482556",
     "status": "completed"
    },
    "tags": []
   },
   "outputs": [],
   "source": [
    "# Best parameters found:\n",
    "#  {'activation': 'relu', 'alpha': 0.0001, 'hidden_layer_sizes': (11, 15), 'max_iter': 4000}\n",
    "# Best score (CV mean): 0.8282828282828284\n",
    "\n",
    "# Commented out the code so that the model won't run everytime\n",
    "\n",
    "# model = MLPClassifier(activation = \"relu\", alpha = 0.0001, hidden_layer_sizes = (11, 15), solver = \"adam\", max_iter=4000, random_state = 42)\n",
    "\n",
    "# model.fit(training_X, training_Y) #Fitting the model on the entire training data set (including all the sub-sets from train-validation-test split)\n",
    "\n",
    "# test_data = test_data.drop(\"PassengerId\", axis = 1)\n",
    "\n",
    "# predictions4 = model.predict(test_data)\n"
   ]
  },
  {
   "cell_type": "markdown",
   "id": "3f6658f8",
   "metadata": {
    "papermill": {
     "duration": 0.032921,
     "end_time": "2023-11-20T22:10:41.590927",
     "exception": false,
     "start_time": "2023-11-20T22:10:41.558006",
     "status": "completed"
    },
    "tags": []
   },
   "source": [
    "# Submitting Model 4 (accuracy: 79.425)"
   ]
  },
  {
   "cell_type": "code",
   "execution_count": 40,
   "id": "eb1f1582",
   "metadata": {
    "execution": {
     "iopub.execute_input": "2023-11-20T22:10:41.659592Z",
     "iopub.status.busy": "2023-11-20T22:10:41.659196Z",
     "iopub.status.idle": "2023-11-20T22:10:41.664427Z",
     "shell.execute_reply": "2023-11-20T22:10:41.663238Z"
    },
    "papermill": {
     "duration": 0.042161,
     "end_time": "2023-11-20T22:10:41.666781",
     "exception": false,
     "start_time": "2023-11-20T22:10:41.624620",
     "status": "completed"
    },
    "tags": []
   },
   "outputs": [],
   "source": [
    "# Commented out the code so that the model won't run everytime\n",
    "\n",
    "# original_test = pd.read_csv(\"/kaggle/input/titanic/test.csv\")\n",
    "\n",
    "# pass_id = original_test['PassengerId']\n",
    "\n",
    "# test_data[\"PassengerId\"] = pass_id\n",
    "\n",
    "# predictions4 = predictions4.astype(int)\n",
    "\n",
    "# output = pd.DataFrame({'PassengerId': test_data.PassengerId, 'Survived': predictions4})\n",
    "# output.to_csv('submission.csv', index=False)\n",
    "# print(\"Your submission was successfully saved!\")\n",
    "\n",
    "# test_data = test_data.drop(\"PassengerId\", axis = 1) # WE make sure to drop the PassengerId column since we are continuing to use the test_data variable in future tests and we don't want PassengerId to be apart of it until we submit the model again"
   ]
  },
  {
   "cell_type": "markdown",
   "id": "7f91a0d2",
   "metadata": {
    "papermill": {
     "duration": 0.032716,
     "end_time": "2023-11-20T22:10:41.732868",
     "exception": false,
     "start_time": "2023-11-20T22:10:41.700152",
     "status": "completed"
    },
    "tags": []
   },
   "source": [
    "# MAKE SURE THERE ISN'T ANY NEGATIVE VALUES FOR AGE BEFORE AND AFTER NORMALIZATION"
   ]
  },
  {
   "cell_type": "code",
   "execution_count": 41,
   "id": "a4b7bfde",
   "metadata": {
    "execution": {
     "iopub.execute_input": "2023-11-20T22:10:41.800742Z",
     "iopub.status.busy": "2023-11-20T22:10:41.800328Z",
     "iopub.status.idle": "2023-11-20T22:10:41.808113Z",
     "shell.execute_reply": "2023-11-20T22:10:41.806977Z"
    },
    "papermill": {
     "duration": 0.044909,
     "end_time": "2023-11-20T22:10:41.810774",
     "exception": false,
     "start_time": "2023-11-20T22:10:41.765865",
     "status": "completed"
    },
    "tags": []
   },
   "outputs": [
    {
     "name": "stdout",
     "output_type": "stream",
     "text": [
      "Empty DataFrame\n",
      "Columns: [Pclass, Fare, Age, SibSp, Parch, Sex_female, Sex_male, FemaleFirstClass, ChildFirstClass, IsChild, FamilySize, IsAlone]\n",
      "Index: []\n"
     ]
    }
   ],
   "source": [
    "negatives = training_X[training_X[\"Age\"] < 0]\n",
    "print(negatives)\n",
    "\n",
    "# No values negative values for age"
   ]
  },
  {
   "cell_type": "markdown",
   "id": "4523a0c5",
   "metadata": {
    "papermill": {
     "duration": 0.032869,
     "end_time": "2023-11-20T22:10:41.876587",
     "exception": false,
     "start_time": "2023-11-20T22:10:41.843718",
     "status": "completed"
    },
    "tags": []
   },
   "source": [
    "# Maybe do GridSearchCV to test only the Alpha value and the max_iter"
   ]
  },
  {
   "cell_type": "markdown",
   "id": "787e1ec9",
   "metadata": {
    "papermill": {
     "duration": 0.033845,
     "end_time": "2023-11-20T22:10:41.943446",
     "exception": false,
     "start_time": "2023-11-20T22:10:41.909601",
     "status": "completed"
    },
    "tags": []
   },
   "source": [
    "**TRY THIS OUT SINCE THE PREVIOUS GRIDSEARCH DIDN'T REALLY TRY MANY Alpha VALUES AND DIDN'T TEST OUT DIFFERENT max_iter. Maybe try doing GridSearchCV with different GPU accelerator to see if it goes faster**"
   ]
  },
  {
   "cell_type": "code",
   "execution_count": 42,
   "id": "df8fe584",
   "metadata": {
    "execution": {
     "iopub.execute_input": "2023-11-20T22:10:42.013130Z",
     "iopub.status.busy": "2023-11-20T22:10:42.012657Z",
     "iopub.status.idle": "2023-11-20T22:10:42.019007Z",
     "shell.execute_reply": "2023-11-20T22:10:42.017811Z"
    },
    "papermill": {
     "duration": 0.043424,
     "end_time": "2023-11-20T22:10:42.021382",
     "exception": false,
     "start_time": "2023-11-20T22:10:41.977958",
     "status": "completed"
    },
    "tags": []
   },
   "outputs": [],
   "source": [
    "# from sklearn.neural_network import MLPClassifier\n",
    "\n",
    "# training_X = pd.concat([train_X, valid_X, test_X], ignore_index=True)\n",
    "# training_Y = pd.concat([train_Y, valid_Y, test_Y], ignore_index=True)\n",
    "\n",
    "# possible_alpha = []\n",
    "# possible_max_iter = []\n",
    "\n",
    "# initial_alpha = 0.0001\n",
    "# for i in range(8,20):\n",
    "#     possible_alpha.append(initial_alpha)\n",
    "#     initial_alpha += 0.0005\n",
    "\n",
    "# initial_iter = 3500\n",
    "# for i in range(8,20):\n",
    "#     possible_max_iter.append(initial_iter)\n",
    "#     initial_iter += 200\n",
    "\n",
    "\n",
    "# parameter_space = {\n",
    "#     'alpha': possible_alpha,\n",
    "#     \"max_iter\": possible_max_iter\n",
    "# }\n",
    "\n",
    "# mlp = MLPClassifier(activation = \"relu\", hidden_layer_sizes = (11, 15), solver = \"adam\", random_state = 42)\n",
    "\n",
    "# clf = GridSearchCV(mlp, parameter_space, n_jobs=-1, cv=5)\n",
    "\n",
    "# clf.fit(training_X, training_Y)\n",
    "\n",
    "# print('Best parameters found:\\n', clf.best_params_)\n",
    "\n",
    "# print('Best score (CV mean):', clf.best_score_)\n",
    "\n",
    "# print(\"Done\")\n",
    "\n",
    "# Best parameters found:\n",
    "#  {'alpha': 0.0005, 'max_iter': 4000}\n",
    "# Best score (CV mean): 0.8203753687778546"
   ]
  },
  {
   "cell_type": "markdown",
   "id": "ccc2fd7e",
   "metadata": {
    "papermill": {
     "duration": 0.03297,
     "end_time": "2023-11-20T22:10:42.087641",
     "exception": false,
     "start_time": "2023-11-20T22:10:42.054671",
     "status": "completed"
    },
    "tags": []
   },
   "source": [
    "# Testing out Model 5 (accuracy: 78.229)"
   ]
  },
  {
   "cell_type": "code",
   "execution_count": 43,
   "id": "d380f451",
   "metadata": {
    "execution": {
     "iopub.execute_input": "2023-11-20T22:10:42.155928Z",
     "iopub.status.busy": "2023-11-20T22:10:42.155438Z",
     "iopub.status.idle": "2023-11-20T22:10:42.162424Z",
     "shell.execute_reply": "2023-11-20T22:10:42.160547Z"
    },
    "papermill": {
     "duration": 0.044875,
     "end_time": "2023-11-20T22:10:42.165595",
     "exception": false,
     "start_time": "2023-11-20T22:10:42.120720",
     "status": "completed"
    },
    "tags": []
   },
   "outputs": [],
   "source": [
    "# model = MLPClassifier(activation = \"relu\", alpha = 0.0036, hidden_layer_sizes = (15, 15), solver = \"adam\", max_iter=7000, random_state = 42)\n",
    "\n",
    "# model.fit(train_X, train_Y)\n",
    "\n",
    "# y_pred = model.predict(valid_X)\n",
    "\n",
    "# print(f\"Validation Accuracy: {accuracy_score(valid_Y, y_pred)}\")"
   ]
  },
  {
   "cell_type": "markdown",
   "id": "31f2be91",
   "metadata": {
    "papermill": {
     "duration": 0.032815,
     "end_time": "2023-11-20T22:10:42.231645",
     "exception": false,
     "start_time": "2023-11-20T22:10:42.198830",
     "status": "completed"
    },
    "tags": []
   },
   "source": [
    "# Submitting Model 5"
   ]
  },
  {
   "cell_type": "code",
   "execution_count": 44,
   "id": "a0933ce7",
   "metadata": {
    "execution": {
     "iopub.execute_input": "2023-11-20T22:10:42.300517Z",
     "iopub.status.busy": "2023-11-20T22:10:42.299512Z",
     "iopub.status.idle": "2023-11-20T22:10:42.304751Z",
     "shell.execute_reply": "2023-11-20T22:10:42.303506Z"
    },
    "papermill": {
     "duration": 0.042134,
     "end_time": "2023-11-20T22:10:42.307135",
     "exception": false,
     "start_time": "2023-11-20T22:10:42.265001",
     "status": "completed"
    },
    "tags": []
   },
   "outputs": [],
   "source": [
    "# model = MLPClassifier(activation = \"relu\", alpha = 0.0036, hidden_layer_sizes = (15, 15), solver = \"adam\", max_iter=7000, random_state = 42)\n",
    "\n",
    "# model.fit(training_X, training_Y) #Fitting the model on the entire training data set (including all the sub-sets from train-validation-test split)\n",
    "\n",
    "# if \"PassengerId\" in test_data.columns:\n",
    "#     test_data = test_data.drop(\"PassengerId\", axis = 1)\n",
    "\n",
    "# predictions5 = model.predict(test_data)"
   ]
  },
  {
   "cell_type": "code",
   "execution_count": 45,
   "id": "31d59675",
   "metadata": {
    "execution": {
     "iopub.execute_input": "2023-11-20T22:10:42.375592Z",
     "iopub.status.busy": "2023-11-20T22:10:42.375183Z",
     "iopub.status.idle": "2023-11-20T22:10:42.380582Z",
     "shell.execute_reply": "2023-11-20T22:10:42.379500Z"
    },
    "papermill": {
     "duration": 0.042416,
     "end_time": "2023-11-20T22:10:42.382988",
     "exception": false,
     "start_time": "2023-11-20T22:10:42.340572",
     "status": "completed"
    },
    "tags": []
   },
   "outputs": [],
   "source": [
    "# original_test = pd.read_csv(\"/kaggle/input/titanic/test.csv\")\n",
    "\n",
    "# pass_id = original_test['PassengerId']\n",
    "\n",
    "# test_data[\"PassengerId\"] = pass_id\n",
    "\n",
    "# predictions5 = predictions5.astype(int)\n",
    "\n",
    "# output = pd.DataFrame({'PassengerId': test_data.PassengerId, 'Survived': predictions5})\n",
    "# output.to_csv('submission.csv', index=False)\n",
    "# print(\"Your submission was successfully saved!\")\n",
    "\n",
    "# test_data = test_data.drop(\"PassengerId\", axis = 1) # WE make sure to drop the PassengerId column since we are continuing to use the test_data variable in future tests and we don't want PassengerId to be apart of it until we submit the model again"
   ]
  },
  {
   "cell_type": "markdown",
   "id": "9738afcb",
   "metadata": {
    "papermill": {
     "duration": 0.033071,
     "end_time": "2023-11-20T22:10:42.449447",
     "exception": false,
     "start_time": "2023-11-20T22:10:42.416376",
     "status": "completed"
    },
    "tags": []
   },
   "source": [
    "# Make the Random Forest Classifier Model"
   ]
  },
  {
   "cell_type": "code",
   "execution_count": 46,
   "id": "f124eda9",
   "metadata": {
    "execution": {
     "iopub.execute_input": "2023-11-20T22:10:42.517698Z",
     "iopub.status.busy": "2023-11-20T22:10:42.517267Z",
     "iopub.status.idle": "2023-11-20T22:10:42.778462Z",
     "shell.execute_reply": "2023-11-20T22:10:42.777613Z"
    },
    "papermill": {
     "duration": 0.298061,
     "end_time": "2023-11-20T22:10:42.780843",
     "exception": false,
     "start_time": "2023-11-20T22:10:42.482782",
     "status": "completed"
    },
    "tags": []
   },
   "outputs": [
    {
     "data": {
      "text/html": [
       "<style>#sk-container-id-1 {color: black;background-color: white;}#sk-container-id-1 pre{padding: 0;}#sk-container-id-1 div.sk-toggleable {background-color: white;}#sk-container-id-1 label.sk-toggleable__label {cursor: pointer;display: block;width: 100%;margin-bottom: 0;padding: 0.3em;box-sizing: border-box;text-align: center;}#sk-container-id-1 label.sk-toggleable__label-arrow:before {content: \"▸\";float: left;margin-right: 0.25em;color: #696969;}#sk-container-id-1 label.sk-toggleable__label-arrow:hover:before {color: black;}#sk-container-id-1 div.sk-estimator:hover label.sk-toggleable__label-arrow:before {color: black;}#sk-container-id-1 div.sk-toggleable__content {max-height: 0;max-width: 0;overflow: hidden;text-align: left;background-color: #f0f8ff;}#sk-container-id-1 div.sk-toggleable__content pre {margin: 0.2em;color: black;border-radius: 0.25em;background-color: #f0f8ff;}#sk-container-id-1 input.sk-toggleable__control:checked~div.sk-toggleable__content {max-height: 200px;max-width: 100%;overflow: auto;}#sk-container-id-1 input.sk-toggleable__control:checked~label.sk-toggleable__label-arrow:before {content: \"▾\";}#sk-container-id-1 div.sk-estimator input.sk-toggleable__control:checked~label.sk-toggleable__label {background-color: #d4ebff;}#sk-container-id-1 div.sk-label input.sk-toggleable__control:checked~label.sk-toggleable__label {background-color: #d4ebff;}#sk-container-id-1 input.sk-hidden--visually {border: 0;clip: rect(1px 1px 1px 1px);clip: rect(1px, 1px, 1px, 1px);height: 1px;margin: -1px;overflow: hidden;padding: 0;position: absolute;width: 1px;}#sk-container-id-1 div.sk-estimator {font-family: monospace;background-color: #f0f8ff;border: 1px dotted black;border-radius: 0.25em;box-sizing: border-box;margin-bottom: 0.5em;}#sk-container-id-1 div.sk-estimator:hover {background-color: #d4ebff;}#sk-container-id-1 div.sk-parallel-item::after {content: \"\";width: 100%;border-bottom: 1px solid gray;flex-grow: 1;}#sk-container-id-1 div.sk-label:hover label.sk-toggleable__label {background-color: #d4ebff;}#sk-container-id-1 div.sk-serial::before {content: \"\";position: absolute;border-left: 1px solid gray;box-sizing: border-box;top: 0;bottom: 0;left: 50%;z-index: 0;}#sk-container-id-1 div.sk-serial {display: flex;flex-direction: column;align-items: center;background-color: white;padding-right: 0.2em;padding-left: 0.2em;position: relative;}#sk-container-id-1 div.sk-item {position: relative;z-index: 1;}#sk-container-id-1 div.sk-parallel {display: flex;align-items: stretch;justify-content: center;background-color: white;position: relative;}#sk-container-id-1 div.sk-item::before, #sk-container-id-1 div.sk-parallel-item::before {content: \"\";position: absolute;border-left: 1px solid gray;box-sizing: border-box;top: 0;bottom: 0;left: 50%;z-index: -1;}#sk-container-id-1 div.sk-parallel-item {display: flex;flex-direction: column;z-index: 1;position: relative;background-color: white;}#sk-container-id-1 div.sk-parallel-item:first-child::after {align-self: flex-end;width: 50%;}#sk-container-id-1 div.sk-parallel-item:last-child::after {align-self: flex-start;width: 50%;}#sk-container-id-1 div.sk-parallel-item:only-child::after {width: 0;}#sk-container-id-1 div.sk-dashed-wrapped {border: 1px dashed gray;margin: 0 0.4em 0.5em 0.4em;box-sizing: border-box;padding-bottom: 0.4em;background-color: white;}#sk-container-id-1 div.sk-label label {font-family: monospace;font-weight: bold;display: inline-block;line-height: 1.2em;}#sk-container-id-1 div.sk-label-container {text-align: center;}#sk-container-id-1 div.sk-container {/* jupyter's `normalize.less` sets `[hidden] { display: none; }` but bootstrap.min.css set `[hidden] { display: none !important; }` so we also need the `!important` here to be able to override the default hidden behavior on the sphinx rendered scikit-learn.org. See: https://github.com/scikit-learn/scikit-learn/issues/21755 */display: inline-block !important;position: relative;}#sk-container-id-1 div.sk-text-repr-fallback {display: none;}</style><div id=\"sk-container-id-1\" class=\"sk-top-container\"><div class=\"sk-text-repr-fallback\"><pre>RandomForestClassifier(max_depth=9, random_state=42)</pre><b>In a Jupyter environment, please rerun this cell to show the HTML representation or trust the notebook. <br />On GitHub, the HTML representation is unable to render, please try loading this page with nbviewer.org.</b></div><div class=\"sk-container\" hidden><div class=\"sk-item\"><div class=\"sk-estimator sk-toggleable\"><input class=\"sk-toggleable__control sk-hidden--visually\" id=\"sk-estimator-id-1\" type=\"checkbox\" checked><label for=\"sk-estimator-id-1\" class=\"sk-toggleable__label sk-toggleable__label-arrow\">RandomForestClassifier</label><div class=\"sk-toggleable__content\"><pre>RandomForestClassifier(max_depth=9, random_state=42)</pre></div></div></div></div></div>"
      ],
      "text/plain": [
       "RandomForestClassifier(max_depth=9, random_state=42)"
      ]
     },
     "execution_count": 46,
     "metadata": {},
     "output_type": "execute_result"
    }
   ],
   "source": [
    "from sklearn.ensemble import RandomForestClassifier\n",
    "\n",
    "training_X = pd.concat([train_X, valid_X, test_X], ignore_index=True)\n",
    "training_Y = pd.concat([train_Y, valid_Y, test_Y], ignore_index=True)\n",
    "\n",
    "\n",
    "#FemaleFirstClass  ChildFirstClass  IsChild  FamilySize  IsAlone  \n",
    "features_drop = [\"IsChild\", \"FamilySize\" ,\"IsAlone\" ]\n",
    "train_X2 = train_X.drop(features_drop, axis = 1)\n",
    "valid_X2 = valid_X.drop(features_drop, axis = 1)\n",
    "test_X2 = test_X.drop(features_drop, axis = 1)\n",
    "\n",
    "model = RandomForestClassifier(max_depth = 9,  n_estimators = 100, random_state = 42)\n",
    "\n",
    "model.fit(train_X2, train_Y)"
   ]
  },
  {
   "cell_type": "code",
   "execution_count": 47,
   "id": "33215ccb",
   "metadata": {
    "execution": {
     "iopub.execute_input": "2023-11-20T22:10:42.850467Z",
     "iopub.status.busy": "2023-11-20T22:10:42.849573Z",
     "iopub.status.idle": "2023-11-20T22:10:42.869555Z",
     "shell.execute_reply": "2023-11-20T22:10:42.868624Z"
    },
    "papermill": {
     "duration": 0.057713,
     "end_time": "2023-11-20T22:10:42.872207",
     "exception": false,
     "start_time": "2023-11-20T22:10:42.814494",
     "status": "completed"
    },
    "tags": []
   },
   "outputs": [
    {
     "name": "stdout",
     "output_type": "stream",
     "text": [
      "accuracy score: 0.8426966292134831\n"
     ]
    }
   ],
   "source": [
    "y_pred = model.predict(valid_X2)\n",
    "\n",
    "print(f\"accuracy score: {accuracy_score(y_pred, valid_Y)}\")"
   ]
  },
  {
   "cell_type": "code",
   "execution_count": 48,
   "id": "ae05bffc",
   "metadata": {
    "execution": {
     "iopub.execute_input": "2023-11-20T22:10:42.942584Z",
     "iopub.status.busy": "2023-11-20T22:10:42.942184Z",
     "iopub.status.idle": "2023-11-20T22:10:42.964282Z",
     "shell.execute_reply": "2023-11-20T22:10:42.963097Z"
    },
    "papermill": {
     "duration": 0.060157,
     "end_time": "2023-11-20T22:10:42.967034",
     "exception": false,
     "start_time": "2023-11-20T22:10:42.906877",
     "status": "completed"
    },
    "tags": []
   },
   "outputs": [
    {
     "name": "stdout",
     "output_type": "stream",
     "text": [
      "accuracy score: 0.8268156424581006\n"
     ]
    }
   ],
   "source": [
    "y_pred = model.predict(test_X2)\n",
    "\n",
    "print(f\"accuracy score: {accuracy_score(y_pred, test_Y)}\")"
   ]
  },
  {
   "cell_type": "markdown",
   "id": "9bbca6a0",
   "metadata": {
    "papermill": {
     "duration": 0.034551,
     "end_time": "2023-11-20T22:10:43.036366",
     "exception": false,
     "start_time": "2023-11-20T22:10:43.001815",
     "status": "completed"
    },
    "tags": []
   },
   "source": [
    "# Using GridsSearchCV on RandomForestClassifier"
   ]
  },
  {
   "cell_type": "code",
   "execution_count": 49,
   "id": "295390fd",
   "metadata": {
    "execution": {
     "iopub.execute_input": "2023-11-20T22:10:43.106664Z",
     "iopub.status.busy": "2023-11-20T22:10:43.105719Z",
     "iopub.status.idle": "2023-11-20T22:10:43.113039Z",
     "shell.execute_reply": "2023-11-20T22:10:43.112022Z"
    },
    "papermill": {
     "duration": 0.045423,
     "end_time": "2023-11-20T22:10:43.115465",
     "exception": false,
     "start_time": "2023-11-20T22:10:43.070042",
     "status": "completed"
    },
    "tags": []
   },
   "outputs": [],
   "source": [
    "from sklearn.model_selection import GridSearchCV\n",
    "\n",
    "#Define the parameter grid\n",
    "param_grid = {\n",
    "    'n_estimators': [100, 130, 170, 200, 300],\n",
    "    'max_depth': [None, 5, 7, 10, 13, 15, 20]\n",
    "    #,'min_samples_split': [2, 5, 10]\n",
    "}\n",
    "\n",
    "# # Create a GridSearchCV object\n",
    "# grid_search = GridSearchCV(RandomForestClassifier(random_state=42), param_grid, cv=10, n_jobs=-1, verbose=1)\n",
    "\n",
    "# training_X2 = training_X.drop(features_drop, axis = 1)\n",
    "\n",
    "# # Perform grid search\n",
    "# grid_search.fit(training_X2, training_Y)\n",
    "\n",
    "# # Best parameters\n",
    "# print('Best parameters found:\\n', grid_search.best_params_)\n",
    "\n",
    "# print('Best score (CV mean):', grid_search.best_score_)\n",
    "\n",
    "# print(\"Done\")\n",
    "\n",
    "# Best model\n",
    "# best_model = grid_search.best_estimator_\n",
    "\n",
    "# # Evaluate the best model\n",
    "# best_pred = best_model.predict(X_test)\n",
    "# best_accuracy = accuracy_score(y_test, best_pred)\n",
    "# print(f\"Best Model Accuracy: {best_accuracy}\")\n",
    "\n",
    "# Fitting 10 folds for each of 48 candidates, totalling 480 fits\n",
    "# Best parameters found:\n",
    "#  {'max_depth': 10, 'min_samples_split': 5, 'n_estimators': 200}\n",
    "# Best score (CV mean): 0.8383395755305866\n",
    "# Done\n"
   ]
  },
  {
   "cell_type": "markdown",
   "id": "b24ab535",
   "metadata": {
    "papermill": {
     "duration": 0.033738,
     "end_time": "2023-11-20T22:10:43.184114",
     "exception": false,
     "start_time": "2023-11-20T22:10:43.150376",
     "status": "completed"
    },
    "tags": []
   },
   "source": [
    "# Submitting Model 1"
   ]
  },
  {
   "cell_type": "code",
   "execution_count": 50,
   "id": "61a8c354",
   "metadata": {
    "execution": {
     "iopub.execute_input": "2023-11-20T22:10:43.254431Z",
     "iopub.status.busy": "2023-11-20T22:10:43.253512Z",
     "iopub.status.idle": "2023-11-20T22:10:43.547488Z",
     "shell.execute_reply": "2023-11-20T22:10:43.546545Z"
    },
    "papermill": {
     "duration": 0.332413,
     "end_time": "2023-11-20T22:10:43.550111",
     "exception": false,
     "start_time": "2023-11-20T22:10:43.217698",
     "status": "completed"
    },
    "tags": []
   },
   "outputs": [],
   "source": [
    "# Best parameters found:\n",
    "#  {'max_depth': 7, 'n_estimators': 170}\n",
    "# Best score (CV mean): 0.840561797752809\n",
    "\n",
    "\n",
    "# Best parameters found:\n",
    "#  {'max_depth': 10, 'min_samples_split': 10, 'n_estimators': 100}\n",
    "# Best score (CV mean): 0.8473657927590512\n",
    "\n",
    "training_X = pd.concat([train_X, valid_X, test_X], ignore_index=True)\n",
    "training_Y = pd.concat([train_Y, valid_Y, test_Y], ignore_index=True)\n",
    "\n",
    "training_X = training_X.drop(features_drop, axis = 1)\n",
    "test_data = test_data.drop(features_drop, axis = 1)\n",
    "\n",
    "model = RandomForestClassifier(max_depth = 10, min_samples_split = 10, n_estimators = 100, random_state=42)\n",
    "\n",
    "model.fit(training_X, training_Y) #Fitting the model on the entire training data set (including all the sub-sets from train-validation-test split)\n",
    "\n",
    "# print(training_X)\n",
    "# print(test_data)\n",
    "\n",
    "if \"PassengerId\" in test_data.columns:\n",
    "    test_data = test_data.drop(\"PassengerId\", axis = 1)\n",
    "\n",
    "predictions1 = model.predict(test_data)"
   ]
  },
  {
   "cell_type": "code",
   "execution_count": 51,
   "id": "0b778616",
   "metadata": {
    "execution": {
     "iopub.execute_input": "2023-11-20T22:10:43.619955Z",
     "iopub.status.busy": "2023-11-20T22:10:43.619163Z",
     "iopub.status.idle": "2023-11-20T22:10:43.643896Z",
     "shell.execute_reply": "2023-11-20T22:10:43.642883Z"
    },
    "papermill": {
     "duration": 0.06244,
     "end_time": "2023-11-20T22:10:43.646259",
     "exception": false,
     "start_time": "2023-11-20T22:10:43.583819",
     "status": "completed"
    },
    "tags": []
   },
   "outputs": [
    {
     "name": "stdout",
     "output_type": "stream",
     "text": [
      "Your submission was successfully saved!\n"
     ]
    }
   ],
   "source": [
    "original_test = pd.read_csv(\"/kaggle/input/titanic/test.csv\")\n",
    "\n",
    "pass_id = original_test['PassengerId']\n",
    "\n",
    "test_data[\"PassengerId\"] = pass_id\n",
    "\n",
    "predictions1 = predictions1.astype(int)\n",
    "\n",
    "output = pd.DataFrame({'PassengerId': test_data.PassengerId, 'Survived': predictions1})\n",
    "output.to_csv('submission.csv', index=False)\n",
    "print(\"Your submission was successfully saved!\")\n",
    "\n",
    "test_data = test_data.drop(\"PassengerId\", axis = 1) # WE make sure to drop the PassengerId column since we are continuing to use the test_data variable in future tests and we don't want PassengerId to be apart of it until we submit the model again"
   ]
  }
 ],
 "metadata": {
  "kaggle": {
   "accelerator": "none",
   "dataSources": [
    {
     "databundleVersionId": 26502,
     "sourceId": 3136,
     "sourceType": "competition"
    }
   ],
   "dockerImageVersionId": 30587,
   "isGpuEnabled": false,
   "isInternetEnabled": true,
   "language": "python",
   "sourceType": "notebook"
  },
  "kernelspec": {
   "display_name": "Python 3",
   "language": "python",
   "name": "python3"
  },
  "language_info": {
   "codemirror_mode": {
    "name": "ipython",
    "version": 3
   },
   "file_extension": ".py",
   "mimetype": "text/x-python",
   "name": "python",
   "nbconvert_exporter": "python",
   "pygments_lexer": "ipython3",
   "version": "3.10.12"
  },
  "papermill": {
   "default_parameters": {},
   "duration": 59.061486,
   "end_time": "2023-11-20T22:10:44.400815",
   "environment_variables": {},
   "exception": null,
   "input_path": "__notebook__.ipynb",
   "output_path": "__notebook__.ipynb",
   "parameters": {},
   "start_time": "2023-11-20T22:09:45.339329",
   "version": "2.4.0"
  }
 },
 "nbformat": 4,
 "nbformat_minor": 5
}
