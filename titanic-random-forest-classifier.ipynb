{
 "cells": [
  {
   "cell_type": "code",
   "execution_count": 1,
   "id": "60ec2731",
   "metadata": {
    "_cell_guid": "b1076dfc-b9ad-4769-8c92-a6c4dae69d19",
    "_uuid": "8f2839f25d086af736a60e9eeb907d3b93b6e0e5",
    "execution": {
     "iopub.execute_input": "2023-11-20T22:12:52.137089Z",
     "iopub.status.busy": "2023-11-20T22:12:52.136344Z",
     "iopub.status.idle": "2023-11-20T22:12:52.606399Z",
     "shell.execute_reply": "2023-11-20T22:12:52.605133Z"
    },
    "papermill": {
     "duration": 0.505494,
     "end_time": "2023-11-20T22:12:52.609308",
     "exception": false,
     "start_time": "2023-11-20T22:12:52.103814",
     "status": "completed"
    },
    "tags": []
   },
   "outputs": [
    {
     "name": "stdout",
     "output_type": "stream",
     "text": [
      "/kaggle/input/titanic/train.csv\n",
      "/kaggle/input/titanic/test.csv\n",
      "/kaggle/input/titanic/gender_submission.csv\n"
     ]
    }
   ],
   "source": [
    "# This Python 3 environment comes with many helpful analytics libraries installed\n",
    "# It is defined by the kaggle/python Docker image: https://github.com/kaggle/docker-python\n",
    "# For example, here's several helpful packages to load\n",
    "\n",
    "import numpy as np # linear algebra\n",
    "import pandas as pd # data processing, CSV file I/O (e.g. pd.read_csv)\n",
    "\n",
    "# Input data files are available in the read-only \"../input/\" directory\n",
    "# For example, running this (by clicking run or pressing Shift+Enter) will list all files under the input directory\n",
    "\n",
    "import os\n",
    "for dirname, _, filenames in os.walk('/kaggle/input'):\n",
    "    for filename in filenames:\n",
    "        print(os.path.join(dirname, filename))\n",
    "\n",
    "# You can write up to 20GB to the current directory (/kaggle/working/) that gets preserved as output when you create a version using \"Save & Run All\" \n",
    "# You can also write temporary files to /kaggle/temp/, but they won't be saved outside of the current session"
   ]
  },
  {
   "cell_type": "markdown",
   "id": "1e8e291d",
   "metadata": {
    "papermill": {
     "duration": 0.029013,
     "end_time": "2023-11-20T22:12:52.667692",
     "exception": false,
     "start_time": "2023-11-20T22:12:52.638679",
     "status": "completed"
    },
    "tags": []
   },
   "source": [
    "# **Load the Data from the Database**"
   ]
  },
  {
   "cell_type": "code",
   "execution_count": 2,
   "id": "a961edb7",
   "metadata": {
    "execution": {
     "iopub.execute_input": "2023-11-20T22:12:52.730399Z",
     "iopub.status.busy": "2023-11-20T22:12:52.729801Z",
     "iopub.status.idle": "2023-11-20T22:12:52.786551Z",
     "shell.execute_reply": "2023-11-20T22:12:52.785398Z"
    },
    "papermill": {
     "duration": 0.091391,
     "end_time": "2023-11-20T22:12:52.789347",
     "exception": false,
     "start_time": "2023-11-20T22:12:52.697956",
     "status": "completed"
    },
    "tags": []
   },
   "outputs": [
    {
     "data": {
      "text/html": [
       "<div>\n",
       "<style scoped>\n",
       "    .dataframe tbody tr th:only-of-type {\n",
       "        vertical-align: middle;\n",
       "    }\n",
       "\n",
       "    .dataframe tbody tr th {\n",
       "        vertical-align: top;\n",
       "    }\n",
       "\n",
       "    .dataframe thead th {\n",
       "        text-align: right;\n",
       "    }\n",
       "</style>\n",
       "<table border=\"1\" class=\"dataframe\">\n",
       "  <thead>\n",
       "    <tr style=\"text-align: right;\">\n",
       "      <th></th>\n",
       "      <th>PassengerId</th>\n",
       "      <th>Survived</th>\n",
       "      <th>Pclass</th>\n",
       "      <th>Name</th>\n",
       "      <th>Sex</th>\n",
       "      <th>Age</th>\n",
       "      <th>SibSp</th>\n",
       "      <th>Parch</th>\n",
       "      <th>Ticket</th>\n",
       "      <th>Fare</th>\n",
       "      <th>Cabin</th>\n",
       "      <th>Embarked</th>\n",
       "    </tr>\n",
       "  </thead>\n",
       "  <tbody>\n",
       "    <tr>\n",
       "      <th>0</th>\n",
       "      <td>1</td>\n",
       "      <td>0</td>\n",
       "      <td>3</td>\n",
       "      <td>Braund, Mr. Owen Harris</td>\n",
       "      <td>male</td>\n",
       "      <td>22.0</td>\n",
       "      <td>1</td>\n",
       "      <td>0</td>\n",
       "      <td>A/5 21171</td>\n",
       "      <td>7.2500</td>\n",
       "      <td>NaN</td>\n",
       "      <td>S</td>\n",
       "    </tr>\n",
       "    <tr>\n",
       "      <th>1</th>\n",
       "      <td>2</td>\n",
       "      <td>1</td>\n",
       "      <td>1</td>\n",
       "      <td>Cumings, Mrs. John Bradley (Florence Briggs Th...</td>\n",
       "      <td>female</td>\n",
       "      <td>38.0</td>\n",
       "      <td>1</td>\n",
       "      <td>0</td>\n",
       "      <td>PC 17599</td>\n",
       "      <td>71.2833</td>\n",
       "      <td>C85</td>\n",
       "      <td>C</td>\n",
       "    </tr>\n",
       "    <tr>\n",
       "      <th>2</th>\n",
       "      <td>3</td>\n",
       "      <td>1</td>\n",
       "      <td>3</td>\n",
       "      <td>Heikkinen, Miss. Laina</td>\n",
       "      <td>female</td>\n",
       "      <td>26.0</td>\n",
       "      <td>0</td>\n",
       "      <td>0</td>\n",
       "      <td>STON/O2. 3101282</td>\n",
       "      <td>7.9250</td>\n",
       "      <td>NaN</td>\n",
       "      <td>S</td>\n",
       "    </tr>\n",
       "    <tr>\n",
       "      <th>3</th>\n",
       "      <td>4</td>\n",
       "      <td>1</td>\n",
       "      <td>1</td>\n",
       "      <td>Futrelle, Mrs. Jacques Heath (Lily May Peel)</td>\n",
       "      <td>female</td>\n",
       "      <td>35.0</td>\n",
       "      <td>1</td>\n",
       "      <td>0</td>\n",
       "      <td>113803</td>\n",
       "      <td>53.1000</td>\n",
       "      <td>C123</td>\n",
       "      <td>S</td>\n",
       "    </tr>\n",
       "    <tr>\n",
       "      <th>4</th>\n",
       "      <td>5</td>\n",
       "      <td>0</td>\n",
       "      <td>3</td>\n",
       "      <td>Allen, Mr. William Henry</td>\n",
       "      <td>male</td>\n",
       "      <td>35.0</td>\n",
       "      <td>0</td>\n",
       "      <td>0</td>\n",
       "      <td>373450</td>\n",
       "      <td>8.0500</td>\n",
       "      <td>NaN</td>\n",
       "      <td>S</td>\n",
       "    </tr>\n",
       "  </tbody>\n",
       "</table>\n",
       "</div>"
      ],
      "text/plain": [
       "   PassengerId  Survived  Pclass  \\\n",
       "0            1         0       3   \n",
       "1            2         1       1   \n",
       "2            3         1       3   \n",
       "3            4         1       1   \n",
       "4            5         0       3   \n",
       "\n",
       "                                                Name     Sex   Age  SibSp  \\\n",
       "0                            Braund, Mr. Owen Harris    male  22.0      1   \n",
       "1  Cumings, Mrs. John Bradley (Florence Briggs Th...  female  38.0      1   \n",
       "2                             Heikkinen, Miss. Laina  female  26.0      0   \n",
       "3       Futrelle, Mrs. Jacques Heath (Lily May Peel)  female  35.0      1   \n",
       "4                           Allen, Mr. William Henry    male  35.0      0   \n",
       "\n",
       "   Parch            Ticket     Fare Cabin Embarked  \n",
       "0      0         A/5 21171   7.2500   NaN        S  \n",
       "1      0          PC 17599  71.2833   C85        C  \n",
       "2      0  STON/O2. 3101282   7.9250   NaN        S  \n",
       "3      0            113803  53.1000  C123        S  \n",
       "4      0            373450   8.0500   NaN        S  "
      ]
     },
     "execution_count": 2,
     "metadata": {},
     "output_type": "execute_result"
    }
   ],
   "source": [
    "#Remember to eventually clean up the wrong or missing values\n",
    "train_data = pd.read_csv(\"/kaggle/input/titanic/train.csv\")\n",
    "\n",
    "train_data.head()"
   ]
  },
  {
   "cell_type": "code",
   "execution_count": 3,
   "id": "01050a34",
   "metadata": {
    "execution": {
     "iopub.execute_input": "2023-11-20T22:12:52.851498Z",
     "iopub.status.busy": "2023-11-20T22:12:52.851086Z",
     "iopub.status.idle": "2023-11-20T22:12:52.876607Z",
     "shell.execute_reply": "2023-11-20T22:12:52.875426Z"
    },
    "papermill": {
     "duration": 0.059602,
     "end_time": "2023-11-20T22:12:52.879145",
     "exception": false,
     "start_time": "2023-11-20T22:12:52.819543",
     "status": "completed"
    },
    "tags": []
   },
   "outputs": [
    {
     "data": {
      "text/html": [
       "<div>\n",
       "<style scoped>\n",
       "    .dataframe tbody tr th:only-of-type {\n",
       "        vertical-align: middle;\n",
       "    }\n",
       "\n",
       "    .dataframe tbody tr th {\n",
       "        vertical-align: top;\n",
       "    }\n",
       "\n",
       "    .dataframe thead th {\n",
       "        text-align: right;\n",
       "    }\n",
       "</style>\n",
       "<table border=\"1\" class=\"dataframe\">\n",
       "  <thead>\n",
       "    <tr style=\"text-align: right;\">\n",
       "      <th></th>\n",
       "      <th>PassengerId</th>\n",
       "      <th>Pclass</th>\n",
       "      <th>Name</th>\n",
       "      <th>Sex</th>\n",
       "      <th>Age</th>\n",
       "      <th>SibSp</th>\n",
       "      <th>Parch</th>\n",
       "      <th>Ticket</th>\n",
       "      <th>Fare</th>\n",
       "      <th>Cabin</th>\n",
       "      <th>Embarked</th>\n",
       "    </tr>\n",
       "  </thead>\n",
       "  <tbody>\n",
       "    <tr>\n",
       "      <th>0</th>\n",
       "      <td>892</td>\n",
       "      <td>3</td>\n",
       "      <td>Kelly, Mr. James</td>\n",
       "      <td>male</td>\n",
       "      <td>34.5</td>\n",
       "      <td>0</td>\n",
       "      <td>0</td>\n",
       "      <td>330911</td>\n",
       "      <td>7.8292</td>\n",
       "      <td>NaN</td>\n",
       "      <td>Q</td>\n",
       "    </tr>\n",
       "    <tr>\n",
       "      <th>1</th>\n",
       "      <td>893</td>\n",
       "      <td>3</td>\n",
       "      <td>Wilkes, Mrs. James (Ellen Needs)</td>\n",
       "      <td>female</td>\n",
       "      <td>47.0</td>\n",
       "      <td>1</td>\n",
       "      <td>0</td>\n",
       "      <td>363272</td>\n",
       "      <td>7.0000</td>\n",
       "      <td>NaN</td>\n",
       "      <td>S</td>\n",
       "    </tr>\n",
       "    <tr>\n",
       "      <th>2</th>\n",
       "      <td>894</td>\n",
       "      <td>2</td>\n",
       "      <td>Myles, Mr. Thomas Francis</td>\n",
       "      <td>male</td>\n",
       "      <td>62.0</td>\n",
       "      <td>0</td>\n",
       "      <td>0</td>\n",
       "      <td>240276</td>\n",
       "      <td>9.6875</td>\n",
       "      <td>NaN</td>\n",
       "      <td>Q</td>\n",
       "    </tr>\n",
       "    <tr>\n",
       "      <th>3</th>\n",
       "      <td>895</td>\n",
       "      <td>3</td>\n",
       "      <td>Wirz, Mr. Albert</td>\n",
       "      <td>male</td>\n",
       "      <td>27.0</td>\n",
       "      <td>0</td>\n",
       "      <td>0</td>\n",
       "      <td>315154</td>\n",
       "      <td>8.6625</td>\n",
       "      <td>NaN</td>\n",
       "      <td>S</td>\n",
       "    </tr>\n",
       "    <tr>\n",
       "      <th>4</th>\n",
       "      <td>896</td>\n",
       "      <td>3</td>\n",
       "      <td>Hirvonen, Mrs. Alexander (Helga E Lindqvist)</td>\n",
       "      <td>female</td>\n",
       "      <td>22.0</td>\n",
       "      <td>1</td>\n",
       "      <td>1</td>\n",
       "      <td>3101298</td>\n",
       "      <td>12.2875</td>\n",
       "      <td>NaN</td>\n",
       "      <td>S</td>\n",
       "    </tr>\n",
       "  </tbody>\n",
       "</table>\n",
       "</div>"
      ],
      "text/plain": [
       "   PassengerId  Pclass                                          Name     Sex  \\\n",
       "0          892       3                              Kelly, Mr. James    male   \n",
       "1          893       3              Wilkes, Mrs. James (Ellen Needs)  female   \n",
       "2          894       2                     Myles, Mr. Thomas Francis    male   \n",
       "3          895       3                              Wirz, Mr. Albert    male   \n",
       "4          896       3  Hirvonen, Mrs. Alexander (Helga E Lindqvist)  female   \n",
       "\n",
       "    Age  SibSp  Parch   Ticket     Fare Cabin Embarked  \n",
       "0  34.5      0      0   330911   7.8292   NaN        Q  \n",
       "1  47.0      1      0   363272   7.0000   NaN        S  \n",
       "2  62.0      0      0   240276   9.6875   NaN        Q  \n",
       "3  27.0      0      0   315154   8.6625   NaN        S  \n",
       "4  22.0      1      1  3101298  12.2875   NaN        S  "
      ]
     },
     "execution_count": 3,
     "metadata": {},
     "output_type": "execute_result"
    }
   ],
   "source": [
    "#Remember to eventually clean up the wrong or missing values\n",
    "test_data = pd.read_csv(\"/kaggle/input/titanic/test.csv\")\n",
    "\n",
    "test_data.head()"
   ]
  },
  {
   "cell_type": "code",
   "execution_count": 4,
   "id": "9a47cc9f",
   "metadata": {
    "execution": {
     "iopub.execute_input": "2023-11-20T22:12:52.944045Z",
     "iopub.status.busy": "2023-11-20T22:12:52.943313Z",
     "iopub.status.idle": "2023-11-20T22:12:52.950546Z",
     "shell.execute_reply": "2023-11-20T22:12:52.948916Z"
    },
    "papermill": {
     "duration": 0.043432,
     "end_time": "2023-11-20T22:12:52.952843",
     "exception": false,
     "start_time": "2023-11-20T22:12:52.909411",
     "status": "completed"
    },
    "tags": []
   },
   "outputs": [
    {
     "name": "stdout",
     "output_type": "stream",
     "text": [
      "Index(['PassengerId', 'Survived', 'Pclass', 'Name', 'Sex', 'Age', 'SibSp',\n",
      "       'Parch', 'Ticket', 'Fare', 'Cabin', 'Embarked'],\n",
      "      dtype='object')\n",
      "(891, 12)\n"
     ]
    }
   ],
   "source": [
    "print(train_data.columns)\n",
    "print(train_data.shape)"
   ]
  },
  {
   "cell_type": "markdown",
   "id": "6edd0564",
   "metadata": {
    "papermill": {
     "duration": 0.030432,
     "end_time": "2023-11-20T22:12:53.085321",
     "exception": false,
     "start_time": "2023-11-20T22:12:53.054889",
     "status": "completed"
    },
    "tags": []
   },
   "source": [
    "# Choosing features #\n"
   ]
  },
  {
   "cell_type": "code",
   "execution_count": 5,
   "id": "0238a239",
   "metadata": {
    "execution": {
     "iopub.execute_input": "2023-11-20T22:12:53.149390Z",
     "iopub.status.busy": "2023-11-20T22:12:53.148359Z",
     "iopub.status.idle": "2023-11-20T22:12:53.180639Z",
     "shell.execute_reply": "2023-11-20T22:12:53.179424Z"
    },
    "papermill": {
     "duration": 0.06726,
     "end_time": "2023-11-20T22:12:53.183223",
     "exception": false,
     "start_time": "2023-11-20T22:12:53.115963",
     "status": "completed"
    },
    "tags": []
   },
   "outputs": [
    {
     "data": {
      "text/html": [
       "<div>\n",
       "<style scoped>\n",
       "    .dataframe tbody tr th:only-of-type {\n",
       "        vertical-align: middle;\n",
       "    }\n",
       "\n",
       "    .dataframe tbody tr th {\n",
       "        vertical-align: top;\n",
       "    }\n",
       "\n",
       "    .dataframe thead th {\n",
       "        text-align: right;\n",
       "    }\n",
       "</style>\n",
       "<table border=\"1\" class=\"dataframe\">\n",
       "  <thead>\n",
       "    <tr style=\"text-align: right;\">\n",
       "      <th></th>\n",
       "      <th>Pclass</th>\n",
       "      <th>Fare</th>\n",
       "      <th>Sex_female</th>\n",
       "      <th>Sex_male</th>\n",
       "    </tr>\n",
       "  </thead>\n",
       "  <tbody>\n",
       "    <tr>\n",
       "      <th>0</th>\n",
       "      <td>3</td>\n",
       "      <td>7.2500</td>\n",
       "      <td>False</td>\n",
       "      <td>True</td>\n",
       "    </tr>\n",
       "    <tr>\n",
       "      <th>1</th>\n",
       "      <td>1</td>\n",
       "      <td>71.2833</td>\n",
       "      <td>True</td>\n",
       "      <td>False</td>\n",
       "    </tr>\n",
       "    <tr>\n",
       "      <th>2</th>\n",
       "      <td>3</td>\n",
       "      <td>7.9250</td>\n",
       "      <td>True</td>\n",
       "      <td>False</td>\n",
       "    </tr>\n",
       "    <tr>\n",
       "      <th>3</th>\n",
       "      <td>1</td>\n",
       "      <td>53.1000</td>\n",
       "      <td>True</td>\n",
       "      <td>False</td>\n",
       "    </tr>\n",
       "    <tr>\n",
       "      <th>4</th>\n",
       "      <td>3</td>\n",
       "      <td>8.0500</td>\n",
       "      <td>False</td>\n",
       "      <td>True</td>\n",
       "    </tr>\n",
       "  </tbody>\n",
       "</table>\n",
       "</div>"
      ],
      "text/plain": [
       "   Pclass     Fare  Sex_female  Sex_male\n",
       "0       3   7.2500       False      True\n",
       "1       1  71.2833        True     False\n",
       "2       3   7.9250        True     False\n",
       "3       1  53.1000        True     False\n",
       "4       3   8.0500       False      True"
      ]
     },
     "execution_count": 5,
     "metadata": {},
     "output_type": "execute_result"
    }
   ],
   "source": [
    "features = [\"Pclass\", \"Sex\", \"Fare\"]\n",
    "\n",
    "X_train = pd.get_dummies(train_data[features])\n",
    "\n",
    "X_train.head()\n",
    "#print(X_train.shape)"
   ]
  },
  {
   "cell_type": "markdown",
   "id": "b19ec555",
   "metadata": {
    "papermill": {
     "duration": 0.030691,
     "end_time": "2023-11-20T22:12:53.244933",
     "exception": false,
     "start_time": "2023-11-20T22:12:53.214242",
     "status": "completed"
    },
    "tags": []
   },
   "source": []
  },
  {
   "cell_type": "markdown",
   "id": "c9491d0f",
   "metadata": {
    "papermill": {
     "duration": 0.030583,
     "end_time": "2023-11-20T22:12:53.306758",
     "exception": false,
     "start_time": "2023-11-20T22:12:53.276175",
     "status": "completed"
    },
    "tags": []
   },
   "source": [
    "# Set the target/label (y) values\n"
   ]
  },
  {
   "cell_type": "code",
   "execution_count": 6,
   "id": "2467ece3",
   "metadata": {
    "execution": {
     "iopub.execute_input": "2023-11-20T22:12:53.370881Z",
     "iopub.status.busy": "2023-11-20T22:12:53.370377Z",
     "iopub.status.idle": "2023-11-20T22:12:53.379722Z",
     "shell.execute_reply": "2023-11-20T22:12:53.378354Z"
    },
    "papermill": {
     "duration": 0.04458,
     "end_time": "2023-11-20T22:12:53.382305",
     "exception": false,
     "start_time": "2023-11-20T22:12:53.337725",
     "status": "completed"
    },
    "tags": []
   },
   "outputs": [
    {
     "data": {
      "text/plain": [
       "0    0\n",
       "1    1\n",
       "2    1\n",
       "3    1\n",
       "4    0\n",
       "Name: Survived, dtype: int64"
      ]
     },
     "execution_count": 6,
     "metadata": {},
     "output_type": "execute_result"
    }
   ],
   "source": [
    "#Y_train = pd.get_dummies(train_data[\"Survived\"])\n",
    "Y_train = train_data[\"Survived\"]\n",
    "\n",
    "Y_train.head()\n"
   ]
  },
  {
   "cell_type": "markdown",
   "id": "467c7954",
   "metadata": {
    "papermill": {
     "duration": 0.030667,
     "end_time": "2023-11-20T22:12:53.443552",
     "exception": false,
     "start_time": "2023-11-20T22:12:53.412885",
     "status": "completed"
    },
    "tags": []
   },
   "source": []
  },
  {
   "cell_type": "markdown",
   "id": "6a94655c",
   "metadata": {
    "papermill": {
     "duration": 0.031154,
     "end_time": "2023-11-20T22:12:53.505242",
     "exception": false,
     "start_time": "2023-11-20T22:12:53.474088",
     "status": "completed"
    },
    "tags": []
   },
   "source": [
    "# Split up train data into Train-test using scikit-learn"
   ]
  },
  {
   "cell_type": "code",
   "execution_count": 7,
   "id": "fb4a49e8",
   "metadata": {
    "execution": {
     "iopub.execute_input": "2023-11-20T22:12:53.569134Z",
     "iopub.status.busy": "2023-11-20T22:12:53.568685Z",
     "iopub.status.idle": "2023-11-20T22:12:55.044069Z",
     "shell.execute_reply": "2023-11-20T22:12:55.041649Z"
    },
    "papermill": {
     "duration": 1.511115,
     "end_time": "2023-11-20T22:12:55.046900",
     "exception": false,
     "start_time": "2023-11-20T22:12:53.535785",
     "status": "completed"
    },
    "tags": []
   },
   "outputs": [
    {
     "name": "stdout",
     "output_type": "stream",
     "text": [
      "445    1\n",
      "650    0\n",
      "172    1\n",
      "450    0\n",
      "314    0\n",
      "Name: Survived, dtype: int64\n",
      "709    1\n",
      "439    0\n",
      "840    0\n",
      "720    1\n",
      "39     1\n",
      "Name: Survived, dtype: int64\n"
     ]
    }
   ],
   "source": [
    "from sklearn.model_selection import train_test_split\n",
    "\n",
    "#Split data into a train/validation and test set\n",
    "X_train, X_test, Y_train, Y_test = train_test_split(X_train, Y_train, test_size = 0.3, random_state = 42)\n",
    "\n",
    "#print(X_train.head())\n",
    "#print(Y_train.head())\n",
    "print(Y_train.head())\n",
    "\n",
    "print(Y_test.head())\n"
   ]
  },
  {
   "cell_type": "markdown",
   "id": "82443841",
   "metadata": {
    "papermill": {
     "duration": 0.030969,
     "end_time": "2023-11-20T22:12:55.110072",
     "exception": false,
     "start_time": "2023-11-20T22:12:55.079103",
     "status": "completed"
    },
    "tags": []
   },
   "source": [
    "spliting the data into a train-test split will allow us to test our model and so it will allow us to tune our model before submitting on Kaggle. We can also use the train-validation-test split here"
   ]
  },
  {
   "cell_type": "markdown",
   "id": "9604831e",
   "metadata": {
    "papermill": {
     "duration": 0.030768,
     "end_time": "2023-11-20T22:12:55.172002",
     "exception": false,
     "start_time": "2023-11-20T22:12:55.141234",
     "status": "completed"
    },
    "tags": []
   },
   "source": [
    "# Making the Neural Network Model using Scikit Learn\n"
   ]
  },
  {
   "cell_type": "code",
   "execution_count": 8,
   "id": "1c6ed8ab",
   "metadata": {
    "execution": {
     "iopub.execute_input": "2023-11-20T22:12:55.236604Z",
     "iopub.status.busy": "2023-11-20T22:12:55.235793Z",
     "iopub.status.idle": "2023-11-20T22:12:55.251199Z",
     "shell.execute_reply": "2023-11-20T22:12:55.250229Z"
    },
    "papermill": {
     "duration": 0.050724,
     "end_time": "2023-11-20T22:12:55.253806",
     "exception": false,
     "start_time": "2023-11-20T22:12:55.203082",
     "status": "completed"
    },
    "tags": []
   },
   "outputs": [],
   "source": [
    "from sklearn.neural_network import MLPClassifier\n",
    "from sklearn.model_selection import train_test_split\n",
    "from sklearn.preprocessing import StandardScaler\n",
    "from sklearn.metrics import accuracy_score\n",
    "\n",
    "# Commented out the code so that the model won't run everytime\n",
    "\n",
    "# model = MLPClassifier(hidden_layer_sizes=(5, 5), activation='relu', solver='adam', max_iter=1000, random_state=42)\n",
    "\n",
    "# model.fit(X_train, Y_train)\n",
    "\n",
    "# y_pred = model.predict(X_test)\n",
    "\n",
    "# print(f\"Accuracy: {accuracy_score(Y_test, y_pred):.2f}\")\n"
   ]
  },
  {
   "cell_type": "markdown",
   "id": "04e863b8",
   "metadata": {
    "papermill": {
     "duration": 0.031835,
     "end_time": "2023-11-20T22:12:55.316627",
     "exception": false,
     "start_time": "2023-11-20T22:12:55.284792",
     "status": "completed"
    },
    "tags": []
   },
   "source": [
    "**Here I am using the MLPClassifier since this is a classification problem. The output of the model will be \"Survive\" or \"not survive.\" If my model was supposed to predict a numerical value, I would be using something like MLPRegressor instead**"
   ]
  },
  {
   "cell_type": "markdown",
   "id": "c5f63f38",
   "metadata": {
    "papermill": {
     "duration": 0.031412,
     "end_time": "2023-11-20T22:12:55.379138",
     "exception": false,
     "start_time": "2023-11-20T22:12:55.347726",
     "status": "completed"
    },
    "tags": []
   },
   "source": [
    "# Tried making a neural network using Tensor Flow but decided to just use Scikit learn"
   ]
  },
  {
   "cell_type": "code",
   "execution_count": 9,
   "id": "e47c943e",
   "metadata": {
    "execution": {
     "iopub.execute_input": "2023-11-20T22:12:55.443833Z",
     "iopub.status.busy": "2023-11-20T22:12:55.443060Z",
     "iopub.status.idle": "2023-11-20T22:12:55.448298Z",
     "shell.execute_reply": "2023-11-20T22:12:55.447439Z"
    },
    "papermill": {
     "duration": 0.040467,
     "end_time": "2023-11-20T22:12:55.450779",
     "exception": false,
     "start_time": "2023-11-20T22:12:55.410312",
     "status": "completed"
    },
    "tags": []
   },
   "outputs": [],
   "source": [
    "# import tensorflow as tf\n",
    "\n",
    "\n",
    "# #Compile the model\n",
    "# model = tf.keras.models.Sequential([\n",
    "#     tf.keras.layers.Dense(64, activation = \"relu\", input_shape = (687,)),\n",
    "#     tf.keras.layers.Dense(32, activation = \"relu\"),\n",
    "#     tf.keras.layers.Dense(16, activation = \"relu\"),\n",
    "#     tf.keras.layers.Dense(1, activation = \"sigmoid\")\n",
    "# ])\n",
    "# model.compile(optimizer = \"adam\", loss = \"binary_crossentropy\", metrics = [\"accuracy\"])\n",
    "\n",
    "\n",
    "# #Train the model\n",
    "\n",
    "# #X_train = tf.convert_to_tensor(X_train)\n",
    "# #Y_train = tf.convert_to_tensor(Y_train)\n",
    "# model.fit(X_train, Y_train, epochs = 10)\n",
    "\n",
    "# #Evaluate the model \n",
    "\n",
    "# #X_test = tf.convert_to_tensor(X_test)\n",
    "# #Y_test = tf.convert_to_tensor(Y_test)\n",
    "# loss, accuracy = model.evaluate(X_test, Y_test)\n",
    "# print(\"Accuracy: \", accuracy)"
   ]
  },
  {
   "cell_type": "markdown",
   "id": "666eec93",
   "metadata": {
    "papermill": {
     "duration": 0.030484,
     "end_time": "2023-11-20T22:12:55.512420",
     "exception": false,
     "start_time": "2023-11-20T22:12:55.481936",
     "status": "completed"
    },
    "tags": []
   },
   "source": [
    "# Testing model on real test set and Submitting Model (Accuracy: 0.755)\n"
   ]
  },
  {
   "cell_type": "code",
   "execution_count": 10,
   "id": "de13b8a4",
   "metadata": {
    "execution": {
     "iopub.execute_input": "2023-11-20T22:12:55.576902Z",
     "iopub.status.busy": "2023-11-20T22:12:55.576472Z",
     "iopub.status.idle": "2023-11-20T22:12:55.614112Z",
     "shell.execute_reply": "2023-11-20T22:12:55.612955Z"
    },
    "papermill": {
     "duration": 0.073052,
     "end_time": "2023-11-20T22:12:55.616804",
     "exception": false,
     "start_time": "2023-11-20T22:12:55.543752",
     "status": "completed"
    },
    "tags": []
   },
   "outputs": [
    {
     "name": "stdout",
     "output_type": "stream",
     "text": [
      "Index(['Pclass', 'Fare', 'Sex_female', 'Sex_male', 'PassengerId'], dtype='object')\n"
     ]
    }
   ],
   "source": [
    "test_data = pd.read_csv(\"/kaggle/input/titanic/test.csv\")\n",
    "features = [\"Pclass\", \"Sex\", \"Fare\"]\n",
    "test_X = pd.get_dummies(test_data[features])\n",
    "#test_X = test_X.dropna()\n",
    "#print(test_X[\"Sex_female\"])\n",
    "test_X['Fare'].fillna(test_X['Fare'].median(), inplace=True)\n",
    "\n",
    "# Impute categorical columns with the mode\n",
    "for column in ['Pclass']:\n",
    "    test_X[column].fillna(test_X[column].mode()[0], inplace=True)\n",
    "\n",
    "for column in [\"Sex_female\"]:\n",
    "    test_X[column].fillna(False, inplace=True)\n",
    "    \n",
    "for column in ['Sex_male']:\n",
    "    test_X[column].fillna(True, inplace=True)\n",
    "  \n",
    "  \n",
    "# print(X_test)\n",
    "\n",
    "#model.fit(X_train, Y_train)\n",
    "\n",
    "# predictions = model.predict(test_X)\n",
    "\n",
    "pass_id = test_data['PassengerId']\n",
    "\n",
    "test_data = test_data.drop('PassengerId', axis=1)\n",
    "test_data = pd.get_dummies(test_data[features])\n",
    "\n",
    "test_data[\"PassengerId\"] = pass_id\n",
    "\n",
    "test_data['Fare'].fillna(test_data['Fare'].median(), inplace=True)\n",
    "\n",
    "print(test_data.columns)\n",
    "\n",
    "# Impute categorical columns with the mode\n",
    "for column in ['Pclass']:\n",
    "    test_data[column].fillna(test_data[column].mode()[0], inplace=True)\n",
    "\n",
    "for column in ['Sex_female']:\n",
    "    test_data[column].fillna(False, inplace=True)\n",
    "    \n",
    "for column in ['Sex_male']:\n",
    "    test_data[column].fillna(True, inplace=True)\n",
    "    \n",
    "# Commented out the code so that the model won't run everytime\n",
    "\n",
    "# print(test_X.shape)\n",
    "# print(predictions.shape)\n",
    "# print(test_data.shape)\n",
    "\n",
    "\n",
    "# output = pd.DataFrame({'PassengerId': test_data.PassengerId, 'Survived': predictions})\n",
    "# output.to_csv('submission.csv', index=False)\n",
    "# print(\"Your submission was successfully saved!\")"
   ]
  },
  {
   "cell_type": "markdown",
   "id": "a6b193d5",
   "metadata": {
    "papermill": {
     "duration": 0.031131,
     "end_time": "2023-11-20T22:12:55.679898",
     "exception": false,
     "start_time": "2023-11-20T22:12:55.648767",
     "status": "completed"
    },
    "tags": []
   },
   "source": [
    "**The accuracy of the model was 0.755**"
   ]
  },
  {
   "cell_type": "markdown",
   "id": "ee1f4857",
   "metadata": {
    "papermill": {
     "duration": 0.031093,
     "end_time": "2023-11-20T22:12:55.742864",
     "exception": false,
     "start_time": "2023-11-20T22:12:55.711771",
     "status": "completed"
    },
    "tags": []
   },
   "source": [
    "# After first submission, I will now try and edit the neural network to improve the accurary\n"
   ]
  },
  {
   "cell_type": "code",
   "execution_count": 11,
   "id": "a624f03b",
   "metadata": {
    "execution": {
     "iopub.execute_input": "2023-11-20T22:12:55.808965Z",
     "iopub.status.busy": "2023-11-20T22:12:55.807678Z",
     "iopub.status.idle": "2023-11-20T22:12:55.812770Z",
     "shell.execute_reply": "2023-11-20T22:12:55.811906Z"
    },
    "papermill": {
     "duration": 0.040322,
     "end_time": "2023-11-20T22:12:55.815159",
     "exception": false,
     "start_time": "2023-11-20T22:12:55.774837",
     "status": "completed"
    },
    "tags": []
   },
   "outputs": [],
   "source": [
    "# Commented out the code so that the model won't run everytime\n",
    "\n",
    "# model = MLPClassifier(hidden_layer_sizes=(14, 4), activation='relu', solver='lbfgs', max_iter=1000, random_state=42)\n",
    "\n",
    "# model.fit(X_train, Y_train)\n",
    "\n",
    "# y_pred = model.predict(X_test)\n",
    "\n",
    "# print(f\"Accuracy: {accuracy_score(Y_test, y_pred):.2f}\")\n",
    "\n"
   ]
  },
  {
   "cell_type": "markdown",
   "id": "e52f86f2",
   "metadata": {
    "papermill": {
     "duration": 0.0308,
     "end_time": "2023-11-20T22:12:55.878288",
     "exception": false,
     "start_time": "2023-11-20T22:12:55.847488",
     "status": "completed"
    },
    "tags": []
   },
   "source": [
    "**I edited  the hidden layer sizes**\n"
   ]
  },
  {
   "cell_type": "markdown",
   "id": "a6e720d4",
   "metadata": {
    "papermill": {
     "duration": 0.03096,
     "end_time": "2023-11-20T22:12:55.940348",
     "exception": false,
     "start_time": "2023-11-20T22:12:55.909388",
     "status": "completed"
    },
    "tags": []
   },
   "source": [
    "# Second submission (accuracy: 0.76)\n"
   ]
  },
  {
   "cell_type": "code",
   "execution_count": 12,
   "id": "cd183126",
   "metadata": {
    "execution": {
     "iopub.execute_input": "2023-11-20T22:12:56.005446Z",
     "iopub.status.busy": "2023-11-20T22:12:56.004957Z",
     "iopub.status.idle": "2023-11-20T22:12:56.025048Z",
     "shell.execute_reply": "2023-11-20T22:12:56.023309Z"
    },
    "papermill": {
     "duration": 0.056135,
     "end_time": "2023-11-20T22:12:56.027722",
     "exception": false,
     "start_time": "2023-11-20T22:12:55.971587",
     "status": "completed"
    },
    "tags": []
   },
   "outputs": [
    {
     "name": "stdout",
     "output_type": "stream",
     "text": [
      "done\n"
     ]
    }
   ],
   "source": [
    "test_data = pd.read_csv(\"/kaggle/input/titanic/test.csv\")\n",
    "features = [\"Pclass\", \"Sex\", \"Fare\"]\n",
    "test_X = pd.get_dummies(test_data[features])\n",
    "\n",
    "test_X['Fare'].fillna(test_X['Fare'].median(), inplace=True)\n",
    "\n",
    "# Impute categorical columns with the mode\n",
    "for column in ['Pclass']:\n",
    "    test_X[column].fillna(test_X[column].mode()[0], inplace=True)\n",
    "\n",
    "for column in [\"Sex_female\"]:\n",
    "    test_X[column].fillna(False, inplace=True)\n",
    "    \n",
    "for column in ['Sex_male']:\n",
    "    test_X[column].fillna(True, inplace=True)\n",
    "\n",
    "print(\"done\")\n",
    "\n",
    "\n",
    "# Commented out the code so that the model won't run everytime\n",
    "\n",
    "# predictions2 = model.predict(test_X)\n",
    "\n",
    "# pass_id = test_data['PassengerId']\n",
    "\n",
    "# test_data = test_data.drop('PassengerId', axis=1)\n",
    "# test_data = pd.get_dummies(test_data[features])\n",
    "\n",
    "# test_data[\"PassengerId\"] = pass_id\n",
    "\n",
    "# print(test_data.columns)\n",
    "\n",
    "# print(test_X.shape)\n",
    "# print(predictions2.shape)\n",
    "# print(test_data.shape)\n",
    "\n",
    "# output = pd.DataFrame({'PassengerId': test_data.PassengerId, 'Survived': predictions2})\n",
    "# output.to_csv('submission.csv', index=False)\n",
    "# print(\"Your submission was successfully saved!\")"
   ]
  },
  {
   "cell_type": "markdown",
   "id": "91ee18b8",
   "metadata": {
    "papermill": {
     "duration": 0.031608,
     "end_time": "2023-11-20T22:12:56.090503",
     "exception": false,
     "start_time": "2023-11-20T22:12:56.058895",
     "status": "completed"
    },
    "tags": []
   },
   "source": [
    "**Here, from the code above, I went from a 0.755 to a 0.76 by editing the hidden layer sizes. However, this wasn't much of a big change and the accuracy of the model is still worse than the 0.775 which I achieved through a simple Random Decision Forest Model.**\n"
   ]
  },
  {
   "cell_type": "markdown",
   "id": "69a6d980",
   "metadata": {
    "papermill": {
     "duration": 0.030958,
     "end_time": "2023-11-20T22:12:56.152673",
     "exception": false,
     "start_time": "2023-11-20T22:12:56.121715",
     "status": "completed"
    },
    "tags": []
   },
   "source": [
    "**From this code, I realized that I should be imputing and cleaning the data BEFORE I use pd.get_dummies(). This is because pd.get_dummies() adds a lot more columns to the data because it turns all categorial columns to multiple binary columns which puts a 0 or 1 in each row. So, I should be cleaming up the data BEFORE I use pd.get_dummies() since pd.get_dummies adds so many more columns to the data and makes the data so much harder to clean. \n",
    "For example, it's hard to impute values in the \"age\" column after you do pd.get_Dummies() since imputing age relies on finding the average age of each person and it's a lot easier to find the average age is the all the ages were in a single column but if we do pd.get_Dummies, we are going to split up the age column into many more age columns which correspond to each unique age value in the data set**"
   ]
  },
  {
   "cell_type": "markdown",
   "id": "cf12c8d2",
   "metadata": {
    "papermill": {
     "duration": 0.030868,
     "end_time": "2023-11-20T22:12:56.214868",
     "exception": false,
     "start_time": "2023-11-20T22:12:56.184000",
     "status": "completed"
    },
    "tags": []
   },
   "source": []
  },
  {
   "cell_type": "markdown",
   "id": "82ebac93",
   "metadata": {
    "papermill": {
     "duration": 0.030745,
     "end_time": "2023-11-20T22:12:56.277013",
     "exception": false,
     "start_time": "2023-11-20T22:12:56.246268",
     "status": "completed"
    },
    "tags": []
   },
   "source": [
    "# Now I will re-initialize my data set and clean up my data before using pd.get_dummies()"
   ]
  },
  {
   "cell_type": "markdown",
   "id": "775f518b",
   "metadata": {
    "papermill": {
     "duration": 0.031344,
     "end_time": "2023-11-20T22:12:56.339838",
     "exception": false,
     "start_time": "2023-11-20T22:12:56.308494",
     "status": "completed"
    },
    "tags": []
   },
   "source": [
    "**I set up X_train and Y_train, but this time, instead of doing pd.get_Dummies() on X_train, I'm not going to use pd.get_Dummies() until after I clean up the data**"
   ]
  },
  {
   "cell_type": "code",
   "execution_count": 13,
   "id": "87dc4095",
   "metadata": {
    "execution": {
     "iopub.execute_input": "2023-11-20T22:12:56.404908Z",
     "iopub.status.busy": "2023-11-20T22:12:56.404461Z",
     "iopub.status.idle": "2023-11-20T22:12:56.424893Z",
     "shell.execute_reply": "2023-11-20T22:12:56.423595Z"
    },
    "papermill": {
     "duration": 0.056881,
     "end_time": "2023-11-20T22:12:56.428223",
     "exception": false,
     "start_time": "2023-11-20T22:12:56.371342",
     "status": "completed"
    },
    "tags": []
   },
   "outputs": [
    {
     "name": "stdout",
     "output_type": "stream",
     "text": [
      "   PassengerId  Survived  Pclass  \\\n",
      "0            1         0       3   \n",
      "1            2         1       1   \n",
      "2            3         1       3   \n",
      "3            4         1       1   \n",
      "4            5         0       3   \n",
      "\n",
      "                                                Name     Sex   Age  SibSp  \\\n",
      "0                            Braund, Mr. Owen Harris    male  22.0      1   \n",
      "1  Cumings, Mrs. John Bradley (Florence Briggs Th...  female  38.0      1   \n",
      "2                             Heikkinen, Miss. Laina  female  26.0      0   \n",
      "3       Futrelle, Mrs. Jacques Heath (Lily May Peel)  female  35.0      1   \n",
      "4                           Allen, Mr. William Henry    male  35.0      0   \n",
      "\n",
      "   Parch            Ticket     Fare Cabin Embarked  \n",
      "0      0         A/5 21171   7.2500   NaN        S  \n",
      "1      0          PC 17599  71.2833   C85        C  \n",
      "2      0  STON/O2. 3101282   7.9250   NaN        S  \n",
      "3      0            113803  53.1000  C123        S  \n",
      "4      0            373450   8.0500   NaN        S  \n"
     ]
    }
   ],
   "source": [
    "train_data = pd.read_csv(\"/kaggle/input/titanic/train.csv\")\n",
    "\n",
    "features = [\"Pclass\", \"Sex\", \"Fare\",\"Age\", \"SibSp\", \"Parch\"] # Here, I also added more features which I think might be useful\n",
    "\n",
    "X_train = train_data # I won't actually limit the X_train to just the columns of the features I want just yet. This is because I will use the other columns in the data set to help impute missing values\n",
    "\n",
    "Y_train = train_data[\"Survived\"]\n",
    "\n",
    "print(X_train.head())\n"
   ]
  },
  {
   "cell_type": "markdown",
   "id": "057cef01",
   "metadata": {
    "papermill": {
     "duration": 0.03096,
     "end_time": "2023-11-20T22:12:56.490363",
     "exception": false,
     "start_time": "2023-11-20T22:12:56.459403",
     "status": "completed"
    },
    "tags": []
   },
   "source": [
    "# Start cleaning up the data"
   ]
  },
  {
   "cell_type": "code",
   "execution_count": 14,
   "id": "29cd937f",
   "metadata": {
    "execution": {
     "iopub.execute_input": "2023-11-20T22:12:56.556688Z",
     "iopub.status.busy": "2023-11-20T22:12:56.555835Z",
     "iopub.status.idle": "2023-11-20T22:12:56.568541Z",
     "shell.execute_reply": "2023-11-20T22:12:56.567106Z"
    },
    "papermill": {
     "duration": 0.049323,
     "end_time": "2023-11-20T22:12:56.570995",
     "exception": false,
     "start_time": "2023-11-20T22:12:56.521672",
     "status": "completed"
    },
    "tags": []
   },
   "outputs": [
    {
     "name": "stdout",
     "output_type": "stream",
     "text": [
      "0\n",
      "0\n",
      "0\n",
      "0\n",
      "0\n",
      "177\n"
     ]
    }
   ],
   "source": [
    "# Impute missing values for Pclass\n",
    "\n",
    "average_Pclass = X_train[\"Pclass\"].median()\n",
    "\n",
    "X_train[\"Pclass\"].fillna(average_Pclass, inplace = True)\n",
    "\n",
    "print(X_train[\"Pclass\"].isnull().sum()) # print the number of rows in the \"Pclass\" columns that now have no value\n",
    "\n",
    "print(X_train[\"Sex\"].isnull().sum()) # Since this prints out 0, this means that there is no missing value in the \"Sex\" column so we don't need to impute anything\n",
    "\n",
    "print(X_train[\"Fare\"].isnull().sum()) # Since this prints out 0, this means that there is no missing value in the \"Fare\" column so we don't need to impute anything\n",
    "\n",
    "print(X_train[\"SibSp\"].isnull().sum()) # Since this prints out 0, this means that there is no missing value in the \"SibSp\" column so we don't need to impute anything\n",
    "\n",
    "print(X_train[\"Parch\"].isnull().sum()) # Since this prints out 0, this means that there is no missing value in the \"Parch\" column so we don't need to impute anything\n",
    "\n",
    "print(X_train[\"Age\"].isnull().sum()) # This prints out 177 so there are 177 rows with missing values in the \"Age\" column! This means we have to do a lot of imputing\n",
    "\n"
   ]
  },
  {
   "cell_type": "markdown",
   "id": "700325d1",
   "metadata": {
    "papermill": {
     "duration": 0.03191,
     "end_time": "2023-11-20T22:12:56.634503",
     "exception": false,
     "start_time": "2023-11-20T22:12:56.602593",
     "status": "completed"
    },
    "tags": []
   },
   "source": [
    "**From this, we learned that age is the main column with missing values (of the columns that we are working with) so we need to methodically impute those missing values**"
   ]
  },
  {
   "cell_type": "markdown",
   "id": "3e1fcda1",
   "metadata": {
    "papermill": {
     "duration": 0.030831,
     "end_time": "2023-11-20T22:12:56.696726",
     "exception": false,
     "start_time": "2023-11-20T22:12:56.665895",
     "status": "completed"
    },
    "tags": []
   },
   "source": [
    "# Cleaning up (imputing) the Age column using a Random Forest Regressor model (a type of Machine Learning model) that accurately predicts the age of a person given their "
   ]
  },
  {
   "cell_type": "code",
   "execution_count": 15,
   "id": "0c9e328a",
   "metadata": {
    "execution": {
     "iopub.execute_input": "2023-11-20T22:12:56.761598Z",
     "iopub.status.busy": "2023-11-20T22:12:56.761133Z",
     "iopub.status.idle": "2023-11-20T22:13:22.594477Z",
     "shell.execute_reply": "2023-11-20T22:13:22.593214Z"
    },
    "papermill": {
     "duration": 25.870074,
     "end_time": "2023-11-20T22:13:22.598382",
     "exception": false,
     "start_time": "2023-11-20T22:12:56.728308",
     "status": "completed"
    },
    "tags": []
   },
   "outputs": [
    {
     "name": "stdout",
     "output_type": "stream",
     "text": [
      "0\n"
     ]
    },
    {
     "name": "stderr",
     "output_type": "stream",
     "text": [
      "/opt/conda/lib/python3.10/site-packages/sklearn/impute/_iterative.py:785: ConvergenceWarning: [IterativeImputer] Early stopping criterion not reached.\n",
      "  warnings.warn(\n"
     ]
    }
   ],
   "source": [
    "from sklearn.experimental import enable_iterative_imputer\n",
    "from sklearn.impute import IterativeImputer\n",
    "from sklearn.ensemble import RandomForestRegressor\n",
    "from sklearn.preprocessing import LabelEncoder\n",
    "\n",
    "\n",
    "#We use \"LabelEncoder\" to turn all the categorial values (values which don't use numbers) into values which the Random Forest Regressor can understand more easily. This is very similar to doing something like pd.get_dummies()\n",
    "\n",
    "label_encoders = {}\n",
    "for column in ['Sex', 'Embarked']:\n",
    "    label_encoders[column] = LabelEncoder()\n",
    "    # We use 'astype(str)' to convert any NaN values to a string representation\n",
    "    X_train[column] = label_encoders[column].fit_transform(X_train[column].astype(str))\n",
    "\n",
    "features = ['Survived', 'Pclass', 'Sex', 'Age', 'SibSp', 'Parch', 'Fare', 'Embarked']\n",
    "# One very important thing that I will end up doing is using the \"Survived\" column of the dataset to predict the age. This is because there is a strong correleation between the survival and age. \n",
    "\n",
    "\n",
    "#This is an imputer. It is a function that can efficiently impute values in the way you want. For this scenario, I am using IterativeImputer() and the RandomForestRegressor(() to )\n",
    "imputer = IterativeImputer(RandomForestRegressor(n_estimators=10), max_iter=100, random_state=0)\n",
    "\n",
    "\n",
    "# Fit the imputer on the DataFrame with the features\n",
    "imputer.fit(X_train[features]) #When IterativeImputer is used alongside an ML model like RandomForestRegressor, calling .fit() on the IterativeImputer() object will also fit (train) the ML model\n",
    "\n",
    "\n",
    "# Perform the imputation on the Training Data. THIS WILL ACTUAL IMPUTE ANY MISSING VALUES IN EACH ROW, not only the missing values in Age.\n",
    "X_train_imputed = imputer.transform(X_train[features])\n",
    "\n",
    "\n",
    "# Convert the output back to a DataFrame\n",
    "X_train_imputed = pd.DataFrame(X_train_imputed, columns=features)\n",
    "\n",
    "# Update the original DataFrame with the imputed values. This means that the columns of the original X_train dataframe that weren't part of the features (like \"Name\" isn't apart of the features list)\n",
    "X_train[features] = X_train_imputed\n",
    "\n",
    "#print(X_train.head())\n",
    "\n",
    "print(X_train[\"Age\"].isnull().sum()) # Since this prints 0, we now know that there are 0 missing values in the age column and so the imputation was successful "
   ]
  },
  {
   "cell_type": "markdown",
   "id": "d4701797",
   "metadata": {
    "papermill": {
     "duration": 0.031402,
     "end_time": "2023-11-20T22:13:22.662376",
     "exception": false,
     "start_time": "2023-11-20T22:13:22.630974",
     "status": "completed"
    },
    "tags": []
   },
   "source": [
    "**Using IterativeRegressor() and RandomForestRegressor(), I essentially used an ML model to impute any missing values in the dataset. I wanted to clean up the age column using the most effective method and I didn't want to just find the average age and impute all those values to the missing values. I wanted to be smart since age is an incredibly important feature.**"
   ]
  },
  {
   "cell_type": "markdown",
   "id": "bc88e437",
   "metadata": {
    "papermill": {
     "duration": 0.031144,
     "end_time": "2023-11-20T22:13:22.725279",
     "exception": false,
     "start_time": "2023-11-20T22:13:22.694135",
     "status": "completed"
    },
    "tags": []
   },
   "source": [
    "**Using the ImperativeImputer(), this will actually impute all the missing values in each row. It won't only impute the missing values in the \"age\" column. BUT, since we already cleaned the data and know there are 0 missing values for all the other columns that we care about (the ones with the features we are using), the imputer will be imputing values only to the missing values of age and other columns that we don't care about, but out of all the columns we care about, it will only be affecting the age column since all the other columns we care about have 0 missing values as we checked in the code previously.**"
   ]
  },
  {
   "cell_type": "code",
   "execution_count": 16,
   "id": "3f9e1610",
   "metadata": {
    "execution": {
     "iopub.execute_input": "2023-11-20T22:13:22.790803Z",
     "iopub.status.busy": "2023-11-20T22:13:22.790376Z",
     "iopub.status.idle": "2023-11-20T22:13:22.814252Z",
     "shell.execute_reply": "2023-11-20T22:13:22.812996Z"
    },
    "papermill": {
     "duration": 0.060328,
     "end_time": "2023-11-20T22:13:22.817412",
     "exception": false,
     "start_time": "2023-11-20T22:13:22.757084",
     "status": "completed"
    },
    "tags": []
   },
   "outputs": [
    {
     "name": "stdout",
     "output_type": "stream",
     "text": [
      "   Pclass  Sex     Fare   Age  SibSp  Parch\n",
      "0     3.0  1.0   7.2500  22.0    1.0    0.0\n",
      "1     1.0  0.0  71.2833  38.0    1.0    0.0\n",
      "2     3.0  0.0   7.9250  26.0    0.0    0.0\n",
      "3     1.0  0.0  53.1000  35.0    1.0    0.0\n",
      "4     3.0  1.0   8.0500  35.0    0.0    0.0\n",
      "314\n",
      "577\n",
      "   Pclass     Sex     Fare   Age  SibSp  Parch\n",
      "0     3.0    male   7.2500  22.0    1.0    0.0\n",
      "1     1.0  female  71.2833  38.0    1.0    0.0\n",
      "2     3.0  female   7.9250  26.0    0.0    0.0\n",
      "3     1.0  female  53.1000  35.0    1.0    0.0\n",
      "4     3.0    male   8.0500  35.0    0.0    0.0\n",
      "577\n"
     ]
    },
    {
     "name": "stderr",
     "output_type": "stream",
     "text": [
      "/tmp/ipykernel_19/1272774441.py:12: SettingWithCopyWarning: \n",
      "A value is trying to be set on a copy of a slice from a DataFrame.\n",
      "Try using .loc[row_indexer,col_indexer] = value instead\n",
      "\n",
      "See the caveats in the documentation: https://pandas.pydata.org/pandas-docs/stable/user_guide/indexing.html#returning-a-view-versus-a-copy\n",
      "  X_train['Sex'] = X_train['Sex'].map({0: 'female', 1: 'male'})\n"
     ]
    }
   ],
   "source": [
    "features = [\"Pclass\", \"Sex\", \"Fare\",\"Age\", \"SibSp\", \"Parch\"]\n",
    "\n",
    "X_train = X_train[features]\n",
    "\n",
    "print(X_train.head(5))\n",
    "\n",
    "print((X_train[\"Sex\"] == 0).sum())\n",
    "print((X_train[\"Sex\"] == 1).sum())\n",
    "\n",
    "# Since the dataset is 65% male, we can see from printing out the number of people with \"sex equal to 0\" and \"sex equal to 1\" that the LabelEncoder made Male into \"1\" and Female into \"0\". Now, let's change it back to \"Male\" and \"Female\".\n",
    "\n",
    "X_train['Sex'] = X_train['Sex'].map({0: 'female', 1: 'male'})\n",
    "\n",
    "print(X_train.head(5))\n",
    "\n",
    "print((X_train[\"Sex\"] == \"male\").sum())"
   ]
  },
  {
   "cell_type": "markdown",
   "id": "544f5d28",
   "metadata": {
    "papermill": {
     "duration": 0.031958,
     "end_time": "2023-11-20T22:13:22.881568",
     "exception": false,
     "start_time": "2023-11-20T22:13:22.849610",
     "status": "completed"
    },
    "tags": []
   },
   "source": [
    "**Here, in the code above, I changed X_train back to focus only on the features we care about. I also changed the \"Sex\" column from 0 and 1 back to Male and Female.**"
   ]
  },
  {
   "cell_type": "markdown",
   "id": "493112ed",
   "metadata": {
    "papermill": {
     "duration": 0.03126,
     "end_time": "2023-11-20T22:13:22.944857",
     "exception": false,
     "start_time": "2023-11-20T22:13:22.913597",
     "status": "completed"
    },
    "tags": []
   },
   "source": [
    "# After the careful inspection of the test.csv, I see that there are also missing values in the test.csv. As a result, we have to clean up the data for test.csv as we did for train.csv"
   ]
  },
  {
   "cell_type": "markdown",
   "id": "408980f7",
   "metadata": {
    "papermill": {
     "duration": 0.032227,
     "end_time": "2023-11-20T22:13:23.009173",
     "exception": false,
     "start_time": "2023-11-20T22:13:22.976946",
     "status": "completed"
    },
    "tags": []
   },
   "source": [
    "**Seeing which columns have missing values:**"
   ]
  },
  {
   "cell_type": "code",
   "execution_count": 17,
   "id": "297333da",
   "metadata": {
    "execution": {
     "iopub.execute_input": "2023-11-20T22:13:23.075514Z",
     "iopub.status.busy": "2023-11-20T22:13:23.074835Z",
     "iopub.status.idle": "2023-11-20T22:13:23.095405Z",
     "shell.execute_reply": "2023-11-20T22:13:23.093337Z"
    },
    "papermill": {
     "duration": 0.056875,
     "end_time": "2023-11-20T22:13:23.097967",
     "exception": false,
     "start_time": "2023-11-20T22:13:23.041092",
     "status": "completed"
    },
    "tags": []
   },
   "outputs": [
    {
     "name": "stdout",
     "output_type": "stream",
     "text": [
      "0\n",
      "0\n",
      "0\n",
      "0\n",
      "1\n",
      "86\n"
     ]
    }
   ],
   "source": [
    "test_data = pd.read_csv(\"/kaggle/input/titanic/test.csv\")\n",
    "\n",
    "features = [\"Pclass\", \"Sex\", \"Fare\",\"Age\", \"SibSp\", \"Parch\"]\n",
    "\n",
    "print(test_data[\"Pclass\"].isnull().sum()) # Since this is 0, that means there is no missing values\n",
    "\n",
    "print(test_data[\"Sex\"].isnull().sum()) # Since this is 0, that means there is no missing values\n",
    "\n",
    "print(test_data[\"SibSp\"].isnull().sum()) # Since this is 0, that means there is no missing values\n",
    "\n",
    "print(test_data[\"Parch\"].isnull().sum()) # Since this is 0, that means there is no missing values\n",
    "\n",
    "print(test_data[\"Fare\"].isnull().sum()) # Since this is 1, that means there is one missing value\n",
    "\n",
    "print(test_data[\"Age\"].isnull().sum()) # Since this is 86, that means there are 86 missing values\n"
   ]
  },
  {
   "cell_type": "markdown",
   "id": "80fe3c75",
   "metadata": {
    "papermill": {
     "duration": 0.031914,
     "end_time": "2023-11-20T22:13:23.164542",
     "exception": false,
     "start_time": "2023-11-20T22:13:23.132628",
     "status": "completed"
    },
    "tags": []
   },
   "source": [
    "**From this, we can see that only \"Fare\" annd \"Age\" have missing values. Since \"Fare\" only has one missing value, it's not worth it to go to through all the work to do some advanced imputation technique to fill in missing values. So, I will just fill that in with the average fare value.**\n",
    "\n",
    "**For the \"Age\" feature, I will repeat the process of using an IterativeImputer and a RandomForestRegressor to imputate missing values**"
   ]
  },
  {
   "cell_type": "code",
   "execution_count": 18,
   "id": "f1e803ad",
   "metadata": {
    "execution": {
     "iopub.execute_input": "2023-11-20T22:13:23.232134Z",
     "iopub.status.busy": "2023-11-20T22:13:23.231621Z",
     "iopub.status.idle": "2023-11-20T22:13:23.240517Z",
     "shell.execute_reply": "2023-11-20T22:13:23.238888Z"
    },
    "papermill": {
     "duration": 0.046157,
     "end_time": "2023-11-20T22:13:23.243104",
     "exception": false,
     "start_time": "2023-11-20T22:13:23.196947",
     "status": "completed"
    },
    "tags": []
   },
   "outputs": [
    {
     "name": "stdout",
     "output_type": "stream",
     "text": [
      "0\n"
     ]
    }
   ],
   "source": [
    "average_fare = test_data[\"Fare\"].mean()\n",
    "\n",
    "test_data[\"Fare\"].fillna(average_fare, inplace = True) # This replaces the single missing value in \"Fare\" with the average value Fare Value of the test data\n",
    "\n",
    "print(test_data[\"Fare\"].isnull().sum())"
   ]
  },
  {
   "cell_type": "code",
   "execution_count": 19,
   "id": "da19ea75",
   "metadata": {
    "execution": {
     "iopub.execute_input": "2023-11-20T22:13:23.309852Z",
     "iopub.status.busy": "2023-11-20T22:13:23.309397Z",
     "iopub.status.idle": "2023-11-20T22:13:40.893079Z",
     "shell.execute_reply": "2023-11-20T22:13:40.891811Z"
    },
    "papermill": {
     "duration": 17.621896,
     "end_time": "2023-11-20T22:13:40.897324",
     "exception": false,
     "start_time": "2023-11-20T22:13:23.275428",
     "status": "completed"
    },
    "tags": []
   },
   "outputs": [
    {
     "name": "stdout",
     "output_type": "stream",
     "text": [
      "0\n",
      "   PassengerId  Pclass                                          Name  Sex  \\\n",
      "0          892     3.0                              Kelly, Mr. James  1.0   \n",
      "1          893     3.0              Wilkes, Mrs. James (Ellen Needs)  0.0   \n",
      "2          894     2.0                     Myles, Mr. Thomas Francis  1.0   \n",
      "3          895     3.0                              Wirz, Mr. Albert  1.0   \n",
      "4          896     3.0  Hirvonen, Mrs. Alexander (Helga E Lindqvist)  0.0   \n",
      "\n",
      "    Age  SibSp  Parch   Ticket     Fare Cabin  Embarked  \n",
      "0  34.5    0.0    0.0   330911   7.8292   NaN       1.0  \n",
      "1  47.0    1.0    0.0   363272   7.0000   NaN       2.0  \n",
      "2  62.0    0.0    0.0   240276   9.6875   NaN       1.0  \n",
      "3  27.0    0.0    0.0   315154   8.6625   NaN       2.0  \n",
      "4  22.0    1.0    1.0  3101298  12.2875   NaN       2.0  \n"
     ]
    },
    {
     "name": "stderr",
     "output_type": "stream",
     "text": [
      "/opt/conda/lib/python3.10/site-packages/sklearn/impute/_iterative.py:785: ConvergenceWarning: [IterativeImputer] Early stopping criterion not reached.\n",
      "  warnings.warn(\n"
     ]
    }
   ],
   "source": [
    "from sklearn.experimental import enable_iterative_imputer\n",
    "from sklearn.impute import IterativeImputer\n",
    "from sklearn.ensemble import RandomForestRegressor\n",
    "from sklearn.preprocessing import LabelEncoder\n",
    "\n",
    "\n",
    "#We use \"LabelEncoder\" to turn all the categorial values (values which don't use numbers) into values which the Random Forest Regressor can understand more easily. This is very similar to doing something like pd.get_dummies()\n",
    "\n",
    "label_encoders = {}\n",
    "for column in ['Sex', 'Embarked']:\n",
    "    label_encoders[column] = LabelEncoder()\n",
    "    # We use 'astype(str)' to convert any NaN values to a string representation\n",
    "    test_data[column] = label_encoders[column].fit_transform(test_data[column].astype(str))\n",
    "\n",
    "features = ['Pclass', 'Sex', 'Age', 'SibSp', 'Parch', 'Fare', 'Embarked']\n",
    "\n",
    "\n",
    "#This is an imputer. It is a function that can efficiently impute values in the way you want. For this scenario, I am using IterativeImputer() and the RandomForestRegressor(() to )\n",
    "imputer = IterativeImputer(RandomForestRegressor(n_estimators=10), max_iter=100, random_state=0)\n",
    "\n",
    "\n",
    "# Fit the imputer on the DataFrame with the features\n",
    "imputer.fit(test_data[features]) #When IterativeImputer is used alongside an ML model like RandomForestRegressor, calling .fit() on the IterativeImputer() object will also fit (train) the ML model\n",
    "\n",
    "\n",
    "# Perform the imputation on the Test Data. THIS WILL ACTUAL IMPUTE ANY MISSING VALUES IN EACH ROW, not only the missing values in Age.\n",
    "test_data_imputed = imputer.transform(test_data[features])\n",
    "\n",
    "\n",
    "# Convert the output back to a DataFrame\n",
    "test_data_imputed = pd.DataFrame(test_data_imputed, columns=features)\n",
    "\n",
    "# Update the original DataFrame with the imputed values. This means that the columns of the original test_data dataframe that weren't part of the features (like \"Name\" isn't apart of the features list)\n",
    "test_data[features] = test_data_imputed\n",
    "\n",
    "print(test_data[\"Age\"].isnull().sum()) # Since this prints 0, we now know that there are 0 missing values in the age column and so the imputation was successful \n",
    "\n",
    "print(test_data.head())"
   ]
  },
  {
   "cell_type": "markdown",
   "id": "1cb2eb83",
   "metadata": {
    "papermill": {
     "duration": 0.03246,
     "end_time": "2023-11-20T22:13:40.962411",
     "exception": false,
     "start_time": "2023-11-20T22:13:40.929951",
     "status": "completed"
    },
    "tags": []
   },
   "source": [
    "**The code above will imputate all the missing values in the test_data**"
   ]
  },
  {
   "cell_type": "markdown",
   "id": "5096a798",
   "metadata": {
    "papermill": {
     "duration": 0.032138,
     "end_time": "2023-11-20T22:13:41.026978",
     "exception": false,
     "start_time": "2023-11-20T22:13:40.994840",
     "status": "completed"
    },
    "tags": []
   },
   "source": [
    "# Finalize the cleaning of the data and make it so test_data only has the features we want"
   ]
  },
  {
   "cell_type": "code",
   "execution_count": 20,
   "id": "6e98f39e",
   "metadata": {
    "execution": {
     "iopub.execute_input": "2023-11-20T22:13:41.093890Z",
     "iopub.status.busy": "2023-11-20T22:13:41.093450Z",
     "iopub.status.idle": "2023-11-20T22:13:41.111292Z",
     "shell.execute_reply": "2023-11-20T22:13:41.109850Z"
    },
    "papermill": {
     "duration": 0.054394,
     "end_time": "2023-11-20T22:13:41.113739",
     "exception": false,
     "start_time": "2023-11-20T22:13:41.059345",
     "status": "completed"
    },
    "tags": []
   },
   "outputs": [
    {
     "name": "stdout",
     "output_type": "stream",
     "text": [
      "152\n",
      "266\n",
      "   Pclass     Sex     Fare   Age  SibSp  Parch\n",
      "0     3.0    male   7.8292  34.5    0.0    0.0\n",
      "1     3.0  female   7.0000  47.0    1.0    0.0\n",
      "2     2.0    male   9.6875  62.0    0.0    0.0\n",
      "3     3.0    male   8.6625  27.0    0.0    0.0\n",
      "4     3.0  female  12.2875  22.0    1.0    1.0\n",
      "266\n"
     ]
    }
   ],
   "source": [
    "features = [\"Pclass\", \"Sex\", \"Fare\",\"Age\", \"SibSp\", \"Parch\"]\n",
    "\n",
    "test_data = test_data[features]\n",
    "\n",
    "print((test_data[\"Sex\"] == 0).sum())\n",
    "print((test_data[\"Sex\"] == 1).sum())\n",
    "\n",
    "# Since the dataset is 65% male, we can see from printing out the number of people with \"sex equal to 0\" and \"sex equal to 1\" that the LabelEncoder made Male into \"1\" and Female into \"0\". Now, let's change it back to \"male\" and \"female\".\n",
    "\n",
    "test_data['Sex'] = test_data['Sex'].map({0: 'female', 1: 'male'})\n",
    "\n",
    "print(test_data.head(5))\n",
    "\n",
    "print((test_data[\"Sex\"] == \"male\").sum())"
   ]
  },
  {
   "cell_type": "markdown",
   "id": "9f6bbfab",
   "metadata": {
    "papermill": {
     "duration": 0.032776,
     "end_time": "2023-11-20T22:13:41.179157",
     "exception": false,
     "start_time": "2023-11-20T22:13:41.146381",
     "status": "completed"
    },
    "tags": []
   },
   "source": [
    "# Now, after cleaning up the data, I can split up the data into train_validation_test "
   ]
  },
  {
   "cell_type": "code",
   "execution_count": 21,
   "id": "4424f4e8",
   "metadata": {
    "execution": {
     "iopub.execute_input": "2023-11-20T22:13:41.248648Z",
     "iopub.status.busy": "2023-11-20T22:13:41.248184Z",
     "iopub.status.idle": "2023-11-20T22:13:41.260998Z",
     "shell.execute_reply": "2023-11-20T22:13:41.259890Z"
    },
    "papermill": {
     "duration": 0.050168,
     "end_time": "2023-11-20T22:13:41.263741",
     "exception": false,
     "start_time": "2023-11-20T22:13:41.213573",
     "status": "completed"
    },
    "tags": []
   },
   "outputs": [],
   "source": [
    "from sklearn.model_selection import train_test_split\n",
    "\n",
    "Y_train = train_data[\"Survived\"]\n",
    "\n",
    "# First, split into training (60%) and a test set (40%)\n",
    "train_X, test_X, train_Y, test_Y = train_test_split(X_train, Y_train, test_size=0.4, random_state = 42)\n",
    "\n",
    "#Second, split test set into a validation (20%) and test set (20%)\n",
    "valid_X, test_X, valid_Y, test_Y= train_test_split(test_X, test_Y, test_size = 0.5, random_state = 42)"
   ]
  },
  {
   "cell_type": "markdown",
   "id": "365106de",
   "metadata": {
    "papermill": {
     "duration": 0.032716,
     "end_time": "2023-11-20T22:13:41.329135",
     "exception": false,
     "start_time": "2023-11-20T22:13:41.296419",
     "status": "completed"
    },
    "tags": []
   },
   "source": [
    "# Using pd.get_dummies() on all the data"
   ]
  },
  {
   "cell_type": "markdown",
   "id": "f1e1b061",
   "metadata": {
    "papermill": {
     "duration": 0.032888,
     "end_time": "2023-11-20T22:13:41.394595",
     "exception": false,
     "start_time": "2023-11-20T22:13:41.361707",
     "status": "completed"
    },
    "tags": []
   },
   "source": [
    "**Setting up the Test data (from Test.csv) (This is NOT the test data from the Train_validation_test split):**"
   ]
  },
  {
   "cell_type": "code",
   "execution_count": 22,
   "id": "9ff2d2a2",
   "metadata": {
    "execution": {
     "iopub.execute_input": "2023-11-20T22:13:41.461920Z",
     "iopub.status.busy": "2023-11-20T22:13:41.461510Z",
     "iopub.status.idle": "2023-11-20T22:13:41.479894Z",
     "shell.execute_reply": "2023-11-20T22:13:41.478117Z"
    },
    "papermill": {
     "duration": 0.055766,
     "end_time": "2023-11-20T22:13:41.482882",
     "exception": false,
     "start_time": "2023-11-20T22:13:41.427116",
     "status": "completed"
    },
    "tags": []
   },
   "outputs": [
    {
     "name": "stdout",
     "output_type": "stream",
     "text": [
      "   Pclass     Fare   Age  SibSp  Parch  Sex_female  Sex_male\n",
      "0     3.0   7.8292  34.5    0.0    0.0       False      True\n",
      "1     3.0   7.0000  47.0    1.0    0.0        True     False\n",
      "2     2.0   9.6875  62.0    0.0    0.0       False      True\n",
      "3     3.0   8.6625  27.0    0.0    0.0       False      True\n",
      "4     3.0  12.2875  22.0    1.0    1.0        True     False\n"
     ]
    }
   ],
   "source": [
    "test_data = test_data #the \"test_data\" variable here is after we cleaned up the test_data \n",
    "\n",
    "features = [\"Pclass\", \"Sex\", \"Fare\",\"Age\", \"SibSp\", \"Parch\"]\n",
    "\n",
    "test_data = test_data[features]\n",
    "\n",
    "test_data = pd.get_dummies(test_data)\n",
    "print(test_data.head())"
   ]
  },
  {
   "cell_type": "markdown",
   "id": "dcba8dc9",
   "metadata": {
    "papermill": {
     "duration": 0.032645,
     "end_time": "2023-11-20T22:13:41.549402",
     "exception": false,
     "start_time": "2023-11-20T22:13:41.516757",
     "status": "completed"
    },
    "tags": []
   },
   "source": [
    "**Setting up the Train data and Validation data and the Test data from the train_validation_test split:**"
   ]
  },
  {
   "cell_type": "code",
   "execution_count": 23,
   "id": "098d0eb2",
   "metadata": {
    "execution": {
     "iopub.execute_input": "2023-11-20T22:13:41.617145Z",
     "iopub.status.busy": "2023-11-20T22:13:41.616652Z",
     "iopub.status.idle": "2023-11-20T22:13:41.647964Z",
     "shell.execute_reply": "2023-11-20T22:13:41.646717Z"
    },
    "papermill": {
     "duration": 0.06847,
     "end_time": "2023-11-20T22:13:41.650722",
     "exception": false,
     "start_time": "2023-11-20T22:13:41.582252",
     "status": "completed"
    },
    "tags": []
   },
   "outputs": [
    {
     "name": "stdout",
     "output_type": "stream",
     "text": [
      "     Pclass     Fare   Age  SibSp  Parch  Sex_female  Sex_male\n",
      "570     2.0  10.5000  62.0    0.0    0.0       False      True\n",
      "787     3.0  29.1250   8.0    4.0    1.0       False      True\n",
      "74      3.0  56.4958  32.0    0.0    0.0       False      True\n",
      "113     3.0   9.8250  20.0    1.0    0.0        True     False\n",
      "635     2.0  13.0000  28.0    0.0    0.0        True     False\n",
      "     Pclass     Fare        Age  SibSp  Parch  Sex_female  Sex_male\n",
      "849     1.0  89.1042  32.900000    1.0    0.0        True     False\n",
      "331     1.0  28.5000  45.500000    0.0    0.0       False      True\n",
      "260     3.0   7.7500  48.637262    0.0    0.0       False      True\n",
      "316     2.0  26.0000  24.000000    1.0    0.0        True     False\n",
      "292     2.0  12.8750  36.000000    0.0    0.0       False      True\n",
      "     Pclass     Fare        Age  SibSp  Parch  Sex_female  Sex_male\n",
      "424     3.0  20.2125  18.000000    1.0    1.0       False      True\n",
      "837     3.0   8.0500  32.646019    0.0    0.0       False      True\n",
      "525     3.0   7.7500  40.500000    0.0    0.0       False      True\n",
      "328     3.0  20.5250  31.000000    1.0    1.0        True     False\n",
      "70      2.0  10.5000  32.000000    0.0    0.0       False      True\n"
     ]
    }
   ],
   "source": [
    "train_X = pd.get_dummies(train_X)\n",
    "print(train_X.head())\n",
    "\n",
    "valid_X = pd.get_dummies(valid_X)\n",
    "print(valid_X.head())\n",
    "\n",
    "test_X = pd.get_dummies(test_X)\n",
    "print(test_X.head())"
   ]
  },
  {
   "cell_type": "markdown",
   "id": "79ecbc01",
   "metadata": {
    "papermill": {
     "duration": 0.033175,
     "end_time": "2023-11-20T22:13:41.716966",
     "exception": false,
     "start_time": "2023-11-20T22:13:41.683791",
     "status": "completed"
    },
    "tags": []
   },
   "source": [
    "# Making the model, training it using train_X and changing the model based on valid_X"
   ]
  },
  {
   "cell_type": "code",
   "execution_count": 24,
   "id": "cdbf62b5",
   "metadata": {
    "execution": {
     "iopub.execute_input": "2023-11-20T22:13:41.784903Z",
     "iopub.status.busy": "2023-11-20T22:13:41.784404Z",
     "iopub.status.idle": "2023-11-20T22:13:41.790652Z",
     "shell.execute_reply": "2023-11-20T22:13:41.789307Z"
    },
    "papermill": {
     "duration": 0.043285,
     "end_time": "2023-11-20T22:13:41.793256",
     "exception": false,
     "start_time": "2023-11-20T22:13:41.749971",
     "status": "completed"
    },
    "tags": []
   },
   "outputs": [],
   "source": [
    "from sklearn.neural_network import MLPClassifier\n",
    "from sklearn.metrics import accuracy_score\n",
    "\n",
    "# Commented out the code so that the model won't run everytime\n",
    "\n",
    "# model = MLPClassifier(hidden_layer_sizes = (20, 11), activation = \"relu\", solver = \"lbfgs\", max_iter = 1000, random_state = 42)\n",
    "\n",
    "# model.fit(train_X, train_Y)\n",
    "\n",
    "# y_pred = model.predict(valid_X)\n",
    "\n",
    "# print(f\"Accuracy: {accuracy_score(valid_Y, y_pred)}\")"
   ]
  },
  {
   "cell_type": "markdown",
   "id": "f5ecf2c1",
   "metadata": {
    "papermill": {
     "duration": 0.032597,
     "end_time": "2023-11-20T22:13:41.858725",
     "exception": false,
     "start_time": "2023-11-20T22:13:41.826128",
     "status": "completed"
    },
    "tags": []
   },
   "source": [
    "**From the code above, you can see that I am using the validation set to test out the code**"
   ]
  },
  {
   "cell_type": "code",
   "execution_count": 25,
   "id": "f47e5a53",
   "metadata": {
    "execution": {
     "iopub.execute_input": "2023-11-20T22:13:41.926420Z",
     "iopub.status.busy": "2023-11-20T22:13:41.925952Z",
     "iopub.status.idle": "2023-11-20T22:13:41.931449Z",
     "shell.execute_reply": "2023-11-20T22:13:41.930105Z"
    },
    "papermill": {
     "duration": 0.042519,
     "end_time": "2023-11-20T22:13:41.934067",
     "exception": false,
     "start_time": "2023-11-20T22:13:41.891548",
     "status": "completed"
    },
    "tags": []
   },
   "outputs": [],
   "source": [
    "# Commented out the code so that the model won't run everytime\n",
    "\n",
    "# y_pred = model.predict(test_X)\n",
    "\n",
    "# print(f\"Accuracy: {accuracy_score(test_Y, y_pred)}\")"
   ]
  },
  {
   "cell_type": "markdown",
   "id": "6b242bc0",
   "metadata": {
    "papermill": {
     "duration": 0.032862,
     "end_time": "2023-11-20T22:13:42.000067",
     "exception": false,
     "start_time": "2023-11-20T22:13:41.967205",
     "status": "completed"
    },
    "tags": []
   },
   "source": [
    "# Using GridSearchCV to find the best parameters for my MLPClassifier Model"
   ]
  },
  {
   "cell_type": "markdown",
   "id": "7e3a76a4",
   "metadata": {
    "papermill": {
     "duration": 0.032654,
     "end_time": "2023-11-20T22:13:42.065653",
     "exception": false,
     "start_time": "2023-11-20T22:13:42.032999",
     "status": "completed"
    },
    "tags": []
   },
   "source": [
    "**The \"parameter space\" are all the different components and possible values which I want to try for my model**"
   ]
  },
  {
   "cell_type": "code",
   "execution_count": 26,
   "id": "381b336b",
   "metadata": {
    "execution": {
     "iopub.execute_input": "2023-11-20T22:13:42.134353Z",
     "iopub.status.busy": "2023-11-20T22:13:42.133894Z",
     "iopub.status.idle": "2023-11-20T22:13:42.145281Z",
     "shell.execute_reply": "2023-11-20T22:13:42.144016Z"
    },
    "papermill": {
     "duration": 0.049646,
     "end_time": "2023-11-20T22:13:42.147990",
     "exception": false,
     "start_time": "2023-11-20T22:13:42.098344",
     "status": "completed"
    },
    "tags": []
   },
   "outputs": [],
   "source": [
    "# %%capture --no-stderr\n",
    "\n",
    "# # Code that causes warnings\n",
    "# import warnings\n",
    "# from sklearn.exceptions import ConvergenceWarning\n",
    "\n",
    "# # Suppress ConvergenceWarning\n",
    "# warnings.filterwarnings(\"ignore\", category=ConvergenceWarning)\n",
    "# warnings.filterwarnings('ignore')\n",
    "\n",
    "from sklearn.model_selection import GridSearchCV\n",
    "from sklearn.neural_network import MLPClassifier\n",
    "\n",
    "training_X = pd.concat([train_X, valid_X, test_X], ignore_index=True)\n",
    "training_Y = pd.concat([train_Y, valid_Y, test_Y], ignore_index=True)\n",
    "\n",
    "possible_hidden_layers = []\n",
    "\n",
    "for i in range(8,16):\n",
    "    for j in range(8,16):\n",
    "        possible_hidden_layers.append((i, j))\n",
    "\n",
    "parameter_space = {\n",
    "    'hidden_layer_sizes': possible_hidden_layers,\n",
    "    'activation': ['tanh', 'relu'],\n",
    "    'solver': ['sgd', 'adam', \"lbfgs\"],\n",
    "    'alpha': [0.0001, 0.05],\n",
    "    'learning_rate': ['constant','adaptive'],\n",
    "}\n",
    "\n",
    "# mlp = MLPClassifier(max_iter=1000, random_state = 42)\n",
    "\n",
    "# clf = GridSearchCV(mlp, parameter_space, n_jobs=-1, cv=3)\n",
    "\n",
    "# clf.fit(training_X, training_Y)\n",
    "\n",
    "# print('Best parameters found:\\n', clf.best_params_)\n",
    "\n",
    "# print('Best score (CV mean):', clf.best_score_)\n",
    "\n",
    "# print(\"Done\")\n",
    "\n"
   ]
  },
  {
   "cell_type": "markdown",
   "id": "a0acc305",
   "metadata": {
    "papermill": {
     "duration": 0.034346,
     "end_time": "2023-11-20T22:13:42.215315",
     "exception": false,
     "start_time": "2023-11-20T22:13:42.180969",
     "status": "completed"
    },
    "tags": []
   },
   "source": [
    "# Now that I found the best hyperparameters, I can finalize my model"
   ]
  },
  {
   "cell_type": "markdown",
   "id": "42c7ab2d",
   "metadata": {
    "papermill": {
     "duration": 0.033097,
     "end_time": "2023-11-20T22:13:42.282201",
     "exception": false,
     "start_time": "2023-11-20T22:13:42.249104",
     "status": "completed"
    },
    "tags": []
   },
   "source": [
    "**Test using validation set:**"
   ]
  },
  {
   "cell_type": "code",
   "execution_count": 27,
   "id": "6c5720dc",
   "metadata": {
    "execution": {
     "iopub.execute_input": "2023-11-20T22:13:42.351758Z",
     "iopub.status.busy": "2023-11-20T22:13:42.350928Z",
     "iopub.status.idle": "2023-11-20T22:13:42.356771Z",
     "shell.execute_reply": "2023-11-20T22:13:42.355843Z"
    },
    "papermill": {
     "duration": 0.044087,
     "end_time": "2023-11-20T22:13:42.359293",
     "exception": false,
     "start_time": "2023-11-20T22:13:42.315206",
     "status": "completed"
    },
    "tags": []
   },
   "outputs": [],
   "source": [
    "# Best parameters: {'activation': 'tanh', 'alpha': 0.05, 'hidden_layer_sizes': (13, 15), 'learning_rate': 'constant', 'solver': 'lbfgs'}\n",
    "# Best score (CV mean): 0.8282828282828283\n",
    "\n",
    "\n",
    "from sklearn.neural_network import MLPClassifier\n",
    "from sklearn.metrics import accuracy_score\n",
    "\n",
    "# Commented out the code so that the model won't run everytime\n",
    "\n",
    "# model = MLPClassifier(activation = \"tanh\", alpha = 0.05, hidden_layer_sizes = (13, 15), learning_rate = \"constant\", solver = \"lbfgs\", max_iter=5000, random_state = 42)\n",
    "\n",
    "# #model = MLPClassifier(activation = \"relu\", hidden_layer_sizes = (20, 11), solver = \"lbfgs\",  max_iter=2000, random_state = 42)\n",
    "\n",
    "# model.fit(train_X, train_Y)\n",
    "\n",
    "# y_pred = model.predict(valid_X)\n",
    "\n",
    "# print(f\"Accuracy: {accuracy_score(valid_Y, y_pred)}\")"
   ]
  },
  {
   "cell_type": "markdown",
   "id": "f862ac43",
   "metadata": {
    "papermill": {
     "duration": 0.035884,
     "end_time": "2023-11-20T22:13:42.428304",
     "exception": false,
     "start_time": "2023-11-20T22:13:42.392420",
     "status": "completed"
    },
    "tags": []
   },
   "source": [
    "**Test using test set (from Train-validation-test split)**"
   ]
  },
  {
   "cell_type": "code",
   "execution_count": 28,
   "id": "1a0d6b8d",
   "metadata": {
    "execution": {
     "iopub.execute_input": "2023-11-20T22:13:42.497926Z",
     "iopub.status.busy": "2023-11-20T22:13:42.496950Z",
     "iopub.status.idle": "2023-11-20T22:13:42.502448Z",
     "shell.execute_reply": "2023-11-20T22:13:42.501072Z"
    },
    "papermill": {
     "duration": 0.042402,
     "end_time": "2023-11-20T22:13:42.504970",
     "exception": false,
     "start_time": "2023-11-20T22:13:42.462568",
     "status": "completed"
    },
    "tags": []
   },
   "outputs": [],
   "source": [
    "# Commented out the code so that the model won't run everytime\n",
    "\n",
    "# y_pred = model.predict(test_X)\n",
    "\n",
    "# print(f\"Accuracy: {accuracy_score(test_Y, y_pred)}\")"
   ]
  },
  {
   "cell_type": "markdown",
   "id": "84b43ff7",
   "metadata": {
    "papermill": {
     "duration": 0.032439,
     "end_time": "2023-11-20T22:13:42.570088",
     "exception": false,
     "start_time": "2023-11-20T22:13:42.537649",
     "status": "completed"
    },
    "tags": []
   },
   "source": [
    "# Submitting Model 3"
   ]
  },
  {
   "cell_type": "code",
   "execution_count": 29,
   "id": "2f9e5815",
   "metadata": {
    "execution": {
     "iopub.execute_input": "2023-11-20T22:13:42.638357Z",
     "iopub.status.busy": "2023-11-20T22:13:42.637549Z",
     "iopub.status.idle": "2023-11-20T22:13:42.643431Z",
     "shell.execute_reply": "2023-11-20T22:13:42.642195Z"
    },
    "papermill": {
     "duration": 0.043041,
     "end_time": "2023-11-20T22:13:42.645828",
     "exception": false,
     "start_time": "2023-11-20T22:13:42.602787",
     "status": "completed"
    },
    "tags": []
   },
   "outputs": [],
   "source": [
    "# Commented out the code so that the model won't run everytime\n",
    "\n",
    "# full_X = pd.get_dummies(X_train)\n",
    "\n",
    "# full_Y = Y_train\n",
    "\n",
    "# #We end up using the WHOLE training dataset (all of train.csv) to fit (train) our model right before submission since this gives our model the most amount of data to train on\n",
    "# model.fit(full_X, full_Y)\n",
    "\n",
    "\n",
    "# predictions3 = model.predict(test_data)"
   ]
  },
  {
   "cell_type": "code",
   "execution_count": 30,
   "id": "9976d989",
   "metadata": {
    "execution": {
     "iopub.execute_input": "2023-11-20T22:13:42.715693Z",
     "iopub.status.busy": "2023-11-20T22:13:42.714482Z",
     "iopub.status.idle": "2023-11-20T22:13:42.726612Z",
     "shell.execute_reply": "2023-11-20T22:13:42.725606Z"
    },
    "papermill": {
     "duration": 0.050301,
     "end_time": "2023-11-20T22:13:42.729368",
     "exception": false,
     "start_time": "2023-11-20T22:13:42.679067",
     "status": "completed"
    },
    "tags": []
   },
   "outputs": [],
   "source": [
    "original_test = pd.read_csv(\"/kaggle/input/titanic/test.csv\")\n",
    "\n",
    "pass_id = original_test['PassengerId']\n",
    "\n",
    "# original_test = original_test.drop('PassengerId', axis=1)\n",
    "# original_test = pd.get_dummies(original_test[features])\n",
    "\n",
    "test_data[\"PassengerId\"] = pass_id\n",
    "\n",
    "# Commented out the code so that the model won't run everytime\n",
    "\n",
    "# predictions3 = predictions3.astype(int)\n",
    "\n",
    "#print(predictions3)\n",
    "\n",
    "# output = pd.DataFrame({'PassengerId': test_data.PassengerId, 'Survived': predictions3})\n",
    "# output.to_csv('submission.csv', index=False)\n",
    "# print(\"Your submission was successfully saved!\")\n",
    "\n",
    "# test_data = test_data.drop(\"PassengerId\", axis = 1) # WE make sure to drop the PassengerId column since we are continuing to use the test_data variable in future tests and we don't want PassengerId to be apart of it until we submit the model again"
   ]
  },
  {
   "cell_type": "markdown",
   "id": "57bd60c4",
   "metadata": {
    "papermill": {
     "duration": 0.032873,
     "end_time": "2023-11-20T22:13:42.794983",
     "exception": false,
     "start_time": "2023-11-20T22:13:42.762110",
     "status": "completed"
    },
    "tags": []
   },
   "source": [
    "# Changing the model solver from \"lbfgs\" to \"adam\""
   ]
  },
  {
   "cell_type": "code",
   "execution_count": 31,
   "id": "630dd924",
   "metadata": {
    "execution": {
     "iopub.execute_input": "2023-11-20T22:13:42.862932Z",
     "iopub.status.busy": "2023-11-20T22:13:42.862064Z",
     "iopub.status.idle": "2023-11-20T22:13:42.868122Z",
     "shell.execute_reply": "2023-11-20T22:13:42.867237Z"
    },
    "papermill": {
     "duration": 0.043173,
     "end_time": "2023-11-20T22:13:42.870713",
     "exception": false,
     "start_time": "2023-11-20T22:13:42.827540",
     "status": "completed"
    },
    "tags": []
   },
   "outputs": [],
   "source": [
    "model = MLPClassifier(activation = \"tanh\", alpha = 0.05, hidden_layer_sizes = (13, 15), learning_rate = \"constant\", solver = \"adam\", max_iter=5000, random_state = 42)\n",
    "# Try changing it back to lbfgs after normalization since maybe it converges faster now after normalization\n",
    "#Also, with normalization, you can increase the learning_rate with less risk of divergence which is good\n"
   ]
  },
  {
   "cell_type": "markdown",
   "id": "35a3eaec",
   "metadata": {
    "papermill": {
     "duration": 0.032822,
     "end_time": "2023-11-20T22:13:42.935903",
     "exception": false,
     "start_time": "2023-11-20T22:13:42.903081",
     "status": "completed"
    },
    "tags": []
   },
   "source": [
    "**I made this change because it said that lbfgs was not converging so I tried changing to a differnet solver and adam seemed to converge. But also, I am going to normalize my data which should make the training of my data converge faster. So, I might also go back to lbfgs to see if it converges now**"
   ]
  },
  {
   "cell_type": "markdown",
   "id": "8b39bb80",
   "metadata": {
    "papermill": {
     "duration": 0.03298,
     "end_time": "2023-11-20T22:13:43.001681",
     "exception": false,
     "start_time": "2023-11-20T22:13:42.968701",
     "status": "completed"
    },
    "tags": []
   },
   "source": [
    "# Feature Engineering: Putting more weight onto specific features (like Gender and Age)"
   ]
  },
  {
   "cell_type": "markdown",
   "id": "07f5a634",
   "metadata": {
    "papermill": {
     "duration": 0.032298,
     "end_time": "2023-11-20T22:13:43.066815",
     "exception": false,
     "start_time": "2023-11-20T22:13:43.034517",
     "status": "completed"
    },
    "tags": []
   },
   "source": [
    "**We know from history that Women and Children were more likely to survive so it makes more sense to put more weight into those features. In other words, we should penalize a person more if they are not a Women or Child and therefore make it less likely for them to survive**"
   ]
  },
  {
   "cell_type": "code",
   "execution_count": 32,
   "id": "9da7a46d",
   "metadata": {
    "execution": {
     "iopub.execute_input": "2023-11-20T22:13:43.135888Z",
     "iopub.status.busy": "2023-11-20T22:13:43.134997Z",
     "iopub.status.idle": "2023-11-20T22:13:43.186092Z",
     "shell.execute_reply": "2023-11-20T22:13:43.184719Z"
    },
    "papermill": {
     "duration": 0.091143,
     "end_time": "2023-11-20T22:13:43.190961",
     "exception": false,
     "start_time": "2023-11-20T22:13:43.099818",
     "status": "completed"
    },
    "tags": []
   },
   "outputs": [
    {
     "name": "stdout",
     "output_type": "stream",
     "text": [
      "     Pclass      Fare     Age  SibSp  Parch  Sex_female  Sex_male\n",
      "570     2.0   10.5000  62.000    0.0    0.0       False      True\n",
      "787     3.0   29.1250   8.000    4.0    1.0       False      True\n",
      "74      3.0   56.4958  32.000    0.0    0.0       False      True\n",
      "113     3.0    9.8250  20.000    1.0    0.0        True     False\n",
      "635     2.0   13.0000  28.000    0.0    0.0        True     False\n",
      "..      ...       ...     ...    ...    ...         ...       ...\n",
      "106     3.0    7.6500  21.000    0.0    0.0        True     False\n",
      "270     1.0   31.0000  58.725    0.0    0.0       False      True\n",
      "860     3.0   14.1083  41.000    2.0    0.0       False      True\n",
      "435     1.0  120.0000  14.000    1.0    2.0        True     False\n",
      "102     1.0   77.2875  21.000    0.0    1.0       False      True\n",
      "\n",
      "[534 rows x 7 columns]\n",
      "     Pclass      Fare     Age  SibSp  Parch  Sex_female  Sex_male  \\\n",
      "570     2.0   10.5000  62.000    0.0    0.0       False      True   \n",
      "787     3.0   29.1250   8.000    4.0    1.0       False      True   \n",
      "74      3.0   56.4958  32.000    0.0    0.0       False      True   \n",
      "113     3.0    9.8250  20.000    1.0    0.0        True     False   \n",
      "635     2.0   13.0000  28.000    0.0    0.0        True     False   \n",
      "..      ...       ...     ...    ...    ...         ...       ...   \n",
      "106     3.0    7.6500  21.000    0.0    0.0        True     False   \n",
      "270     1.0   31.0000  58.725    0.0    0.0       False      True   \n",
      "860     3.0   14.1083  41.000    2.0    0.0       False      True   \n",
      "435     1.0  120.0000  14.000    1.0    2.0        True     False   \n",
      "102     1.0   77.2875  21.000    0.0    1.0       False      True   \n",
      "\n",
      "     FemaleFirstClass  ChildFirstClass  IsChild  FamilySize  IsAlone  \n",
      "570                 0                0        0         1.0        1  \n",
      "787                 0                0        1         6.0        0  \n",
      "74                  0                0        0         1.0        1  \n",
      "113                 0                0        0         2.0        0  \n",
      "635                 0                0        0         1.0        1  \n",
      "..                ...              ...      ...         ...      ...  \n",
      "106                 0                0        0         1.0        1  \n",
      "270                 0                0        0         1.0        1  \n",
      "860                 0                0        0         3.0        0  \n",
      "435                 1                1        1         4.0        0  \n",
      "102                 0                0        0         2.0        0  \n",
      "\n",
      "[534 rows x 12 columns]\n"
     ]
    }
   ],
   "source": [
    "print(train_X)\n",
    "\n",
    "train_X['FemaleFirstClass'] = ((train_X['Sex_female'] == True) & (train_X['Pclass'] == 1)).astype(int)\n",
    "train_X['ChildFirstClass'] = ((train_X['Age'] < 18) & (train_X['Pclass'] == 1)).astype(int) \n",
    "\n",
    "\n",
    "valid_X['FemaleFirstClass'] = ((valid_X['Sex_female'] == True) & (valid_X['Pclass'] == 1)).astype(int)\n",
    "valid_X['ChildFirstClass'] = ((valid_X['Age'] < 18) & (valid_X['Pclass'] == 1)).astype(int) \n",
    "\n",
    "\n",
    "test_X['FemaleFirstClass'] = ((test_X['Sex_female'] == True) & (test_X['Pclass'] == 1)).astype(int)\n",
    "test_X['ChildFirstClass'] = ((test_X['Age'] < 18) & (test_X['Pclass'] == 1)).astype(int) \n",
    "\n",
    "\n",
    "test_data['FemaleFirstClass'] = ((test_data['Sex_female'] == True) & (test_data['Pclass'] == 1)).astype(int)\n",
    "test_data['ChildFirstClass'] = ((test_data['Age'] < 18) & (test_data['Pclass'] == 1)).astype(int) \n",
    "\n",
    "\n",
    "# Bin 'Age' into categories\n",
    "train_X['IsChild'] = (train_X['Age'] < 18).astype(int)\n",
    "valid_X['IsChild'] = (valid_X['Age'] < 18).astype(int)\n",
    "test_X['IsChild'] = (test_X['Age'] < 18).astype(int)\n",
    "test_data['IsChild'] = (test_data['Age'] < 18).astype(int)\n",
    "\n",
    "\n",
    "# Create FamilySize and IsAlone\n",
    "train_X['FamilySize'] = train_X['SibSp'] + train_X['Parch'] + 1\n",
    "valid_X['FamilySize'] = valid_X['SibSp'] + valid_X['Parch'] + 1\n",
    "test_X['FamilySize'] = test_X['SibSp'] + test_X['Parch'] + 1\n",
    "test_data['FamilySize'] = test_data['SibSp'] + test_data['Parch'] + 1\n",
    "\n",
    "\n",
    "train_X['IsAlone'] = (train_X['FamilySize'] == 1).astype(int)\n",
    "valid_X['IsAlone'] = (valid_X['FamilySize'] == 1).astype(int)\n",
    "test_X['IsAlone'] = (test_X['FamilySize'] == 1).astype(int)\n",
    "test_data['IsAlone'] = (test_data['FamilySize'] == 1).astype(int)\n",
    "\n",
    "\n",
    "print(train_X)"
   ]
  },
  {
   "cell_type": "markdown",
   "id": "c72dd6e3",
   "metadata": {
    "papermill": {
     "duration": 0.032427,
     "end_time": "2023-11-20T22:13:43.256313",
     "exception": false,
     "start_time": "2023-11-20T22:13:43.223886",
     "status": "completed"
    },
    "tags": []
   },
   "source": [
    "# Normalizing all the data"
   ]
  },
  {
   "cell_type": "markdown",
   "id": "4a8ea1f1",
   "metadata": {
    "papermill": {
     "duration": 0.035814,
     "end_time": "2023-11-20T22:13:43.325019",
     "exception": false,
     "start_time": "2023-11-20T22:13:43.289205",
     "status": "completed"
    },
    "tags": []
   },
   "source": [
    "**Creating the Normalizing Scaler**"
   ]
  },
  {
   "cell_type": "code",
   "execution_count": 33,
   "id": "c02f01bd",
   "metadata": {
    "execution": {
     "iopub.execute_input": "2023-11-20T22:13:43.403733Z",
     "iopub.status.busy": "2023-11-20T22:13:43.403156Z",
     "iopub.status.idle": "2023-11-20T22:13:43.428393Z",
     "shell.execute_reply": "2023-11-20T22:13:43.426824Z"
    },
    "papermill": {
     "duration": 0.063636,
     "end_time": "2023-11-20T22:13:43.431139",
     "exception": false,
     "start_time": "2023-11-20T22:13:43.367503",
     "status": "completed"
    },
    "tags": []
   },
   "outputs": [
    {
     "name": "stdout",
     "output_type": "stream",
     "text": [
      "     Pclass      Fare     Age  SibSp  Parch  Sex_female  Sex_male  \\\n",
      "570     2.0   10.5000  62.000    0.0    0.0       False      True   \n",
      "787     3.0   29.1250   8.000    4.0    1.0       False      True   \n",
      "74      3.0   56.4958  32.000    0.0    0.0       False      True   \n",
      "113     3.0    9.8250  20.000    1.0    0.0        True     False   \n",
      "635     2.0   13.0000  28.000    0.0    0.0        True     False   \n",
      "..      ...       ...     ...    ...    ...         ...       ...   \n",
      "106     3.0    7.6500  21.000    0.0    0.0        True     False   \n",
      "270     1.0   31.0000  58.725    0.0    0.0       False      True   \n",
      "860     3.0   14.1083  41.000    2.0    0.0       False      True   \n",
      "435     1.0  120.0000  14.000    1.0    2.0        True     False   \n",
      "102     1.0   77.2875  21.000    0.0    1.0       False      True   \n",
      "\n",
      "     FemaleFirstClass  ChildFirstClass  IsChild  FamilySize  IsAlone  \n",
      "570                 0                0        0         1.0        1  \n",
      "787                 0                0        1         6.0        0  \n",
      "74                  0                0        0         1.0        1  \n",
      "113                 0                0        0         2.0        0  \n",
      "635                 0                0        0         1.0        1  \n",
      "..                ...              ...      ...         ...      ...  \n",
      "106                 0                0        0         1.0        1  \n",
      "270                 0                0        0         1.0        1  \n",
      "860                 0                0        0         3.0        0  \n",
      "435                 1                1        1         4.0        0  \n",
      "102                 0                0        0         2.0        0  \n",
      "\n",
      "[534 rows x 12 columns]\n"
     ]
    }
   ],
   "source": [
    "from sklearn.preprocessing import MinMaxScaler\n",
    "\n",
    "# Initialize the MinMaxScaler\n",
    "scaler = MinMaxScaler()\n",
    "\n",
    "# Select columns you want to normalize\n",
    "columns_to_normalize = [\"Pclass\", \"Fare\",\"Age\", \"SibSp\"]\n",
    "\n",
    "scaler.fit(train_X[columns_to_normalize]) #it is important to fit the scaler on the training data (from the train-validation-test split) only\n",
    "\n",
    "print(train_X)"
   ]
  },
  {
   "cell_type": "markdown",
   "id": "b04571ea",
   "metadata": {
    "papermill": {
     "duration": 0.036808,
     "end_time": "2023-11-20T22:13:43.504900",
     "exception": false,
     "start_time": "2023-11-20T22:13:43.468092",
     "status": "completed"
    },
    "tags": []
   },
   "source": [
    "**It is very important to only fit the scaler on the training data from the train-validation-test split and not the training data from the whole train.csv since the whole training data includes data from the validation and test split and fitting on that will cause the testing (using validation and test) of the model to be overly optimistic. This is called data leakage.**\n",
    "\n",
    "**Also, it's important that we do not fit the scaler multiple times since that would cause inconsistant fitting throughout the data. It should only be fitted once and then applied to all the different datasets.**\n",
    "\n",
    "**However,before I submit Model 4, I should re-fit the normalization scaler on the entire training data since I will be running my model on the entire training data**"
   ]
  },
  {
   "cell_type": "markdown",
   "id": "2fca4eba",
   "metadata": {
    "papermill": {
     "duration": 0.035224,
     "end_time": "2023-11-20T22:13:43.574585",
     "exception": false,
     "start_time": "2023-11-20T22:13:43.539361",
     "status": "completed"
    },
    "tags": []
   },
   "source": [
    "**Normalizing the test data (the one from test.csv)**"
   ]
  },
  {
   "cell_type": "code",
   "execution_count": 34,
   "id": "35402759",
   "metadata": {
    "execution": {
     "iopub.execute_input": "2023-11-20T22:13:43.659087Z",
     "iopub.status.busy": "2023-11-20T22:13:43.658124Z",
     "iopub.status.idle": "2023-11-20T22:13:43.667126Z",
     "shell.execute_reply": "2023-11-20T22:13:43.666132Z"
    },
    "papermill": {
     "duration": 0.055647,
     "end_time": "2023-11-20T22:13:43.670409",
     "exception": false,
     "start_time": "2023-11-20T22:13:43.614762",
     "status": "completed"
    },
    "tags": []
   },
   "outputs": [],
   "source": [
    "test_data = test_data #the \"test_data\" variable here is after we cleaned up the test_data \n",
    "\n",
    "#print(test_data)\n",
    "\n",
    "# Fit the scaler on the data and then transform it\n",
    "test_data[columns_to_normalize] = scaler.transform(test_data[columns_to_normalize])\n",
    "\n",
    "#print(test_data)"
   ]
  },
  {
   "cell_type": "markdown",
   "id": "ae680ecc",
   "metadata": {
    "papermill": {
     "duration": 0.034518,
     "end_time": "2023-11-20T22:13:43.742653",
     "exception": false,
     "start_time": "2023-11-20T22:13:43.708135",
     "status": "completed"
    },
    "tags": []
   },
   "source": [
    "**Normalizing the train, validation, and test data**"
   ]
  },
  {
   "cell_type": "code",
   "execution_count": 35,
   "id": "e115027d",
   "metadata": {
    "execution": {
     "iopub.execute_input": "2023-11-20T22:13:43.821233Z",
     "iopub.status.busy": "2023-11-20T22:13:43.820191Z",
     "iopub.status.idle": "2023-11-20T22:13:43.860553Z",
     "shell.execute_reply": "2023-11-20T22:13:43.859118Z"
    },
    "papermill": {
     "duration": 0.078848,
     "end_time": "2023-11-20T22:13:43.863712",
     "exception": false,
     "start_time": "2023-11-20T22:13:43.784864",
     "status": "completed"
    },
    "tags": []
   },
   "outputs": [
    {
     "name": "stdout",
     "output_type": "stream",
     "text": [
      "     Pclass      Fare       Age  SibSp  Parch  Sex_female  Sex_male  \\\n",
      "570     0.5  0.020495  0.773813  0.000    0.0       False      True   \n",
      "787     1.0  0.056848  0.095250  0.500    1.0       False      True   \n",
      "74      1.0  0.110272  0.396833  0.000    0.0       False      True   \n",
      "113     1.0  0.019177  0.246042  0.125    0.0        True     False   \n",
      "635     0.5  0.025374  0.346569  0.000    0.0        True     False   \n",
      "\n",
      "     FemaleFirstClass  ChildFirstClass  IsChild  FamilySize  IsAlone  \n",
      "570                 0                0        0         1.0        1  \n",
      "787                 0                0        1         6.0        0  \n",
      "74                  0                0        0         1.0        1  \n",
      "113                 0                0        0         2.0        0  \n",
      "635                 0                0        0         1.0        1  \n",
      "     Pclass      Fare       Age  SibSp  Parch  Sex_female  Sex_male  \\\n",
      "849     0.0  0.173920  0.408143  0.125    0.0        True     False   \n",
      "331     0.0  0.055628  0.566474  0.000    0.0       False      True   \n",
      "260     1.0  0.015127  0.605897  0.000    0.0       False      True   \n",
      "316     0.5  0.050749  0.296306  0.125    0.0        True     False   \n",
      "292     0.5  0.025130  0.447097  0.000    0.0       False      True   \n",
      "\n",
      "     FemaleFirstClass  ChildFirstClass  IsChild  FamilySize  IsAlone  \n",
      "849                 1                0        0         2.0        0  \n",
      "331                 0                0        0         1.0        1  \n",
      "260                 0                0        0         1.0        1  \n",
      "316                 0                0        0         2.0        0  \n",
      "292                 0                0        0         1.0        1  \n",
      "     Pclass      Fare       Age  SibSp  Parch  Sex_female  Sex_male  \\\n",
      "424     1.0  0.039452  0.220910  0.125    1.0       False      True   \n",
      "837     1.0  0.015713  0.404951  0.000    0.0       False      True   \n",
      "525     1.0  0.015127  0.503644  0.000    0.0       False      True   \n",
      "328     1.0  0.040062  0.384267  0.125    1.0        True     False   \n",
      "70      0.5  0.020495  0.396833  0.000    0.0       False      True   \n",
      "\n",
      "     FemaleFirstClass  ChildFirstClass  IsChild  FamilySize  IsAlone  \n",
      "424                 0                0        0         3.0        0  \n",
      "837                 0                0        0         1.0        1  \n",
      "525                 0                0        0         1.0        1  \n",
      "328                 0                0        0         3.0        0  \n",
      "70                  0                0        0         1.0        1  \n"
     ]
    }
   ],
   "source": [
    "train_X[columns_to_normalize] = scaler.transform(train_X[columns_to_normalize])\n",
    "print(train_X.head())\n",
    "\n",
    "valid_X[columns_to_normalize] = scaler.transform(valid_X[columns_to_normalize])\n",
    "print(valid_X.head())\n",
    "\n",
    "test_X[columns_to_normalize] = scaler.transform(test_X[columns_to_normalize])\n",
    "print(test_X.head())"
   ]
  },
  {
   "cell_type": "markdown",
   "id": "314b9f4b",
   "metadata": {
    "papermill": {
     "duration": 0.033275,
     "end_time": "2023-11-20T22:13:43.931129",
     "exception": false,
     "start_time": "2023-11-20T22:13:43.897854",
     "status": "completed"
    },
    "tags": []
   },
   "source": [
    "# Testing out my model (4th) after Feature Enginering and Normalization"
   ]
  },
  {
   "cell_type": "code",
   "execution_count": 36,
   "id": "71ac36f1",
   "metadata": {
    "execution": {
     "iopub.execute_input": "2023-11-20T22:13:44.001139Z",
     "iopub.status.busy": "2023-11-20T22:13:43.999588Z",
     "iopub.status.idle": "2023-11-20T22:13:46.426580Z",
     "shell.execute_reply": "2023-11-20T22:13:46.425294Z"
    },
    "papermill": {
     "duration": 2.464664,
     "end_time": "2023-11-20T22:13:46.429371",
     "exception": false,
     "start_time": "2023-11-20T22:13:43.964707",
     "status": "completed"
    },
    "tags": []
   },
   "outputs": [
    {
     "name": "stdout",
     "output_type": "stream",
     "text": [
      "Validation Accuracy: 0.8146067415730337\n"
     ]
    }
   ],
   "source": [
    "model = MLPClassifier(activation = \"tanh\", alpha = 0, hidden_layer_sizes = (13, 15), learning_rate = \"constant\", solver = \"adam\", max_iter=5000, random_state = 42)\n",
    "\n",
    "model.fit(train_X, train_Y)\n",
    "\n",
    "y_pred = model.predict(valid_X)\n",
    "\n",
    "print(f\"Validation Accuracy: {accuracy_score(valid_Y, y_pred)}\")"
   ]
  },
  {
   "cell_type": "markdown",
   "id": "ab310485",
   "metadata": {
    "papermill": {
     "duration": 0.03371,
     "end_time": "2023-11-20T22:13:46.497470",
     "exception": false,
     "start_time": "2023-11-20T22:13:46.463760",
     "status": "completed"
    },
    "tags": []
   },
   "source": [
    "# Using GridSearchCV to find new best amount of neurons per hidden layer and also to find best alpha and activation\n"
   ]
  },
  {
   "cell_type": "code",
   "execution_count": 37,
   "id": "d1ee53cf",
   "metadata": {
    "execution": {
     "iopub.execute_input": "2023-11-20T22:13:46.566610Z",
     "iopub.status.busy": "2023-11-20T22:13:46.566169Z",
     "iopub.status.idle": "2023-11-20T22:13:46.577707Z",
     "shell.execute_reply": "2023-11-20T22:13:46.576512Z"
    },
    "papermill": {
     "duration": 0.049055,
     "end_time": "2023-11-20T22:13:46.580455",
     "exception": false,
     "start_time": "2023-11-20T22:13:46.531400",
     "status": "completed"
    },
    "tags": []
   },
   "outputs": [],
   "source": [
    "from sklearn.neural_network import MLPClassifier\n",
    "\n",
    "training_X = pd.concat([train_X, valid_X, test_X], ignore_index=True)\n",
    "training_Y = pd.concat([train_Y, valid_Y, test_Y], ignore_index=True)\n",
    "\n",
    "possible_hidden_layers = []\n",
    "\n",
    "for i in range(8,20):\n",
    "    for j in range(8,20):\n",
    "        possible_hidden_layers.append((i, j))\n",
    "\n",
    "parameter_space = {\n",
    "    'hidden_layer_sizes': possible_hidden_layers,\n",
    "    'activation': ['tanh', 'relu'],\n",
    "    'alpha': [0.0001, 0.05],\n",
    "    \"max_iter\": [4000, 5000, 6000, 7000]\n",
    "}\n",
    "\n",
    "# mlp = MLPClassifier(solver = \"adam\", random_state = 42)\n",
    "\n",
    "# clf = GridSearchCV(mlp, parameter_space, n_jobs=-1, cv=3)\n",
    "\n",
    "# clf.fit(training_X, training_Y)\n",
    "\n",
    "# print('Best parameters found:\\n', clf.best_params_)\n",
    "\n",
    "# print('Best score (CV mean):', clf.best_score_)\n",
    "\n",
    "# print(\"Done\")"
   ]
  },
  {
   "cell_type": "markdown",
   "id": "ea65e267",
   "metadata": {
    "papermill": {
     "duration": 0.033351,
     "end_time": "2023-11-20T22:13:46.647806",
     "exception": false,
     "start_time": "2023-11-20T22:13:46.614455",
     "status": "completed"
    },
    "tags": []
   },
   "source": [
    "# Before I submit Model 4, I should re-fit the normalization scaler on the entire training data since I will be running my model on the entire training data\n"
   ]
  },
  {
   "cell_type": "code",
   "execution_count": 38,
   "id": "f9fa0713",
   "metadata": {
    "execution": {
     "iopub.execute_input": "2023-11-20T22:13:46.716924Z",
     "iopub.status.busy": "2023-11-20T22:13:46.716461Z",
     "iopub.status.idle": "2023-11-20T22:13:46.754043Z",
     "shell.execute_reply": "2023-11-20T22:13:46.752611Z"
    },
    "papermill": {
     "duration": 0.075917,
     "end_time": "2023-11-20T22:13:46.757169",
     "exception": false,
     "start_time": "2023-11-20T22:13:46.681252",
     "status": "completed"
    },
    "tags": []
   },
   "outputs": [
    {
     "name": "stdout",
     "output_type": "stream",
     "text": [
      "     Pclass      Fare       Age  SibSp  Parch  Sex_female  Sex_male  \\\n",
      "0       0.5  0.020495  0.773813  0.000    0.0       False      True   \n",
      "1       1.0  0.056848  0.095250  0.500    1.0       False      True   \n",
      "2       1.0  0.110272  0.396833  0.000    0.0       False      True   \n",
      "3       1.0  0.019177  0.246042  0.125    0.0        True     False   \n",
      "4       0.5  0.025374  0.346569  0.000    0.0        True     False   \n",
      "..      ...       ...       ...    ...    ...         ...       ...   \n",
      "886     1.0  0.015713  0.258608  0.000    0.0       False      True   \n",
      "887     0.0  0.060508  0.371701  0.000    0.0        True     False   \n",
      "888     1.0  0.015713  0.547625  0.000    0.0       False      True   \n",
      "889     0.0  0.512122  0.258608  0.250    2.0        True     False   \n",
      "890     0.0  0.444099  0.472229  0.000    0.0        True     False   \n",
      "\n",
      "     FemaleFirstClass  ChildFirstClass  IsChild  FamilySize  IsAlone  \n",
      "0                   0                0        0         1.0        1  \n",
      "1                   0                0        1         6.0        0  \n",
      "2                   0                0        0         1.0        1  \n",
      "3                   0                0        0         2.0        0  \n",
      "4                   0                0        0         1.0        1  \n",
      "..                ...              ...      ...         ...      ...  \n",
      "886                 0                0        0         1.0        1  \n",
      "887                 1                0        0         1.0        1  \n",
      "888                 0                0        0         1.0        1  \n",
      "889                 1                0        0         5.0        0  \n",
      "890                 1                0        0         1.0        1  \n",
      "\n",
      "[891 rows x 12 columns]\n",
      "     Pclass      Fare       Age  SibSp  Parch  Sex_female  Sex_male  \\\n",
      "0       0.5  0.020495  0.773813  0.000    0.0       False      True   \n",
      "1       1.0  0.056848  0.095250  0.500    1.0       False      True   \n",
      "2       1.0  0.110272  0.396833  0.000    0.0       False      True   \n",
      "3       1.0  0.019177  0.246042  0.125    0.0        True     False   \n",
      "4       0.5  0.025374  0.346569  0.000    0.0        True     False   \n",
      "..      ...       ...       ...    ...    ...         ...       ...   \n",
      "886     1.0  0.015713  0.258608  0.000    0.0       False      True   \n",
      "887     0.0  0.060508  0.371701  0.000    0.0        True     False   \n",
      "888     1.0  0.015713  0.547625  0.000    0.0       False      True   \n",
      "889     0.0  0.512122  0.258608  0.250    2.0        True     False   \n",
      "890     0.0  0.444099  0.472229  0.000    0.0        True     False   \n",
      "\n",
      "     FemaleFirstClass  ChildFirstClass  IsChild  FamilySize  IsAlone  \n",
      "0                   0                0        0         1.0        1  \n",
      "1                   0                0        1         6.0        0  \n",
      "2                   0                0        0         1.0        1  \n",
      "3                   0                0        0         2.0        0  \n",
      "4                   0                0        0         1.0        1  \n",
      "..                ...              ...      ...         ...      ...  \n",
      "886                 0                0        0         1.0        1  \n",
      "887                 1                0        0         1.0        1  \n",
      "888                 0                0        0         1.0        1  \n",
      "889                 1                0        0         5.0        0  \n",
      "890                 1                0        0         1.0        1  \n",
      "\n",
      "[891 rows x 12 columns]\n"
     ]
    }
   ],
   "source": [
    "from sklearn.preprocessing import MinMaxScaler\n",
    "\n",
    "training_X = pd.concat([train_X, valid_X, test_X], ignore_index=True) # training_X is the entire training data from train.csv but after all the cleaning, normalization, and feature engineering\n",
    "training_Y = pd.concat([train_Y, valid_Y, test_Y], ignore_index=True) \n",
    "\n",
    "\n",
    "# Initialize the MinMaxScaler\n",
    "scaler = MinMaxScaler()\n",
    "\n",
    "columns_to_normalize = [\"Pclass\", \"Fare\", \"Age\", \"SibSp\"]\n",
    "\n",
    "scaler.fit(training_X[columns_to_normalize])\n",
    "\n",
    "print(training_X)\n",
    "\n",
    "training_X[columns_to_normalize] = scaler.transform(training_X[columns_to_normalize])\n",
    "\n",
    "print(training_X)"
   ]
  },
  {
   "cell_type": "markdown",
   "id": "fb58e7e5",
   "metadata": {
    "papermill": {
     "duration": 0.03319,
     "end_time": "2023-11-20T22:13:46.824250",
     "exception": false,
     "start_time": "2023-11-20T22:13:46.791060",
     "status": "completed"
    },
    "tags": []
   },
   "source": [
    "# Now that the test data is Normalized and has feature engineering (from previous code), I can use model.predict() on it"
   ]
  },
  {
   "cell_type": "code",
   "execution_count": 39,
   "id": "0929959e",
   "metadata": {
    "execution": {
     "iopub.execute_input": "2023-11-20T22:13:46.894454Z",
     "iopub.status.busy": "2023-11-20T22:13:46.893930Z",
     "iopub.status.idle": "2023-11-20T22:13:46.899844Z",
     "shell.execute_reply": "2023-11-20T22:13:46.898445Z"
    },
    "papermill": {
     "duration": 0.044736,
     "end_time": "2023-11-20T22:13:46.902351",
     "exception": false,
     "start_time": "2023-11-20T22:13:46.857615",
     "status": "completed"
    },
    "tags": []
   },
   "outputs": [],
   "source": [
    "# Best parameters found:\n",
    "#  {'activation': 'relu', 'alpha': 0.0001, 'hidden_layer_sizes': (11, 15), 'max_iter': 4000}\n",
    "# Best score (CV mean): 0.8282828282828284\n",
    "\n",
    "# Commented out the code so that the model won't run everytime\n",
    "\n",
    "# model = MLPClassifier(activation = \"relu\", alpha = 0.0001, hidden_layer_sizes = (11, 15), solver = \"adam\", max_iter=4000, random_state = 42)\n",
    "\n",
    "# model.fit(training_X, training_Y) #Fitting the model on the entire training data set (including all the sub-sets from train-validation-test split)\n",
    "\n",
    "# test_data = test_data.drop(\"PassengerId\", axis = 1)\n",
    "\n",
    "# predictions4 = model.predict(test_data)\n"
   ]
  },
  {
   "cell_type": "markdown",
   "id": "888a3a5c",
   "metadata": {
    "papermill": {
     "duration": 0.037143,
     "end_time": "2023-11-20T22:13:46.974642",
     "exception": false,
     "start_time": "2023-11-20T22:13:46.937499",
     "status": "completed"
    },
    "tags": []
   },
   "source": [
    "# Submitting Model 4 (accuracy: 79.425)"
   ]
  },
  {
   "cell_type": "code",
   "execution_count": 40,
   "id": "dbfea523",
   "metadata": {
    "execution": {
     "iopub.execute_input": "2023-11-20T22:13:47.044661Z",
     "iopub.status.busy": "2023-11-20T22:13:47.044186Z",
     "iopub.status.idle": "2023-11-20T22:13:47.049841Z",
     "shell.execute_reply": "2023-11-20T22:13:47.048624Z"
    },
    "papermill": {
     "duration": 0.044111,
     "end_time": "2023-11-20T22:13:47.052576",
     "exception": false,
     "start_time": "2023-11-20T22:13:47.008465",
     "status": "completed"
    },
    "tags": []
   },
   "outputs": [],
   "source": [
    "# Commented out the code so that the model won't run everytime\n",
    "\n",
    "# original_test = pd.read_csv(\"/kaggle/input/titanic/test.csv\")\n",
    "\n",
    "# pass_id = original_test['PassengerId']\n",
    "\n",
    "# test_data[\"PassengerId\"] = pass_id\n",
    "\n",
    "# predictions4 = predictions4.astype(int)\n",
    "\n",
    "# output = pd.DataFrame({'PassengerId': test_data.PassengerId, 'Survived': predictions4})\n",
    "# output.to_csv('submission.csv', index=False)\n",
    "# print(\"Your submission was successfully saved!\")\n",
    "\n",
    "# test_data = test_data.drop(\"PassengerId\", axis = 1) # WE make sure to drop the PassengerId column since we are continuing to use the test_data variable in future tests and we don't want PassengerId to be apart of it until we submit the model again"
   ]
  },
  {
   "cell_type": "markdown",
   "id": "fd4d0eda",
   "metadata": {
    "papermill": {
     "duration": 0.037932,
     "end_time": "2023-11-20T22:13:47.124803",
     "exception": false,
     "start_time": "2023-11-20T22:13:47.086871",
     "status": "completed"
    },
    "tags": []
   },
   "source": [
    "# MAKE SURE THERE ISN'T ANY NEGATIVE VALUES FOR AGE BEFORE AND AFTER NORMALIZATION"
   ]
  },
  {
   "cell_type": "code",
   "execution_count": 41,
   "id": "dbc2a665",
   "metadata": {
    "execution": {
     "iopub.execute_input": "2023-11-20T22:13:47.205199Z",
     "iopub.status.busy": "2023-11-20T22:13:47.204683Z",
     "iopub.status.idle": "2023-11-20T22:13:47.215099Z",
     "shell.execute_reply": "2023-11-20T22:13:47.213816Z"
    },
    "papermill": {
     "duration": 0.052685,
     "end_time": "2023-11-20T22:13:47.217833",
     "exception": false,
     "start_time": "2023-11-20T22:13:47.165148",
     "status": "completed"
    },
    "tags": []
   },
   "outputs": [
    {
     "name": "stdout",
     "output_type": "stream",
     "text": [
      "Empty DataFrame\n",
      "Columns: [Pclass, Fare, Age, SibSp, Parch, Sex_female, Sex_male, FemaleFirstClass, ChildFirstClass, IsChild, FamilySize, IsAlone]\n",
      "Index: []\n"
     ]
    }
   ],
   "source": [
    "negatives = training_X[training_X[\"Age\"] < 0]\n",
    "print(negatives)\n",
    "\n",
    "# No values negative values for age"
   ]
  },
  {
   "cell_type": "markdown",
   "id": "fe6a0c8d",
   "metadata": {
    "papermill": {
     "duration": 0.033149,
     "end_time": "2023-11-20T22:13:47.284797",
     "exception": false,
     "start_time": "2023-11-20T22:13:47.251648",
     "status": "completed"
    },
    "tags": []
   },
   "source": [
    "# Maybe do GridSearchCV to test only the Alpha value and the max_iter"
   ]
  },
  {
   "cell_type": "markdown",
   "id": "95b14026",
   "metadata": {
    "papermill": {
     "duration": 0.033252,
     "end_time": "2023-11-20T22:13:47.351575",
     "exception": false,
     "start_time": "2023-11-20T22:13:47.318323",
     "status": "completed"
    },
    "tags": []
   },
   "source": [
    "**TRY THIS OUT SINCE THE PREVIOUS GRIDSEARCH DIDN'T REALLY TRY MANY Alpha VALUES AND DIDN'T TEST OUT DIFFERENT max_iter. Maybe try doing GridSearchCV with different GPU accelerator to see if it goes faster**"
   ]
  },
  {
   "cell_type": "code",
   "execution_count": 42,
   "id": "bf48d6b5",
   "metadata": {
    "execution": {
     "iopub.execute_input": "2023-11-20T22:13:47.421398Z",
     "iopub.status.busy": "2023-11-20T22:13:47.420921Z",
     "iopub.status.idle": "2023-11-20T22:13:47.427718Z",
     "shell.execute_reply": "2023-11-20T22:13:47.426408Z"
    },
    "papermill": {
     "duration": 0.044582,
     "end_time": "2023-11-20T22:13:47.430319",
     "exception": false,
     "start_time": "2023-11-20T22:13:47.385737",
     "status": "completed"
    },
    "tags": []
   },
   "outputs": [],
   "source": [
    "# from sklearn.neural_network import MLPClassifier\n",
    "\n",
    "# training_X = pd.concat([train_X, valid_X, test_X], ignore_index=True)\n",
    "# training_Y = pd.concat([train_Y, valid_Y, test_Y], ignore_index=True)\n",
    "\n",
    "# possible_alpha = []\n",
    "# possible_max_iter = []\n",
    "\n",
    "# initial_alpha = 0.0001\n",
    "# for i in range(8,20):\n",
    "#     possible_alpha.append(initial_alpha)\n",
    "#     initial_alpha += 0.0005\n",
    "\n",
    "# initial_iter = 3500\n",
    "# for i in range(8,20):\n",
    "#     possible_max_iter.append(initial_iter)\n",
    "#     initial_iter += 200\n",
    "\n",
    "\n",
    "# parameter_space = {\n",
    "#     'alpha': possible_alpha,\n",
    "#     \"max_iter\": possible_max_iter\n",
    "# }\n",
    "\n",
    "# mlp = MLPClassifier(activation = \"relu\", hidden_layer_sizes = (11, 15), solver = \"adam\", random_state = 42)\n",
    "\n",
    "# clf = GridSearchCV(mlp, parameter_space, n_jobs=-1, cv=5)\n",
    "\n",
    "# clf.fit(training_X, training_Y)\n",
    "\n",
    "# print('Best parameters found:\\n', clf.best_params_)\n",
    "\n",
    "# print('Best score (CV mean):', clf.best_score_)\n",
    "\n",
    "# print(\"Done\")\n",
    "\n",
    "# Best parameters found:\n",
    "#  {'alpha': 0.0005, 'max_iter': 4000}\n",
    "# Best score (CV mean): 0.8203753687778546"
   ]
  },
  {
   "cell_type": "markdown",
   "id": "46da55ee",
   "metadata": {
    "papermill": {
     "duration": 0.033519,
     "end_time": "2023-11-20T22:13:47.497408",
     "exception": false,
     "start_time": "2023-11-20T22:13:47.463889",
     "status": "completed"
    },
    "tags": []
   },
   "source": [
    "# Testing out Model 5 (accuracy: 78.229)"
   ]
  },
  {
   "cell_type": "code",
   "execution_count": 43,
   "id": "108013a8",
   "metadata": {
    "execution": {
     "iopub.execute_input": "2023-11-20T22:13:47.567098Z",
     "iopub.status.busy": "2023-11-20T22:13:47.566617Z",
     "iopub.status.idle": "2023-11-20T22:13:47.571749Z",
     "shell.execute_reply": "2023-11-20T22:13:47.570621Z"
    },
    "papermill": {
     "duration": 0.043031,
     "end_time": "2023-11-20T22:13:47.574377",
     "exception": false,
     "start_time": "2023-11-20T22:13:47.531346",
     "status": "completed"
    },
    "tags": []
   },
   "outputs": [],
   "source": [
    "# model = MLPClassifier(activation = \"relu\", alpha = 0.0036, hidden_layer_sizes = (15, 15), solver = \"adam\", max_iter=7000, random_state = 42)\n",
    "\n",
    "# model.fit(train_X, train_Y)\n",
    "\n",
    "# y_pred = model.predict(valid_X)\n",
    "\n",
    "# print(f\"Validation Accuracy: {accuracy_score(valid_Y, y_pred)}\")"
   ]
  },
  {
   "cell_type": "markdown",
   "id": "7c21df64",
   "metadata": {
    "papermill": {
     "duration": 0.03353,
     "end_time": "2023-11-20T22:13:47.641526",
     "exception": false,
     "start_time": "2023-11-20T22:13:47.607996",
     "status": "completed"
    },
    "tags": []
   },
   "source": [
    "# Submitting Model 5"
   ]
  },
  {
   "cell_type": "code",
   "execution_count": 44,
   "id": "ff4c97e0",
   "metadata": {
    "execution": {
     "iopub.execute_input": "2023-11-20T22:13:47.711339Z",
     "iopub.status.busy": "2023-11-20T22:13:47.710896Z",
     "iopub.status.idle": "2023-11-20T22:13:47.716600Z",
     "shell.execute_reply": "2023-11-20T22:13:47.715371Z"
    },
    "papermill": {
     "duration": 0.04306,
     "end_time": "2023-11-20T22:13:47.718916",
     "exception": false,
     "start_time": "2023-11-20T22:13:47.675856",
     "status": "completed"
    },
    "tags": []
   },
   "outputs": [],
   "source": [
    "# model = MLPClassifier(activation = \"relu\", alpha = 0.0036, hidden_layer_sizes = (15, 15), solver = \"adam\", max_iter=7000, random_state = 42)\n",
    "\n",
    "# model.fit(training_X, training_Y) #Fitting the model on the entire training data set (including all the sub-sets from train-validation-test split)\n",
    "\n",
    "# if \"PassengerId\" in test_data.columns:\n",
    "#     test_data = test_data.drop(\"PassengerId\", axis = 1)\n",
    "\n",
    "# predictions5 = model.predict(test_data)"
   ]
  },
  {
   "cell_type": "code",
   "execution_count": 45,
   "id": "89b24d24",
   "metadata": {
    "execution": {
     "iopub.execute_input": "2023-11-20T22:13:47.787825Z",
     "iopub.status.busy": "2023-11-20T22:13:47.787380Z",
     "iopub.status.idle": "2023-11-20T22:13:47.792645Z",
     "shell.execute_reply": "2023-11-20T22:13:47.791376Z"
    },
    "papermill": {
     "duration": 0.042637,
     "end_time": "2023-11-20T22:13:47.794925",
     "exception": false,
     "start_time": "2023-11-20T22:13:47.752288",
     "status": "completed"
    },
    "tags": []
   },
   "outputs": [],
   "source": [
    "# original_test = pd.read_csv(\"/kaggle/input/titanic/test.csv\")\n",
    "\n",
    "# pass_id = original_test['PassengerId']\n",
    "\n",
    "# test_data[\"PassengerId\"] = pass_id\n",
    "\n",
    "# predictions5 = predictions5.astype(int)\n",
    "\n",
    "# output = pd.DataFrame({'PassengerId': test_data.PassengerId, 'Survived': predictions5})\n",
    "# output.to_csv('submission.csv', index=False)\n",
    "# print(\"Your submission was successfully saved!\")\n",
    "\n",
    "# test_data = test_data.drop(\"PassengerId\", axis = 1) # WE make sure to drop the PassengerId column since we are continuing to use the test_data variable in future tests and we don't want PassengerId to be apart of it until we submit the model again"
   ]
  },
  {
   "cell_type": "markdown",
   "id": "4604939a",
   "metadata": {
    "papermill": {
     "duration": 0.033101,
     "end_time": "2023-11-20T22:13:47.861600",
     "exception": false,
     "start_time": "2023-11-20T22:13:47.828499",
     "status": "completed"
    },
    "tags": []
   },
   "source": [
    "# Make the Random Forest Classifier Model"
   ]
  },
  {
   "cell_type": "code",
   "execution_count": 46,
   "id": "842d4ef3",
   "metadata": {
    "execution": {
     "iopub.execute_input": "2023-11-20T22:13:47.932509Z",
     "iopub.status.busy": "2023-11-20T22:13:47.932071Z",
     "iopub.status.idle": "2023-11-20T22:13:48.207090Z",
     "shell.execute_reply": "2023-11-20T22:13:48.205885Z"
    },
    "papermill": {
     "duration": 0.314328,
     "end_time": "2023-11-20T22:13:48.209719",
     "exception": false,
     "start_time": "2023-11-20T22:13:47.895391",
     "status": "completed"
    },
    "tags": []
   },
   "outputs": [
    {
     "data": {
      "text/html": [
       "<style>#sk-container-id-1 {color: black;background-color: white;}#sk-container-id-1 pre{padding: 0;}#sk-container-id-1 div.sk-toggleable {background-color: white;}#sk-container-id-1 label.sk-toggleable__label {cursor: pointer;display: block;width: 100%;margin-bottom: 0;padding: 0.3em;box-sizing: border-box;text-align: center;}#sk-container-id-1 label.sk-toggleable__label-arrow:before {content: \"▸\";float: left;margin-right: 0.25em;color: #696969;}#sk-container-id-1 label.sk-toggleable__label-arrow:hover:before {color: black;}#sk-container-id-1 div.sk-estimator:hover label.sk-toggleable__label-arrow:before {color: black;}#sk-container-id-1 div.sk-toggleable__content {max-height: 0;max-width: 0;overflow: hidden;text-align: left;background-color: #f0f8ff;}#sk-container-id-1 div.sk-toggleable__content pre {margin: 0.2em;color: black;border-radius: 0.25em;background-color: #f0f8ff;}#sk-container-id-1 input.sk-toggleable__control:checked~div.sk-toggleable__content {max-height: 200px;max-width: 100%;overflow: auto;}#sk-container-id-1 input.sk-toggleable__control:checked~label.sk-toggleable__label-arrow:before {content: \"▾\";}#sk-container-id-1 div.sk-estimator input.sk-toggleable__control:checked~label.sk-toggleable__label {background-color: #d4ebff;}#sk-container-id-1 div.sk-label input.sk-toggleable__control:checked~label.sk-toggleable__label {background-color: #d4ebff;}#sk-container-id-1 input.sk-hidden--visually {border: 0;clip: rect(1px 1px 1px 1px);clip: rect(1px, 1px, 1px, 1px);height: 1px;margin: -1px;overflow: hidden;padding: 0;position: absolute;width: 1px;}#sk-container-id-1 div.sk-estimator {font-family: monospace;background-color: #f0f8ff;border: 1px dotted black;border-radius: 0.25em;box-sizing: border-box;margin-bottom: 0.5em;}#sk-container-id-1 div.sk-estimator:hover {background-color: #d4ebff;}#sk-container-id-1 div.sk-parallel-item::after {content: \"\";width: 100%;border-bottom: 1px solid gray;flex-grow: 1;}#sk-container-id-1 div.sk-label:hover label.sk-toggleable__label {background-color: #d4ebff;}#sk-container-id-1 div.sk-serial::before {content: \"\";position: absolute;border-left: 1px solid gray;box-sizing: border-box;top: 0;bottom: 0;left: 50%;z-index: 0;}#sk-container-id-1 div.sk-serial {display: flex;flex-direction: column;align-items: center;background-color: white;padding-right: 0.2em;padding-left: 0.2em;position: relative;}#sk-container-id-1 div.sk-item {position: relative;z-index: 1;}#sk-container-id-1 div.sk-parallel {display: flex;align-items: stretch;justify-content: center;background-color: white;position: relative;}#sk-container-id-1 div.sk-item::before, #sk-container-id-1 div.sk-parallel-item::before {content: \"\";position: absolute;border-left: 1px solid gray;box-sizing: border-box;top: 0;bottom: 0;left: 50%;z-index: -1;}#sk-container-id-1 div.sk-parallel-item {display: flex;flex-direction: column;z-index: 1;position: relative;background-color: white;}#sk-container-id-1 div.sk-parallel-item:first-child::after {align-self: flex-end;width: 50%;}#sk-container-id-1 div.sk-parallel-item:last-child::after {align-self: flex-start;width: 50%;}#sk-container-id-1 div.sk-parallel-item:only-child::after {width: 0;}#sk-container-id-1 div.sk-dashed-wrapped {border: 1px dashed gray;margin: 0 0.4em 0.5em 0.4em;box-sizing: border-box;padding-bottom: 0.4em;background-color: white;}#sk-container-id-1 div.sk-label label {font-family: monospace;font-weight: bold;display: inline-block;line-height: 1.2em;}#sk-container-id-1 div.sk-label-container {text-align: center;}#sk-container-id-1 div.sk-container {/* jupyter's `normalize.less` sets `[hidden] { display: none; }` but bootstrap.min.css set `[hidden] { display: none !important; }` so we also need the `!important` here to be able to override the default hidden behavior on the sphinx rendered scikit-learn.org. See: https://github.com/scikit-learn/scikit-learn/issues/21755 */display: inline-block !important;position: relative;}#sk-container-id-1 div.sk-text-repr-fallback {display: none;}</style><div id=\"sk-container-id-1\" class=\"sk-top-container\"><div class=\"sk-text-repr-fallback\"><pre>RandomForestClassifier(max_depth=9, random_state=42)</pre><b>In a Jupyter environment, please rerun this cell to show the HTML representation or trust the notebook. <br />On GitHub, the HTML representation is unable to render, please try loading this page with nbviewer.org.</b></div><div class=\"sk-container\" hidden><div class=\"sk-item\"><div class=\"sk-estimator sk-toggleable\"><input class=\"sk-toggleable__control sk-hidden--visually\" id=\"sk-estimator-id-1\" type=\"checkbox\" checked><label for=\"sk-estimator-id-1\" class=\"sk-toggleable__label sk-toggleable__label-arrow\">RandomForestClassifier</label><div class=\"sk-toggleable__content\"><pre>RandomForestClassifier(max_depth=9, random_state=42)</pre></div></div></div></div></div>"
      ],
      "text/plain": [
       "RandomForestClassifier(max_depth=9, random_state=42)"
      ]
     },
     "execution_count": 46,
     "metadata": {},
     "output_type": "execute_result"
    }
   ],
   "source": [
    "from sklearn.ensemble import RandomForestClassifier\n",
    "\n",
    "training_X = pd.concat([train_X, valid_X, test_X], ignore_index=True)\n",
    "training_Y = pd.concat([train_Y, valid_Y, test_Y], ignore_index=True)\n",
    "\n",
    "\n",
    "#FemaleFirstClass  ChildFirstClass  IsChild  FamilySize  IsAlone  \n",
    "features_drop = [\"IsChild\", \"FamilySize\" ,\"IsAlone\" ]\n",
    "train_X2 = train_X.drop(features_drop, axis = 1)\n",
    "valid_X2 = valid_X.drop(features_drop, axis = 1)\n",
    "test_X2 = test_X.drop(features_drop, axis = 1)\n",
    "\n",
    "model = RandomForestClassifier(max_depth = 9,  n_estimators = 100, random_state = 42)\n",
    "\n",
    "model.fit(train_X2, train_Y)"
   ]
  },
  {
   "cell_type": "code",
   "execution_count": 47,
   "id": "51ba9ffc",
   "metadata": {
    "execution": {
     "iopub.execute_input": "2023-11-20T22:13:48.281517Z",
     "iopub.status.busy": "2023-11-20T22:13:48.281061Z",
     "iopub.status.idle": "2023-11-20T22:13:48.302714Z",
     "shell.execute_reply": "2023-11-20T22:13:48.301053Z"
    },
    "papermill": {
     "duration": 0.060635,
     "end_time": "2023-11-20T22:13:48.305593",
     "exception": false,
     "start_time": "2023-11-20T22:13:48.244958",
     "status": "completed"
    },
    "tags": []
   },
   "outputs": [
    {
     "name": "stdout",
     "output_type": "stream",
     "text": [
      "accuracy score: 0.8370786516853933\n"
     ]
    }
   ],
   "source": [
    "y_pred = model.predict(valid_X2)\n",
    "\n",
    "print(f\"accuracy score: {accuracy_score(y_pred, valid_Y)}\")"
   ]
  },
  {
   "cell_type": "code",
   "execution_count": 48,
   "id": "e080e832",
   "metadata": {
    "execution": {
     "iopub.execute_input": "2023-11-20T22:13:48.376316Z",
     "iopub.status.busy": "2023-11-20T22:13:48.375832Z",
     "iopub.status.idle": "2023-11-20T22:13:48.398831Z",
     "shell.execute_reply": "2023-11-20T22:13:48.397443Z"
    },
    "papermill": {
     "duration": 0.06124,
     "end_time": "2023-11-20T22:13:48.401645",
     "exception": false,
     "start_time": "2023-11-20T22:13:48.340405",
     "status": "completed"
    },
    "tags": []
   },
   "outputs": [
    {
     "name": "stdout",
     "output_type": "stream",
     "text": [
      "accuracy score: 0.8324022346368715\n"
     ]
    }
   ],
   "source": [
    "y_pred = model.predict(test_X2)\n",
    "\n",
    "print(f\"accuracy score: {accuracy_score(y_pred, test_Y)}\")"
   ]
  },
  {
   "cell_type": "markdown",
   "id": "0ebdd38d",
   "metadata": {
    "papermill": {
     "duration": 0.034202,
     "end_time": "2023-11-20T22:13:48.470831",
     "exception": false,
     "start_time": "2023-11-20T22:13:48.436629",
     "status": "completed"
    },
    "tags": []
   },
   "source": [
    "# Using GridsSearchCV on RandomForestClassifier"
   ]
  },
  {
   "cell_type": "code",
   "execution_count": 49,
   "id": "322e452e",
   "metadata": {
    "execution": {
     "iopub.execute_input": "2023-11-20T22:13:48.542151Z",
     "iopub.status.busy": "2023-11-20T22:13:48.541649Z",
     "iopub.status.idle": "2023-11-20T22:13:48.549330Z",
     "shell.execute_reply": "2023-11-20T22:13:48.548094Z"
    },
    "papermill": {
     "duration": 0.046188,
     "end_time": "2023-11-20T22:13:48.551799",
     "exception": false,
     "start_time": "2023-11-20T22:13:48.505611",
     "status": "completed"
    },
    "tags": []
   },
   "outputs": [],
   "source": [
    "from sklearn.model_selection import GridSearchCV\n",
    "\n",
    "#Define the parameter grid\n",
    "param_grid = {\n",
    "    'n_estimators': [100, 130, 170, 200, 300],\n",
    "    'max_depth': [None, 5, 7, 10, 13, 15, 20]\n",
    "    #,'min_samples_split': [2, 5, 10]\n",
    "}\n",
    "\n",
    "# # Create a GridSearchCV object\n",
    "# grid_search = GridSearchCV(RandomForestClassifier(random_state=42), param_grid, cv=10, n_jobs=-1, verbose=1)\n",
    "\n",
    "# training_X2 = training_X.drop(features_drop, axis = 1)\n",
    "\n",
    "# # Perform grid search\n",
    "# grid_search.fit(training_X2, training_Y)\n",
    "\n",
    "# # Best parameters\n",
    "# print('Best parameters found:\\n', grid_search.best_params_)\n",
    "\n",
    "# print('Best score (CV mean):', grid_search.best_score_)\n",
    "\n",
    "# print(\"Done\")\n",
    "\n",
    "# Best model\n",
    "# best_model = grid_search.best_estimator_\n",
    "\n",
    "# # Evaluate the best model\n",
    "# best_pred = best_model.predict(X_test)\n",
    "# best_accuracy = accuracy_score(y_test, best_pred)\n",
    "# print(f\"Best Model Accuracy: {best_accuracy}\")\n",
    "\n",
    "# Fitting 10 folds for each of 48 candidates, totalling 480 fits\n",
    "# Best parameters found:\n",
    "#  {'max_depth': 10, 'min_samples_split': 5, 'n_estimators': 200}\n",
    "# Best score (CV mean): 0.8383395755305866\n",
    "# Done\n"
   ]
  },
  {
   "cell_type": "markdown",
   "id": "e101fa68",
   "metadata": {
    "papermill": {
     "duration": 0.034613,
     "end_time": "2023-11-20T22:13:48.621261",
     "exception": false,
     "start_time": "2023-11-20T22:13:48.586648",
     "status": "completed"
    },
    "tags": []
   },
   "source": [
    "# Submitting Model 1"
   ]
  },
  {
   "cell_type": "code",
   "execution_count": 50,
   "id": "74f5384b",
   "metadata": {
    "execution": {
     "iopub.execute_input": "2023-11-20T22:13:48.692306Z",
     "iopub.status.busy": "2023-11-20T22:13:48.691213Z",
     "iopub.status.idle": "2023-11-20T22:13:49.177342Z",
     "shell.execute_reply": "2023-11-20T22:13:49.176085Z"
    },
    "papermill": {
     "duration": 0.524894,
     "end_time": "2023-11-20T22:13:49.180624",
     "exception": false,
     "start_time": "2023-11-20T22:13:48.655730",
     "status": "completed"
    },
    "tags": []
   },
   "outputs": [],
   "source": [
    "# Best parameters found:\n",
    "#  {'max_depth': 7, 'n_estimators': 170}\n",
    "# Best score (CV mean): 0.840561797752809\n",
    "\n",
    "\n",
    "# Best parameters found:\n",
    "#  {'max_depth': 10, 'min_samples_split': 10, 'n_estimators': 100}\n",
    "# Best score (CV mean): 0.8473657927590512\n",
    "\n",
    "training_X = pd.concat([train_X, valid_X, test_X], ignore_index=True)\n",
    "training_Y = pd.concat([train_Y, valid_Y, test_Y], ignore_index=True)\n",
    "\n",
    "training_X = training_X.drop(features_drop, axis = 1)\n",
    "test_data = test_data.drop(features_drop, axis = 1)\n",
    "\n",
    "model = RandomForestClassifier(max_depth = 7, n_estimators = 170, random_state=42)\n",
    "\n",
    "model.fit(training_X, training_Y) #Fitting the model on the entire training data set (including all the sub-sets from train-validation-test split)\n",
    "\n",
    "# print(training_X)\n",
    "# print(test_data)\n",
    "\n",
    "if \"PassengerId\" in test_data.columns:\n",
    "    test_data = test_data.drop(\"PassengerId\", axis = 1)\n",
    "\n",
    "predictions1 = model.predict(test_data)"
   ]
  },
  {
   "cell_type": "code",
   "execution_count": 51,
   "id": "29c143d1",
   "metadata": {
    "execution": {
     "iopub.execute_input": "2023-11-20T22:13:49.251373Z",
     "iopub.status.busy": "2023-11-20T22:13:49.250694Z",
     "iopub.status.idle": "2023-11-20T22:13:49.271917Z",
     "shell.execute_reply": "2023-11-20T22:13:49.270463Z"
    },
    "papermill": {
     "duration": 0.059596,
     "end_time": "2023-11-20T22:13:49.274488",
     "exception": false,
     "start_time": "2023-11-20T22:13:49.214892",
     "status": "completed"
    },
    "tags": []
   },
   "outputs": [
    {
     "name": "stdout",
     "output_type": "stream",
     "text": [
      "Your submission was successfully saved!\n"
     ]
    }
   ],
   "source": [
    "original_test = pd.read_csv(\"/kaggle/input/titanic/test.csv\")\n",
    "\n",
    "pass_id = original_test['PassengerId']\n",
    "\n",
    "test_data[\"PassengerId\"] = pass_id\n",
    "\n",
    "predictions1 = predictions1.astype(int)\n",
    "\n",
    "output = pd.DataFrame({'PassengerId': test_data.PassengerId, 'Survived': predictions1})\n",
    "output.to_csv('submission.csv', index=False)\n",
    "print(\"Your submission was successfully saved!\")\n",
    "\n",
    "test_data = test_data.drop(\"PassengerId\", axis = 1) # WE make sure to drop the PassengerId column since we are continuing to use the test_data variable in future tests and we don't want PassengerId to be apart of it until we submit the model again"
   ]
  }
 ],
 "metadata": {
  "kaggle": {
   "accelerator": "none",
   "dataSources": [
    {
     "databundleVersionId": 26502,
     "sourceId": 3136,
     "sourceType": "competition"
    }
   ],
   "dockerImageVersionId": 30587,
   "isGpuEnabled": false,
   "isInternetEnabled": true,
   "language": "python",
   "sourceType": "notebook"
  },
  "kernelspec": {
   "display_name": "Python 3",
   "language": "python",
   "name": "python3"
  },
  "language_info": {
   "codemirror_mode": {
    "name": "ipython",
    "version": 3
   },
   "file_extension": ".py",
   "mimetype": "text/x-python",
   "name": "python",
   "nbconvert_exporter": "python",
   "pygments_lexer": "ipython3",
   "version": "3.10.12"
  },
  "papermill": {
   "default_parameters": {},
   "duration": 61.540031,
   "end_time": "2023-11-20T22:13:50.032689",
   "environment_variables": {},
   "exception": null,
   "input_path": "__notebook__.ipynb",
   "output_path": "__notebook__.ipynb",
   "parameters": {},
   "start_time": "2023-11-20T22:12:48.492658",
   "version": "2.4.0"
  }
 },
 "nbformat": 4,
 "nbformat_minor": 5
}
