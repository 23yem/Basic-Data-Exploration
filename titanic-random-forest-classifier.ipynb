{
 "cells": [
  {
   "cell_type": "code",
   "execution_count": 1,
   "id": "4eece72d",
   "metadata": {
    "_cell_guid": "b1076dfc-b9ad-4769-8c92-a6c4dae69d19",
    "_uuid": "8f2839f25d086af736a60e9eeb907d3b93b6e0e5",
    "execution": {
     "iopub.execute_input": "2023-11-20T21:06:25.575689Z",
     "iopub.status.busy": "2023-11-20T21:06:25.574927Z",
     "iopub.status.idle": "2023-11-20T21:06:26.349636Z",
     "shell.execute_reply": "2023-11-20T21:06:26.348400Z"
    },
    "papermill": {
     "duration": 0.799724,
     "end_time": "2023-11-20T21:06:26.352009",
     "exception": false,
     "start_time": "2023-11-20T21:06:25.552285",
     "status": "completed"
    },
    "tags": []
   },
   "outputs": [
    {
     "name": "stdout",
     "output_type": "stream",
     "text": [
      "/kaggle/input/titanic/train.csv\n",
      "/kaggle/input/titanic/test.csv\n",
      "/kaggle/input/titanic/gender_submission.csv\n"
     ]
    }
   ],
   "source": [
    "# This Python 3 environment comes with many helpful analytics libraries installed\n",
    "# It is defined by the kaggle/python Docker image: https://github.com/kaggle/docker-python\n",
    "# For example, here's several helpful packages to load\n",
    "\n",
    "import numpy as np # linear algebra\n",
    "import pandas as pd # data processing, CSV file I/O (e.g. pd.read_csv)\n",
    "\n",
    "# Input data files are available in the read-only \"../input/\" directory\n",
    "# For example, running this (by clicking run or pressing Shift+Enter) will list all files under the input directory\n",
    "\n",
    "import os\n",
    "for dirname, _, filenames in os.walk('/kaggle/input'):\n",
    "    for filename in filenames:\n",
    "        print(os.path.join(dirname, filename))\n",
    "\n",
    "# You can write up to 20GB to the current directory (/kaggle/working/) that gets preserved as output when you create a version using \"Save & Run All\" \n",
    "# You can also write temporary files to /kaggle/temp/, but they won't be saved outside of the current session"
   ]
  },
  {
   "cell_type": "markdown",
   "id": "e246d781",
   "metadata": {
    "papermill": {
     "duration": 0.020009,
     "end_time": "2023-11-20T21:06:26.393220",
     "exception": false,
     "start_time": "2023-11-20T21:06:26.373211",
     "status": "completed"
    },
    "tags": []
   },
   "source": [
    "# **Load the Data from the Database**"
   ]
  },
  {
   "cell_type": "code",
   "execution_count": 2,
   "id": "7e6ba0d7",
   "metadata": {
    "execution": {
     "iopub.execute_input": "2023-11-20T21:06:26.437712Z",
     "iopub.status.busy": "2023-11-20T21:06:26.437132Z",
     "iopub.status.idle": "2023-11-20T21:06:26.490427Z",
     "shell.execute_reply": "2023-11-20T21:06:26.489083Z"
    },
    "papermill": {
     "duration": 0.07766,
     "end_time": "2023-11-20T21:06:26.492826",
     "exception": false,
     "start_time": "2023-11-20T21:06:26.415166",
     "status": "completed"
    },
    "tags": []
   },
   "outputs": [
    {
     "data": {
      "text/html": [
       "<div>\n",
       "<style scoped>\n",
       "    .dataframe tbody tr th:only-of-type {\n",
       "        vertical-align: middle;\n",
       "    }\n",
       "\n",
       "    .dataframe tbody tr th {\n",
       "        vertical-align: top;\n",
       "    }\n",
       "\n",
       "    .dataframe thead th {\n",
       "        text-align: right;\n",
       "    }\n",
       "</style>\n",
       "<table border=\"1\" class=\"dataframe\">\n",
       "  <thead>\n",
       "    <tr style=\"text-align: right;\">\n",
       "      <th></th>\n",
       "      <th>PassengerId</th>\n",
       "      <th>Survived</th>\n",
       "      <th>Pclass</th>\n",
       "      <th>Name</th>\n",
       "      <th>Sex</th>\n",
       "      <th>Age</th>\n",
       "      <th>SibSp</th>\n",
       "      <th>Parch</th>\n",
       "      <th>Ticket</th>\n",
       "      <th>Fare</th>\n",
       "      <th>Cabin</th>\n",
       "      <th>Embarked</th>\n",
       "    </tr>\n",
       "  </thead>\n",
       "  <tbody>\n",
       "    <tr>\n",
       "      <th>0</th>\n",
       "      <td>1</td>\n",
       "      <td>0</td>\n",
       "      <td>3</td>\n",
       "      <td>Braund, Mr. Owen Harris</td>\n",
       "      <td>male</td>\n",
       "      <td>22.0</td>\n",
       "      <td>1</td>\n",
       "      <td>0</td>\n",
       "      <td>A/5 21171</td>\n",
       "      <td>7.2500</td>\n",
       "      <td>NaN</td>\n",
       "      <td>S</td>\n",
       "    </tr>\n",
       "    <tr>\n",
       "      <th>1</th>\n",
       "      <td>2</td>\n",
       "      <td>1</td>\n",
       "      <td>1</td>\n",
       "      <td>Cumings, Mrs. John Bradley (Florence Briggs Th...</td>\n",
       "      <td>female</td>\n",
       "      <td>38.0</td>\n",
       "      <td>1</td>\n",
       "      <td>0</td>\n",
       "      <td>PC 17599</td>\n",
       "      <td>71.2833</td>\n",
       "      <td>C85</td>\n",
       "      <td>C</td>\n",
       "    </tr>\n",
       "    <tr>\n",
       "      <th>2</th>\n",
       "      <td>3</td>\n",
       "      <td>1</td>\n",
       "      <td>3</td>\n",
       "      <td>Heikkinen, Miss. Laina</td>\n",
       "      <td>female</td>\n",
       "      <td>26.0</td>\n",
       "      <td>0</td>\n",
       "      <td>0</td>\n",
       "      <td>STON/O2. 3101282</td>\n",
       "      <td>7.9250</td>\n",
       "      <td>NaN</td>\n",
       "      <td>S</td>\n",
       "    </tr>\n",
       "    <tr>\n",
       "      <th>3</th>\n",
       "      <td>4</td>\n",
       "      <td>1</td>\n",
       "      <td>1</td>\n",
       "      <td>Futrelle, Mrs. Jacques Heath (Lily May Peel)</td>\n",
       "      <td>female</td>\n",
       "      <td>35.0</td>\n",
       "      <td>1</td>\n",
       "      <td>0</td>\n",
       "      <td>113803</td>\n",
       "      <td>53.1000</td>\n",
       "      <td>C123</td>\n",
       "      <td>S</td>\n",
       "    </tr>\n",
       "    <tr>\n",
       "      <th>4</th>\n",
       "      <td>5</td>\n",
       "      <td>0</td>\n",
       "      <td>3</td>\n",
       "      <td>Allen, Mr. William Henry</td>\n",
       "      <td>male</td>\n",
       "      <td>35.0</td>\n",
       "      <td>0</td>\n",
       "      <td>0</td>\n",
       "      <td>373450</td>\n",
       "      <td>8.0500</td>\n",
       "      <td>NaN</td>\n",
       "      <td>S</td>\n",
       "    </tr>\n",
       "  </tbody>\n",
       "</table>\n",
       "</div>"
      ],
      "text/plain": [
       "   PassengerId  Survived  Pclass  \\\n",
       "0            1         0       3   \n",
       "1            2         1       1   \n",
       "2            3         1       3   \n",
       "3            4         1       1   \n",
       "4            5         0       3   \n",
       "\n",
       "                                                Name     Sex   Age  SibSp  \\\n",
       "0                            Braund, Mr. Owen Harris    male  22.0      1   \n",
       "1  Cumings, Mrs. John Bradley (Florence Briggs Th...  female  38.0      1   \n",
       "2                             Heikkinen, Miss. Laina  female  26.0      0   \n",
       "3       Futrelle, Mrs. Jacques Heath (Lily May Peel)  female  35.0      1   \n",
       "4                           Allen, Mr. William Henry    male  35.0      0   \n",
       "\n",
       "   Parch            Ticket     Fare Cabin Embarked  \n",
       "0      0         A/5 21171   7.2500   NaN        S  \n",
       "1      0          PC 17599  71.2833   C85        C  \n",
       "2      0  STON/O2. 3101282   7.9250   NaN        S  \n",
       "3      0            113803  53.1000  C123        S  \n",
       "4      0            373450   8.0500   NaN        S  "
      ]
     },
     "execution_count": 2,
     "metadata": {},
     "output_type": "execute_result"
    }
   ],
   "source": [
    "#Remember to eventually clean up the wrong or missing values\n",
    "train_data = pd.read_csv(\"/kaggle/input/titanic/train.csv\")\n",
    "\n",
    "train_data.head()"
   ]
  },
  {
   "cell_type": "code",
   "execution_count": 3,
   "id": "88a73fd0",
   "metadata": {
    "execution": {
     "iopub.execute_input": "2023-11-20T21:06:26.536923Z",
     "iopub.status.busy": "2023-11-20T21:06:26.536217Z",
     "iopub.status.idle": "2023-11-20T21:06:26.563184Z",
     "shell.execute_reply": "2023-11-20T21:06:26.561948Z"
    },
    "papermill": {
     "duration": 0.051285,
     "end_time": "2023-11-20T21:06:26.565622",
     "exception": false,
     "start_time": "2023-11-20T21:06:26.514337",
     "status": "completed"
    },
    "tags": []
   },
   "outputs": [
    {
     "data": {
      "text/html": [
       "<div>\n",
       "<style scoped>\n",
       "    .dataframe tbody tr th:only-of-type {\n",
       "        vertical-align: middle;\n",
       "    }\n",
       "\n",
       "    .dataframe tbody tr th {\n",
       "        vertical-align: top;\n",
       "    }\n",
       "\n",
       "    .dataframe thead th {\n",
       "        text-align: right;\n",
       "    }\n",
       "</style>\n",
       "<table border=\"1\" class=\"dataframe\">\n",
       "  <thead>\n",
       "    <tr style=\"text-align: right;\">\n",
       "      <th></th>\n",
       "      <th>PassengerId</th>\n",
       "      <th>Pclass</th>\n",
       "      <th>Name</th>\n",
       "      <th>Sex</th>\n",
       "      <th>Age</th>\n",
       "      <th>SibSp</th>\n",
       "      <th>Parch</th>\n",
       "      <th>Ticket</th>\n",
       "      <th>Fare</th>\n",
       "      <th>Cabin</th>\n",
       "      <th>Embarked</th>\n",
       "    </tr>\n",
       "  </thead>\n",
       "  <tbody>\n",
       "    <tr>\n",
       "      <th>0</th>\n",
       "      <td>892</td>\n",
       "      <td>3</td>\n",
       "      <td>Kelly, Mr. James</td>\n",
       "      <td>male</td>\n",
       "      <td>34.5</td>\n",
       "      <td>0</td>\n",
       "      <td>0</td>\n",
       "      <td>330911</td>\n",
       "      <td>7.8292</td>\n",
       "      <td>NaN</td>\n",
       "      <td>Q</td>\n",
       "    </tr>\n",
       "    <tr>\n",
       "      <th>1</th>\n",
       "      <td>893</td>\n",
       "      <td>3</td>\n",
       "      <td>Wilkes, Mrs. James (Ellen Needs)</td>\n",
       "      <td>female</td>\n",
       "      <td>47.0</td>\n",
       "      <td>1</td>\n",
       "      <td>0</td>\n",
       "      <td>363272</td>\n",
       "      <td>7.0000</td>\n",
       "      <td>NaN</td>\n",
       "      <td>S</td>\n",
       "    </tr>\n",
       "    <tr>\n",
       "      <th>2</th>\n",
       "      <td>894</td>\n",
       "      <td>2</td>\n",
       "      <td>Myles, Mr. Thomas Francis</td>\n",
       "      <td>male</td>\n",
       "      <td>62.0</td>\n",
       "      <td>0</td>\n",
       "      <td>0</td>\n",
       "      <td>240276</td>\n",
       "      <td>9.6875</td>\n",
       "      <td>NaN</td>\n",
       "      <td>Q</td>\n",
       "    </tr>\n",
       "    <tr>\n",
       "      <th>3</th>\n",
       "      <td>895</td>\n",
       "      <td>3</td>\n",
       "      <td>Wirz, Mr. Albert</td>\n",
       "      <td>male</td>\n",
       "      <td>27.0</td>\n",
       "      <td>0</td>\n",
       "      <td>0</td>\n",
       "      <td>315154</td>\n",
       "      <td>8.6625</td>\n",
       "      <td>NaN</td>\n",
       "      <td>S</td>\n",
       "    </tr>\n",
       "    <tr>\n",
       "      <th>4</th>\n",
       "      <td>896</td>\n",
       "      <td>3</td>\n",
       "      <td>Hirvonen, Mrs. Alexander (Helga E Lindqvist)</td>\n",
       "      <td>female</td>\n",
       "      <td>22.0</td>\n",
       "      <td>1</td>\n",
       "      <td>1</td>\n",
       "      <td>3101298</td>\n",
       "      <td>12.2875</td>\n",
       "      <td>NaN</td>\n",
       "      <td>S</td>\n",
       "    </tr>\n",
       "  </tbody>\n",
       "</table>\n",
       "</div>"
      ],
      "text/plain": [
       "   PassengerId  Pclass                                          Name     Sex  \\\n",
       "0          892       3                              Kelly, Mr. James    male   \n",
       "1          893       3              Wilkes, Mrs. James (Ellen Needs)  female   \n",
       "2          894       2                     Myles, Mr. Thomas Francis    male   \n",
       "3          895       3                              Wirz, Mr. Albert    male   \n",
       "4          896       3  Hirvonen, Mrs. Alexander (Helga E Lindqvist)  female   \n",
       "\n",
       "    Age  SibSp  Parch   Ticket     Fare Cabin Embarked  \n",
       "0  34.5      0      0   330911   7.8292   NaN        Q  \n",
       "1  47.0      1      0   363272   7.0000   NaN        S  \n",
       "2  62.0      0      0   240276   9.6875   NaN        Q  \n",
       "3  27.0      0      0   315154   8.6625   NaN        S  \n",
       "4  22.0      1      1  3101298  12.2875   NaN        S  "
      ]
     },
     "execution_count": 3,
     "metadata": {},
     "output_type": "execute_result"
    }
   ],
   "source": [
    "#Remember to eventually clean up the wrong or missing values\n",
    "test_data = pd.read_csv(\"/kaggle/input/titanic/test.csv\")\n",
    "\n",
    "test_data.head()"
   ]
  },
  {
   "cell_type": "code",
   "execution_count": 4,
   "id": "845dd264",
   "metadata": {
    "execution": {
     "iopub.execute_input": "2023-11-20T21:06:26.612023Z",
     "iopub.status.busy": "2023-11-20T21:06:26.611229Z",
     "iopub.status.idle": "2023-11-20T21:06:26.617711Z",
     "shell.execute_reply": "2023-11-20T21:06:26.616651Z"
    },
    "papermill": {
     "duration": 0.032552,
     "end_time": "2023-11-20T21:06:26.620084",
     "exception": false,
     "start_time": "2023-11-20T21:06:26.587532",
     "status": "completed"
    },
    "tags": []
   },
   "outputs": [
    {
     "name": "stdout",
     "output_type": "stream",
     "text": [
      "Index(['PassengerId', 'Survived', 'Pclass', 'Name', 'Sex', 'Age', 'SibSp',\n",
      "       'Parch', 'Ticket', 'Fare', 'Cabin', 'Embarked'],\n",
      "      dtype='object')\n",
      "(891, 12)\n"
     ]
    }
   ],
   "source": [
    "print(train_data.columns)\n",
    "print(train_data.shape)"
   ]
  },
  {
   "cell_type": "markdown",
   "id": "a88d7b5d",
   "metadata": {
    "papermill": {
     "duration": 0.020878,
     "end_time": "2023-11-20T21:06:26.724958",
     "exception": false,
     "start_time": "2023-11-20T21:06:26.704080",
     "status": "completed"
    },
    "tags": []
   },
   "source": [
    "# Choosing features #\n"
   ]
  },
  {
   "cell_type": "code",
   "execution_count": 5,
   "id": "da0de53f",
   "metadata": {
    "execution": {
     "iopub.execute_input": "2023-11-20T21:06:26.770229Z",
     "iopub.status.busy": "2023-11-20T21:06:26.769449Z",
     "iopub.status.idle": "2023-11-20T21:06:26.796666Z",
     "shell.execute_reply": "2023-11-20T21:06:26.795436Z"
    },
    "papermill": {
     "duration": 0.052337,
     "end_time": "2023-11-20T21:06:26.799067",
     "exception": false,
     "start_time": "2023-11-20T21:06:26.746730",
     "status": "completed"
    },
    "tags": []
   },
   "outputs": [
    {
     "data": {
      "text/html": [
       "<div>\n",
       "<style scoped>\n",
       "    .dataframe tbody tr th:only-of-type {\n",
       "        vertical-align: middle;\n",
       "    }\n",
       "\n",
       "    .dataframe tbody tr th {\n",
       "        vertical-align: top;\n",
       "    }\n",
       "\n",
       "    .dataframe thead th {\n",
       "        text-align: right;\n",
       "    }\n",
       "</style>\n",
       "<table border=\"1\" class=\"dataframe\">\n",
       "  <thead>\n",
       "    <tr style=\"text-align: right;\">\n",
       "      <th></th>\n",
       "      <th>Pclass</th>\n",
       "      <th>Fare</th>\n",
       "      <th>Sex_female</th>\n",
       "      <th>Sex_male</th>\n",
       "    </tr>\n",
       "  </thead>\n",
       "  <tbody>\n",
       "    <tr>\n",
       "      <th>0</th>\n",
       "      <td>3</td>\n",
       "      <td>7.2500</td>\n",
       "      <td>False</td>\n",
       "      <td>True</td>\n",
       "    </tr>\n",
       "    <tr>\n",
       "      <th>1</th>\n",
       "      <td>1</td>\n",
       "      <td>71.2833</td>\n",
       "      <td>True</td>\n",
       "      <td>False</td>\n",
       "    </tr>\n",
       "    <tr>\n",
       "      <th>2</th>\n",
       "      <td>3</td>\n",
       "      <td>7.9250</td>\n",
       "      <td>True</td>\n",
       "      <td>False</td>\n",
       "    </tr>\n",
       "    <tr>\n",
       "      <th>3</th>\n",
       "      <td>1</td>\n",
       "      <td>53.1000</td>\n",
       "      <td>True</td>\n",
       "      <td>False</td>\n",
       "    </tr>\n",
       "    <tr>\n",
       "      <th>4</th>\n",
       "      <td>3</td>\n",
       "      <td>8.0500</td>\n",
       "      <td>False</td>\n",
       "      <td>True</td>\n",
       "    </tr>\n",
       "  </tbody>\n",
       "</table>\n",
       "</div>"
      ],
      "text/plain": [
       "   Pclass     Fare  Sex_female  Sex_male\n",
       "0       3   7.2500       False      True\n",
       "1       1  71.2833        True     False\n",
       "2       3   7.9250        True     False\n",
       "3       1  53.1000        True     False\n",
       "4       3   8.0500       False      True"
      ]
     },
     "execution_count": 5,
     "metadata": {},
     "output_type": "execute_result"
    }
   ],
   "source": [
    "features = [\"Pclass\", \"Sex\", \"Fare\"]\n",
    "\n",
    "X_train = pd.get_dummies(train_data[features])\n",
    "\n",
    "X_train.head()\n",
    "#print(X_train.shape)"
   ]
  },
  {
   "cell_type": "markdown",
   "id": "786a32fc",
   "metadata": {
    "papermill": {
     "duration": 0.02206,
     "end_time": "2023-11-20T21:06:26.843124",
     "exception": false,
     "start_time": "2023-11-20T21:06:26.821064",
     "status": "completed"
    },
    "tags": []
   },
   "source": []
  },
  {
   "cell_type": "markdown",
   "id": "2e21b87e",
   "metadata": {
    "papermill": {
     "duration": 0.021648,
     "end_time": "2023-11-20T21:06:26.887075",
     "exception": false,
     "start_time": "2023-11-20T21:06:26.865427",
     "status": "completed"
    },
    "tags": []
   },
   "source": [
    "# Set the target/label (y) values\n"
   ]
  },
  {
   "cell_type": "code",
   "execution_count": 6,
   "id": "382753ef",
   "metadata": {
    "execution": {
     "iopub.execute_input": "2023-11-20T21:06:26.931693Z",
     "iopub.status.busy": "2023-11-20T21:06:26.931042Z",
     "iopub.status.idle": "2023-11-20T21:06:26.940977Z",
     "shell.execute_reply": "2023-11-20T21:06:26.939753Z"
    },
    "papermill": {
     "duration": 0.035478,
     "end_time": "2023-11-20T21:06:26.943699",
     "exception": false,
     "start_time": "2023-11-20T21:06:26.908221",
     "status": "completed"
    },
    "tags": []
   },
   "outputs": [
    {
     "data": {
      "text/plain": [
       "0    0\n",
       "1    1\n",
       "2    1\n",
       "3    1\n",
       "4    0\n",
       "Name: Survived, dtype: int64"
      ]
     },
     "execution_count": 6,
     "metadata": {},
     "output_type": "execute_result"
    }
   ],
   "source": [
    "#Y_train = pd.get_dummies(train_data[\"Survived\"])\n",
    "Y_train = train_data[\"Survived\"]\n",
    "\n",
    "Y_train.head()\n"
   ]
  },
  {
   "cell_type": "markdown",
   "id": "cce302fa",
   "metadata": {
    "papermill": {
     "duration": 0.021079,
     "end_time": "2023-11-20T21:06:26.986191",
     "exception": false,
     "start_time": "2023-11-20T21:06:26.965112",
     "status": "completed"
    },
    "tags": []
   },
   "source": []
  },
  {
   "cell_type": "markdown",
   "id": "8b29d35f",
   "metadata": {
    "papermill": {
     "duration": 0.024393,
     "end_time": "2023-11-20T21:06:27.032153",
     "exception": false,
     "start_time": "2023-11-20T21:06:27.007760",
     "status": "completed"
    },
    "tags": []
   },
   "source": [
    "# Split up train data into Train-test using scikit-learn"
   ]
  },
  {
   "cell_type": "code",
   "execution_count": 7,
   "id": "4101ab5a",
   "metadata": {
    "execution": {
     "iopub.execute_input": "2023-11-20T21:06:27.080068Z",
     "iopub.status.busy": "2023-11-20T21:06:27.079672Z",
     "iopub.status.idle": "2023-11-20T21:06:28.483736Z",
     "shell.execute_reply": "2023-11-20T21:06:28.482441Z"
    },
    "papermill": {
     "duration": 1.432229,
     "end_time": "2023-11-20T21:06:28.486703",
     "exception": false,
     "start_time": "2023-11-20T21:06:27.054474",
     "status": "completed"
    },
    "tags": []
   },
   "outputs": [
    {
     "name": "stdout",
     "output_type": "stream",
     "text": [
      "445    1\n",
      "650    0\n",
      "172    1\n",
      "450    0\n",
      "314    0\n",
      "Name: Survived, dtype: int64\n",
      "709    1\n",
      "439    0\n",
      "840    0\n",
      "720    1\n",
      "39     1\n",
      "Name: Survived, dtype: int64\n"
     ]
    }
   ],
   "source": [
    "from sklearn.model_selection import train_test_split\n",
    "\n",
    "#Split data into a train/validation and test set\n",
    "X_train, X_test, Y_train, Y_test = train_test_split(X_train, Y_train, test_size = 0.3, random_state = 42)\n",
    "\n",
    "#print(X_train.head())\n",
    "#print(Y_train.head())\n",
    "print(Y_train.head())\n",
    "\n",
    "print(Y_test.head())\n"
   ]
  },
  {
   "cell_type": "markdown",
   "id": "e60954ec",
   "metadata": {
    "papermill": {
     "duration": 0.02162,
     "end_time": "2023-11-20T21:06:28.531758",
     "exception": false,
     "start_time": "2023-11-20T21:06:28.510138",
     "status": "completed"
    },
    "tags": []
   },
   "source": [
    "spliting the data into a train-test split will allow us to test our model and so it will allow us to tune our model before submitting on Kaggle. We can also use the train-validation-test split here"
   ]
  },
  {
   "cell_type": "markdown",
   "id": "36a1c227",
   "metadata": {
    "papermill": {
     "duration": 0.022425,
     "end_time": "2023-11-20T21:06:28.577525",
     "exception": false,
     "start_time": "2023-11-20T21:06:28.555100",
     "status": "completed"
    },
    "tags": []
   },
   "source": [
    "# Making the Neural Network Model using Scikit Learn\n"
   ]
  },
  {
   "cell_type": "code",
   "execution_count": 8,
   "id": "84c33ead",
   "metadata": {
    "execution": {
     "iopub.execute_input": "2023-11-20T21:06:28.625912Z",
     "iopub.status.busy": "2023-11-20T21:06:28.625140Z",
     "iopub.status.idle": "2023-11-20T21:06:28.641026Z",
     "shell.execute_reply": "2023-11-20T21:06:28.639825Z"
    },
    "papermill": {
     "duration": 0.043967,
     "end_time": "2023-11-20T21:06:28.643631",
     "exception": false,
     "start_time": "2023-11-20T21:06:28.599664",
     "status": "completed"
    },
    "tags": []
   },
   "outputs": [],
   "source": [
    "from sklearn.neural_network import MLPClassifier\n",
    "from sklearn.model_selection import train_test_split\n",
    "from sklearn.preprocessing import StandardScaler\n",
    "from sklearn.metrics import accuracy_score\n",
    "\n",
    "# Commented out the code so that the model won't run everytime\n",
    "\n",
    "# model = MLPClassifier(hidden_layer_sizes=(5, 5), activation='relu', solver='adam', max_iter=1000, random_state=42)\n",
    "\n",
    "# model.fit(X_train, Y_train)\n",
    "\n",
    "# y_pred = model.predict(X_test)\n",
    "\n",
    "# print(f\"Accuracy: {accuracy_score(Y_test, y_pred):.2f}\")\n"
   ]
  },
  {
   "cell_type": "markdown",
   "id": "448ee79c",
   "metadata": {
    "papermill": {
     "duration": 0.021717,
     "end_time": "2023-11-20T21:06:28.686930",
     "exception": false,
     "start_time": "2023-11-20T21:06:28.665213",
     "status": "completed"
    },
    "tags": []
   },
   "source": [
    "**Here I am using the MLPClassifier since this is a classification problem. The output of the model will be \"Survive\" or \"not survive.\" If my model was supposed to predict a numerical value, I would be using something like MLPRegressor instead**"
   ]
  },
  {
   "cell_type": "markdown",
   "id": "8cf88a3a",
   "metadata": {
    "papermill": {
     "duration": 0.020992,
     "end_time": "2023-11-20T21:06:28.729787",
     "exception": false,
     "start_time": "2023-11-20T21:06:28.708795",
     "status": "completed"
    },
    "tags": []
   },
   "source": [
    "# Tried making a neural network using Tensor Flow but decided to just use Scikit learn"
   ]
  },
  {
   "cell_type": "code",
   "execution_count": 9,
   "id": "ad6beafb",
   "metadata": {
    "execution": {
     "iopub.execute_input": "2023-11-20T21:06:28.776079Z",
     "iopub.status.busy": "2023-11-20T21:06:28.775642Z",
     "iopub.status.idle": "2023-11-20T21:06:28.781324Z",
     "shell.execute_reply": "2023-11-20T21:06:28.780077Z"
    },
    "papermill": {
     "duration": 0.031979,
     "end_time": "2023-11-20T21:06:28.783665",
     "exception": false,
     "start_time": "2023-11-20T21:06:28.751686",
     "status": "completed"
    },
    "tags": []
   },
   "outputs": [],
   "source": [
    "# import tensorflow as tf\n",
    "\n",
    "\n",
    "# #Compile the model\n",
    "# model = tf.keras.models.Sequential([\n",
    "#     tf.keras.layers.Dense(64, activation = \"relu\", input_shape = (687,)),\n",
    "#     tf.keras.layers.Dense(32, activation = \"relu\"),\n",
    "#     tf.keras.layers.Dense(16, activation = \"relu\"),\n",
    "#     tf.keras.layers.Dense(1, activation = \"sigmoid\")\n",
    "# ])\n",
    "# model.compile(optimizer = \"adam\", loss = \"binary_crossentropy\", metrics = [\"accuracy\"])\n",
    "\n",
    "\n",
    "# #Train the model\n",
    "\n",
    "# #X_train = tf.convert_to_tensor(X_train)\n",
    "# #Y_train = tf.convert_to_tensor(Y_train)\n",
    "# model.fit(X_train, Y_train, epochs = 10)\n",
    "\n",
    "# #Evaluate the model \n",
    "\n",
    "# #X_test = tf.convert_to_tensor(X_test)\n",
    "# #Y_test = tf.convert_to_tensor(Y_test)\n",
    "# loss, accuracy = model.evaluate(X_test, Y_test)\n",
    "# print(\"Accuracy: \", accuracy)"
   ]
  },
  {
   "cell_type": "markdown",
   "id": "480f1d54",
   "metadata": {
    "papermill": {
     "duration": 0.022184,
     "end_time": "2023-11-20T21:06:28.827335",
     "exception": false,
     "start_time": "2023-11-20T21:06:28.805151",
     "status": "completed"
    },
    "tags": []
   },
   "source": [
    "# Testing model on real test set and Submitting Model (Accuracy: 0.755)\n"
   ]
  },
  {
   "cell_type": "code",
   "execution_count": 10,
   "id": "1345c4ab",
   "metadata": {
    "execution": {
     "iopub.execute_input": "2023-11-20T21:06:28.875853Z",
     "iopub.status.busy": "2023-11-20T21:06:28.875339Z",
     "iopub.status.idle": "2023-11-20T21:06:28.907383Z",
     "shell.execute_reply": "2023-11-20T21:06:28.906139Z"
    },
    "papermill": {
     "duration": 0.058431,
     "end_time": "2023-11-20T21:06:28.910131",
     "exception": false,
     "start_time": "2023-11-20T21:06:28.851700",
     "status": "completed"
    },
    "tags": []
   },
   "outputs": [
    {
     "name": "stdout",
     "output_type": "stream",
     "text": [
      "Index(['Pclass', 'Fare', 'Sex_female', 'Sex_male', 'PassengerId'], dtype='object')\n"
     ]
    }
   ],
   "source": [
    "test_data = pd.read_csv(\"/kaggle/input/titanic/test.csv\")\n",
    "features = [\"Pclass\", \"Sex\", \"Fare\"]\n",
    "test_X = pd.get_dummies(test_data[features])\n",
    "#test_X = test_X.dropna()\n",
    "#print(test_X[\"Sex_female\"])\n",
    "test_X['Fare'].fillna(test_X['Fare'].median(), inplace=True)\n",
    "\n",
    "# Impute categorical columns with the mode\n",
    "for column in ['Pclass']:\n",
    "    test_X[column].fillna(test_X[column].mode()[0], inplace=True)\n",
    "\n",
    "for column in [\"Sex_female\"]:\n",
    "    test_X[column].fillna(False, inplace=True)\n",
    "    \n",
    "for column in ['Sex_male']:\n",
    "    test_X[column].fillna(True, inplace=True)\n",
    "  \n",
    "  \n",
    "# print(X_test)\n",
    "\n",
    "#model.fit(X_train, Y_train)\n",
    "\n",
    "# predictions = model.predict(test_X)\n",
    "\n",
    "pass_id = test_data['PassengerId']\n",
    "\n",
    "test_data = test_data.drop('PassengerId', axis=1)\n",
    "test_data = pd.get_dummies(test_data[features])\n",
    "\n",
    "test_data[\"PassengerId\"] = pass_id\n",
    "\n",
    "test_data['Fare'].fillna(test_data['Fare'].median(), inplace=True)\n",
    "\n",
    "print(test_data.columns)\n",
    "\n",
    "# Impute categorical columns with the mode\n",
    "for column in ['Pclass']:\n",
    "    test_data[column].fillna(test_data[column].mode()[0], inplace=True)\n",
    "\n",
    "for column in ['Sex_female']:\n",
    "    test_data[column].fillna(False, inplace=True)\n",
    "    \n",
    "for column in ['Sex_male']:\n",
    "    test_data[column].fillna(True, inplace=True)\n",
    "    \n",
    "# Commented out the code so that the model won't run everytime\n",
    "\n",
    "# print(test_X.shape)\n",
    "# print(predictions.shape)\n",
    "# print(test_data.shape)\n",
    "\n",
    "\n",
    "# output = pd.DataFrame({'PassengerId': test_data.PassengerId, 'Survived': predictions})\n",
    "# output.to_csv('submission.csv', index=False)\n",
    "# print(\"Your submission was successfully saved!\")"
   ]
  },
  {
   "cell_type": "markdown",
   "id": "e82358cf",
   "metadata": {
    "papermill": {
     "duration": 0.023455,
     "end_time": "2023-11-20T21:06:28.958024",
     "exception": false,
     "start_time": "2023-11-20T21:06:28.934569",
     "status": "completed"
    },
    "tags": []
   },
   "source": [
    "**The accuracy of the model was 0.755**"
   ]
  },
  {
   "cell_type": "markdown",
   "id": "b829a466",
   "metadata": {
    "papermill": {
     "duration": 0.028231,
     "end_time": "2023-11-20T21:06:29.008347",
     "exception": false,
     "start_time": "2023-11-20T21:06:28.980116",
     "status": "completed"
    },
    "tags": []
   },
   "source": [
    "# After first submission, I will now try and edit the neural network to improve the accurary\n"
   ]
  },
  {
   "cell_type": "code",
   "execution_count": 11,
   "id": "614fb10c",
   "metadata": {
    "execution": {
     "iopub.execute_input": "2023-11-20T21:06:29.071291Z",
     "iopub.status.busy": "2023-11-20T21:06:29.070855Z",
     "iopub.status.idle": "2023-11-20T21:06:29.075772Z",
     "shell.execute_reply": "2023-11-20T21:06:29.074511Z"
    },
    "papermill": {
     "duration": 0.03877,
     "end_time": "2023-11-20T21:06:29.078339",
     "exception": false,
     "start_time": "2023-11-20T21:06:29.039569",
     "status": "completed"
    },
    "tags": []
   },
   "outputs": [],
   "source": [
    "# Commented out the code so that the model won't run everytime\n",
    "\n",
    "# model = MLPClassifier(hidden_layer_sizes=(14, 4), activation='relu', solver='lbfgs', max_iter=1000, random_state=42)\n",
    "\n",
    "# model.fit(X_train, Y_train)\n",
    "\n",
    "# y_pred = model.predict(X_test)\n",
    "\n",
    "# print(f\"Accuracy: {accuracy_score(Y_test, y_pred):.2f}\")\n",
    "\n"
   ]
  },
  {
   "cell_type": "markdown",
   "id": "26b0473c",
   "metadata": {
    "papermill": {
     "duration": 0.028222,
     "end_time": "2023-11-20T21:06:29.132630",
     "exception": false,
     "start_time": "2023-11-20T21:06:29.104408",
     "status": "completed"
    },
    "tags": []
   },
   "source": [
    "**I edited  the hidden layer sizes**\n"
   ]
  },
  {
   "cell_type": "markdown",
   "id": "9c0bb855",
   "metadata": {
    "papermill": {
     "duration": 0.025961,
     "end_time": "2023-11-20T21:06:29.190391",
     "exception": false,
     "start_time": "2023-11-20T21:06:29.164430",
     "status": "completed"
    },
    "tags": []
   },
   "source": [
    "# Second submission (accuracy: 0.76)\n"
   ]
  },
  {
   "cell_type": "code",
   "execution_count": 12,
   "id": "917ba1a4",
   "metadata": {
    "execution": {
     "iopub.execute_input": "2023-11-20T21:06:29.239865Z",
     "iopub.status.busy": "2023-11-20T21:06:29.239210Z",
     "iopub.status.idle": "2023-11-20T21:06:29.258437Z",
     "shell.execute_reply": "2023-11-20T21:06:29.257011Z"
    },
    "papermill": {
     "duration": 0.04542,
     "end_time": "2023-11-20T21:06:29.260860",
     "exception": false,
     "start_time": "2023-11-20T21:06:29.215440",
     "status": "completed"
    },
    "tags": []
   },
   "outputs": [
    {
     "name": "stdout",
     "output_type": "stream",
     "text": [
      "done\n"
     ]
    }
   ],
   "source": [
    "test_data = pd.read_csv(\"/kaggle/input/titanic/test.csv\")\n",
    "features = [\"Pclass\", \"Sex\", \"Fare\"]\n",
    "test_X = pd.get_dummies(test_data[features])\n",
    "\n",
    "test_X['Fare'].fillna(test_X['Fare'].median(), inplace=True)\n",
    "\n",
    "# Impute categorical columns with the mode\n",
    "for column in ['Pclass']:\n",
    "    test_X[column].fillna(test_X[column].mode()[0], inplace=True)\n",
    "\n",
    "for column in [\"Sex_female\"]:\n",
    "    test_X[column].fillna(False, inplace=True)\n",
    "    \n",
    "for column in ['Sex_male']:\n",
    "    test_X[column].fillna(True, inplace=True)\n",
    "\n",
    "print(\"done\")\n",
    "\n",
    "\n",
    "# Commented out the code so that the model won't run everytime\n",
    "\n",
    "# predictions2 = model.predict(test_X)\n",
    "\n",
    "# pass_id = test_data['PassengerId']\n",
    "\n",
    "# test_data = test_data.drop('PassengerId', axis=1)\n",
    "# test_data = pd.get_dummies(test_data[features])\n",
    "\n",
    "# test_data[\"PassengerId\"] = pass_id\n",
    "\n",
    "# print(test_data.columns)\n",
    "\n",
    "# print(test_X.shape)\n",
    "# print(predictions2.shape)\n",
    "# print(test_data.shape)\n",
    "\n",
    "# output = pd.DataFrame({'PassengerId': test_data.PassengerId, 'Survived': predictions2})\n",
    "# output.to_csv('submission.csv', index=False)\n",
    "# print(\"Your submission was successfully saved!\")"
   ]
  },
  {
   "cell_type": "markdown",
   "id": "f4af0263",
   "metadata": {
    "papermill": {
     "duration": 0.021475,
     "end_time": "2023-11-20T21:06:29.304451",
     "exception": false,
     "start_time": "2023-11-20T21:06:29.282976",
     "status": "completed"
    },
    "tags": []
   },
   "source": [
    "**Here, from the code above, I went from a 0.755 to a 0.76 by editing the hidden layer sizes. However, this wasn't much of a big change and the accuracy of the model is still worse than the 0.775 which I achieved through a simple Random Decision Forest Model.**\n"
   ]
  },
  {
   "cell_type": "markdown",
   "id": "88289502",
   "metadata": {
    "papermill": {
     "duration": 0.025968,
     "end_time": "2023-11-20T21:06:29.356690",
     "exception": false,
     "start_time": "2023-11-20T21:06:29.330722",
     "status": "completed"
    },
    "tags": []
   },
   "source": [
    "**From this code, I realized that I should be imputing and cleaning the data BEFORE I use pd.get_dummies(). This is because pd.get_dummies() adds a lot more columns to the data because it turns all categorial columns to multiple binary columns which puts a 0 or 1 in each row. So, I should be cleaming up the data BEFORE I use pd.get_dummies() since pd.get_dummies adds so many more columns to the data and makes the data so much harder to clean. \n",
    "For example, it's hard to impute values in the \"age\" column after you do pd.get_Dummies() since imputing age relies on finding the average age of each person and it's a lot easier to find the average age is the all the ages were in a single column but if we do pd.get_Dummies, we are going to split up the age column into many more age columns which correspond to each unique age value in the data set**"
   ]
  },
  {
   "cell_type": "markdown",
   "id": "ff6fa85e",
   "metadata": {
    "papermill": {
     "duration": 0.02325,
     "end_time": "2023-11-20T21:06:29.408718",
     "exception": false,
     "start_time": "2023-11-20T21:06:29.385468",
     "status": "completed"
    },
    "tags": []
   },
   "source": []
  },
  {
   "cell_type": "markdown",
   "id": "8ec0114b",
   "metadata": {
    "papermill": {
     "duration": 0.02404,
     "end_time": "2023-11-20T21:06:29.460699",
     "exception": false,
     "start_time": "2023-11-20T21:06:29.436659",
     "status": "completed"
    },
    "tags": []
   },
   "source": [
    "# Now I will re-initialize my data set and clean up my data before using pd.get_dummies()"
   ]
  },
  {
   "cell_type": "markdown",
   "id": "71c0f11b",
   "metadata": {
    "papermill": {
     "duration": 0.024193,
     "end_time": "2023-11-20T21:06:29.507874",
     "exception": false,
     "start_time": "2023-11-20T21:06:29.483681",
     "status": "completed"
    },
    "tags": []
   },
   "source": [
    "**I set up X_train and Y_train, but this time, instead of doing pd.get_Dummies() on X_train, I'm not going to use pd.get_Dummies() until after I clean up the data**"
   ]
  },
  {
   "cell_type": "code",
   "execution_count": 13,
   "id": "86c91031",
   "metadata": {
    "execution": {
     "iopub.execute_input": "2023-11-20T21:06:29.556690Z",
     "iopub.status.busy": "2023-11-20T21:06:29.555869Z",
     "iopub.status.idle": "2023-11-20T21:06:29.575229Z",
     "shell.execute_reply": "2023-11-20T21:06:29.573662Z"
    },
    "papermill": {
     "duration": 0.046891,
     "end_time": "2023-11-20T21:06:29.578339",
     "exception": false,
     "start_time": "2023-11-20T21:06:29.531448",
     "status": "completed"
    },
    "tags": []
   },
   "outputs": [
    {
     "name": "stdout",
     "output_type": "stream",
     "text": [
      "   PassengerId  Survived  Pclass  \\\n",
      "0            1         0       3   \n",
      "1            2         1       1   \n",
      "2            3         1       3   \n",
      "3            4         1       1   \n",
      "4            5         0       3   \n",
      "\n",
      "                                                Name     Sex   Age  SibSp  \\\n",
      "0                            Braund, Mr. Owen Harris    male  22.0      1   \n",
      "1  Cumings, Mrs. John Bradley (Florence Briggs Th...  female  38.0      1   \n",
      "2                             Heikkinen, Miss. Laina  female  26.0      0   \n",
      "3       Futrelle, Mrs. Jacques Heath (Lily May Peel)  female  35.0      1   \n",
      "4                           Allen, Mr. William Henry    male  35.0      0   \n",
      "\n",
      "   Parch            Ticket     Fare Cabin Embarked  \n",
      "0      0         A/5 21171   7.2500   NaN        S  \n",
      "1      0          PC 17599  71.2833   C85        C  \n",
      "2      0  STON/O2. 3101282   7.9250   NaN        S  \n",
      "3      0            113803  53.1000  C123        S  \n",
      "4      0            373450   8.0500   NaN        S  \n"
     ]
    }
   ],
   "source": [
    "train_data = pd.read_csv(\"/kaggle/input/titanic/train.csv\")\n",
    "\n",
    "features = [\"Pclass\", \"Sex\", \"Fare\",\"Age\", \"SibSp\", \"Parch\"] # Here, I also added more features which I think might be useful\n",
    "\n",
    "X_train = train_data # I won't actually limit the X_train to just the columns of the features I want just yet. This is because I will use the other columns in the data set to help impute missing values\n",
    "\n",
    "Y_train = train_data[\"Survived\"]\n",
    "\n",
    "print(X_train.head())\n"
   ]
  },
  {
   "cell_type": "markdown",
   "id": "7129174b",
   "metadata": {
    "papermill": {
     "duration": 0.024412,
     "end_time": "2023-11-20T21:06:29.628384",
     "exception": false,
     "start_time": "2023-11-20T21:06:29.603972",
     "status": "completed"
    },
    "tags": []
   },
   "source": [
    "# Start cleaning up the data"
   ]
  },
  {
   "cell_type": "code",
   "execution_count": 14,
   "id": "abb3db81",
   "metadata": {
    "execution": {
     "iopub.execute_input": "2023-11-20T21:06:29.683537Z",
     "iopub.status.busy": "2023-11-20T21:06:29.682891Z",
     "iopub.status.idle": "2023-11-20T21:06:29.696116Z",
     "shell.execute_reply": "2023-11-20T21:06:29.694953Z"
    },
    "papermill": {
     "duration": 0.046119,
     "end_time": "2023-11-20T21:06:29.698900",
     "exception": false,
     "start_time": "2023-11-20T21:06:29.652781",
     "status": "completed"
    },
    "tags": []
   },
   "outputs": [
    {
     "name": "stdout",
     "output_type": "stream",
     "text": [
      "0\n",
      "0\n",
      "0\n",
      "0\n",
      "0\n",
      "177\n"
     ]
    }
   ],
   "source": [
    "# Impute missing values for Pclass\n",
    "\n",
    "average_Pclass = X_train[\"Pclass\"].median()\n",
    "\n",
    "X_train[\"Pclass\"].fillna(average_Pclass, inplace = True)\n",
    "\n",
    "print(X_train[\"Pclass\"].isnull().sum()) # print the number of rows in the \"Pclass\" columns that now have no value\n",
    "\n",
    "print(X_train[\"Sex\"].isnull().sum()) # Since this prints out 0, this means that there is no missing value in the \"Sex\" column so we don't need to impute anything\n",
    "\n",
    "print(X_train[\"Fare\"].isnull().sum()) # Since this prints out 0, this means that there is no missing value in the \"Fare\" column so we don't need to impute anything\n",
    "\n",
    "print(X_train[\"SibSp\"].isnull().sum()) # Since this prints out 0, this means that there is no missing value in the \"SibSp\" column so we don't need to impute anything\n",
    "\n",
    "print(X_train[\"Parch\"].isnull().sum()) # Since this prints out 0, this means that there is no missing value in the \"Parch\" column so we don't need to impute anything\n",
    "\n",
    "print(X_train[\"Age\"].isnull().sum()) # This prints out 177 so there are 177 rows with missing values in the \"Age\" column! This means we have to do a lot of imputing\n",
    "\n"
   ]
  },
  {
   "cell_type": "markdown",
   "id": "58b13af6",
   "metadata": {
    "papermill": {
     "duration": 0.025661,
     "end_time": "2023-11-20T21:06:29.748890",
     "exception": false,
     "start_time": "2023-11-20T21:06:29.723229",
     "status": "completed"
    },
    "tags": []
   },
   "source": [
    "**From this, we learned that age is the main column with missing values (of the columns that we are working with) so we need to methodically impute those missing values**"
   ]
  },
  {
   "cell_type": "markdown",
   "id": "f08e60ec",
   "metadata": {
    "papermill": {
     "duration": 0.023453,
     "end_time": "2023-11-20T21:06:29.796092",
     "exception": false,
     "start_time": "2023-11-20T21:06:29.772639",
     "status": "completed"
    },
    "tags": []
   },
   "source": [
    "# Cleaning up (imputing) the Age column using a Random Forest Regressor model (a type of Machine Learning model) that accurately predicts the age of a person given their "
   ]
  },
  {
   "cell_type": "code",
   "execution_count": 15,
   "id": "a1b0358e",
   "metadata": {
    "execution": {
     "iopub.execute_input": "2023-11-20T21:06:29.846857Z",
     "iopub.status.busy": "2023-11-20T21:06:29.845335Z",
     "iopub.status.idle": "2023-11-20T21:06:50.599432Z",
     "shell.execute_reply": "2023-11-20T21:06:50.598262Z"
    },
    "papermill": {
     "duration": 20.783259,
     "end_time": "2023-11-20T21:06:50.602731",
     "exception": false,
     "start_time": "2023-11-20T21:06:29.819472",
     "status": "completed"
    },
    "tags": []
   },
   "outputs": [
    {
     "name": "stdout",
     "output_type": "stream",
     "text": [
      "0\n"
     ]
    },
    {
     "name": "stderr",
     "output_type": "stream",
     "text": [
      "/opt/conda/lib/python3.10/site-packages/sklearn/impute/_iterative.py:785: ConvergenceWarning: [IterativeImputer] Early stopping criterion not reached.\n",
      "  warnings.warn(\n"
     ]
    }
   ],
   "source": [
    "from sklearn.experimental import enable_iterative_imputer\n",
    "from sklearn.impute import IterativeImputer\n",
    "from sklearn.ensemble import RandomForestRegressor\n",
    "from sklearn.preprocessing import LabelEncoder\n",
    "\n",
    "\n",
    "#We use \"LabelEncoder\" to turn all the categorial values (values which don't use numbers) into values which the Random Forest Regressor can understand more easily. This is very similar to doing something like pd.get_dummies()\n",
    "\n",
    "label_encoders = {}\n",
    "for column in ['Sex', 'Embarked']:\n",
    "    label_encoders[column] = LabelEncoder()\n",
    "    # We use 'astype(str)' to convert any NaN values to a string representation\n",
    "    X_train[column] = label_encoders[column].fit_transform(X_train[column].astype(str))\n",
    "\n",
    "features = ['Survived', 'Pclass', 'Sex', 'Age', 'SibSp', 'Parch', 'Fare', 'Embarked']\n",
    "# One very important thing that I will end up doing is using the \"Survived\" column of the dataset to predict the age. This is because there is a strong correleation between the survival and age. \n",
    "\n",
    "\n",
    "#This is an imputer. It is a function that can efficiently impute values in the way you want. For this scenario, I am using IterativeImputer() and the RandomForestRegressor(() to )\n",
    "imputer = IterativeImputer(RandomForestRegressor(n_estimators=10), max_iter=100, random_state=0)\n",
    "\n",
    "\n",
    "# Fit the imputer on the DataFrame with the features\n",
    "imputer.fit(X_train[features]) #When IterativeImputer is used alongside an ML model like RandomForestRegressor, calling .fit() on the IterativeImputer() object will also fit (train) the ML model\n",
    "\n",
    "\n",
    "# Perform the imputation on the Training Data. THIS WILL ACTUAL IMPUTE ANY MISSING VALUES IN EACH ROW, not only the missing values in Age.\n",
    "X_train_imputed = imputer.transform(X_train[features])\n",
    "\n",
    "\n",
    "# Convert the output back to a DataFrame\n",
    "X_train_imputed = pd.DataFrame(X_train_imputed, columns=features)\n",
    "\n",
    "# Update the original DataFrame with the imputed values. This means that the columns of the original X_train dataframe that weren't part of the features (like \"Name\" isn't apart of the features list)\n",
    "X_train[features] = X_train_imputed\n",
    "\n",
    "#print(X_train.head())\n",
    "\n",
    "print(X_train[\"Age\"].isnull().sum()) # Since this prints 0, we now know that there are 0 missing values in the age column and so the imputation was successful "
   ]
  },
  {
   "cell_type": "markdown",
   "id": "46671580",
   "metadata": {
    "papermill": {
     "duration": 0.023014,
     "end_time": "2023-11-20T21:06:50.648954",
     "exception": false,
     "start_time": "2023-11-20T21:06:50.625940",
     "status": "completed"
    },
    "tags": []
   },
   "source": [
    "**Using IterativeRegressor() and RandomForestRegressor(), I essentially used an ML model to impute any missing values in the dataset. I wanted to clean up the age column using the most effective method and I didn't want to just find the average age and impute all those values to the missing values. I wanted to be smart since age is an incredibly important feature.**"
   ]
  },
  {
   "cell_type": "markdown",
   "id": "503065d5",
   "metadata": {
    "papermill": {
     "duration": 0.022717,
     "end_time": "2023-11-20T21:06:50.694211",
     "exception": false,
     "start_time": "2023-11-20T21:06:50.671494",
     "status": "completed"
    },
    "tags": []
   },
   "source": [
    "**Using the ImperativeImputer(), this will actually impute all the missing values in each row. It won't only impute the missing values in the \"age\" column. BUT, since we already cleaned the data and know there are 0 missing values for all the other columns that we care about (the ones with the features we are using), the imputer will be imputing values only to the missing values of age and other columns that we don't care about, but out of all the columns we care about, it will only be affecting the age column since all the other columns we care about have 0 missing values as we checked in the code previously.**"
   ]
  },
  {
   "cell_type": "code",
   "execution_count": 16,
   "id": "c7bb111a",
   "metadata": {
    "execution": {
     "iopub.execute_input": "2023-11-20T21:06:50.741564Z",
     "iopub.status.busy": "2023-11-20T21:06:50.741098Z",
     "iopub.status.idle": "2023-11-20T21:06:50.762777Z",
     "shell.execute_reply": "2023-11-20T21:06:50.761393Z"
    },
    "papermill": {
     "duration": 0.048983,
     "end_time": "2023-11-20T21:06:50.765208",
     "exception": false,
     "start_time": "2023-11-20T21:06:50.716225",
     "status": "completed"
    },
    "tags": []
   },
   "outputs": [
    {
     "name": "stdout",
     "output_type": "stream",
     "text": [
      "   Pclass  Sex     Fare   Age  SibSp  Parch\n",
      "0     3.0  1.0   7.2500  22.0    1.0    0.0\n",
      "1     1.0  0.0  71.2833  38.0    1.0    0.0\n",
      "2     3.0  0.0   7.9250  26.0    0.0    0.0\n",
      "3     1.0  0.0  53.1000  35.0    1.0    0.0\n",
      "4     3.0  1.0   8.0500  35.0    0.0    0.0\n",
      "314\n",
      "577\n",
      "   Pclass     Sex     Fare   Age  SibSp  Parch\n",
      "0     3.0    male   7.2500  22.0    1.0    0.0\n",
      "1     1.0  female  71.2833  38.0    1.0    0.0\n",
      "2     3.0  female   7.9250  26.0    0.0    0.0\n",
      "3     1.0  female  53.1000  35.0    1.0    0.0\n",
      "4     3.0    male   8.0500  35.0    0.0    0.0\n",
      "577\n"
     ]
    },
    {
     "name": "stderr",
     "output_type": "stream",
     "text": [
      "/tmp/ipykernel_19/1272774441.py:12: SettingWithCopyWarning: \n",
      "A value is trying to be set on a copy of a slice from a DataFrame.\n",
      "Try using .loc[row_indexer,col_indexer] = value instead\n",
      "\n",
      "See the caveats in the documentation: https://pandas.pydata.org/pandas-docs/stable/user_guide/indexing.html#returning-a-view-versus-a-copy\n",
      "  X_train['Sex'] = X_train['Sex'].map({0: 'female', 1: 'male'})\n"
     ]
    }
   ],
   "source": [
    "features = [\"Pclass\", \"Sex\", \"Fare\",\"Age\", \"SibSp\", \"Parch\"]\n",
    "\n",
    "X_train = X_train[features]\n",
    "\n",
    "print(X_train.head(5))\n",
    "\n",
    "print((X_train[\"Sex\"] == 0).sum())\n",
    "print((X_train[\"Sex\"] == 1).sum())\n",
    "\n",
    "# Since the dataset is 65% male, we can see from printing out the number of people with \"sex equal to 0\" and \"sex equal to 1\" that the LabelEncoder made Male into \"1\" and Female into \"0\". Now, let's change it back to \"Male\" and \"Female\".\n",
    "\n",
    "X_train['Sex'] = X_train['Sex'].map({0: 'female', 1: 'male'})\n",
    "\n",
    "print(X_train.head(5))\n",
    "\n",
    "print((X_train[\"Sex\"] == \"male\").sum())"
   ]
  },
  {
   "cell_type": "markdown",
   "id": "3b45ae0d",
   "metadata": {
    "papermill": {
     "duration": 0.022441,
     "end_time": "2023-11-20T21:06:50.810519",
     "exception": false,
     "start_time": "2023-11-20T21:06:50.788078",
     "status": "completed"
    },
    "tags": []
   },
   "source": [
    "**Here, in the code above, I changed X_train back to focus only on the features we care about. I also changed the \"Sex\" column from 0 and 1 back to Male and Female.**"
   ]
  },
  {
   "cell_type": "markdown",
   "id": "b9f49942",
   "metadata": {
    "papermill": {
     "duration": 0.023128,
     "end_time": "2023-11-20T21:06:50.855925",
     "exception": false,
     "start_time": "2023-11-20T21:06:50.832797",
     "status": "completed"
    },
    "tags": []
   },
   "source": [
    "# After the careful inspection of the test.csv, I see that there are also missing values in the test.csv. As a result, we have to clean up the data for test.csv as we did for train.csv"
   ]
  },
  {
   "cell_type": "markdown",
   "id": "1777cf45",
   "metadata": {
    "papermill": {
     "duration": 0.021738,
     "end_time": "2023-11-20T21:06:50.900456",
     "exception": false,
     "start_time": "2023-11-20T21:06:50.878718",
     "status": "completed"
    },
    "tags": []
   },
   "source": [
    "**Seeing which columns have missing values:**"
   ]
  },
  {
   "cell_type": "code",
   "execution_count": 17,
   "id": "914dce4e",
   "metadata": {
    "execution": {
     "iopub.execute_input": "2023-11-20T21:06:50.948609Z",
     "iopub.status.busy": "2023-11-20T21:06:50.947414Z",
     "iopub.status.idle": "2023-11-20T21:06:50.965114Z",
     "shell.execute_reply": "2023-11-20T21:06:50.963294Z"
    },
    "papermill": {
     "duration": 0.044199,
     "end_time": "2023-11-20T21:06:50.967541",
     "exception": false,
     "start_time": "2023-11-20T21:06:50.923342",
     "status": "completed"
    },
    "tags": []
   },
   "outputs": [
    {
     "name": "stdout",
     "output_type": "stream",
     "text": [
      "0\n",
      "0\n",
      "0\n",
      "0\n",
      "1\n",
      "86\n"
     ]
    }
   ],
   "source": [
    "test_data = pd.read_csv(\"/kaggle/input/titanic/test.csv\")\n",
    "\n",
    "features = [\"Pclass\", \"Sex\", \"Fare\",\"Age\", \"SibSp\", \"Parch\"]\n",
    "\n",
    "print(test_data[\"Pclass\"].isnull().sum()) # Since this is 0, that means there is no missing values\n",
    "\n",
    "print(test_data[\"Sex\"].isnull().sum()) # Since this is 0, that means there is no missing values\n",
    "\n",
    "print(test_data[\"SibSp\"].isnull().sum()) # Since this is 0, that means there is no missing values\n",
    "\n",
    "print(test_data[\"Parch\"].isnull().sum()) # Since this is 0, that means there is no missing values\n",
    "\n",
    "print(test_data[\"Fare\"].isnull().sum()) # Since this is 1, that means there is one missing value\n",
    "\n",
    "print(test_data[\"Age\"].isnull().sum()) # Since this is 86, that means there are 86 missing values\n"
   ]
  },
  {
   "cell_type": "markdown",
   "id": "3e247baa",
   "metadata": {
    "papermill": {
     "duration": 0.024685,
     "end_time": "2023-11-20T21:06:51.017790",
     "exception": false,
     "start_time": "2023-11-20T21:06:50.993105",
     "status": "completed"
    },
    "tags": []
   },
   "source": [
    "**From this, we can see that only \"Fare\" annd \"Age\" have missing values. Since \"Fare\" only has one missing value, it's not worth it to go to through all the work to do some advanced imputation technique to fill in missing values. So, I will just fill that in with the average fare value.**\n",
    "\n",
    "**For the \"Age\" feature, I will repeat the process of using an IterativeImputer and a RandomForestRegressor to imputate missing values**"
   ]
  },
  {
   "cell_type": "code",
   "execution_count": 18,
   "id": "39761f0d",
   "metadata": {
    "execution": {
     "iopub.execute_input": "2023-11-20T21:06:51.066784Z",
     "iopub.status.busy": "2023-11-20T21:06:51.066302Z",
     "iopub.status.idle": "2023-11-20T21:06:51.074048Z",
     "shell.execute_reply": "2023-11-20T21:06:51.072543Z"
    },
    "papermill": {
     "duration": 0.034761,
     "end_time": "2023-11-20T21:06:51.076763",
     "exception": false,
     "start_time": "2023-11-20T21:06:51.042002",
     "status": "completed"
    },
    "tags": []
   },
   "outputs": [
    {
     "name": "stdout",
     "output_type": "stream",
     "text": [
      "0\n"
     ]
    }
   ],
   "source": [
    "average_fare = test_data[\"Fare\"].mean()\n",
    "\n",
    "test_data[\"Fare\"].fillna(average_fare, inplace = True) # This replaces the single missing value in \"Fare\" with the average value Fare Value of the test data\n",
    "\n",
    "print(test_data[\"Fare\"].isnull().sum())"
   ]
  },
  {
   "cell_type": "code",
   "execution_count": 19,
   "id": "905aeedb",
   "metadata": {
    "execution": {
     "iopub.execute_input": "2023-11-20T21:06:51.124240Z",
     "iopub.status.busy": "2023-11-20T21:06:51.123840Z",
     "iopub.status.idle": "2023-11-20T21:07:04.732545Z",
     "shell.execute_reply": "2023-11-20T21:07:04.730658Z"
    },
    "papermill": {
     "duration": 13.636076,
     "end_time": "2023-11-20T21:07:04.735443",
     "exception": false,
     "start_time": "2023-11-20T21:06:51.099367",
     "status": "completed"
    },
    "tags": []
   },
   "outputs": [
    {
     "name": "stdout",
     "output_type": "stream",
     "text": [
      "0\n",
      "   PassengerId  Pclass                                          Name  Sex  \\\n",
      "0          892     3.0                              Kelly, Mr. James  1.0   \n",
      "1          893     3.0              Wilkes, Mrs. James (Ellen Needs)  0.0   \n",
      "2          894     2.0                     Myles, Mr. Thomas Francis  1.0   \n",
      "3          895     3.0                              Wirz, Mr. Albert  1.0   \n",
      "4          896     3.0  Hirvonen, Mrs. Alexander (Helga E Lindqvist)  0.0   \n",
      "\n",
      "    Age  SibSp  Parch   Ticket     Fare Cabin  Embarked  \n",
      "0  34.5    0.0    0.0   330911   7.8292   NaN       1.0  \n",
      "1  47.0    1.0    0.0   363272   7.0000   NaN       2.0  \n",
      "2  62.0    0.0    0.0   240276   9.6875   NaN       1.0  \n",
      "3  27.0    0.0    0.0   315154   8.6625   NaN       2.0  \n",
      "4  22.0    1.0    1.0  3101298  12.2875   NaN       2.0  \n"
     ]
    },
    {
     "name": "stderr",
     "output_type": "stream",
     "text": [
      "/opt/conda/lib/python3.10/site-packages/sklearn/impute/_iterative.py:785: ConvergenceWarning: [IterativeImputer] Early stopping criterion not reached.\n",
      "  warnings.warn(\n"
     ]
    }
   ],
   "source": [
    "from sklearn.experimental import enable_iterative_imputer\n",
    "from sklearn.impute import IterativeImputer\n",
    "from sklearn.ensemble import RandomForestRegressor\n",
    "from sklearn.preprocessing import LabelEncoder\n",
    "\n",
    "\n",
    "#We use \"LabelEncoder\" to turn all the categorial values (values which don't use numbers) into values which the Random Forest Regressor can understand more easily. This is very similar to doing something like pd.get_dummies()\n",
    "\n",
    "label_encoders = {}\n",
    "for column in ['Sex', 'Embarked']:\n",
    "    label_encoders[column] = LabelEncoder()\n",
    "    # We use 'astype(str)' to convert any NaN values to a string representation\n",
    "    test_data[column] = label_encoders[column].fit_transform(test_data[column].astype(str))\n",
    "\n",
    "features = ['Pclass', 'Sex', 'Age', 'SibSp', 'Parch', 'Fare', 'Embarked']\n",
    "\n",
    "\n",
    "#This is an imputer. It is a function that can efficiently impute values in the way you want. For this scenario, I am using IterativeImputer() and the RandomForestRegressor(() to )\n",
    "imputer = IterativeImputer(RandomForestRegressor(n_estimators=10), max_iter=100, random_state=0)\n",
    "\n",
    "\n",
    "# Fit the imputer on the DataFrame with the features\n",
    "imputer.fit(test_data[features]) #When IterativeImputer is used alongside an ML model like RandomForestRegressor, calling .fit() on the IterativeImputer() object will also fit (train) the ML model\n",
    "\n",
    "\n",
    "# Perform the imputation on the Test Data. THIS WILL ACTUAL IMPUTE ANY MISSING VALUES IN EACH ROW, not only the missing values in Age.\n",
    "test_data_imputed = imputer.transform(test_data[features])\n",
    "\n",
    "\n",
    "# Convert the output back to a DataFrame\n",
    "test_data_imputed = pd.DataFrame(test_data_imputed, columns=features)\n",
    "\n",
    "# Update the original DataFrame with the imputed values. This means that the columns of the original test_data dataframe that weren't part of the features (like \"Name\" isn't apart of the features list)\n",
    "test_data[features] = test_data_imputed\n",
    "\n",
    "print(test_data[\"Age\"].isnull().sum()) # Since this prints 0, we now know that there are 0 missing values in the age column and so the imputation was successful \n",
    "\n",
    "print(test_data.head())"
   ]
  },
  {
   "cell_type": "markdown",
   "id": "1d658590",
   "metadata": {
    "papermill": {
     "duration": 0.025983,
     "end_time": "2023-11-20T21:07:04.785596",
     "exception": false,
     "start_time": "2023-11-20T21:07:04.759613",
     "status": "completed"
    },
    "tags": []
   },
   "source": [
    "**The code above will imputate all the missing values in the test_data**"
   ]
  },
  {
   "cell_type": "markdown",
   "id": "ebd2ee36",
   "metadata": {
    "papermill": {
     "duration": 0.024481,
     "end_time": "2023-11-20T21:07:04.837186",
     "exception": false,
     "start_time": "2023-11-20T21:07:04.812705",
     "status": "completed"
    },
    "tags": []
   },
   "source": [
    "# Finalize the cleaning of the data and make it so test_data only has the features we want"
   ]
  },
  {
   "cell_type": "code",
   "execution_count": 20,
   "id": "53c57868",
   "metadata": {
    "execution": {
     "iopub.execute_input": "2023-11-20T21:07:04.887939Z",
     "iopub.status.busy": "2023-11-20T21:07:04.887489Z",
     "iopub.status.idle": "2023-11-20T21:07:04.905081Z",
     "shell.execute_reply": "2023-11-20T21:07:04.903278Z"
    },
    "papermill": {
     "duration": 0.045953,
     "end_time": "2023-11-20T21:07:04.907548",
     "exception": false,
     "start_time": "2023-11-20T21:07:04.861595",
     "status": "completed"
    },
    "tags": []
   },
   "outputs": [
    {
     "name": "stdout",
     "output_type": "stream",
     "text": [
      "152\n",
      "266\n",
      "   Pclass     Sex     Fare   Age  SibSp  Parch\n",
      "0     3.0    male   7.8292  34.5    0.0    0.0\n",
      "1     3.0  female   7.0000  47.0    1.0    0.0\n",
      "2     2.0    male   9.6875  62.0    0.0    0.0\n",
      "3     3.0    male   8.6625  27.0    0.0    0.0\n",
      "4     3.0  female  12.2875  22.0    1.0    1.0\n",
      "266\n"
     ]
    }
   ],
   "source": [
    "features = [\"Pclass\", \"Sex\", \"Fare\",\"Age\", \"SibSp\", \"Parch\"]\n",
    "\n",
    "test_data = test_data[features]\n",
    "\n",
    "print((test_data[\"Sex\"] == 0).sum())\n",
    "print((test_data[\"Sex\"] == 1).sum())\n",
    "\n",
    "# Since the dataset is 65% male, we can see from printing out the number of people with \"sex equal to 0\" and \"sex equal to 1\" that the LabelEncoder made Male into \"1\" and Female into \"0\". Now, let's change it back to \"male\" and \"female\".\n",
    "\n",
    "test_data['Sex'] = test_data['Sex'].map({0: 'female', 1: 'male'})\n",
    "\n",
    "print(test_data.head(5))\n",
    "\n",
    "print((test_data[\"Sex\"] == \"male\").sum())"
   ]
  },
  {
   "cell_type": "markdown",
   "id": "b1730c0b",
   "metadata": {
    "papermill": {
     "duration": 0.023618,
     "end_time": "2023-11-20T21:07:04.954764",
     "exception": false,
     "start_time": "2023-11-20T21:07:04.931146",
     "status": "completed"
    },
    "tags": []
   },
   "source": [
    "# Now, after cleaning up the data, I can split up the data into train_validation_test "
   ]
  },
  {
   "cell_type": "code",
   "execution_count": 21,
   "id": "c0d7d9a3",
   "metadata": {
    "execution": {
     "iopub.execute_input": "2023-11-20T21:07:05.009289Z",
     "iopub.status.busy": "2023-11-20T21:07:05.008551Z",
     "iopub.status.idle": "2023-11-20T21:07:05.021268Z",
     "shell.execute_reply": "2023-11-20T21:07:05.019635Z"
    },
    "papermill": {
     "duration": 0.042521,
     "end_time": "2023-11-20T21:07:05.023838",
     "exception": false,
     "start_time": "2023-11-20T21:07:04.981317",
     "status": "completed"
    },
    "tags": []
   },
   "outputs": [],
   "source": [
    "from sklearn.model_selection import train_test_split\n",
    "\n",
    "Y_train = train_data[\"Survived\"]\n",
    "\n",
    "# First, split into training (60%) and a test set (40%)\n",
    "train_X, test_X, train_Y, test_Y = train_test_split(X_train, Y_train, test_size=0.4, random_state = 42)\n",
    "\n",
    "#Second, split test set into a validation (20%) and test set (20%)\n",
    "valid_X, test_X, valid_Y, test_Y= train_test_split(test_X, test_Y, test_size = 0.5, random_state = 42)"
   ]
  },
  {
   "cell_type": "markdown",
   "id": "caf3dabc",
   "metadata": {
    "papermill": {
     "duration": 0.023516,
     "end_time": "2023-11-20T21:07:05.073717",
     "exception": false,
     "start_time": "2023-11-20T21:07:05.050201",
     "status": "completed"
    },
    "tags": []
   },
   "source": [
    "# Using pd.get_dummies() on all the data"
   ]
  },
  {
   "cell_type": "markdown",
   "id": "28b91b29",
   "metadata": {
    "papermill": {
     "duration": 0.025478,
     "end_time": "2023-11-20T21:07:05.122817",
     "exception": false,
     "start_time": "2023-11-20T21:07:05.097339",
     "status": "completed"
    },
    "tags": []
   },
   "source": [
    "**Setting up the Test data (from Test.csv) (This is NOT the test data from the Train_validation_test split):**"
   ]
  },
  {
   "cell_type": "code",
   "execution_count": 22,
   "id": "514aee5a",
   "metadata": {
    "execution": {
     "iopub.execute_input": "2023-11-20T21:07:05.177776Z",
     "iopub.status.busy": "2023-11-20T21:07:05.177061Z",
     "iopub.status.idle": "2023-11-20T21:07:05.196267Z",
     "shell.execute_reply": "2023-11-20T21:07:05.194771Z"
    },
    "papermill": {
     "duration": 0.049934,
     "end_time": "2023-11-20T21:07:05.199570",
     "exception": false,
     "start_time": "2023-11-20T21:07:05.149636",
     "status": "completed"
    },
    "tags": []
   },
   "outputs": [
    {
     "name": "stdout",
     "output_type": "stream",
     "text": [
      "   Pclass     Fare   Age  SibSp  Parch  Sex_female  Sex_male\n",
      "0     3.0   7.8292  34.5    0.0    0.0       False      True\n",
      "1     3.0   7.0000  47.0    1.0    0.0        True     False\n",
      "2     2.0   9.6875  62.0    0.0    0.0       False      True\n",
      "3     3.0   8.6625  27.0    0.0    0.0       False      True\n",
      "4     3.0  12.2875  22.0    1.0    1.0        True     False\n"
     ]
    }
   ],
   "source": [
    "test_data = test_data #the \"test_data\" variable here is after we cleaned up the test_data \n",
    "\n",
    "features = [\"Pclass\", \"Sex\", \"Fare\",\"Age\", \"SibSp\", \"Parch\"]\n",
    "\n",
    "test_data = test_data[features]\n",
    "\n",
    "test_data = pd.get_dummies(test_data)\n",
    "print(test_data.head())"
   ]
  },
  {
   "cell_type": "markdown",
   "id": "3aa44f72",
   "metadata": {
    "papermill": {
     "duration": 0.024449,
     "end_time": "2023-11-20T21:07:05.246883",
     "exception": false,
     "start_time": "2023-11-20T21:07:05.222434",
     "status": "completed"
    },
    "tags": []
   },
   "source": [
    "**Setting up the Train data and Validation data and the Test data from the train_validation_test split:**"
   ]
  },
  {
   "cell_type": "code",
   "execution_count": 23,
   "id": "8ae9a78d",
   "metadata": {
    "execution": {
     "iopub.execute_input": "2023-11-20T21:07:05.295998Z",
     "iopub.status.busy": "2023-11-20T21:07:05.295409Z",
     "iopub.status.idle": "2023-11-20T21:07:05.326951Z",
     "shell.execute_reply": "2023-11-20T21:07:05.325020Z"
    },
    "papermill": {
     "duration": 0.057977,
     "end_time": "2023-11-20T21:07:05.329275",
     "exception": false,
     "start_time": "2023-11-20T21:07:05.271298",
     "status": "completed"
    },
    "tags": []
   },
   "outputs": [
    {
     "name": "stdout",
     "output_type": "stream",
     "text": [
      "     Pclass     Fare   Age  SibSp  Parch  Sex_female  Sex_male\n",
      "570     2.0  10.5000  62.0    0.0    0.0       False      True\n",
      "787     3.0  29.1250   8.0    4.0    1.0       False      True\n",
      "74      3.0  56.4958  32.0    0.0    0.0       False      True\n",
      "113     3.0   9.8250  20.0    1.0    0.0        True     False\n",
      "635     2.0  13.0000  28.0    0.0    0.0        True     False\n",
      "     Pclass     Fare        Age  SibSp  Parch  Sex_female  Sex_male\n",
      "849     1.0  89.1042  40.900000    1.0    0.0        True     False\n",
      "331     1.0  28.5000  45.500000    0.0    0.0       False      True\n",
      "260     3.0   7.7500  50.113333    0.0    0.0       False      True\n",
      "316     2.0  26.0000  24.000000    1.0    0.0        True     False\n",
      "292     2.0  12.8750  36.000000    0.0    0.0       False      True\n",
      "     Pclass     Fare        Age  SibSp  Parch  Sex_female  Sex_male\n",
      "424     3.0  20.2125  18.000000    1.0    1.0       False      True\n",
      "837     3.0   8.0500  31.773973    0.0    0.0       False      True\n",
      "525     3.0   7.7500  40.500000    0.0    0.0       False      True\n",
      "328     3.0  20.5250  31.000000    1.0    1.0        True     False\n",
      "70      2.0  10.5000  32.000000    0.0    0.0       False      True\n"
     ]
    }
   ],
   "source": [
    "train_X = pd.get_dummies(train_X)\n",
    "print(train_X.head())\n",
    "\n",
    "valid_X = pd.get_dummies(valid_X)\n",
    "print(valid_X.head())\n",
    "\n",
    "test_X = pd.get_dummies(test_X)\n",
    "print(test_X.head())"
   ]
  },
  {
   "cell_type": "markdown",
   "id": "788660f1",
   "metadata": {
    "papermill": {
     "duration": 0.022501,
     "end_time": "2023-11-20T21:07:05.374760",
     "exception": false,
     "start_time": "2023-11-20T21:07:05.352259",
     "status": "completed"
    },
    "tags": []
   },
   "source": [
    "# Making the model, training it using train_X and changing the model based on valid_X"
   ]
  },
  {
   "cell_type": "code",
   "execution_count": 24,
   "id": "76d0fcdd",
   "metadata": {
    "execution": {
     "iopub.execute_input": "2023-11-20T21:07:05.423614Z",
     "iopub.status.busy": "2023-11-20T21:07:05.423089Z",
     "iopub.status.idle": "2023-11-20T21:07:05.427972Z",
     "shell.execute_reply": "2023-11-20T21:07:05.427047Z"
    },
    "papermill": {
     "duration": 0.031481,
     "end_time": "2023-11-20T21:07:05.430120",
     "exception": false,
     "start_time": "2023-11-20T21:07:05.398639",
     "status": "completed"
    },
    "tags": []
   },
   "outputs": [],
   "source": [
    "from sklearn.neural_network import MLPClassifier\n",
    "from sklearn.metrics import accuracy_score\n",
    "\n",
    "# Commented out the code so that the model won't run everytime\n",
    "\n",
    "# model = MLPClassifier(hidden_layer_sizes = (20, 11), activation = \"relu\", solver = \"lbfgs\", max_iter = 1000, random_state = 42)\n",
    "\n",
    "# model.fit(train_X, train_Y)\n",
    "\n",
    "# y_pred = model.predict(valid_X)\n",
    "\n",
    "# print(f\"Accuracy: {accuracy_score(valid_Y, y_pred)}\")"
   ]
  },
  {
   "cell_type": "markdown",
   "id": "a7d7ed0c",
   "metadata": {
    "papermill": {
     "duration": 0.02338,
     "end_time": "2023-11-20T21:07:05.477719",
     "exception": false,
     "start_time": "2023-11-20T21:07:05.454339",
     "status": "completed"
    },
    "tags": []
   },
   "source": [
    "**From the code above, you can see that I am using the validation set to test out the code**"
   ]
  },
  {
   "cell_type": "code",
   "execution_count": 25,
   "id": "bca4a496",
   "metadata": {
    "execution": {
     "iopub.execute_input": "2023-11-20T21:07:05.527823Z",
     "iopub.status.busy": "2023-11-20T21:07:05.527353Z",
     "iopub.status.idle": "2023-11-20T21:07:05.532635Z",
     "shell.execute_reply": "2023-11-20T21:07:05.531115Z"
    },
    "papermill": {
     "duration": 0.034039,
     "end_time": "2023-11-20T21:07:05.535841",
     "exception": false,
     "start_time": "2023-11-20T21:07:05.501802",
     "status": "completed"
    },
    "tags": []
   },
   "outputs": [],
   "source": [
    "# Commented out the code so that the model won't run everytime\n",
    "\n",
    "# y_pred = model.predict(test_X)\n",
    "\n",
    "# print(f\"Accuracy: {accuracy_score(test_Y, y_pred)}\")"
   ]
  },
  {
   "cell_type": "markdown",
   "id": "bb2366c8",
   "metadata": {
    "papermill": {
     "duration": 0.024075,
     "end_time": "2023-11-20T21:07:05.585166",
     "exception": false,
     "start_time": "2023-11-20T21:07:05.561091",
     "status": "completed"
    },
    "tags": []
   },
   "source": [
    "# Using GridSearchCV to find the best parameters for my MLPClassifier Model"
   ]
  },
  {
   "cell_type": "markdown",
   "id": "3fbe9cb2",
   "metadata": {
    "papermill": {
     "duration": 0.024628,
     "end_time": "2023-11-20T21:07:05.635003",
     "exception": false,
     "start_time": "2023-11-20T21:07:05.610375",
     "status": "completed"
    },
    "tags": []
   },
   "source": [
    "**The \"parameter space\" are all the different components and possible values which I want to try for my model**"
   ]
  },
  {
   "cell_type": "code",
   "execution_count": 26,
   "id": "0539e0b9",
   "metadata": {
    "execution": {
     "iopub.execute_input": "2023-11-20T21:07:05.688774Z",
     "iopub.status.busy": "2023-11-20T21:07:05.688169Z",
     "iopub.status.idle": "2023-11-20T21:07:05.698215Z",
     "shell.execute_reply": "2023-11-20T21:07:05.697309Z"
    },
    "papermill": {
     "duration": 0.038815,
     "end_time": "2023-11-20T21:07:05.700606",
     "exception": false,
     "start_time": "2023-11-20T21:07:05.661791",
     "status": "completed"
    },
    "tags": []
   },
   "outputs": [],
   "source": [
    "# %%capture --no-stderr\n",
    "\n",
    "# # Code that causes warnings\n",
    "# import warnings\n",
    "# from sklearn.exceptions import ConvergenceWarning\n",
    "\n",
    "# # Suppress ConvergenceWarning\n",
    "# warnings.filterwarnings(\"ignore\", category=ConvergenceWarning)\n",
    "# warnings.filterwarnings('ignore')\n",
    "\n",
    "from sklearn.model_selection import GridSearchCV\n",
    "from sklearn.neural_network import MLPClassifier\n",
    "\n",
    "training_X = pd.concat([train_X, valid_X, test_X], ignore_index=True)\n",
    "training_Y = pd.concat([train_Y, valid_Y, test_Y], ignore_index=True)\n",
    "\n",
    "possible_hidden_layers = []\n",
    "\n",
    "for i in range(8,16):\n",
    "    for j in range(8,16):\n",
    "        possible_hidden_layers.append((i, j))\n",
    "\n",
    "parameter_space = {\n",
    "    'hidden_layer_sizes': possible_hidden_layers,\n",
    "    'activation': ['tanh', 'relu'],\n",
    "    'solver': ['sgd', 'adam', \"lbfgs\"],\n",
    "    'alpha': [0.0001, 0.05],\n",
    "    'learning_rate': ['constant','adaptive'],\n",
    "}\n",
    "\n",
    "# mlp = MLPClassifier(max_iter=1000, random_state = 42)\n",
    "\n",
    "# clf = GridSearchCV(mlp, parameter_space, n_jobs=-1, cv=3)\n",
    "\n",
    "# clf.fit(training_X, training_Y)\n",
    "\n",
    "# print('Best parameters found:\\n', clf.best_params_)\n",
    "\n",
    "# print('Best score (CV mean):', clf.best_score_)\n",
    "\n",
    "# print(\"Done\")\n",
    "\n"
   ]
  },
  {
   "cell_type": "markdown",
   "id": "238483da",
   "metadata": {
    "papermill": {
     "duration": 0.023004,
     "end_time": "2023-11-20T21:07:05.747098",
     "exception": false,
     "start_time": "2023-11-20T21:07:05.724094",
     "status": "completed"
    },
    "tags": []
   },
   "source": [
    "# Now that I found the best hyperparameters, I can finalize my model"
   ]
  },
  {
   "cell_type": "markdown",
   "id": "6d142e75",
   "metadata": {
    "papermill": {
     "duration": 0.026367,
     "end_time": "2023-11-20T21:07:05.797261",
     "exception": false,
     "start_time": "2023-11-20T21:07:05.770894",
     "status": "completed"
    },
    "tags": []
   },
   "source": [
    "**Test using validation set:**"
   ]
  },
  {
   "cell_type": "code",
   "execution_count": 27,
   "id": "5426d0c6",
   "metadata": {
    "execution": {
     "iopub.execute_input": "2023-11-20T21:07:05.847331Z",
     "iopub.status.busy": "2023-11-20T21:07:05.846918Z",
     "iopub.status.idle": "2023-11-20T21:07:05.852719Z",
     "shell.execute_reply": "2023-11-20T21:07:05.851690Z"
    },
    "papermill": {
     "duration": 0.033866,
     "end_time": "2023-11-20T21:07:05.856235",
     "exception": false,
     "start_time": "2023-11-20T21:07:05.822369",
     "status": "completed"
    },
    "tags": []
   },
   "outputs": [],
   "source": [
    "# Best parameters: {'activation': 'tanh', 'alpha': 0.05, 'hidden_layer_sizes': (13, 15), 'learning_rate': 'constant', 'solver': 'lbfgs'}\n",
    "# Best score (CV mean): 0.8282828282828283\n",
    "\n",
    "\n",
    "from sklearn.neural_network import MLPClassifier\n",
    "from sklearn.metrics import accuracy_score\n",
    "\n",
    "# Commented out the code so that the model won't run everytime\n",
    "\n",
    "# model = MLPClassifier(activation = \"tanh\", alpha = 0.05, hidden_layer_sizes = (13, 15), learning_rate = \"constant\", solver = \"lbfgs\", max_iter=5000, random_state = 42)\n",
    "\n",
    "# #model = MLPClassifier(activation = \"relu\", hidden_layer_sizes = (20, 11), solver = \"lbfgs\",  max_iter=2000, random_state = 42)\n",
    "\n",
    "# model.fit(train_X, train_Y)\n",
    "\n",
    "# y_pred = model.predict(valid_X)\n",
    "\n",
    "# print(f\"Accuracy: {accuracy_score(valid_Y, y_pred)}\")"
   ]
  },
  {
   "cell_type": "markdown",
   "id": "f9566259",
   "metadata": {
    "papermill": {
     "duration": 0.023148,
     "end_time": "2023-11-20T21:07:05.903193",
     "exception": false,
     "start_time": "2023-11-20T21:07:05.880045",
     "status": "completed"
    },
    "tags": []
   },
   "source": [
    "**Test using test set (from Train-validation-test split)**"
   ]
  },
  {
   "cell_type": "code",
   "execution_count": 28,
   "id": "0720dc1f",
   "metadata": {
    "execution": {
     "iopub.execute_input": "2023-11-20T21:07:05.954379Z",
     "iopub.status.busy": "2023-11-20T21:07:05.954010Z",
     "iopub.status.idle": "2023-11-20T21:07:05.958384Z",
     "shell.execute_reply": "2023-11-20T21:07:05.957251Z"
    },
    "papermill": {
     "duration": 0.03327,
     "end_time": "2023-11-20T21:07:05.960963",
     "exception": false,
     "start_time": "2023-11-20T21:07:05.927693",
     "status": "completed"
    },
    "tags": []
   },
   "outputs": [],
   "source": [
    "# Commented out the code so that the model won't run everytime\n",
    "\n",
    "# y_pred = model.predict(test_X)\n",
    "\n",
    "# print(f\"Accuracy: {accuracy_score(test_Y, y_pred)}\")"
   ]
  },
  {
   "cell_type": "markdown",
   "id": "9bf1e52c",
   "metadata": {
    "papermill": {
     "duration": 0.026077,
     "end_time": "2023-11-20T21:07:06.010045",
     "exception": false,
     "start_time": "2023-11-20T21:07:05.983968",
     "status": "completed"
    },
    "tags": []
   },
   "source": [
    "# Submitting Model 3"
   ]
  },
  {
   "cell_type": "code",
   "execution_count": 29,
   "id": "29e04719",
   "metadata": {
    "execution": {
     "iopub.execute_input": "2023-11-20T21:07:06.063621Z",
     "iopub.status.busy": "2023-11-20T21:07:06.063199Z",
     "iopub.status.idle": "2023-11-20T21:07:06.068336Z",
     "shell.execute_reply": "2023-11-20T21:07:06.067281Z"
    },
    "papermill": {
     "duration": 0.035091,
     "end_time": "2023-11-20T21:07:06.071082",
     "exception": false,
     "start_time": "2023-11-20T21:07:06.035991",
     "status": "completed"
    },
    "tags": []
   },
   "outputs": [],
   "source": [
    "# Commented out the code so that the model won't run everytime\n",
    "\n",
    "# full_X = pd.get_dummies(X_train)\n",
    "\n",
    "# full_Y = Y_train\n",
    "\n",
    "# #We end up using the WHOLE training dataset (all of train.csv) to fit (train) our model right before submission since this gives our model the most amount of data to train on\n",
    "# model.fit(full_X, full_Y)\n",
    "\n",
    "\n",
    "# predictions3 = model.predict(test_data)"
   ]
  },
  {
   "cell_type": "code",
   "execution_count": 30,
   "id": "1961abac",
   "metadata": {
    "execution": {
     "iopub.execute_input": "2023-11-20T21:07:06.121206Z",
     "iopub.status.busy": "2023-11-20T21:07:06.120108Z",
     "iopub.status.idle": "2023-11-20T21:07:06.133736Z",
     "shell.execute_reply": "2023-11-20T21:07:06.131783Z"
    },
    "papermill": {
     "duration": 0.040915,
     "end_time": "2023-11-20T21:07:06.136558",
     "exception": false,
     "start_time": "2023-11-20T21:07:06.095643",
     "status": "completed"
    },
    "tags": []
   },
   "outputs": [],
   "source": [
    "original_test = pd.read_csv(\"/kaggle/input/titanic/test.csv\")\n",
    "\n",
    "pass_id = original_test['PassengerId']\n",
    "\n",
    "# original_test = original_test.drop('PassengerId', axis=1)\n",
    "# original_test = pd.get_dummies(original_test[features])\n",
    "\n",
    "test_data[\"PassengerId\"] = pass_id\n",
    "\n",
    "# Commented out the code so that the model won't run everytime\n",
    "\n",
    "# predictions3 = predictions3.astype(int)\n",
    "\n",
    "#print(predictions3)\n",
    "\n",
    "# output = pd.DataFrame({'PassengerId': test_data.PassengerId, 'Survived': predictions3})\n",
    "# output.to_csv('submission.csv', index=False)\n",
    "# print(\"Your submission was successfully saved!\")\n",
    "\n",
    "# test_data = test_data.drop(\"PassengerId\", axis = 1) # WE make sure to drop the PassengerId column since we are continuing to use the test_data variable in future tests and we don't want PassengerId to be apart of it until we submit the model again"
   ]
  },
  {
   "cell_type": "markdown",
   "id": "f9a507b4",
   "metadata": {
    "papermill": {
     "duration": 0.022387,
     "end_time": "2023-11-20T21:07:06.182458",
     "exception": false,
     "start_time": "2023-11-20T21:07:06.160071",
     "status": "completed"
    },
    "tags": []
   },
   "source": [
    "# Changing the model solver from \"lbfgs\" to \"adam\""
   ]
  },
  {
   "cell_type": "code",
   "execution_count": 31,
   "id": "8c42829f",
   "metadata": {
    "execution": {
     "iopub.execute_input": "2023-11-20T21:07:06.232187Z",
     "iopub.status.busy": "2023-11-20T21:07:06.231770Z",
     "iopub.status.idle": "2023-11-20T21:07:06.237882Z",
     "shell.execute_reply": "2023-11-20T21:07:06.236689Z"
    },
    "papermill": {
     "duration": 0.033686,
     "end_time": "2023-11-20T21:07:06.240610",
     "exception": false,
     "start_time": "2023-11-20T21:07:06.206924",
     "status": "completed"
    },
    "tags": []
   },
   "outputs": [],
   "source": [
    "model = MLPClassifier(activation = \"tanh\", alpha = 0.05, hidden_layer_sizes = (13, 15), learning_rate = \"constant\", solver = \"adam\", max_iter=5000, random_state = 42)\n",
    "# Try changing it back to lbfgs after normalization since maybe it converges faster now after normalization\n",
    "#Also, with normalization, you can increase the learning_rate with less risk of divergence which is good\n"
   ]
  },
  {
   "cell_type": "markdown",
   "id": "285656c5",
   "metadata": {
    "papermill": {
     "duration": 0.02236,
     "end_time": "2023-11-20T21:07:06.287244",
     "exception": false,
     "start_time": "2023-11-20T21:07:06.264884",
     "status": "completed"
    },
    "tags": []
   },
   "source": [
    "**I made this change because it said that lbfgs was not converging so I tried changing to a differnet solver and adam seemed to converge. But also, I am going to normalize my data which should make the training of my data converge faster. So, I might also go back to lbfgs to see if it converges now**"
   ]
  },
  {
   "cell_type": "markdown",
   "id": "3e6566bc",
   "metadata": {
    "papermill": {
     "duration": 0.023301,
     "end_time": "2023-11-20T21:07:06.334148",
     "exception": false,
     "start_time": "2023-11-20T21:07:06.310847",
     "status": "completed"
    },
    "tags": []
   },
   "source": [
    "# Feature Engineering: Putting more weight onto specific features (like Gender and Age)"
   ]
  },
  {
   "cell_type": "markdown",
   "id": "505cffb2",
   "metadata": {
    "papermill": {
     "duration": 0.02452,
     "end_time": "2023-11-20T21:07:06.382925",
     "exception": false,
     "start_time": "2023-11-20T21:07:06.358405",
     "status": "completed"
    },
    "tags": []
   },
   "source": [
    "**We know from history that Women and Children were more likely to survive so it makes more sense to put more weight into those features. In other words, we should penalize a person more if they are not a Women or Child and therefore make it less likely for them to survive**"
   ]
  },
  {
   "cell_type": "code",
   "execution_count": 32,
   "id": "0c7e21df",
   "metadata": {
    "execution": {
     "iopub.execute_input": "2023-11-20T21:07:06.432004Z",
     "iopub.status.busy": "2023-11-20T21:07:06.431531Z",
     "iopub.status.idle": "2023-11-20T21:07:06.481484Z",
     "shell.execute_reply": "2023-11-20T21:07:06.480175Z"
    },
    "papermill": {
     "duration": 0.077424,
     "end_time": "2023-11-20T21:07:06.483912",
     "exception": false,
     "start_time": "2023-11-20T21:07:06.406488",
     "status": "completed"
    },
    "tags": []
   },
   "outputs": [
    {
     "name": "stdout",
     "output_type": "stream",
     "text": [
      "     Pclass      Fare   Age  SibSp  Parch  Sex_female  Sex_male\n",
      "570     2.0   10.5000  62.0    0.0    0.0       False      True\n",
      "787     3.0   29.1250   8.0    4.0    1.0       False      True\n",
      "74      3.0   56.4958  32.0    0.0    0.0       False      True\n",
      "113     3.0    9.8250  20.0    1.0    0.0        True     False\n",
      "635     2.0   13.0000  28.0    0.0    0.0        True     False\n",
      "..      ...       ...   ...    ...    ...         ...       ...\n",
      "106     3.0    7.6500  21.0    0.0    0.0        True     False\n",
      "270     1.0   31.0000  52.7    0.0    0.0       False      True\n",
      "860     3.0   14.1083  41.0    2.0    0.0       False      True\n",
      "435     1.0  120.0000  14.0    1.0    2.0        True     False\n",
      "102     1.0   77.2875  21.0    0.0    1.0       False      True\n",
      "\n",
      "[534 rows x 7 columns]\n",
      "     Pclass      Fare   Age  SibSp  Parch  Sex_female  Sex_male  \\\n",
      "570     2.0   10.5000  62.0    0.0    0.0       False      True   \n",
      "787     3.0   29.1250   8.0    4.0    1.0       False      True   \n",
      "74      3.0   56.4958  32.0    0.0    0.0       False      True   \n",
      "113     3.0    9.8250  20.0    1.0    0.0        True     False   \n",
      "635     2.0   13.0000  28.0    0.0    0.0        True     False   \n",
      "..      ...       ...   ...    ...    ...         ...       ...   \n",
      "106     3.0    7.6500  21.0    0.0    0.0        True     False   \n",
      "270     1.0   31.0000  52.7    0.0    0.0       False      True   \n",
      "860     3.0   14.1083  41.0    2.0    0.0       False      True   \n",
      "435     1.0  120.0000  14.0    1.0    2.0        True     False   \n",
      "102     1.0   77.2875  21.0    0.0    1.0       False      True   \n",
      "\n",
      "     FemaleFirstClass  ChildFirstClass  IsChild  FamilySize  IsAlone  \n",
      "570                 0                0        0         1.0        1  \n",
      "787                 0                0        1         6.0        0  \n",
      "74                  0                0        0         1.0        1  \n",
      "113                 0                0        0         2.0        0  \n",
      "635                 0                0        0         1.0        1  \n",
      "..                ...              ...      ...         ...      ...  \n",
      "106                 0                0        0         1.0        1  \n",
      "270                 0                0        0         1.0        1  \n",
      "860                 0                0        0         3.0        0  \n",
      "435                 1                1        1         4.0        0  \n",
      "102                 0                0        0         2.0        0  \n",
      "\n",
      "[534 rows x 12 columns]\n"
     ]
    }
   ],
   "source": [
    "print(train_X)\n",
    "\n",
    "train_X['FemaleFirstClass'] = ((train_X['Sex_female'] == True) & (train_X['Pclass'] == 1)).astype(int)\n",
    "train_X['ChildFirstClass'] = ((train_X['Age'] < 18) & (train_X['Pclass'] == 1)).astype(int) \n",
    "\n",
    "\n",
    "valid_X['FemaleFirstClass'] = ((valid_X['Sex_female'] == True) & (valid_X['Pclass'] == 1)).astype(int)\n",
    "valid_X['ChildFirstClass'] = ((valid_X['Age'] < 18) & (valid_X['Pclass'] == 1)).astype(int) \n",
    "\n",
    "\n",
    "test_X['FemaleFirstClass'] = ((test_X['Sex_female'] == True) & (test_X['Pclass'] == 1)).astype(int)\n",
    "test_X['ChildFirstClass'] = ((test_X['Age'] < 18) & (test_X['Pclass'] == 1)).astype(int) \n",
    "\n",
    "\n",
    "test_data['FemaleFirstClass'] = ((test_data['Sex_female'] == True) & (test_data['Pclass'] == 1)).astype(int)\n",
    "test_data['ChildFirstClass'] = ((test_data['Age'] < 18) & (test_data['Pclass'] == 1)).astype(int) \n",
    "\n",
    "\n",
    "# Bin 'Age' into categories\n",
    "train_X['IsChild'] = (train_X['Age'] < 18).astype(int)\n",
    "valid_X['IsChild'] = (valid_X['Age'] < 18).astype(int)\n",
    "test_X['IsChild'] = (test_X['Age'] < 18).astype(int)\n",
    "test_data['IsChild'] = (test_data['Age'] < 18).astype(int)\n",
    "\n",
    "\n",
    "# Create FamilySize and IsAlone\n",
    "train_X['FamilySize'] = train_X['SibSp'] + train_X['Parch'] + 1\n",
    "valid_X['FamilySize'] = valid_X['SibSp'] + valid_X['Parch'] + 1\n",
    "test_X['FamilySize'] = test_X['SibSp'] + test_X['Parch'] + 1\n",
    "test_data['FamilySize'] = test_data['SibSp'] + test_data['Parch'] + 1\n",
    "\n",
    "\n",
    "train_X['IsAlone'] = (train_X['FamilySize'] == 1).astype(int)\n",
    "valid_X['IsAlone'] = (valid_X['FamilySize'] == 1).astype(int)\n",
    "test_X['IsAlone'] = (test_X['FamilySize'] == 1).astype(int)\n",
    "test_data['IsAlone'] = (test_data['FamilySize'] == 1).astype(int)\n",
    "\n",
    "\n",
    "print(train_X)"
   ]
  },
  {
   "cell_type": "markdown",
   "id": "1cc632ac",
   "metadata": {
    "papermill": {
     "duration": 0.023432,
     "end_time": "2023-11-20T21:07:06.530884",
     "exception": false,
     "start_time": "2023-11-20T21:07:06.507452",
     "status": "completed"
    },
    "tags": []
   },
   "source": [
    "# Normalizing all the data"
   ]
  },
  {
   "cell_type": "markdown",
   "id": "db00f17c",
   "metadata": {
    "papermill": {
     "duration": 0.0247,
     "end_time": "2023-11-20T21:07:06.579880",
     "exception": false,
     "start_time": "2023-11-20T21:07:06.555180",
     "status": "completed"
    },
    "tags": []
   },
   "source": [
    "**Creating the Normalizing Scaler**"
   ]
  },
  {
   "cell_type": "code",
   "execution_count": 33,
   "id": "dfc08b33",
   "metadata": {
    "execution": {
     "iopub.execute_input": "2023-11-20T21:07:06.628283Z",
     "iopub.status.busy": "2023-11-20T21:07:06.627861Z",
     "iopub.status.idle": "2023-11-20T21:07:06.646347Z",
     "shell.execute_reply": "2023-11-20T21:07:06.644934Z"
    },
    "papermill": {
     "duration": 0.045227,
     "end_time": "2023-11-20T21:07:06.648946",
     "exception": false,
     "start_time": "2023-11-20T21:07:06.603719",
     "status": "completed"
    },
    "tags": []
   },
   "outputs": [
    {
     "name": "stdout",
     "output_type": "stream",
     "text": [
      "     Pclass      Fare   Age  SibSp  Parch  Sex_female  Sex_male  \\\n",
      "570     2.0   10.5000  62.0    0.0    0.0       False      True   \n",
      "787     3.0   29.1250   8.0    4.0    1.0       False      True   \n",
      "74      3.0   56.4958  32.0    0.0    0.0       False      True   \n",
      "113     3.0    9.8250  20.0    1.0    0.0        True     False   \n",
      "635     2.0   13.0000  28.0    0.0    0.0        True     False   \n",
      "..      ...       ...   ...    ...    ...         ...       ...   \n",
      "106     3.0    7.6500  21.0    0.0    0.0        True     False   \n",
      "270     1.0   31.0000  52.7    0.0    0.0       False      True   \n",
      "860     3.0   14.1083  41.0    2.0    0.0       False      True   \n",
      "435     1.0  120.0000  14.0    1.0    2.0        True     False   \n",
      "102     1.0   77.2875  21.0    0.0    1.0       False      True   \n",
      "\n",
      "     FemaleFirstClass  ChildFirstClass  IsChild  FamilySize  IsAlone  \n",
      "570                 0                0        0         1.0        1  \n",
      "787                 0                0        1         6.0        0  \n",
      "74                  0                0        0         1.0        1  \n",
      "113                 0                0        0         2.0        0  \n",
      "635                 0                0        0         1.0        1  \n",
      "..                ...              ...      ...         ...      ...  \n",
      "106                 0                0        0         1.0        1  \n",
      "270                 0                0        0         1.0        1  \n",
      "860                 0                0        0         3.0        0  \n",
      "435                 1                1        1         4.0        0  \n",
      "102                 0                0        0         2.0        0  \n",
      "\n",
      "[534 rows x 12 columns]\n"
     ]
    }
   ],
   "source": [
    "from sklearn.preprocessing import MinMaxScaler\n",
    "\n",
    "# Initialize the MinMaxScaler\n",
    "scaler = MinMaxScaler()\n",
    "\n",
    "# Select columns you want to normalize\n",
    "columns_to_normalize = [\"Pclass\", \"Fare\",\"Age\", \"SibSp\"]\n",
    "\n",
    "scaler.fit(train_X[columns_to_normalize]) #it is important to fit the scaler on the training data (from the train-validation-test split) only\n",
    "\n",
    "print(train_X)"
   ]
  },
  {
   "cell_type": "markdown",
   "id": "f9aa6482",
   "metadata": {
    "papermill": {
     "duration": 0.023148,
     "end_time": "2023-11-20T21:07:06.694989",
     "exception": false,
     "start_time": "2023-11-20T21:07:06.671841",
     "status": "completed"
    },
    "tags": []
   },
   "source": [
    "**It is very important to only fit the scaler on the training data from the train-validation-test split and not the training data from the whole train.csv since the whole training data includes data from the validation and test split and fitting on that will cause the testing (using validation and test) of the model to be overly optimistic. This is called data leakage.**\n",
    "\n",
    "**Also, it's important that we do not fit the scaler multiple times since that would cause inconsistant fitting throughout the data. It should only be fitted once and then applied to all the different datasets.**\n",
    "\n",
    "**However,before I submit Model 4, I should re-fit the normalization scaler on the entire training data since I will be running my model on the entire training data**"
   ]
  },
  {
   "cell_type": "markdown",
   "id": "2a36b243",
   "metadata": {
    "papermill": {
     "duration": 0.022504,
     "end_time": "2023-11-20T21:07:06.740799",
     "exception": false,
     "start_time": "2023-11-20T21:07:06.718295",
     "status": "completed"
    },
    "tags": []
   },
   "source": [
    "**Normalizing the test data (the one from test.csv)**"
   ]
  },
  {
   "cell_type": "code",
   "execution_count": 34,
   "id": "e1100e24",
   "metadata": {
    "execution": {
     "iopub.execute_input": "2023-11-20T21:07:06.788153Z",
     "iopub.status.busy": "2023-11-20T21:07:06.787656Z",
     "iopub.status.idle": "2023-11-20T21:07:06.796492Z",
     "shell.execute_reply": "2023-11-20T21:07:06.795666Z"
    },
    "papermill": {
     "duration": 0.035363,
     "end_time": "2023-11-20T21:07:06.798798",
     "exception": false,
     "start_time": "2023-11-20T21:07:06.763435",
     "status": "completed"
    },
    "tags": []
   },
   "outputs": [],
   "source": [
    "test_data = test_data #the \"test_data\" variable here is after we cleaned up the test_data \n",
    "\n",
    "#print(test_data)\n",
    "\n",
    "# Fit the scaler on the data and then transform it\n",
    "test_data[columns_to_normalize] = scaler.transform(test_data[columns_to_normalize])\n",
    "\n",
    "#print(test_data)"
   ]
  },
  {
   "cell_type": "markdown",
   "id": "6fef68d3",
   "metadata": {
    "papermill": {
     "duration": 0.022516,
     "end_time": "2023-11-20T21:07:06.844033",
     "exception": false,
     "start_time": "2023-11-20T21:07:06.821517",
     "status": "completed"
    },
    "tags": []
   },
   "source": [
    "**Normalizing the train, validation, and test data**"
   ]
  },
  {
   "cell_type": "code",
   "execution_count": 35,
   "id": "3b117aac",
   "metadata": {
    "execution": {
     "iopub.execute_input": "2023-11-20T21:07:06.891278Z",
     "iopub.status.busy": "2023-11-20T21:07:06.890905Z",
     "iopub.status.idle": "2023-11-20T21:07:06.921543Z",
     "shell.execute_reply": "2023-11-20T21:07:06.920776Z"
    },
    "papermill": {
     "duration": 0.05713,
     "end_time": "2023-11-20T21:07:06.923918",
     "exception": false,
     "start_time": "2023-11-20T21:07:06.866788",
     "status": "completed"
    },
    "tags": []
   },
   "outputs": [
    {
     "name": "stdout",
     "output_type": "stream",
     "text": [
      "     Pclass      Fare       Age  SibSp  Parch  Sex_female  Sex_male  \\\n",
      "570     0.5  0.020495  0.773813  0.000    0.0       False      True   \n",
      "787     1.0  0.056848  0.095250  0.500    1.0       False      True   \n",
      "74      1.0  0.110272  0.396833  0.000    0.0       False      True   \n",
      "113     1.0  0.019177  0.246042  0.125    0.0        True     False   \n",
      "635     0.5  0.025374  0.346569  0.000    0.0        True     False   \n",
      "\n",
      "     FemaleFirstClass  ChildFirstClass  IsChild  FamilySize  IsAlone  \n",
      "570                 0                0        0         1.0        1  \n",
      "787                 0                0        1         6.0        0  \n",
      "74                  0                0        0         1.0        1  \n",
      "113                 0                0        0         2.0        0  \n",
      "635                 0                0        0         1.0        1  \n",
      "     Pclass      Fare       Age  SibSp  Parch  Sex_female  Sex_male  \\\n",
      "849     0.0  0.173920  0.508671  0.125    0.0        True     False   \n",
      "331     0.0  0.055628  0.566474  0.000    0.0       False      True   \n",
      "260     1.0  0.015127  0.624445  0.000    0.0       False      True   \n",
      "316     0.5  0.050749  0.296306  0.125    0.0        True     False   \n",
      "292     0.5  0.025130  0.447097  0.000    0.0       False      True   \n",
      "\n",
      "     FemaleFirstClass  ChildFirstClass  IsChild  FamilySize  IsAlone  \n",
      "849                 1                0        0         2.0        0  \n",
      "331                 0                0        0         1.0        1  \n",
      "260                 0                0        0         1.0        1  \n",
      "316                 0                0        0         2.0        0  \n",
      "292                 0                0        0         1.0        1  \n",
      "     Pclass      Fare       Age  SibSp  Parch  Sex_female  Sex_male  \\\n",
      "424     1.0  0.039452  0.220910  0.125    1.0       False      True   \n",
      "837     1.0  0.015713  0.393993  0.000    0.0       False      True   \n",
      "525     1.0  0.015127  0.503644  0.000    0.0       False      True   \n",
      "328     1.0  0.040062  0.384267  0.125    1.0        True     False   \n",
      "70      0.5  0.020495  0.396833  0.000    0.0       False      True   \n",
      "\n",
      "     FemaleFirstClass  ChildFirstClass  IsChild  FamilySize  IsAlone  \n",
      "424                 0                0        0         3.0        0  \n",
      "837                 0                0        0         1.0        1  \n",
      "525                 0                0        0         1.0        1  \n",
      "328                 0                0        0         3.0        0  \n",
      "70                  0                0        0         1.0        1  \n"
     ]
    }
   ],
   "source": [
    "train_X[columns_to_normalize] = scaler.transform(train_X[columns_to_normalize])\n",
    "print(train_X.head())\n",
    "\n",
    "valid_X[columns_to_normalize] = scaler.transform(valid_X[columns_to_normalize])\n",
    "print(valid_X.head())\n",
    "\n",
    "test_X[columns_to_normalize] = scaler.transform(test_X[columns_to_normalize])\n",
    "print(test_X.head())"
   ]
  },
  {
   "cell_type": "markdown",
   "id": "e5d6aaab",
   "metadata": {
    "papermill": {
     "duration": 0.02259,
     "end_time": "2023-11-20T21:07:06.969400",
     "exception": false,
     "start_time": "2023-11-20T21:07:06.946810",
     "status": "completed"
    },
    "tags": []
   },
   "source": [
    "# Testing out my model (4th) after Feature Enginering and Normalization"
   ]
  },
  {
   "cell_type": "code",
   "execution_count": 36,
   "id": "a850f410",
   "metadata": {
    "execution": {
     "iopub.execute_input": "2023-11-20T21:07:07.017568Z",
     "iopub.status.busy": "2023-11-20T21:07:07.017156Z",
     "iopub.status.idle": "2023-11-20T21:07:09.207666Z",
     "shell.execute_reply": "2023-11-20T21:07:09.206292Z"
    },
    "papermill": {
     "duration": 2.217825,
     "end_time": "2023-11-20T21:07:09.210139",
     "exception": false,
     "start_time": "2023-11-20T21:07:06.992314",
     "status": "completed"
    },
    "tags": []
   },
   "outputs": [
    {
     "name": "stdout",
     "output_type": "stream",
     "text": [
      "Validation Accuracy: 0.8202247191011236\n"
     ]
    }
   ],
   "source": [
    "model = MLPClassifier(activation = \"tanh\", alpha = 0, hidden_layer_sizes = (13, 15), learning_rate = \"constant\", solver = \"adam\", max_iter=5000, random_state = 42)\n",
    "\n",
    "model.fit(train_X, train_Y)\n",
    "\n",
    "y_pred = model.predict(valid_X)\n",
    "\n",
    "print(f\"Validation Accuracy: {accuracy_score(valid_Y, y_pred)}\")"
   ]
  },
  {
   "cell_type": "markdown",
   "id": "1d7d255a",
   "metadata": {
    "papermill": {
     "duration": 0.023173,
     "end_time": "2023-11-20T21:07:09.256453",
     "exception": false,
     "start_time": "2023-11-20T21:07:09.233280",
     "status": "completed"
    },
    "tags": []
   },
   "source": [
    "# Using GridSearchCV to find new best amount of neurons per hidden layer and also to find best alpha and activation\n"
   ]
  },
  {
   "cell_type": "code",
   "execution_count": 37,
   "id": "3ef16f6b",
   "metadata": {
    "execution": {
     "iopub.execute_input": "2023-11-20T21:07:09.304237Z",
     "iopub.status.busy": "2023-11-20T21:07:09.303861Z",
     "iopub.status.idle": "2023-11-20T21:07:09.313262Z",
     "shell.execute_reply": "2023-11-20T21:07:09.312122Z"
    },
    "papermill": {
     "duration": 0.036162,
     "end_time": "2023-11-20T21:07:09.315627",
     "exception": false,
     "start_time": "2023-11-20T21:07:09.279465",
     "status": "completed"
    },
    "tags": []
   },
   "outputs": [],
   "source": [
    "from sklearn.neural_network import MLPClassifier\n",
    "\n",
    "training_X = pd.concat([train_X, valid_X, test_X], ignore_index=True)\n",
    "training_Y = pd.concat([train_Y, valid_Y, test_Y], ignore_index=True)\n",
    "\n",
    "possible_hidden_layers = []\n",
    "\n",
    "for i in range(8,20):\n",
    "    for j in range(8,20):\n",
    "        possible_hidden_layers.append((i, j))\n",
    "\n",
    "parameter_space = {\n",
    "    'hidden_layer_sizes': possible_hidden_layers,\n",
    "    'activation': ['tanh', 'relu'],\n",
    "    'alpha': [0.0001, 0.05],\n",
    "    \"max_iter\": [4000, 5000, 6000, 7000]\n",
    "}\n",
    "\n",
    "# mlp = MLPClassifier(solver = \"adam\", random_state = 42)\n",
    "\n",
    "# clf = GridSearchCV(mlp, parameter_space, n_jobs=-1, cv=3)\n",
    "\n",
    "# clf.fit(training_X, training_Y)\n",
    "\n",
    "# print('Best parameters found:\\n', clf.best_params_)\n",
    "\n",
    "# print('Best score (CV mean):', clf.best_score_)\n",
    "\n",
    "# print(\"Done\")"
   ]
  },
  {
   "cell_type": "markdown",
   "id": "d03ac798",
   "metadata": {
    "papermill": {
     "duration": 0.022694,
     "end_time": "2023-11-20T21:07:09.361455",
     "exception": false,
     "start_time": "2023-11-20T21:07:09.338761",
     "status": "completed"
    },
    "tags": []
   },
   "source": [
    "# Before I submit Model 4, I should re-fit the normalization scaler on the entire training data since I will be running my model on the entire training data\n"
   ]
  },
  {
   "cell_type": "code",
   "execution_count": 38,
   "id": "baa20fa2",
   "metadata": {
    "execution": {
     "iopub.execute_input": "2023-11-20T21:07:09.409387Z",
     "iopub.status.busy": "2023-11-20T21:07:09.409002Z",
     "iopub.status.idle": "2023-11-20T21:07:09.440739Z",
     "shell.execute_reply": "2023-11-20T21:07:09.439650Z"
    },
    "papermill": {
     "duration": 0.0593,
     "end_time": "2023-11-20T21:07:09.443753",
     "exception": false,
     "start_time": "2023-11-20T21:07:09.384453",
     "status": "completed"
    },
    "tags": []
   },
   "outputs": [
    {
     "name": "stdout",
     "output_type": "stream",
     "text": [
      "     Pclass      Fare       Age  SibSp  Parch  Sex_female  Sex_male  \\\n",
      "0       0.5  0.020495  0.773813  0.000    0.0       False      True   \n",
      "1       1.0  0.056848  0.095250  0.500    1.0       False      True   \n",
      "2       1.0  0.110272  0.396833  0.000    0.0       False      True   \n",
      "3       1.0  0.019177  0.246042  0.125    0.0        True     False   \n",
      "4       0.5  0.025374  0.346569  0.000    0.0        True     False   \n",
      "..      ...       ...       ...    ...    ...         ...       ...   \n",
      "886     1.0  0.015713  0.258608  0.000    0.0       False      True   \n",
      "887     0.0  0.060508  0.371701  0.000    0.0        True     False   \n",
      "888     1.0  0.015713  0.547625  0.000    0.0       False      True   \n",
      "889     0.0  0.512122  0.258608  0.250    2.0        True     False   \n",
      "890     0.0  0.444099  0.472229  0.000    0.0        True     False   \n",
      "\n",
      "     FemaleFirstClass  ChildFirstClass  IsChild  FamilySize  IsAlone  \n",
      "0                   0                0        0         1.0        1  \n",
      "1                   0                0        1         6.0        0  \n",
      "2                   0                0        0         1.0        1  \n",
      "3                   0                0        0         2.0        0  \n",
      "4                   0                0        0         1.0        1  \n",
      "..                ...              ...      ...         ...      ...  \n",
      "886                 0                0        0         1.0        1  \n",
      "887                 1                0        0         1.0        1  \n",
      "888                 0                0        0         1.0        1  \n",
      "889                 1                0        0         5.0        0  \n",
      "890                 1                0        0         1.0        1  \n",
      "\n",
      "[891 rows x 12 columns]\n",
      "     Pclass      Fare       Age  SibSp  Parch  Sex_female  Sex_male  \\\n",
      "0       0.5  0.020495  0.773813  0.000    0.0       False      True   \n",
      "1       1.0  0.056848  0.095250  0.500    1.0       False      True   \n",
      "2       1.0  0.110272  0.396833  0.000    0.0       False      True   \n",
      "3       1.0  0.019177  0.246042  0.125    0.0        True     False   \n",
      "4       0.5  0.025374  0.346569  0.000    0.0        True     False   \n",
      "..      ...       ...       ...    ...    ...         ...       ...   \n",
      "886     1.0  0.015713  0.258608  0.000    0.0       False      True   \n",
      "887     0.0  0.060508  0.371701  0.000    0.0        True     False   \n",
      "888     1.0  0.015713  0.547625  0.000    0.0       False      True   \n",
      "889     0.0  0.512122  0.258608  0.250    2.0        True     False   \n",
      "890     0.0  0.444099  0.472229  0.000    0.0        True     False   \n",
      "\n",
      "     FemaleFirstClass  ChildFirstClass  IsChild  FamilySize  IsAlone  \n",
      "0                   0                0        0         1.0        1  \n",
      "1                   0                0        1         6.0        0  \n",
      "2                   0                0        0         1.0        1  \n",
      "3                   0                0        0         2.0        0  \n",
      "4                   0                0        0         1.0        1  \n",
      "..                ...              ...      ...         ...      ...  \n",
      "886                 0                0        0         1.0        1  \n",
      "887                 1                0        0         1.0        1  \n",
      "888                 0                0        0         1.0        1  \n",
      "889                 1                0        0         5.0        0  \n",
      "890                 1                0        0         1.0        1  \n",
      "\n",
      "[891 rows x 12 columns]\n"
     ]
    }
   ],
   "source": [
    "from sklearn.preprocessing import MinMaxScaler\n",
    "\n",
    "training_X = pd.concat([train_X, valid_X, test_X], ignore_index=True) # training_X is the entire training data from train.csv but after all the cleaning, normalization, and feature engineering\n",
    "training_Y = pd.concat([train_Y, valid_Y, test_Y], ignore_index=True) \n",
    "\n",
    "\n",
    "# Initialize the MinMaxScaler\n",
    "scaler = MinMaxScaler()\n",
    "\n",
    "columns_to_normalize = [\"Pclass\", \"Fare\", \"Age\", \"SibSp\"]\n",
    "\n",
    "scaler.fit(training_X[columns_to_normalize])\n",
    "\n",
    "print(training_X)\n",
    "\n",
    "training_X[columns_to_normalize] = scaler.transform(training_X[columns_to_normalize])\n",
    "\n",
    "print(training_X)"
   ]
  },
  {
   "cell_type": "markdown",
   "id": "3cbb7fbb",
   "metadata": {
    "papermill": {
     "duration": 0.023055,
     "end_time": "2023-11-20T21:07:09.490456",
     "exception": false,
     "start_time": "2023-11-20T21:07:09.467401",
     "status": "completed"
    },
    "tags": []
   },
   "source": [
    "# Now that the test data is Normalized and has feature engineering (from previous code), I can use model.predict() on it"
   ]
  },
  {
   "cell_type": "code",
   "execution_count": 39,
   "id": "2007a6fa",
   "metadata": {
    "execution": {
     "iopub.execute_input": "2023-11-20T21:07:09.539897Z",
     "iopub.status.busy": "2023-11-20T21:07:09.539466Z",
     "iopub.status.idle": "2023-11-20T21:07:09.544692Z",
     "shell.execute_reply": "2023-11-20T21:07:09.543549Z"
    },
    "papermill": {
     "duration": 0.032224,
     "end_time": "2023-11-20T21:07:09.546902",
     "exception": false,
     "start_time": "2023-11-20T21:07:09.514678",
     "status": "completed"
    },
    "tags": []
   },
   "outputs": [],
   "source": [
    "# Best parameters found:\n",
    "#  {'activation': 'relu', 'alpha': 0.0001, 'hidden_layer_sizes': (11, 15), 'max_iter': 4000}\n",
    "# Best score (CV mean): 0.8282828282828284\n",
    "\n",
    "# Commented out the code so that the model won't run everytime\n",
    "\n",
    "# model = MLPClassifier(activation = \"relu\", alpha = 0.0001, hidden_layer_sizes = (11, 15), solver = \"adam\", max_iter=4000, random_state = 42)\n",
    "\n",
    "# model.fit(training_X, training_Y) #Fitting the model on the entire training data set (including all the sub-sets from train-validation-test split)\n",
    "\n",
    "# test_data = test_data.drop(\"PassengerId\", axis = 1)\n",
    "\n",
    "# predictions4 = model.predict(test_data)\n"
   ]
  },
  {
   "cell_type": "markdown",
   "id": "2938b76d",
   "metadata": {
    "papermill": {
     "duration": 0.022808,
     "end_time": "2023-11-20T21:07:09.593460",
     "exception": false,
     "start_time": "2023-11-20T21:07:09.570652",
     "status": "completed"
    },
    "tags": []
   },
   "source": [
    "# Submitting Model 4 (accuracy: 79.425)"
   ]
  },
  {
   "cell_type": "code",
   "execution_count": 40,
   "id": "05007874",
   "metadata": {
    "execution": {
     "iopub.execute_input": "2023-11-20T21:07:09.641874Z",
     "iopub.status.busy": "2023-11-20T21:07:09.641453Z",
     "iopub.status.idle": "2023-11-20T21:07:09.646321Z",
     "shell.execute_reply": "2023-11-20T21:07:09.645206Z"
    },
    "papermill": {
     "duration": 0.032059,
     "end_time": "2023-11-20T21:07:09.648766",
     "exception": false,
     "start_time": "2023-11-20T21:07:09.616707",
     "status": "completed"
    },
    "tags": []
   },
   "outputs": [],
   "source": [
    "# Commented out the code so that the model won't run everytime\n",
    "\n",
    "# original_test = pd.read_csv(\"/kaggle/input/titanic/test.csv\")\n",
    "\n",
    "# pass_id = original_test['PassengerId']\n",
    "\n",
    "# test_data[\"PassengerId\"] = pass_id\n",
    "\n",
    "# predictions4 = predictions4.astype(int)\n",
    "\n",
    "# output = pd.DataFrame({'PassengerId': test_data.PassengerId, 'Survived': predictions4})\n",
    "# output.to_csv('submission.csv', index=False)\n",
    "# print(\"Your submission was successfully saved!\")\n",
    "\n",
    "# test_data = test_data.drop(\"PassengerId\", axis = 1) # WE make sure to drop the PassengerId column since we are continuing to use the test_data variable in future tests and we don't want PassengerId to be apart of it until we submit the model again"
   ]
  },
  {
   "cell_type": "markdown",
   "id": "6962b838",
   "metadata": {
    "papermill": {
     "duration": 0.022684,
     "end_time": "2023-11-20T21:07:09.694804",
     "exception": false,
     "start_time": "2023-11-20T21:07:09.672120",
     "status": "completed"
    },
    "tags": []
   },
   "source": [
    "# MAKE SURE THERE ISN'T ANY NEGATIVE VALUES FOR AGE BEFORE AND AFTER NORMALIZATION"
   ]
  },
  {
   "cell_type": "code",
   "execution_count": 41,
   "id": "a9166289",
   "metadata": {
    "execution": {
     "iopub.execute_input": "2023-11-20T21:07:09.743732Z",
     "iopub.status.busy": "2023-11-20T21:07:09.743310Z",
     "iopub.status.idle": "2023-11-20T21:07:09.750123Z",
     "shell.execute_reply": "2023-11-20T21:07:09.749334Z"
    },
    "papermill": {
     "duration": 0.034726,
     "end_time": "2023-11-20T21:07:09.752675",
     "exception": false,
     "start_time": "2023-11-20T21:07:09.717949",
     "status": "completed"
    },
    "tags": []
   },
   "outputs": [
    {
     "name": "stdout",
     "output_type": "stream",
     "text": [
      "Empty DataFrame\n",
      "Columns: [Pclass, Fare, Age, SibSp, Parch, Sex_female, Sex_male, FemaleFirstClass, ChildFirstClass, IsChild, FamilySize, IsAlone]\n",
      "Index: []\n"
     ]
    }
   ],
   "source": [
    "negatives = training_X[training_X[\"Age\"] < 0]\n",
    "print(negatives)\n",
    "\n",
    "# No values negative values for age"
   ]
  },
  {
   "cell_type": "markdown",
   "id": "723de440",
   "metadata": {
    "papermill": {
     "duration": 0.022872,
     "end_time": "2023-11-20T21:07:09.799052",
     "exception": false,
     "start_time": "2023-11-20T21:07:09.776180",
     "status": "completed"
    },
    "tags": []
   },
   "source": [
    "# Maybe do GridSearchCV to test only the Alpha value and the max_iter"
   ]
  },
  {
   "cell_type": "markdown",
   "id": "f9cf5599",
   "metadata": {
    "papermill": {
     "duration": 0.022924,
     "end_time": "2023-11-20T21:07:09.845756",
     "exception": false,
     "start_time": "2023-11-20T21:07:09.822832",
     "status": "completed"
    },
    "tags": []
   },
   "source": [
    "**TRY THIS OUT SINCE THE PREVIOUS GRIDSEARCH DIDN'T REALLY TRY MANY Alpha VALUES AND DIDN'T TEST OUT DIFFERENT max_iter. Maybe try doing GridSearchCV with different GPU accelerator to see if it goes faster**"
   ]
  },
  {
   "cell_type": "code",
   "execution_count": 42,
   "id": "6edff00a",
   "metadata": {
    "execution": {
     "iopub.execute_input": "2023-11-20T21:07:09.894245Z",
     "iopub.status.busy": "2023-11-20T21:07:09.893857Z",
     "iopub.status.idle": "2023-11-20T21:07:09.899299Z",
     "shell.execute_reply": "2023-11-20T21:07:09.898172Z"
    },
    "papermill": {
     "duration": 0.032381,
     "end_time": "2023-11-20T21:07:09.901523",
     "exception": false,
     "start_time": "2023-11-20T21:07:09.869142",
     "status": "completed"
    },
    "tags": []
   },
   "outputs": [],
   "source": [
    "# from sklearn.neural_network import MLPClassifier\n",
    "\n",
    "# training_X = pd.concat([train_X, valid_X, test_X], ignore_index=True)\n",
    "# training_Y = pd.concat([train_Y, valid_Y, test_Y], ignore_index=True)\n",
    "\n",
    "# possible_alpha = []\n",
    "# possible_max_iter = []\n",
    "\n",
    "# initial_alpha = 0.0001\n",
    "# for i in range(8,20):\n",
    "#     possible_alpha.append(initial_alpha)\n",
    "#     initial_alpha += 0.0005\n",
    "\n",
    "# initial_iter = 3500\n",
    "# for i in range(8,20):\n",
    "#     possible_max_iter.append(initial_iter)\n",
    "#     initial_iter += 200\n",
    "\n",
    "\n",
    "# parameter_space = {\n",
    "#     'alpha': possible_alpha,\n",
    "#     \"max_iter\": possible_max_iter\n",
    "# }\n",
    "\n",
    "# mlp = MLPClassifier(activation = \"relu\", hidden_layer_sizes = (11, 15), solver = \"adam\", random_state = 42)\n",
    "\n",
    "# clf = GridSearchCV(mlp, parameter_space, n_jobs=-1, cv=5)\n",
    "\n",
    "# clf.fit(training_X, training_Y)\n",
    "\n",
    "# print('Best parameters found:\\n', clf.best_params_)\n",
    "\n",
    "# print('Best score (CV mean):', clf.best_score_)\n",
    "\n",
    "# print(\"Done\")\n",
    "\n",
    "# Best parameters found:\n",
    "#  {'alpha': 0.0005, 'max_iter': 4000}\n",
    "# Best score (CV mean): 0.8203753687778546"
   ]
  },
  {
   "cell_type": "markdown",
   "id": "30d7f8ca",
   "metadata": {
    "papermill": {
     "duration": 0.022935,
     "end_time": "2023-11-20T21:07:09.948012",
     "exception": false,
     "start_time": "2023-11-20T21:07:09.925077",
     "status": "completed"
    },
    "tags": []
   },
   "source": [
    "# Testing out Model 5 (accuracy: 78.229)"
   ]
  },
  {
   "cell_type": "code",
   "execution_count": 43,
   "id": "0191030f",
   "metadata": {
    "execution": {
     "iopub.execute_input": "2023-11-20T21:07:09.996902Z",
     "iopub.status.busy": "2023-11-20T21:07:09.996333Z",
     "iopub.status.idle": "2023-11-20T21:07:10.001603Z",
     "shell.execute_reply": "2023-11-20T21:07:10.000646Z"
    },
    "papermill": {
     "duration": 0.032213,
     "end_time": "2023-11-20T21:07:10.003737",
     "exception": false,
     "start_time": "2023-11-20T21:07:09.971524",
     "status": "completed"
    },
    "tags": []
   },
   "outputs": [],
   "source": [
    "# model = MLPClassifier(activation = \"relu\", alpha = 0.0036, hidden_layer_sizes = (15, 15), solver = \"adam\", max_iter=7000, random_state = 42)\n",
    "\n",
    "# model.fit(train_X, train_Y)\n",
    "\n",
    "# y_pred = model.predict(valid_X)\n",
    "\n",
    "# print(f\"Validation Accuracy: {accuracy_score(valid_Y, y_pred)}\")"
   ]
  },
  {
   "cell_type": "markdown",
   "id": "d0f5a24e",
   "metadata": {
    "papermill": {
     "duration": 0.024585,
     "end_time": "2023-11-20T21:07:10.051618",
     "exception": false,
     "start_time": "2023-11-20T21:07:10.027033",
     "status": "completed"
    },
    "tags": []
   },
   "source": [
    "# Submitting Model 5"
   ]
  },
  {
   "cell_type": "code",
   "execution_count": 44,
   "id": "e238b3bb",
   "metadata": {
    "execution": {
     "iopub.execute_input": "2023-11-20T21:07:10.100723Z",
     "iopub.status.busy": "2023-11-20T21:07:10.100314Z",
     "iopub.status.idle": "2023-11-20T21:07:10.104980Z",
     "shell.execute_reply": "2023-11-20T21:07:10.103784Z"
    },
    "papermill": {
     "duration": 0.031166,
     "end_time": "2023-11-20T21:07:10.107180",
     "exception": false,
     "start_time": "2023-11-20T21:07:10.076014",
     "status": "completed"
    },
    "tags": []
   },
   "outputs": [],
   "source": [
    "# model = MLPClassifier(activation = \"relu\", alpha = 0.0036, hidden_layer_sizes = (15, 15), solver = \"adam\", max_iter=7000, random_state = 42)\n",
    "\n",
    "# model.fit(training_X, training_Y) #Fitting the model on the entire training data set (including all the sub-sets from train-validation-test split)\n",
    "\n",
    "# if \"PassengerId\" in test_data.columns:\n",
    "#     test_data = test_data.drop(\"PassengerId\", axis = 1)\n",
    "\n",
    "# predictions5 = model.predict(test_data)"
   ]
  },
  {
   "cell_type": "code",
   "execution_count": 45,
   "id": "5c55aac3",
   "metadata": {
    "execution": {
     "iopub.execute_input": "2023-11-20T21:07:10.155231Z",
     "iopub.status.busy": "2023-11-20T21:07:10.154856Z",
     "iopub.status.idle": "2023-11-20T21:07:10.159928Z",
     "shell.execute_reply": "2023-11-20T21:07:10.158660Z"
    },
    "papermill": {
     "duration": 0.031642,
     "end_time": "2023-11-20T21:07:10.162314",
     "exception": false,
     "start_time": "2023-11-20T21:07:10.130672",
     "status": "completed"
    },
    "tags": []
   },
   "outputs": [],
   "source": [
    "# original_test = pd.read_csv(\"/kaggle/input/titanic/test.csv\")\n",
    "\n",
    "# pass_id = original_test['PassengerId']\n",
    "\n",
    "# test_data[\"PassengerId\"] = pass_id\n",
    "\n",
    "# predictions5 = predictions5.astype(int)\n",
    "\n",
    "# output = pd.DataFrame({'PassengerId': test_data.PassengerId, 'Survived': predictions5})\n",
    "# output.to_csv('submission.csv', index=False)\n",
    "# print(\"Your submission was successfully saved!\")\n",
    "\n",
    "# test_data = test_data.drop(\"PassengerId\", axis = 1) # WE make sure to drop the PassengerId column since we are continuing to use the test_data variable in future tests and we don't want PassengerId to be apart of it until we submit the model again"
   ]
  },
  {
   "cell_type": "markdown",
   "id": "32e8c63a",
   "metadata": {
    "papermill": {
     "duration": 0.022861,
     "end_time": "2023-11-20T21:07:10.208400",
     "exception": false,
     "start_time": "2023-11-20T21:07:10.185539",
     "status": "completed"
    },
    "tags": []
   },
   "source": [
    "# Make the Random Forest Classifier Model"
   ]
  },
  {
   "cell_type": "code",
   "execution_count": 46,
   "id": "f6488988",
   "metadata": {
    "execution": {
     "iopub.execute_input": "2023-11-20T21:07:10.258036Z",
     "iopub.status.busy": "2023-11-20T21:07:10.257645Z",
     "iopub.status.idle": "2023-11-20T21:07:10.448860Z",
     "shell.execute_reply": "2023-11-20T21:07:10.447677Z"
    },
    "papermill": {
     "duration": 0.21924,
     "end_time": "2023-11-20T21:07:10.451168",
     "exception": false,
     "start_time": "2023-11-20T21:07:10.231928",
     "status": "completed"
    },
    "tags": []
   },
   "outputs": [
    {
     "data": {
      "text/html": [
       "<style>#sk-container-id-1 {color: black;background-color: white;}#sk-container-id-1 pre{padding: 0;}#sk-container-id-1 div.sk-toggleable {background-color: white;}#sk-container-id-1 label.sk-toggleable__label {cursor: pointer;display: block;width: 100%;margin-bottom: 0;padding: 0.3em;box-sizing: border-box;text-align: center;}#sk-container-id-1 label.sk-toggleable__label-arrow:before {content: \"▸\";float: left;margin-right: 0.25em;color: #696969;}#sk-container-id-1 label.sk-toggleable__label-arrow:hover:before {color: black;}#sk-container-id-1 div.sk-estimator:hover label.sk-toggleable__label-arrow:before {color: black;}#sk-container-id-1 div.sk-toggleable__content {max-height: 0;max-width: 0;overflow: hidden;text-align: left;background-color: #f0f8ff;}#sk-container-id-1 div.sk-toggleable__content pre {margin: 0.2em;color: black;border-radius: 0.25em;background-color: #f0f8ff;}#sk-container-id-1 input.sk-toggleable__control:checked~div.sk-toggleable__content {max-height: 200px;max-width: 100%;overflow: auto;}#sk-container-id-1 input.sk-toggleable__control:checked~label.sk-toggleable__label-arrow:before {content: \"▾\";}#sk-container-id-1 div.sk-estimator input.sk-toggleable__control:checked~label.sk-toggleable__label {background-color: #d4ebff;}#sk-container-id-1 div.sk-label input.sk-toggleable__control:checked~label.sk-toggleable__label {background-color: #d4ebff;}#sk-container-id-1 input.sk-hidden--visually {border: 0;clip: rect(1px 1px 1px 1px);clip: rect(1px, 1px, 1px, 1px);height: 1px;margin: -1px;overflow: hidden;padding: 0;position: absolute;width: 1px;}#sk-container-id-1 div.sk-estimator {font-family: monospace;background-color: #f0f8ff;border: 1px dotted black;border-radius: 0.25em;box-sizing: border-box;margin-bottom: 0.5em;}#sk-container-id-1 div.sk-estimator:hover {background-color: #d4ebff;}#sk-container-id-1 div.sk-parallel-item::after {content: \"\";width: 100%;border-bottom: 1px solid gray;flex-grow: 1;}#sk-container-id-1 div.sk-label:hover label.sk-toggleable__label {background-color: #d4ebff;}#sk-container-id-1 div.sk-serial::before {content: \"\";position: absolute;border-left: 1px solid gray;box-sizing: border-box;top: 0;bottom: 0;left: 50%;z-index: 0;}#sk-container-id-1 div.sk-serial {display: flex;flex-direction: column;align-items: center;background-color: white;padding-right: 0.2em;padding-left: 0.2em;position: relative;}#sk-container-id-1 div.sk-item {position: relative;z-index: 1;}#sk-container-id-1 div.sk-parallel {display: flex;align-items: stretch;justify-content: center;background-color: white;position: relative;}#sk-container-id-1 div.sk-item::before, #sk-container-id-1 div.sk-parallel-item::before {content: \"\";position: absolute;border-left: 1px solid gray;box-sizing: border-box;top: 0;bottom: 0;left: 50%;z-index: -1;}#sk-container-id-1 div.sk-parallel-item {display: flex;flex-direction: column;z-index: 1;position: relative;background-color: white;}#sk-container-id-1 div.sk-parallel-item:first-child::after {align-self: flex-end;width: 50%;}#sk-container-id-1 div.sk-parallel-item:last-child::after {align-self: flex-start;width: 50%;}#sk-container-id-1 div.sk-parallel-item:only-child::after {width: 0;}#sk-container-id-1 div.sk-dashed-wrapped {border: 1px dashed gray;margin: 0 0.4em 0.5em 0.4em;box-sizing: border-box;padding-bottom: 0.4em;background-color: white;}#sk-container-id-1 div.sk-label label {font-family: monospace;font-weight: bold;display: inline-block;line-height: 1.2em;}#sk-container-id-1 div.sk-label-container {text-align: center;}#sk-container-id-1 div.sk-container {/* jupyter's `normalize.less` sets `[hidden] { display: none; }` but bootstrap.min.css set `[hidden] { display: none !important; }` so we also need the `!important` here to be able to override the default hidden behavior on the sphinx rendered scikit-learn.org. See: https://github.com/scikit-learn/scikit-learn/issues/21755 */display: inline-block !important;position: relative;}#sk-container-id-1 div.sk-text-repr-fallback {display: none;}</style><div id=\"sk-container-id-1\" class=\"sk-top-container\"><div class=\"sk-text-repr-fallback\"><pre>RandomForestClassifier(max_depth=5, random_state=42)</pre><b>In a Jupyter environment, please rerun this cell to show the HTML representation or trust the notebook. <br />On GitHub, the HTML representation is unable to render, please try loading this page with nbviewer.org.</b></div><div class=\"sk-container\" hidden><div class=\"sk-item\"><div class=\"sk-estimator sk-toggleable\"><input class=\"sk-toggleable__control sk-hidden--visually\" id=\"sk-estimator-id-1\" type=\"checkbox\" checked><label for=\"sk-estimator-id-1\" class=\"sk-toggleable__label sk-toggleable__label-arrow\">RandomForestClassifier</label><div class=\"sk-toggleable__content\"><pre>RandomForestClassifier(max_depth=5, random_state=42)</pre></div></div></div></div></div>"
      ],
      "text/plain": [
       "RandomForestClassifier(max_depth=5, random_state=42)"
      ]
     },
     "execution_count": 46,
     "metadata": {},
     "output_type": "execute_result"
    }
   ],
   "source": [
    "from sklearn.ensemble import RandomForestClassifier\n",
    "\n",
    "training_X = pd.concat([train_X, valid_X, test_X], ignore_index=True)\n",
    "training_Y = pd.concat([train_Y, valid_Y, test_Y], ignore_index=True)\n",
    "\n",
    "model = RandomForestClassifier(max_depth = 5,  n_estimators = 100, random_state = 42)\n",
    "\n",
    "model.fit(train_X, train_Y)"
   ]
  },
  {
   "cell_type": "code",
   "execution_count": 47,
   "id": "8d278829",
   "metadata": {
    "execution": {
     "iopub.execute_input": "2023-11-20T21:07:10.501068Z",
     "iopub.status.busy": "2023-11-20T21:07:10.500668Z",
     "iopub.status.idle": "2023-11-20T21:07:10.519308Z",
     "shell.execute_reply": "2023-11-20T21:07:10.517984Z"
    },
    "papermill": {
     "duration": 0.04714,
     "end_time": "2023-11-20T21:07:10.522074",
     "exception": false,
     "start_time": "2023-11-20T21:07:10.474934",
     "status": "completed"
    },
    "tags": []
   },
   "outputs": [
    {
     "name": "stdout",
     "output_type": "stream",
     "text": [
      "accuracy score: 0.8202247191011236\n"
     ]
    }
   ],
   "source": [
    "y_pred = model.predict(valid_X)\n",
    "\n",
    "print(f\"accuracy score: {accuracy_score(y_pred, valid_Y)}\")"
   ]
  },
  {
   "cell_type": "code",
   "execution_count": 48,
   "id": "0bae7f7c",
   "metadata": {
    "execution": {
     "iopub.execute_input": "2023-11-20T21:07:10.573077Z",
     "iopub.status.busy": "2023-11-20T21:07:10.572019Z",
     "iopub.status.idle": "2023-11-20T21:07:10.588948Z",
     "shell.execute_reply": "2023-11-20T21:07:10.587842Z"
    },
    "papermill": {
     "duration": 0.044077,
     "end_time": "2023-11-20T21:07:10.591073",
     "exception": false,
     "start_time": "2023-11-20T21:07:10.546996",
     "status": "completed"
    },
    "tags": []
   },
   "outputs": [
    {
     "name": "stdout",
     "output_type": "stream",
     "text": [
      "accuracy score: 0.8212290502793296\n"
     ]
    }
   ],
   "source": [
    "y_pred = model.predict(test_X)\n",
    "\n",
    "print(f\"accuracy score: {accuracy_score(y_pred, test_Y)}\")"
   ]
  },
  {
   "cell_type": "markdown",
   "id": "a2d00ca8",
   "metadata": {
    "papermill": {
     "duration": 0.023798,
     "end_time": "2023-11-20T21:07:10.639151",
     "exception": false,
     "start_time": "2023-11-20T21:07:10.615353",
     "status": "completed"
    },
    "tags": []
   },
   "source": [
    "# Using GridsSearchCV on RandomForestClassifier"
   ]
  },
  {
   "cell_type": "code",
   "execution_count": 49,
   "id": "e61bd431",
   "metadata": {
    "execution": {
     "iopub.execute_input": "2023-11-20T21:07:10.691933Z",
     "iopub.status.busy": "2023-11-20T21:07:10.690721Z",
     "iopub.status.idle": "2023-11-20T21:07:10.695997Z",
     "shell.execute_reply": "2023-11-20T21:07:10.695255Z"
    },
    "papermill": {
     "duration": 0.034421,
     "end_time": "2023-11-20T21:07:10.698145",
     "exception": false,
     "start_time": "2023-11-20T21:07:10.663724",
     "status": "completed"
    },
    "tags": []
   },
   "outputs": [],
   "source": [
    "from sklearn.model_selection import GridSearchCV\n",
    "\n",
    "# Define the parameter grid\n",
    "# param_grid = {\n",
    "#     'n_estimators': [50, 100, 200, 300],\n",
    "#     'max_depth': [None, 10, 20, 30],\n",
    "#     'min_samples_split': [2, 5, 10]\n",
    "# }\n",
    "\n",
    "# # Create a GridSearchCV object\n",
    "# grid_search = GridSearchCV(RandomForestClassifier(random_state=42), param_grid, cv=10, n_jobs=-1, verbose=1)\n",
    "\n",
    "# # Perform grid search\n",
    "# grid_search.fit(training_X, training_Y)\n",
    "\n",
    "# # Best parameters\n",
    "# print('Best parameters found:\\n', grid_search.best_params_)\n",
    "\n",
    "# print('Best score (CV mean):', grid_search.best_score_)\n",
    "\n",
    "# print(\"Done\")\n",
    "\n",
    "# Best model\n",
    "# best_model = grid_search.best_estimator_\n",
    "\n",
    "# # Evaluate the best model\n",
    "# best_pred = best_model.predict(X_test)\n",
    "# best_accuracy = accuracy_score(y_test, best_pred)\n",
    "# print(f\"Best Model Accuracy: {best_accuracy}\")\n",
    "\n",
    "# Fitting 10 folds for each of 48 candidates, totalling 480 fits\n",
    "# Best parameters found:\n",
    "#  {'max_depth': 10, 'min_samples_split': 5, 'n_estimators': 200}\n",
    "# Best score (CV mean): 0.8383395755305866\n",
    "# Done\n"
   ]
  },
  {
   "cell_type": "markdown",
   "id": "c57c7c23",
   "metadata": {
    "papermill": {
     "duration": 0.024183,
     "end_time": "2023-11-20T21:07:10.746689",
     "exception": false,
     "start_time": "2023-11-20T21:07:10.722506",
     "status": "completed"
    },
    "tags": []
   },
   "source": [
    "# Submitting Model 1"
   ]
  },
  {
   "cell_type": "code",
   "execution_count": 50,
   "id": "50a91815",
   "metadata": {
    "execution": {
     "iopub.execute_input": "2023-11-20T21:07:10.799194Z",
     "iopub.status.busy": "2023-11-20T21:07:10.798142Z",
     "iopub.status.idle": "2023-11-20T21:07:11.008200Z",
     "shell.execute_reply": "2023-11-20T21:07:11.007035Z"
    },
    "papermill": {
     "duration": 0.239917,
     "end_time": "2023-11-20T21:07:11.011060",
     "exception": false,
     "start_time": "2023-11-20T21:07:10.771143",
     "status": "completed"
    },
    "tags": []
   },
   "outputs": [],
   "source": [
    "training_X = pd.concat([train_X, valid_X, test_X], ignore_index=True)\n",
    "training_Y = pd.concat([train_Y, valid_Y, test_Y], ignore_index=True)\n",
    "\n",
    "\n",
    "model = RandomForestClassifier(max_depth = 5, n_estimators = 100, random_state=42)\n",
    "\n",
    "model.fit(training_X, training_Y) #Fitting the model on the entire training data set (including all the sub-sets from train-validation-test split)\n",
    "\n",
    "if \"PassengerId\" in test_data.columns:\n",
    "    test_data = test_data.drop(\"PassengerId\", axis = 1)\n",
    "\n",
    "predictions1 = model.predict(test_data)"
   ]
  },
  {
   "cell_type": "code",
   "execution_count": 51,
   "id": "323fd217",
   "metadata": {
    "execution": {
     "iopub.execute_input": "2023-11-20T21:07:11.063849Z",
     "iopub.status.busy": "2023-11-20T21:07:11.063210Z",
     "iopub.status.idle": "2023-11-20T21:07:11.082055Z",
     "shell.execute_reply": "2023-11-20T21:07:11.080787Z"
    },
    "papermill": {
     "duration": 0.048868,
     "end_time": "2023-11-20T21:07:11.084555",
     "exception": false,
     "start_time": "2023-11-20T21:07:11.035687",
     "status": "completed"
    },
    "tags": []
   },
   "outputs": [
    {
     "name": "stdout",
     "output_type": "stream",
     "text": [
      "Your submission was successfully saved!\n"
     ]
    }
   ],
   "source": [
    "original_test = pd.read_csv(\"/kaggle/input/titanic/test.csv\")\n",
    "\n",
    "pass_id = original_test['PassengerId']\n",
    "\n",
    "test_data[\"PassengerId\"] = pass_id\n",
    "\n",
    "predictions1 = predictions1.astype(int)\n",
    "\n",
    "output = pd.DataFrame({'PassengerId': test_data.PassengerId, 'Survived': predictions1})\n",
    "output.to_csv('submission.csv', index=False)\n",
    "print(\"Your submission was successfully saved!\")\n",
    "\n",
    "test_data = test_data.drop(\"PassengerId\", axis = 1) # WE make sure to drop the PassengerId column since we are continuing to use the test_data variable in future tests and we don't want PassengerId to be apart of it until we submit the model again"
   ]
  }
 ],
 "metadata": {
  "kaggle": {
   "accelerator": "none",
   "dataSources": [
    {
     "databundleVersionId": 26502,
     "sourceId": 3136,
     "sourceType": "competition"
    }
   ],
   "dockerImageVersionId": 30587,
   "isGpuEnabled": false,
   "isInternetEnabled": true,
   "language": "python",
   "sourceType": "notebook"
  },
  "kernelspec": {
   "display_name": "Python 3",
   "language": "python",
   "name": "python3"
  },
  "language_info": {
   "codemirror_mode": {
    "name": "ipython",
    "version": 3
   },
   "file_extension": ".py",
   "mimetype": "text/x-python",
   "name": "python",
   "nbconvert_exporter": "python",
   "pygments_lexer": "ipython3",
   "version": "3.10.12"
  },
  "papermill": {
   "default_parameters": {},
   "duration": 50.612831,
   "end_time": "2023-11-20T21:07:11.831786",
   "environment_variables": {},
   "exception": null,
   "input_path": "__notebook__.ipynb",
   "output_path": "__notebook__.ipynb",
   "parameters": {},
   "start_time": "2023-11-20T21:06:21.218955",
   "version": "2.4.0"
  }
 },
 "nbformat": 4,
 "nbformat_minor": 5
}
